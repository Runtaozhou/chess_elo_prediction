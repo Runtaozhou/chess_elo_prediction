{
 "cells": [
  {
   "cell_type": "markdown",
   "id": "f2bb74ad-219c-4992-b7a5-6f11f5311621",
   "metadata": {
    "tags": []
   },
   "source": [
    "### Testing Access to 1000 Filtered games"
   ]
  },
  {
   "cell_type": "code",
   "execution_count": 2,
   "id": "1a336704-c0dc-4c2d-898e-a1c411f8104c",
   "metadata": {
    "tags": []
   },
   "outputs": [],
   "source": [
    "import chess.pgn\n",
    "file_path = '/scratch/zrc3hc/filtered_bullet_games_first_1000.pgn'\n"
   ]
  },
  {
   "cell_type": "code",
   "execution_count": 6,
   "id": "ce6a4ea4-2379-4675-bca3-70ad328a5645",
   "metadata": {
    "tags": []
   },
   "outputs": [
    {
     "name": "stdout",
     "output_type": "stream",
     "text": [
      "First game headers:\n",
      "Event: Rated Bullet game\n",
      "Site: https://lichess.org/nQ1xYNSF\n",
      "Date: 2024.08.01\n",
      "Round: -\n",
      "White: kingskreamer\n",
      "Black: mysteryvabs\n",
      "Result: 1-0\n",
      "UTCDate: 2024.08.01\n",
      "UTCTime: 00:00:09\n",
      "WhiteElo: 2148\n",
      "BlackElo: 2155\n",
      "WhiteRatingDiff: +6\n",
      "BlackRatingDiff: -6\n",
      "ECO: B10\n",
      "Opening: Caro-Kann Defense: Accelerated Panov Attack\n",
      "TimeControl: 60+0\n",
      "Termination: Time forfeit\n",
      "\n",
      "First game moves (LAN):\n",
      "e2e4 c7c6 c2c4 d7d5 c4d5 c6d5 e4d5 d8d5 b1c3 d5d8 f1c4 \n",
      "...\n"
     ]
    }
   ],
   "source": [
    "with open(file_path, 'r', encoding='utf-8') as pgn_file:\n",
    "    # Read the first game in the file\n",
    "    game = chess.pgn.read_game(pgn_file)\n",
    "    \n",
    "    if game:\n",
    "        # Print headers to confirm access\n",
    "        print(\"First game headers:\")\n",
    "        for header, value in game.headers.items():\n",
    "            print(f\"{header}: {value}\")\n",
    "        \n",
    "        # Initialize a board to track positions\n",
    "        board = game.board()\n",
    "        \n",
    "        print(\"\\nFirst game moves (LAN):\")\n",
    "        for i, move in enumerate(game.mainline_moves()):\n",
    "            # Apply the move to the board\n",
    "            board.push(move)\n",
    "            # Print the move in LAN format\n",
    "            print(move.uci(), end=\" \")\n",
    "            if i >= 10:  # Limit to the first 10 moves for brevity\n",
    "                break\n",
    "        print(\"\\n...\")\n",
    "\n",
    "    else:\n",
    "        print(\"No games found in the file or file is not accessible.\")"
   ]
  }
 ],
 "metadata": {
  "kernelspec": {
   "display_name": "Python 3 (ipykernel)",
   "language": "python",
   "name": "python3"
  },
  "language_info": {
   "codemirror_mode": {
    "name": "ipython",
    "version": 3
   },
   "file_extension": ".py",
   "mimetype": "text/x-python",
   "name": "python",
   "nbconvert_exporter": "python",
   "pygments_lexer": "ipython3",
   "version": "3.11.5"
  }
 },
 "nbformat": 4,
 "nbformat_minor": 5
}
