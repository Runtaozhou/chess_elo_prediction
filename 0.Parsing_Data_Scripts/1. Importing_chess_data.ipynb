{
 "cells": [
  {
   "cell_type": "code",
   "execution_count": 1,
   "id": "8bf690a1-8f27-4b3a-8d34-42ee0a82f0e7",
   "metadata": {},
   "outputs": [],
   "source": [
    "## Chess"
   ]
  },
  {
   "cell_type": "code",
   "execution_count": 2,
   "id": "f69cc02f-88c3-45b2-8b47-1ca01a8b95fc",
   "metadata": {},
   "outputs": [],
   "source": [
    "## This file is for downloading the .zst file from the website\n",
    "\n",
    "## Only run this if you need the data (the data is very big, do not save on local machine...)"
   ]
  },
  {
   "cell_type": "code",
   "execution_count": 1,
   "id": "536b97ee-feca-4843-ab64-8552eb95bdba",
   "metadata": {
    "tags": []
   },
   "outputs": [],
   "source": [
    "import shutil\n",
    "import requests\n"
   ]
  },
  {
   "cell_type": "code",
   "execution_count": 2,
   "id": "ab167d1a-3306-476e-8cb2-0c25ba2a6bd5",
   "metadata": {
    "tags": []
   },
   "outputs": [],
   "source": [
    "url = 'https://database.lichess.org/standard/lichess_db_standard_rated_2024-08.pgn.zst'\n"
   ]
  },
  {
   "cell_type": "code",
   "execution_count": 3,
   "id": "8f7cd515-b0cd-4068-844d-eba69a5e464a",
   "metadata": {
    "tags": []
   },
   "outputs": [],
   "source": [
    "response = requests.get(url, stream=True)\n",
    "zst_file_path = 'lichess_db_standard_rated_2024-08.pgn.zst'\n"
   ]
  },
  {
   "cell_type": "code",
   "execution_count": 4,
   "id": "15db230c-6f3f-49f6-bda3-ad4374121c49",
   "metadata": {
    "tags": []
   },
   "outputs": [
    {
     "name": "stdout",
     "output_type": "stream",
     "text": [
      "File downloaded and saved as lichess_db_standard_rated_2024-08.pgn.zst\n"
     ]
    }
   ],
   "source": [
    "with open(zst_file_path, 'wb') as f:\n",
    "    shutil.copyfileobj(response.raw, f)\n",
    "\n",
    "print(f\"File downloaded and saved as {zst_file_path}\")"
   ]
  }
 ],
 "metadata": {
  "kernelspec": {
   "display_name": "Python 3 (ipykernel)",
   "language": "python",
   "name": "python3"
  },
  "language_info": {
   "codemirror_mode": {
    "name": "ipython",
    "version": 3
   },
   "file_extension": ".py",
   "mimetype": "text/x-python",
   "name": "python",
   "nbconvert_exporter": "python",
   "pygments_lexer": "ipython3",
   "version": "3.11.5"
  }
 },
 "nbformat": 4,
 "nbformat_minor": 5
}
