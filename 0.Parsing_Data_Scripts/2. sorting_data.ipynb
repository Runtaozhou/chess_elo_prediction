{
 "cells": [
  {
   "cell_type": "code",
   "execution_count": 5,
   "id": "ad42eda6-4d4f-4d53-94a9-67dfeec03f12",
   "metadata": {
    "tags": []
   },
   "outputs": [],
   "source": [
    "import os\n",
    "import chess.pgn # might need to pip install 'chess'\n",
    "import json\n",
    "from pyspark.sql import SparkSession\n",
    "from pyspark.sql.functions import when, count, col, regexp_extract\n",
    "from pyspark.sql import functions as F\n",
    "from pyspark.sql.types import StructType, StructField, StringType, ArrayType\n",
    "import zstandard as zstd\n",
    "import io\n"
   ]
  },
  {
   "cell_type": "code",
   "execution_count": 6,
   "id": "78131264-fb82-4a37-8985-b5d5ff808a49",
   "metadata": {
    "tags": []
   },
   "outputs": [],
   "source": [
    "file_path = '/sfs/gpfs/tardis/home/zrc3hc/Chess/lichess_db_standard_rated_2024-08.pgn.zst'\n",
    "# png = 'portable game notation' which is standard formate for chess games."
   ]
  },
  {
   "cell_type": "code",
   "execution_count": 8,
   "id": "0b8638b3-0b62-4a22-ae4c-929aca6a6ee9",
   "metadata": {
    "tags": []
   },
   "outputs": [
    {
     "name": "stdout",
     "output_type": "stream",
     "text": [
      "File exists and can be accessed.\n"
     ]
    }
   ],
   "source": [
    "# Checking if file can be accessed \n",
    "\n",
    "if os.path.exists(file_path):\n",
    "    print(\"File exists and can be accessed.\")\n",
    "else:\n",
    "    print(\"File does not exist or cannot be accessed.\")"
   ]
  },
  {
   "cell_type": "code",
   "execution_count": 9,
   "id": "3fcb9cf4-62eb-4044-9348-fed5c09bff77",
   "metadata": {
    "tags": []
   },
   "outputs": [
    {
     "name": "stdout",
     "output_type": "stream",
     "text": [
      "[Event \"Rated Bullet game\"]\n",
      "[Site \"https://lichess.org/nQ1xYNSF\"]\n",
      "[Date \"2024.08.01\"]\n",
      "[Round \"-\"]\n",
      "[White \"kingskreamer\"]\n",
      "[Black \"mysteryvabs\"]\n",
      "[Result \"1-0\"]\n",
      "[UTCDate \"2024.08.01\"]\n",
      "[UTCTime \"00:00:09\"]\n",
      "[WhiteElo \"2148\"]\n",
      "[BlackElo \"2155\"]\n",
      "[WhiteRatingDiff \"+6\"]\n",
      "[BlackRatingDiff \"-6\"]\n",
      "[ECO \"B10\"]\n",
      "[Opening \"Caro-Kann Defense: Accelerated Panov Attack\"]\n",
      "[TimeControl \"60+0\"]\n",
      "[Termination \"Time forfeit\"]\n",
      "\n",
      "1. e4 { [%clk 0:01:00] } 1... c6 { [%clk 0:01:00] } 2. c4 { [%clk 0:00:59] } 2... d5 { [%clk 0:01:00] } 3. cxd5 { [%clk 0:00:59] } 3... cxd5 { [%clk 0:01:00] } 4. exd5 { [%clk 0:00:58] } 4... Qxd5 { [%clk 0:00:59] } 5. Nc3 { [%clk 0:00:58] } 5... Qd8 { [%clk 0:00:59] } 6. Bc4 { [%clk 0:00:58] } 6... Nf6 { [%clk 0:00:59] } 7. Qb3 { [%clk 0:00:57] } 7... e6 { [%clk 0:00:58] } 8. Nf3 { [%clk 0:00:57] } 8... Nc6 { [%clk 0:00:57] } 9. Bb5 { [%clk 0:00:55] } 9... Bd7 { [%clk 0:00:57] } 10. O-O { [%clk 0:00:54] } 10... Rc8 { [%clk 0:00:56] } 11. Re1 { [%clk 0:00:52] } 11... a6 { [%clk 0:00:56] } 12. Ba4 { [%clk 0:00:51] } 12... b5 { [%clk 0:00:55] } 13. Nxb5 { [%clk 0:00:50] } 13... axb5 { [%clk 0:00:54] } 14. Bxb5 { [%clk 0:00:50] } 14... Be7 { [%clk 0:00:53] } 15. Ne5 { [%clk 0:00:48] } 15... O-O { [%clk 0:00:51] } 16. Nxd7 { [%clk 0:00:47] } 16... Qxd7 { [%clk 0:00:51] } 17. Qf3 { [%clk 0:00:44] } 17... Qc7 { [%clk 0:00:50] } 18. Be2 { [%clk 0:00:43] } 18... Ne5 { [%clk 0:00:48] } 19. Qg3 { [%clk 0:00:42] } 19... Ng6 { [%clk 0:00:46] } 20. f4 { [%clk 0:00:40] } 20... Qxf4 { [%clk 0:00:43] } 21. Qxf4 { [%clk 0:00:39] } 21... Nxf4 { [%clk 0:00:43] } 22. d3 { [%clk 0:00:37] } 22... Nxe2+ { [%clk 0:00:40] } 23. Rxe2 { [%clk 0:00:37] } 23... Rc7 { [%clk 0:00:38] } 24. Be3 { [%clk 0:00:36] } 24... Rfc8 { [%clk 0:00:37] } 25. Rf1 { [%clk 0:00:35] } 25... Nd5 { [%clk 0:00:35] } 26. Bd4 { [%clk 0:00:34] } 26... Rc1 { [%clk 0:00:32] } 27. Kf2 { [%clk 0:00:31] } 27... Rxf1+ { [%clk 0:00:31] } 28. Kxf1 { [%clk 0:00:31] } 28... Nf4 { [%clk 0:00:29] } 29. Rd2 { [%clk 0:00:28] } 29... Rc1+ { [%clk 0:00:27] } 30. Kf2 { [%clk 0:00:27] } 30... Bg5 { [%clk 0:00:18] } 31. Be3 { [%clk 0:00:23] } 31... h6 { [%clk 0:00:17] } 32. b3 { [%clk 0:00:20] } 32... Kh7 { [%clk 0:00:15] } 33. g3 { [%clk 0:00:19] } 33... Nd5 { [%clk 0:00:13] } 34. Bxg5 { [%clk 0:00:18] } 34... hxg5 { [%clk 0:00:13] } 35. Kf3 { [%clk 0:00:16] } 35... Kg6 { [%clk 0:00:12] } 36. g4 { [%clk 0:00:15] } 36... Rf1+ { [%clk 0:00:11] } 37. Ke4 { [%clk 0:00:14] } 37... Nf4 { [%clk 0:00:10] } 38. Kd4 { [%clk 0:00:14] } 38... Rc1 { [%clk 0:00:09] } 39. b4 { [%clk 0:00:12] } 39... Rc6 { [%clk 0:00:08] } 40. a4 { [%clk 0:00:12] } 40... f6 { [%clk 0:00:07] } 41. Ke3 { [%clk 0:00:12] } 41... e5 { [%clk 0:00:06] } 42. b5 { [%clk 0:00:11] } 42... Nd5+ { [%clk 0:00:06] } 43. Ke4 { [%clk 0:00:11] } 43... Rd6 { [%clk 0:00:06] } 44. b6 { [%clk 0:00:10] } 44... Ne7 { [%clk 0:00:06] } 45. b7 { [%clk 0:00:10] } 45... Nc6 { [%clk 0:00:05] } 46. b8=Q { [%clk 0:00:10] } 46... Nxb8 { [%clk 0:00:05] } 47. Rb2 { [%clk 0:00:09] } 47... Nd7 { [%clk 0:00:04] } 48. Rb7 { [%clk 0:00:09] } 48... Ra6 { [%clk 0:00:04] } 49. d4 { [%clk 0:00:08] } 49... Rxa4 { [%clk 0:00:03] } 50. Kd5 { [%clk 0:00:07] } 50... Rxd4+ { [%clk 0:00:03] } 51. Ke6 { [%clk 0:00:07] } 51... Nc5+ { [%clk 0:00:02] } 52. Ke7 { [%clk 0:00:06] } 52... Nxb7 { [%clk 0:00:02] } 53. Kf8 { [%clk 0:00:05] } 53... Rf4 { [%clk 0:00:02] } 54. Ke7 { [%clk 0:00:05] } 54... e4 { [%clk 0:00:02] } 55. Kf8 { [%clk 0:00:05] } 55... e3 { [%clk 0:00:01] } 56. h4 { [%clk 0:00:05] } 56... e2 { [%clk 0:00:01] } 57. h5+ { [%clk 0:00:05] } 1-0\n",
      "\n"
     ]
    }
   ],
   "source": [
    "# Decompress and read the PGN file\n",
    "with open(file_path, 'rb') as compressed_file:\n",
    "    dctx = zstd.ZstdDecompressor()\n",
    "    \n",
    "    # Decompress into a memory buffer\n",
    "    with dctx.stream_reader(compressed_file) as reader:\n",
    "        decompressed_stream = io.TextIOWrapper(reader, encoding='utf-8')\n",
    "        \n",
    "        # Read the first few lines\n",
    "        for _ in range(20):\n",
    "            line = decompressed_stream.readline()\n",
    "            if line:\n",
    "                print(line.strip())\n",
    "            else:\n",
    "                break"
   ]
  },
  {
   "cell_type": "markdown",
   "id": "60347562-03b1-4047-b488-c734b69bbf8e",
   "metadata": {},
   "source": [
    "### PGN Headers\n",
    "\n",
    "- **[Event \"Rated Bullet game\"]** - The event is a rated bullet chess game.\n",
    "- **[Site \"https://lichess.org/nQ1xYNSF\"]** - The game URL.\n",
    "- **[Date \"2024.08.01\"]** - The date when the game occurred.\n",
    "- **[Round \"-\"]** - Likely indicates if repeated games were played.\n",
    "- **[White \"kingskreamer\"]** - The white player.\n",
    "- **[Black \"mysteryvabs\"]** - The black player.\n",
    "- **[Result \"1-0\"]** - The result of the game (White won).\n",
    "- **[UTCDate \"2024.08.01\"]** - The date of the game in UTC.\n",
    "- **[UTCTime \"00:00:09\"]** - The time of the game in UTC.\n",
    "- **[WhiteElo \"2148\"]** - White player's Elo rating before the game.\n",
    "- **[BlackElo \"2155\"]** - Black player's Elo rating before the game.\n",
    "- **[WhiteRatingDiff \"+6\"]** - Changes in White's Elo after the game (+6).\n",
    "- **[BlackRatingDiff \"-6\"]** - Changes in Black's Elo after the game (-6).\n",
    "- **[ECO \"B10\"]** - 'B10' refers to a specific opening (Caro-Kann Defense).\n",
    "- **[Opening \"Caro-Kann Defense: Accelerated Panov Attack\"]** - The specific opening played.\n",
    "- **[TimeControl \"60+0\"]** - The time control was 60 seconds per player with 0 seconds increment.\n",
    "- **[Termination \"Time forfeit\"]** - The game ended because one player ran out of time.\n"
   ]
  },
  {
   "cell_type": "markdown",
   "id": "2636303b-299d-4418-828b-0502402ab779",
   "metadata": {
    "tags": []
   },
   "source": [
    "### 2. The Moves\n",
    "This part records the actual moves played in the game. Chess moves are written using standard algebraic notation, and the clocks of both players are tracked after each move (using the `[%clk]` annotation).\n",
    "\n",
    "For example:\n",
    "\n",
    "- **1. e4 { [%clk 0:01:00] }**: White plays pawn to e4, and their clock is at 1 minute.\n",
    "- **1... c6 { [%clk 0:01:00] }**: Black responds with c6 (a pawn move), and their clock remains at 1 minute.\n",
    "- **2. c4 { [%clk 0:00:59] }**: White moves pawn to c4, with their clock now at 59 seconds.\n",
    "- **3. cxd5 { [%clk 0:00:59] }**: White captures the pawn on d5, clock at 59 seconds.\n",
    "- **5. Nc3 { [%clk 0:00:58] }**: White develops their knight to c3, clock at 58 seconds.\n",
    "\n",
    "The moves continue with annotations showing how much time each player has left after their moves.\n"
   ]
  },
  {
   "cell_type": "code",
   "execution_count": 34,
   "id": "ce6470e3-0ba1-4db9-9e91-c8681f5a5eef",
   "metadata": {
    "tags": []
   },
   "outputs": [],
   "source": [
    "def zip_pgn_to_json(pgn_file_zipped, limit=10):\n",
    "    games_list = []\n",
    "    game_count = 0  # counter to keep track of how many games have been parsed\n",
    "    \n",
    "    # Open the compressed file and set up Zstandard decompression\n",
    "    with open(pgn_file_zipped, 'rb') as compressed_file:\n",
    "        dctx = zstd.ZstdDecompressor()\n",
    "        \n",
    "        # Decompress the stream in memory\n",
    "        with dctx.stream_reader(compressed_file) as reader:\n",
    "            decompressed_stream = io.TextIOWrapper(reader, encoding='utf-8')\n",
    "            \n",
    "            # Read the PGN games from the decompressed stream\n",
    "            while True:\n",
    "                game = chess.pgn.read_game(decompressed_stream)\n",
    "                if game is None:\n",
    "                    break\n",
    "                \n",
    "                # Convert the game to dictionary, selecting specific headers\n",
    "                game_info = {\n",
    "                    \"Event\": game.headers.get(\"Event\", \"\"),\n",
    "                    \"Date\": game.headers.get(\"Date\", \"\"),\n",
    "                    \"Result\": game.headers.get(\"Result\", \"\"),\n",
    "                    \"WhiteElo\": game.headers.get(\"WhiteElo\", \"\"),\n",
    "                    \"BlackElo\": game.headers.get(\"BlackElo\", \"\"),\n",
    "                    \"Moves\": [move.uci() for move in game.mainline_moves()]\n",
    "                }\n",
    "                \n",
    "                games_list.append(game_info)\n",
    "                game_count += 1\n",
    "                \n",
    "                # Stop when the limit is reached\n",
    "                if game_count >= limit:\n",
    "                    break\n",
    "\n",
    "    return games_list\n"
   ]
  },
  {
   "cell_type": "code",
   "execution_count": 35,
   "id": "4f35e58e-b5f1-4a5d-a319-8a244028b84c",
   "metadata": {
    "tags": []
   },
   "outputs": [],
   "source": [
    "games_json = zip_pgn_to_json(file_path, limit = 1000)\n"
   ]
  },
  {
   "cell_type": "code",
   "execution_count": 36,
   "id": "61ae7997-9d1f-48a9-ae9e-5d12b0a9020f",
   "metadata": {
    "tags": []
   },
   "outputs": [
    {
     "name": "stdout",
     "output_type": "stream",
     "text": [
      "{\n",
      "    \"Event\": \"Rated Bullet game\",\n",
      "    \"Date\": \"2024.08.01\",\n",
      "    \"Result\": \"1-0\",\n",
      "    \"WhiteElo\": \"2148\",\n",
      "    \"BlackElo\": \"2155\",\n",
      "    \"Moves\": [\n",
      "        \"e2e4\",\n",
      "        \"c7c6\",\n",
      "        \"c2c4\",\n",
      "        \"d7d5\",\n",
      "        \"c4d5\",\n",
      "        \"c6d5\",\n",
      "        \"e4d5\",\n",
      "        \"d8d5\",\n",
      "        \"b1c3\",\n",
      "        \"d5d8\",\n",
      "        \"f1c4\",\n",
      "        \"g8f6\",\n",
      "        \"d1b3\",\n",
      "        \"e7e6\",\n",
      "        \"g1f3\",\n",
      "        \"b8c6\",\n",
      "        \"c4b5\",\n",
      "        \"c8d7\",\n",
      "        \"e1g1\",\n",
      "        \"a8c8\",\n",
      "        \"f1e1\",\n",
      "        \"a7a6\",\n",
      "        \"b5a4\",\n",
      "        \"b7b5\",\n",
      "        \"c3b5\",\n",
      "        \"a6b5\",\n",
      "        \"a4b5\",\n",
      "        \"f8e7\",\n",
      "        \"f3e5\",\n",
      "        \"e8g8\",\n",
      "        \"e5d7\",\n",
      "        \"d8d7\",\n",
      "        \"b3f3\",\n",
      "        \"d7c7\",\n",
      "        \"b5e2\",\n",
      "        \"c6e5\",\n",
      "        \"f3g3\",\n",
      "        \"e5g6\",\n",
      "        \"f2f4\",\n",
      "        \"c7f4\",\n",
      "        \"g3f4\",\n",
      "        \"g6f4\",\n",
      "        \"d2d3\",\n",
      "        \"f4e2\",\n",
      "        \"e1e2\",\n",
      "        \"c8c7\",\n",
      "        \"c1e3\",\n",
      "        \"f8c8\",\n",
      "        \"a1f1\",\n",
      "        \"f6d5\",\n",
      "        \"e3d4\",\n",
      "        \"c7c1\",\n",
      "        \"g1f2\",\n",
      "        \"c1f1\",\n",
      "        \"f2f1\",\n",
      "        \"d5f4\",\n",
      "        \"e2d2\",\n",
      "        \"c8c1\",\n",
      "        \"f1f2\",\n",
      "        \"e7g5\",\n",
      "        \"d4e3\",\n",
      "        \"h7h6\",\n",
      "        \"b2b3\",\n",
      "        \"g8h7\",\n",
      "        \"g2g3\",\n",
      "        \"f4d5\",\n",
      "        \"e3g5\",\n",
      "        \"h6g5\",\n",
      "        \"f2f3\",\n",
      "        \"h7g6\",\n",
      "        \"g3g4\",\n",
      "        \"c1f1\",\n",
      "        \"f3e4\",\n",
      "        \"d5f4\",\n",
      "        \"e4d4\",\n",
      "        \"f1c1\",\n",
      "        \"b3b4\",\n",
      "        \"c1c6\",\n",
      "        \"a2a4\",\n",
      "        \"f7f6\",\n",
      "        \"d4e3\",\n",
      "        \"e6e5\",\n",
      "        \"b4b5\",\n",
      "        \"f4d5\",\n",
      "        \"e3e4\",\n",
      "        \"c6d6\",\n",
      "        \"b5b6\",\n",
      "        \"d5e7\",\n",
      "        \"b6b7\",\n",
      "        \"e7c6\",\n",
      "        \"b7b8q\",\n",
      "        \"c6b8\",\n",
      "        \"d2b2\",\n",
      "        \"b8d7\",\n",
      "        \"b2b7\",\n",
      "        \"d6a6\",\n",
      "        \"d3d4\",\n",
      "        \"a6a4\",\n",
      "        \"e4d5\",\n",
      "        \"a4d4\",\n",
      "        \"d5e6\",\n",
      "        \"d7c5\",\n",
      "        \"e6e7\",\n",
      "        \"c5b7\",\n",
      "        \"e7f8\",\n",
      "        \"d4f4\",\n",
      "        \"f8e7\",\n",
      "        \"e5e4\",\n",
      "        \"e7f8\",\n",
      "        \"e4e3\",\n",
      "        \"h2h4\",\n",
      "        \"e3e2\",\n",
      "        \"h4h5\"\n",
      "    ]\n",
      "}\n"
     ]
    }
   ],
   "source": [
    "# Showing first account\n",
    "\n",
    "print(json.dumps(games_json[0], indent=4))\n"
   ]
  },
  {
   "cell_type": "raw",
   "id": "70595ad2-62df-4661-a1f8-fb446be11ffa",
   "metadata": {},
   "source": [
    "# Saving JSON file \n",
    "\n",
    "with open(\"games.json\", \"w\") as json_file:\n",
    "    json.dump(games_json, json_file, indent=4)"
   ]
  },
  {
   "cell_type": "code",
   "execution_count": 37,
   "id": "893a5b11-5bad-4176-8e38-6778e705866e",
   "metadata": {
    "tags": []
   },
   "outputs": [
    {
     "name": "stderr",
     "output_type": "stream",
     "text": [
      "Setting default log level to \"WARN\".\n",
      "To adjust logging level use sc.setLogLevel(newLevel). For SparkR, use setLogLevel(newLevel).\n",
      "24/10/23 13:05:35 WARN NativeCodeLoader: Unable to load native-hadoop library for your platform... using builtin-java classes where applicable\n"
     ]
    }
   ],
   "source": [
    "spark = SparkSession.builder \\\n",
    "    .appName(\"PGN Game Distribution\") \\\n",
    "    .getOrCreate()\n",
    "\n"
   ]
  },
  {
   "cell_type": "code",
   "execution_count": 41,
   "id": "de527ead-3117-4fd3-8a79-9aacd6b4945a",
   "metadata": {
    "tags": []
   },
   "outputs": [],
   "source": [
    "schema = StructType([\n",
    "    StructField(\"Event\", StringType(), True),\n",
    "    StructField(\"Site\", StringType(), True),\n",
    "    StructField(\"Date\", StringType(), True),\n",
    "    StructField(\"Result\", StringType(), True),\n",
    "    StructField(\"WhiteElo\", StringType(), True),  \n",
    "    StructField(\"BlackElo\", StringType(), True),  \n",
    "    StructField(\"Moves\", ArrayType(StringType()), True)  \n",
    "])\n"
   ]
  },
  {
   "cell_type": "code",
   "execution_count": 39,
   "id": "40481198-0d21-483e-9646-f2d325381190",
   "metadata": {
    "tags": []
   },
   "outputs": [],
   "source": [
    "df = spark.createDataFrame(games_json, schema=schema)\n"
   ]
  },
  {
   "cell_type": "code",
   "execution_count": 40,
   "id": "fabd53b8-a0cb-4a75-90df-37845d03811d",
   "metadata": {
    "tags": []
   },
   "outputs": [
    {
     "name": "stderr",
     "output_type": "stream",
     "text": [
      "[Stage 0:>                                                          (0 + 1) / 1]\r"
     ]
    },
    {
     "name": "stdout",
     "output_type": "stream",
     "text": [
      "+----------+----+----------+------+--------+--------+----------+\n",
      "|     Event|Site|      Date|Result|WhiteElo|BlackElo|     Moves|\n",
      "+----------+----+----------+------+--------+--------+----------+\n",
      "|Rated B...|null|2024.08.01|   1-0|    2148|    2155|[e2e4, ...|\n",
      "|Rated B...|null|2024.08.01|   1-0|    1103|    1106|[e2e4, ...|\n",
      "|Rated B...|null|2024.08.01|   0-1|     674|     629|[e2e4, ...|\n",
      "|Rated B...|null|2024.08.01|   0-1|    2459|    2556|[e2e4, ...|\n",
      "|Rated B...|null|2024.08.01|   0-1|    1527|    1500|[e2e4, ...|\n",
      "+----------+----+----------+------+--------+--------+----------+\n",
      "only showing top 5 rows\n",
      "\n"
     ]
    },
    {
     "name": "stderr",
     "output_type": "stream",
     "text": [
      "                                                                                \r"
     ]
    }
   ],
   "source": [
    "df.show(5, truncate=10) "
   ]
  },
  {
   "cell_type": "code",
   "execution_count": 42,
   "id": "f99a754c-70e7-4fa4-b2a3-7648949406be",
   "metadata": {
    "tags": []
   },
   "outputs": [],
   "source": [
    "event_distribution = df.groupBy(\"Event\").count()\n"
   ]
  },
  {
   "cell_type": "code",
   "execution_count": 43,
   "id": "6f7f829e-efea-49c2-850b-7d587d2c9ea1",
   "metadata": {
    "tags": []
   },
   "outputs": [
    {
     "name": "stdout",
     "output_type": "stream",
     "text": [
      "+---------------------------------------------------------------+-----+\n",
      "|Event                                                          |count|\n",
      "+---------------------------------------------------------------+-----+\n",
      "|Classical swiss https://lichess.org/swiss/bRGB9CDW             |6    |\n",
      "|Rated Blitz tournament https://lichess.org/tournament/x2P6n5ZA |25   |\n",
      "|Rated Blitz tournament https://lichess.org/tournament/MIDvhT7D |20   |\n",
      "|Rated Bullet tournament https://lichess.org/tournament/CReo1mLT|1    |\n",
      "|Rated Classical game                                           |5    |\n",
      "|Rated Blitz tournament https://lichess.org/tournament/9ItBGKQi |3    |\n",
      "|Rated Blitz tournament https://lichess.org/tournament/3YFuR01B |34   |\n",
      "|Rated Rapid tournament https://lichess.org/tournament/lPeiflQY |2    |\n",
      "|Rated Bullet tournament https://lichess.org/tournament/FjIuM2tM|3    |\n",
      "|Blitz swiss https://lichess.org/swiss/YqQwqdKB                 |4    |\n",
      "|Rated Blitz game                                               |421  |\n",
      "|Rated Rapid tournament https://lichess.org/tournament/BaqGyYfQ |2    |\n",
      "|Rated Bullet tournament https://lichess.org/tournament/wRyZEQ4s|18   |\n",
      "|Rated Blitz tournament https://lichess.org/tournament/gPo7c8Ob |2    |\n",
      "|Rated Rapid tournament https://lichess.org/tournament/Hvr22Ja6 |2    |\n",
      "|Rapid swiss https://lichess.org/swiss/Guqa4YTF                 |1    |\n",
      "|Rated UltraBullet game                                         |3    |\n",
      "|Rated Blitz tournament https://lichess.org/tournament/UkN7F9SL |4    |\n",
      "|Blitz swiss https://lichess.org/swiss/CX7A18wB                 |6    |\n",
      "|Rated Blitz tournament https://lichess.org/tournament/MaDk33CP |1    |\n",
      "+---------------------------------------------------------------+-----+\n",
      "only showing top 20 rows\n",
      "\n"
     ]
    }
   ],
   "source": [
    "event_distribution.show(truncate=False)\n"
   ]
  },
  {
   "cell_type": "markdown",
   "id": "2b0a33f8-247f-49d7-8052-edcce5e991b6",
   "metadata": {},
   "source": [
    "Some of the events are specified by tournaments, but I want to treat each related tournament as the same. Below is cleaning up the hyperlinks"
   ]
  },
  {
   "cell_type": "code",
   "execution_count": 44,
   "id": "62bae867-eb14-466c-b678-d9d575add584",
   "metadata": {
    "tags": []
   },
   "outputs": [
    {
     "name": "stdout",
     "output_type": "stream",
     "text": [
      "+-----------------------+-----+\n",
      "|Event                  |count|\n",
      "+-----------------------+-----+\n",
      "|Rated Bullet tournament|22   |\n",
      "|Rated Classical game   |5    |\n",
      "|Rapid swiss            |3    |\n",
      "|Rated Blitz tournament |93   |\n",
      "|Rated Rapid tournament |6    |\n",
      "|Rated Blitz game       |421  |\n",
      "|Classical swiss        |6    |\n",
      "|Rated UltraBullet game |3    |\n",
      "|Rated Rapid game       |115  |\n",
      "|Blitz swiss            |10   |\n",
      "|Rated Bullet game      |316  |\n",
      "+-----------------------+-----+\n",
      "\n"
     ]
    }
   ],
   "source": [
    "from pyspark.sql.functions import regexp_replace\n",
    "\n",
    "# Remove the hyperlinks using a regular expression\n",
    "df_cleaned = df.withColumn(\"Event\", regexp_replace(\"Event\", r' http.*$', ''))\n",
    "\n",
    "# Now group by the cleaned 'Event' column and count occurrences\n",
    "event_distribution_cleaned = df_cleaned.groupBy(\"Event\").count()\n",
    "\n",
    "# Show the distribution of cleaned events\n",
    "event_distribution_cleaned.show(truncate=False)"
   ]
  },
  {
   "cell_type": "code",
   "execution_count": 16,
   "id": "16619a45-198d-4012-abc2-78ee53d4a04d",
   "metadata": {
    "tags": []
   },
   "outputs": [],
   "source": [
    "# Getting png file that only contains Rated Blitz Game\n"
   ]
  },
  {
   "cell_type": "code",
   "execution_count": 46,
   "id": "14bd589b-ba77-4f87-a084-8f548377a9df",
   "metadata": {
    "tags": []
   },
   "outputs": [],
   "source": [
    "def zipped_pgn_to_json_filtered(pgn_file, event_filter=\"Rated Blitz game\", limit=10):\n",
    "    games_list = []\n",
    "    game_count = 0  # Counter to keep track of how many games have been parsed\n",
    "    \n",
    "    # Open the compressed file and set up Zstandard decompression\n",
    "    with open(pgn_file, 'rb') as compressed_file:\n",
    "        dctx = zstd.ZstdDecompressor()\n",
    "        \n",
    "        # Decompress the stream in memory\n",
    "        with dctx.stream_reader(compressed_file) as reader:\n",
    "            decompressed_stream = io.TextIOWrapper(reader, encoding='utf-8')\n",
    "            \n",
    "            # Read the PGN games from the decompressed stream\n",
    "            while True:\n",
    "                game = chess.pgn.read_game(decompressed_stream)\n",
    "                if game is None:\n",
    "                    break\n",
    "                \n",
    "                # Filter games by the 'Event' header\n",
    "                if game.headers.get(\"Event\") != event_filter:\n",
    "                    continue  # Skip this game if it doesn't match the event\n",
    "                \n",
    "                # Convert the game to a dictionary, selecting specific headers\n",
    "                game_info = {\n",
    "                    \"Event\": game.headers.get(\"Event\", \"\"),\n",
    "                    \"Site\": game.headers.get(\"Site\", \"\"),\n",
    "                    \"Date\": game.headers.get(\"Date\", \"\"),\n",
    "                    \"Result\": game.headers.get(\"Result\", \"\"),\n",
    "                    \"WhiteElo\": game.headers.get(\"WhiteElo\", \"\"),\n",
    "                    \"BlackElo\": game.headers.get(\"BlackElo\", \"\"),\n",
    "                    \"Moves\": [move.uci() for move in game.mainline_moves()]  # UCI formatted moves\n",
    "                }\n",
    "                \n",
    "                games_list.append(game_info)\n",
    "                game_count += 1\n",
    "                \n",
    "                # Stop when the limit is reached\n",
    "                if game_count >= limit:\n",
    "                    break\n",
    "\n",
    "    return games_list"
   ]
  },
  {
   "cell_type": "code",
   "execution_count": 47,
   "id": "bca5893c-7377-47d4-ba50-22ee0694bf6d",
   "metadata": {
    "tags": []
   },
   "outputs": [
    {
     "name": "stdout",
     "output_type": "stream",
     "text": [
      "{\n",
      "    \"Event\": \"Rated Blitz game\",\n",
      "    \"Site\": \"https://lichess.org/wKUV4KuU\",\n",
      "    \"Date\": \"2024.08.01\",\n",
      "    \"Result\": \"1-0\",\n",
      "    \"WhiteElo\": \"2055\",\n",
      "    \"BlackElo\": \"2069\",\n",
      "    \"Moves\": [\n",
      "        \"d2d4\",\n",
      "        \"e7e6\",\n",
      "        \"e2e4\",\n",
      "        \"d7d5\",\n",
      "        \"e4d5\",\n",
      "        \"e6d5\",\n",
      "        \"g1f3\",\n",
      "        \"f8d6\",\n",
      "        \"f1d3\",\n",
      "        \"g8f6\",\n",
      "        \"e1g1\",\n",
      "        \"e8g8\",\n",
      "        \"b2b3\",\n",
      "        \"c8g4\",\n",
      "        \"c2c4\",\n",
      "        \"c7c6\",\n",
      "        \"c4c5\",\n",
      "        \"d6c7\",\n",
      "        \"c1e3\",\n",
      "        \"f8e8\",\n",
      "        \"b1d2\",\n",
      "        \"b8d7\",\n",
      "        \"d1c2\",\n",
      "        \"d7f8\",\n",
      "        \"h2h3\",\n",
      "        \"g4h5\",\n",
      "        \"g2g4\",\n",
      "        \"h5g6\",\n",
      "        \"g4g5\",\n",
      "        \"f6h5\",\n",
      "        \"d3g6\",\n",
      "        \"h7g6\",\n",
      "        \"h3h4\",\n",
      "        \"d8d7\",\n",
      "        \"f1e1\",\n",
      "        \"d7g4\",\n",
      "        \"g1f1\",\n",
      "        \"e8e3\",\n",
      "        \"f2e3\",\n",
      "        \"h5g3\",\n",
      "        \"f1f2\",\n",
      "        \"a8e8\",\n",
      "        \"e1g1\",\n",
      "        \"g4h3\",\n",
      "        \"g1g2\",\n",
      "        \"f8e6\",\n",
      "        \"a1g1\",\n",
      "        \"g3f5\",\n",
      "        \"f3e5\",\n",
      "        \"c7e5\",\n",
      "        \"d4e5\",\n",
      "        \"h3e3\",\n",
      "        \"f2f1\",\n",
      "        \"e6f4\",\n",
      "        \"g2f2\",\n",
      "        \"e8e5\",\n",
      "        \"d2f3\",\n",
      "        \"f5d4\",\n",
      "        \"c2d1\"\n",
      "    ]\n",
      "}\n"
     ]
    }
   ],
   "source": [
    "filtered_games_json = zipped_pgn_to_json_filtered(file_path, event_filter=\"Rated Blitz game\", limit=1100)\n",
    "print(json.dumps(filtered_games_json[0], indent=4))\n"
   ]
  },
  {
   "cell_type": "code",
   "execution_count": 54,
   "id": "96d0f94f-fdac-4c0a-afba-03a75be594cc",
   "metadata": {
    "tags": []
   },
   "outputs": [
    {
     "name": "stdout",
     "output_type": "stream",
     "text": [
      "+----------------+--------------------+----------+------+--------+--------+--------------------+\n",
      "|           Event|                Site|      Date|Result|WhiteElo|BlackElo|               Moves|\n",
      "+----------------+--------------------+----------+------+--------+--------+--------------------+\n",
      "|Rated Blitz game|https://lichess.o...|2024.08.01|   1-0|    2055|    2069|[d2d4, e7e6, e2e4...|\n",
      "|Rated Blitz game|https://lichess.o...|2024.08.01|   0-1|     886|     947|[e2e4, e7e5, g1f3...|\n",
      "|Rated Blitz game|https://lichess.o...|2024.08.01|   1-0|    1721|    1698|[e2e4, e7e5, f2f4...|\n",
      "|Rated Blitz game|https://lichess.o...|2024.08.01|   0-1|    1920|    1922|[c2c4, e7e5, b1c3...|\n",
      "|Rated Blitz game|https://lichess.o...|2024.08.01|   0-1|    1764|    1791|[e2e4, e7e5, g1f3...|\n",
      "|Rated Blitz game|https://lichess.o...|2024.08.01|   1-0|    1664|    1652|[e2e4, e7e5, f1c4...|\n",
      "|Rated Blitz game|https://lichess.o...|2024.08.01|   0-1|    2124|    2252|[e2e4, c7c5, b1c3...|\n",
      "|Rated Blitz game|https://lichess.o...|2024.08.01|   1-0|    1893|    1821|[d2d4, d7d5, c2c4...|\n",
      "|Rated Blitz game|https://lichess.o...|2024.08.01|   0-1|    2010|    1972|[d2d4, d7d5, c2c4...|\n",
      "|Rated Blitz game|https://lichess.o...|2024.08.01|   1-0|    1957|    1963|[d2d4, d7d5, c2c4...|\n",
      "+----------------+--------------------+----------+------+--------+--------+--------------------+\n",
      "only showing top 10 rows\n",
      "\n"
     ]
    }
   ],
   "source": [
    "df_blitz = spark.createDataFrame(filtered_games_json, schema=schema)\n",
    "df_blitz.show(10, truncate=20) \n"
   ]
  },
  {
   "cell_type": "code",
   "execution_count": 20,
   "id": "9a159813-f1bc-424b-93af-b701c85913a9",
   "metadata": {
    "tags": []
   },
   "outputs": [
    {
     "name": "stdout",
     "output_type": "stream",
     "text": [
      "1100\n"
     ]
    }
   ],
   "source": [
    "df_blitz_count = df_blitz.count()\n",
    "print(df_blitz_count)"
   ]
  },
  {
   "cell_type": "code",
   "execution_count": 26,
   "id": "7d32a4d8-9362-4ea8-babb-e4b53f0b724e",
   "metadata": {
    "tags": []
   },
   "outputs": [],
   "source": [
    "# Creating Average Elo Column"
   ]
  },
  {
   "cell_type": "code",
   "execution_count": 35,
   "id": "4eaaf032-86c7-4a19-b432-c402734f8316",
   "metadata": {
    "tags": []
   },
   "outputs": [],
   "source": [
    "df_blitz = df_blitz.withColumn(\"WhiteElo\", col(\"WhiteElo\").cast(\"int\")) \\\n",
    "                   .withColumn(\"BlackElo\", col(\"BlackElo\").cast(\"int\")) \\\n",
    "                   .withColumn(\"AverageElo\", (col(\"WhiteElo\") + col(\"BlackElo\")) / 2)"
   ]
  },
  {
   "cell_type": "code",
   "execution_count": 37,
   "id": "ed797cd1-38ca-4d0e-a669-2068069132be",
   "metadata": {
    "tags": []
   },
   "outputs": [
    {
     "name": "stdout",
     "output_type": "stream",
     "text": [
      "+----------+----------+----------+------+--------+--------+----------+----------+\n",
      "|     Event|      Site|      Date|Result|WhiteElo|BlackElo|     Moves|AverageElo|\n",
      "+----------+----------+----------+------+--------+--------+----------+----------+\n",
      "|Rated B...|https:/...|2024.08.01|   1-0|    2055|    2069|[d2d4, ...|    2062.0|\n",
      "|Rated B...|https:/...|2024.08.01|   0-1|     886|     947|[e2e4, ...|     916.5|\n",
      "|Rated B...|https:/...|2024.08.01|   1-0|    1721|    1698|[e2e4, ...|    1709.5|\n",
      "|Rated B...|https:/...|2024.08.01|   0-1|    1920|    1922|[c2c4, ...|    1921.0|\n",
      "|Rated B...|https:/...|2024.08.01|   0-1|    1764|    1791|[e2e4, ...|    1777.5|\n",
      "+----------+----------+----------+------+--------+--------+----------+----------+\n",
      "only showing top 5 rows\n",
      "\n"
     ]
    }
   ],
   "source": [
    "df_blitz.show(5, truncate=10)\n"
   ]
  },
  {
   "cell_type": "code",
   "execution_count": 41,
   "id": "1a3970ea-ea39-4d8c-9988-ff7fac87a220",
   "metadata": {
    "tags": []
   },
   "outputs": [
    {
     "name": "stdout",
     "output_type": "stream",
     "text": [
      "+----------------+--------------------+----------+------+--------+--------+--------------------+----------+------+\n",
      "|           Event|                Site|      Date|Result|WhiteElo|BlackElo|               Moves|AverageElo|EloBin|\n",
      "+----------------+--------------------+----------+------+--------+--------+--------------------+----------+------+\n",
      "|Rated Blitz game|https://lichess.o...|2024.08.01|   1-0|    2055|    2069|[d2d4, e7e6, e2e4...|    2062.0|  11.0|\n",
      "+----------------+--------------------+----------+------+--------+--------+--------------------+----------+------+\n",
      "only showing top 1 row\n",
      "\n"
     ]
    }
   ],
   "source": [
    "# Find Distribution of AverageElo\n",
    "\n",
    "from pyspark.ml.feature import Bucketizer\n",
    "splits = [0, 1000, 1100, 1200, 1300, 1400, 1500, 1600, 1700, 1800, 1900, 2000, 2100, 2200, float('Inf')]\n",
    "bucketizer = Bucketizer(splits=splits, inputCol=\"AverageElo\", outputCol=\"EloBin\")\n",
    "df_binned = bucketizer.transform(df_blitz)\n",
    "df_binned.show(1)"
   ]
  },
  {
   "cell_type": "code",
   "execution_count": 44,
   "id": "a072b3bc-f670-4d6c-bff3-dd4fa6580b14",
   "metadata": {
    "tags": []
   },
   "outputs": [
    {
     "name": "stdout",
     "output_type": "stream",
     "text": [
      "+------+-----+\n",
      "|EloBin|count|\n",
      "+------+-----+\n",
      "|0.0   |51   |\n",
      "|1.0   |43   |\n",
      "|2.0   |61   |\n",
      "|3.0   |67   |\n",
      "|4.0   |80   |\n",
      "|5.0   |97   |\n",
      "|6.0   |106  |\n",
      "|7.0   |107  |\n",
      "|8.0   |114  |\n",
      "|9.0   |109  |\n",
      "|10.0  |99   |\n",
      "|11.0  |66   |\n",
      "|12.0  |45   |\n",
      "|13.0  |55   |\n",
      "+------+-----+\n",
      "\n"
     ]
    }
   ],
   "source": [
    "df_binned.groupBy(\"EloBin\").agg(count(\"*\").alias(\"count\")).orderBy(\"EloBin\").show(truncate=False)\n"
   ]
  }
 ],
 "metadata": {
  "kernelspec": {
   "display_name": "Python 3 (ipykernel)",
   "language": "python",
   "name": "python3"
  },
  "language_info": {
   "codemirror_mode": {
    "name": "ipython",
    "version": 3
   },
   "file_extension": ".py",
   "mimetype": "text/x-python",
   "name": "python",
   "nbconvert_exporter": "python",
   "pygments_lexer": "ipython3",
   "version": "3.11.5"
  }
 },
 "nbformat": 4,
 "nbformat_minor": 5
}
