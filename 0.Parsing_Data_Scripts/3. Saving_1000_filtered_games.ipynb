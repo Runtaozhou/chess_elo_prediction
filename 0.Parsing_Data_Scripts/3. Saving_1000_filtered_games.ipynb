{
 "cells": [
  {
   "cell_type": "code",
   "execution_count": 7,
   "id": "0b63856c-bdee-44f1-b5b0-5a7cb5c03963",
   "metadata": {
    "tags": []
   },
   "outputs": [],
   "source": [
    "import zstandard as zstd\n",
    "import io\n",
    "import chess.pgn\n",
    "import chess.pgn"
   ]
  },
  {
   "cell_type": "markdown",
   "id": "522c2eed-8165-4cc8-8128-9450a1c9187b",
   "metadata": {},
   "source": [
    "This code will save the first 1000 games of \"Rated Bullet game\""
   ]
  },
  {
   "cell_type": "code",
   "execution_count": 1,
   "id": "f39867dc-8f81-4e69-b4b8-b94e33ca4d82",
   "metadata": {
    "tags": []
   },
   "outputs": [],
   "source": [
    "# The entire filepath in scratch\n",
    "file_path = '/scratch/zrc3hc/lichess_db_standard_rated_2024-08.pgn'\n"
   ]
  },
  {
   "cell_type": "code",
   "execution_count": 4,
   "id": "3846f62c-3021-4f7d-89e9-7103bda775c5",
   "metadata": {
    "tags": []
   },
   "outputs": [
    {
     "name": "stdout",
     "output_type": "stream",
     "text": [
      "[Event \"Rated Bullet game\"]\n",
      "[Site \"https://lichess.org/nQ1xYNSF\"]\n",
      "[Date \"2024.08.01\"]\n",
      "[Round \"-\"]\n",
      "[White \"kingskreamer\"]\n",
      "[Black \"mysteryvabs\"]\n",
      "[Result \"1-0\"]\n",
      "[UTCDate \"2024.08.01\"]\n",
      "[UTCTime \"00:00:09\"]\n",
      "[WhiteElo \"2148\"]\n",
      "[BlackElo \"2155\"]\n",
      "[WhiteRatingDiff \"+6\"]\n",
      "[BlackRatingDiff \"-6\"]\n",
      "[ECO \"B10\"]\n",
      "[Opening \"Caro-Kann Defense: Accelerated Panov Attack\"]\n",
      "[TimeControl \"60+0\"]\n",
      "[Termination \"Time forfeit\"]\n",
      "\n",
      "1. e4 { [%clk 0:01:00] } 1... c6 { [%clk 0:01:00] } 2. c4 { [%clk 0:00:59] } 2... d5 { [%clk 0:01:00] } 3. cxd5 { [%clk 0:00:59] } 3... cxd5 { [%clk 0:01:00] } 4. exd5 { [%clk 0:00:58] } 4... Qxd5 { [%clk 0:00:59] } 5. Nc3 { [%clk 0:00:58] } 5... Qd8 { [%clk 0:00:59] } 6. Bc4 { [%clk 0:00:58] } 6... Nf6 { [%clk 0:00:59] } 7. Qb3 { [%clk 0:00:57] } 7... e6 { [%clk 0:00:58] } 8. Nf3 { [%clk 0:00:57] } 8... Nc6 { [%clk 0:00:57] } 9. Bb5 { [%clk 0:00:55] } 9... Bd7 { [%clk 0:00:57] } 10. O-O { [%clk 0:00:54] } 10... Rc8 { [%clk 0:00:56] } 11. Re1 { [%clk 0:00:52] } 11... a6 { [%clk 0:00:56] } 12. Ba4 { [%clk 0:00:51] } 12... b5 { [%clk 0:00:55] } 13. Nxb5 { [%clk 0:00:50] } 13... axb5 { [%clk 0:00:54] } 14. Bxb5 { [%clk 0:00:50] } 14... Be7 { [%clk 0:00:53] } 15. Ne5 { [%clk 0:00:48] } 15... O-O { [%clk 0:00:51] } 16. Nxd7 { [%clk 0:00:47] } 16... Qxd7 { [%clk 0:00:51] } 17. Qf3 { [%clk 0:00:44] } 17... Qc7 { [%clk 0:00:50] } 18. Be2 { [%clk 0:00:43] } 18... Ne5 { [%clk 0:00:48] } 19. Qg3 { [%clk 0:00:42] } 19... Ng6 { [%clk 0:00:46] } 20. f4 { [%clk 0:00:40] } 20... Qxf4 { [%clk 0:00:43] } 21. Qxf4 { [%clk 0:00:39] } 21... Nxf4 { [%clk 0:00:43] } 22. d3 { [%clk 0:00:37] } 22... Nxe2+ { [%clk 0:00:40] } 23. Rxe2 { [%clk 0:00:37] } 23... Rc7 { [%clk 0:00:38] } 24. Be3 { [%clk 0:00:36] } 24... Rfc8 { [%clk 0:00:37] } 25. Rf1 { [%clk 0:00:35] } 25... Nd5 { [%clk 0:00:35] } 26. Bd4 { [%clk 0:00:34] } 26... Rc1 { [%clk 0:00:32] } 27. Kf2 { [%clk 0:00:31] } 27... Rxf1+ { [%clk 0:00:31] } 28. Kxf1 { [%clk 0:00:31] } 28... Nf4 { [%clk 0:00:29] } 29. Rd2 { [%clk 0:00:28] } 29... Rc1+ { [%clk 0:00:27] } 30. Kf2 { [%clk 0:00:27] } 30... Bg5 { [%clk 0:00:18] } 31. Be3 { [%clk 0:00:23] } 31... h6 { [%clk 0:00:17] } 32. b3 { [%clk 0:00:20] } 32... Kh7 { [%clk 0:00:15] } 33. g3 { [%clk 0:00:19] } 33... Nd5 { [%clk 0:00:13] } 34. Bxg5 { [%clk 0:00:18] } 34... hxg5 { [%clk 0:00:13] } 35. Kf3 { [%clk 0:00:16] } 35... Kg6 { [%clk 0:00:12] } 36. g4 { [%clk 0:00:15] } 36... Rf1+ { [%clk 0:00:11] } 37. Ke4 { [%clk 0:00:14] } 37... Nf4 { [%clk 0:00:10] } 38. Kd4 { [%clk 0:00:14] } 38... Rc1 { [%clk 0:00:09] } 39. b4 { [%clk 0:00:12] } 39... Rc6 { [%clk 0:00:08] } 40. a4 { [%clk 0:00:12] } 40... f6 { [%clk 0:00:07] } 41. Ke3 { [%clk 0:00:12] } 41... e5 { [%clk 0:00:06] } 42. b5 { [%clk 0:00:11] } 42... Nd5+ { [%clk 0:00:06] } 43. Ke4 { [%clk 0:00:11] } 43... Rd6 { [%clk 0:00:06] } 44. b6 { [%clk 0:00:10] } 44... Ne7 { [%clk 0:00:06] } 45. b7 { [%clk 0:00:10] } 45... Nc6 { [%clk 0:00:05] } 46. b8=Q { [%clk 0:00:10] } 46... Nxb8 { [%clk 0:00:05] } 47. Rb2 { [%clk 0:00:09] } 47... Nd7 { [%clk 0:00:04] } 48. Rb7 { [%clk 0:00:09] } 48... Ra6 { [%clk 0:00:04] } 49. d4 { [%clk 0:00:08] } 49... Rxa4 { [%clk 0:00:03] } 50. Kd5 { [%clk 0:00:07] } 50... Rxd4+ { [%clk 0:00:03] } 51. Ke6 { [%clk 0:00:07] } 51... Nc5+ { [%clk 0:00:02] } 52. Ke7 { [%clk 0:00:06] } 52... Nxb7 { [%clk 0:00:02] } 53. Kf8 { [%clk 0:00:05] } 53... Rf4 { [%clk 0:00:02] } 54. Ke7 { [%clk 0:00:05] } 54... e4 { [%clk 0:00:02] } 55. Kf8 { [%clk 0:00:05] } 55... e3 { [%clk 0:00:01] } 56. h4 { [%clk 0:00:05] } 56... e2 { [%clk 0:00:01] } 57. h5+ { [%clk 0:00:05] } 1-0\n",
      "\n"
     ]
    }
   ],
   "source": [
    "with open(file_path, 'r', encoding='utf-8') as file:\n",
    "    # Read and print the first 20 lines\n",
    "    for _ in range(20):\n",
    "        line = file.readline()\n",
    "        if line:\n",
    "            print(line.strip())\n",
    "        else:\n",
    "            break"
   ]
  },
  {
   "cell_type": "code",
   "execution_count": 10,
   "id": "ab9acc03-933a-414f-b961-6b5f7206a28d",
   "metadata": {
    "tags": []
   },
   "outputs": [],
   "source": [
    "# Saving only the first 1000 \"Rated Bullet game\" Games\n",
    "\n",
    "def save_first_1000_filtered_games(input_file, output_file, event_filter=\"Rated Bullet game\", max_games=1000):\n",
    "    filtered_games = []\n",
    "    parsed_game_count = 0  # Counter for the total number of games parsed\n",
    "    \n",
    "    # Open the PGN file for reading\n",
    "    with open(input_file, 'r', encoding='utf-8') as pgn_file:\n",
    "        while len(filtered_games) < max_games:\n",
    "            # Read the next game from the PGN file\n",
    "            game = chess.pgn.read_game(pgn_file)\n",
    "            if game is None:\n",
    "                break  # End of file\n",
    "            \n",
    "            # Increment parsed game counter\n",
    "            parsed_game_count += 1\n",
    "            \n",
    "            # Check if the game matches the event filter\n",
    "            if game.headers.get(\"Event\") == event_filter:\n",
    "                # Add the game to the filtered list\n",
    "                filtered_games.append(game)\n",
    "                \n",
    "                # Stop if we reach the maximum number of games\n",
    "                if len(filtered_games) >= max_games:\n",
    "                    break\n",
    "    \n",
    "    # Write filtered games to the output file\n",
    "    with open(output_file, 'w', encoding='utf-8') as out_file:\n",
    "        for game in filtered_games:\n",
    "            # Write each filtered game in PGN format to the output file\n",
    "            exporter = chess.pgn.StringExporter(headers=True, variations=True, comments=True)\n",
    "            out_file.write(game.accept(exporter) + \"\\n\\n\")\n",
    "    \n",
    "    # Print the number of parsed and saved games\n",
    "    print(f\"Total number of games parsed: {parsed_game_count}\")\n",
    "    print(f\"Total number of games saved with event '{event_filter}': {len(filtered_games)}\")\n",
    "    print(f\"Filtered games saved to {output_file}\")"
   ]
  },
  {
   "cell_type": "code",
   "execution_count": 11,
   "id": "bacd7485-48f9-4d6a-b8db-fa0ce9f5a4af",
   "metadata": {
    "tags": []
   },
   "outputs": [
    {
     "name": "stdout",
     "output_type": "stream",
     "text": [
      "Total number of games parsed: 2877\n",
      "Total number of games saved with event 'Rated Bullet game': 1000\n",
      "Filtered games saved to /scratch/zrc3hc/filtered_bullet_games_first_1000.pgn\n"
     ]
    }
   ],
   "source": [
    "input_file_path = '/scratch/zrc3hc/lichess_db_standard_rated_2024-08.pgn'\n",
    "output_file_path = '/scratch/zrc3hc/filtered_bullet_games_first_1000.pgn'\n",
    "save_first_1000_filtered_games(input_file_path, output_file_path, event_filter=\"Rated Bullet game\")"
   ]
  }
 ],
 "metadata": {
  "kernelspec": {
   "display_name": "Python 3 (ipykernel)",
   "language": "python",
   "name": "python3"
  },
  "language_info": {
   "codemirror_mode": {
    "name": "ipython",
    "version": 3
   },
   "file_extension": ".py",
   "mimetype": "text/x-python",
   "name": "python",
   "nbconvert_exporter": "python",
   "pygments_lexer": "ipython3",
   "version": "3.11.5"
  }
 },
 "nbformat": 4,
 "nbformat_minor": 5
}
