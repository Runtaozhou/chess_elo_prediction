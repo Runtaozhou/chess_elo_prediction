{
 "cells": [
  {
   "cell_type": "markdown",
   "id": "f2bb74ad-219c-4992-b7a5-6f11f5311621",
   "metadata": {
    "tags": []
   },
   "source": [
    "### Testing Access to Total Filtered games"
   ]
  },
  {
   "cell_type": "code",
   "execution_count": 5,
   "id": "1a336704-c0dc-4c2d-898e-a1c411f8104c",
   "metadata": {
    "tags": []
   },
   "outputs": [],
   "source": [
    "import chess.pgn\n",
    "import json\n",
    "file_path = '/scratch/zrc3hc/filtered_games_total/part-00000-9eb34237-6933-4165-9287-e8441a64b433-c000.json'\n"
   ]
  },
  {
   "cell_type": "code",
   "execution_count": 7,
   "id": "ce6a4ea4-2379-4675-bca3-70ad328a5645",
   "metadata": {
    "tags": []
   },
   "outputs": [],
   "source": [
    "games = []  # List to store parsed games\n",
    "with open(file_path, 'r', encoding='utf-8') as json_file:\n",
    "    for line in json_file:\n",
    "        try:\n",
    "            game = json.loads(line.strip())  # Parse each line as a JSON object\n",
    "            games.append(game)\n",
    "        except json.JSONDecodeError as e:\n",
    "            print(f\"Error decoding JSON: {e}\")  # Handle any malformed lines"
   ]
  },
  {
   "cell_type": "code",
   "execution_count": 8,
   "id": "3e8cf63a-664f-4d5e-8ae6-276441bdcc7a",
   "metadata": {
    "tags": []
   },
   "outputs": [
    {
     "name": "stdout",
     "output_type": "stream",
     "text": [
      "Total games loaded: 100000\n"
     ]
    }
   ],
   "source": [
    "print(f\"Total games loaded: {len(games)}\")"
   ]
  },
  {
   "cell_type": "code",
   "execution_count": 9,
   "id": "8a16ebac-ee57-4fb8-80d8-c37c36d3188d",
   "metadata": {
    "tags": []
   },
   "outputs": [
    {
     "name": "stdout",
     "output_type": "stream",
     "text": [
      "First game in JSON format:\n",
      "{\n",
      "    \"Event\": \"Rated Blitz game\",\n",
      "    \"Site\": \"https://lichess.org/wKUV4KuU\",\n",
      "    \"Date\": \"2024.08.01\",\n",
      "    \"Result\": \"1-0\",\n",
      "    \"WhiteElo\": \"2055\",\n",
      "    \"BlackElo\": \"2069\",\n",
      "    \"Moves\": [\n",
      "        \"d2d4\",\n",
      "        \"e7e6\",\n",
      "        \"e2e4\",\n",
      "        \"d7d5\",\n",
      "        \"e4d5\",\n",
      "        \"e6d5\",\n",
      "        \"g1f3\",\n",
      "        \"f8d6\",\n",
      "        \"f1d3\",\n",
      "        \"g8f6\",\n",
      "        \"e1g1\",\n",
      "        \"e8g8\",\n",
      "        \"b2b3\",\n",
      "        \"c8g4\",\n",
      "        \"c2c4\",\n",
      "        \"c7c6\",\n",
      "        \"c4c5\",\n",
      "        \"d6c7\",\n",
      "        \"c1e3\",\n",
      "        \"f8e8\",\n",
      "        \"b1d2\",\n",
      "        \"b8d7\",\n",
      "        \"d1c2\",\n",
      "        \"d7f8\",\n",
      "        \"h2h3\",\n",
      "        \"g4h5\",\n",
      "        \"g2g4\",\n",
      "        \"h5g6\",\n",
      "        \"g4g5\",\n",
      "        \"f6h5\",\n",
      "        \"d3g6\",\n",
      "        \"h7g6\",\n",
      "        \"h3h4\",\n",
      "        \"d8d7\",\n",
      "        \"f1e1\",\n",
      "        \"d7g4\",\n",
      "        \"g1f1\",\n",
      "        \"e8e3\",\n",
      "        \"f2e3\",\n",
      "        \"h5g3\",\n",
      "        \"f1f2\",\n",
      "        \"a8e8\",\n",
      "        \"e1g1\",\n",
      "        \"g4h3\",\n",
      "        \"g1g2\",\n",
      "        \"f8e6\",\n",
      "        \"a1g1\",\n",
      "        \"g3f5\",\n",
      "        \"f3e5\",\n",
      "        \"c7e5\",\n",
      "        \"d4e5\",\n",
      "        \"h3e3\",\n",
      "        \"f2f1\",\n",
      "        \"e6f4\",\n",
      "        \"g2f2\",\n",
      "        \"e8e5\",\n",
      "        \"d2f3\",\n",
      "        \"f5d4\",\n",
      "        \"c2d1\"\n",
      "    ]\n",
      "}\n"
     ]
    }
   ],
   "source": [
    "if games:\n",
    "    print(\"First game in JSON format:\")\n",
    "    print(json.dumps(games[0], indent=4))\n",
    "else:\n",
    "    print(\"No games found in the file.\")"
   ]
  },
  {
   "cell_type": "code",
   "execution_count": 10,
   "id": "3968d71d-4bf7-4178-bb32-89bb81fe5c24",
   "metadata": {
    "tags": []
   },
   "outputs": [
    {
     "name": "stdout",
     "output_type": "stream",
     "text": [
      "First game details:\n",
      "Event: Rated Blitz game\n",
      "Site: https://lichess.org/wKUV4KuU\n",
      "Date: 2024.08.01\n",
      "Result: 1-0\n",
      "WhiteElo: 2055\n",
      "BlackElo: 2069\n",
      "Moves: ['d2d4', 'e7e6', 'e2e4', 'd7d5', 'e4d5', 'e6d5', 'g1f3', 'f8d6', 'f1d3', 'g8f6', 'e1g1', 'e8g8', 'b2b3', 'c8g4', 'c2c4', 'c7c6', 'c4c5', 'd6c7', 'c1e3', 'f8e8', 'b1d2', 'b8d7', 'd1c2', 'd7f8', 'h2h3', 'g4h5', 'g2g4', 'h5g6', 'g4g5', 'f6h5', 'd3g6', 'h7g6', 'h3h4', 'd8d7', 'f1e1', 'd7g4', 'g1f1', 'e8e3', 'f2e3', 'h5g3', 'f1f2', 'a8e8', 'e1g1', 'g4h3', 'g1g2', 'f8e6', 'a1g1', 'g3f5', 'f3e5', 'c7e5', 'd4e5', 'h3e3', 'f2f1', 'e6f4', 'g2f2', 'e8e5', 'd2f3', 'f5d4', 'c2d1']\n",
      "\n",
      "Replaying first game moves:\n",
      "Move 1: d2d4 (FEN: rnbqkbnr/pppppppp/8/8/3P4/8/PPP1PPPP/RNBQKBNR b KQkq - 0 1)\n",
      "Move 2: e7e6 (FEN: rnbqkbnr/pppp1ppp/4p3/8/3P4/8/PPP1PPPP/RNBQKBNR w KQkq - 0 2)\n",
      "Move 3: e2e4 (FEN: rnbqkbnr/pppp1ppp/4p3/8/3PP3/8/PPP2PPP/RNBQKBNR b KQkq - 0 2)\n",
      "Move 4: d7d5 (FEN: rnbqkbnr/ppp2ppp/4p3/3p4/3PP3/8/PPP2PPP/RNBQKBNR w KQkq - 0 3)\n",
      "Move 5: e4d5 (FEN: rnbqkbnr/ppp2ppp/4p3/3P4/3P4/8/PPP2PPP/RNBQKBNR b KQkq - 0 3)\n",
      "Move 6: e6d5 (FEN: rnbqkbnr/ppp2ppp/8/3p4/3P4/8/PPP2PPP/RNBQKBNR w KQkq - 0 4)\n",
      "Move 7: g1f3 (FEN: rnbqkbnr/ppp2ppp/8/3p4/3P4/5N2/PPP2PPP/RNBQKB1R b KQkq - 1 4)\n",
      "Move 8: f8d6 (FEN: rnbqk1nr/ppp2ppp/3b4/3p4/3P4/5N2/PPP2PPP/RNBQKB1R w KQkq - 2 5)\n",
      "Move 9: f1d3 (FEN: rnbqk1nr/ppp2ppp/3b4/3p4/3P4/3B1N2/PPP2PPP/RNBQK2R b KQkq - 3 5)\n",
      "Move 10: g8f6 (FEN: rnbqk2r/ppp2ppp/3b1n2/3p4/3P4/3B1N2/PPP2PPP/RNBQK2R w KQkq - 4 6)\n",
      "Move 11: e1g1 (FEN: rnbqk2r/ppp2ppp/3b1n2/3p4/3P4/3B1N2/PPP2PPP/RNBQ1RK1 b kq - 5 6)\n"
     ]
    }
   ],
   "source": [
    "if games:\n",
    "    first_game = games[0]\n",
    "\n",
    "    print(\"First game details:\")\n",
    "    for key, value in first_game.items():\n",
    "        print(f\"{key}: {value}\")\n",
    "\n",
    "    # Initialize a board to replay moves\n",
    "    print(\"\\nReplaying first game moves:\")\n",
    "    board = chess.Board()\n",
    "    for i, move in enumerate(first_game[\"Moves\"]):\n",
    "        board.push_uci(move)  # Apply each move to the board\n",
    "        print(f\"Move {i+1}: {move} (FEN: {board.fen()})\")\n",
    "        if i >= 10:  # Limit to the first 10 moves for brevity\n",
    "            break\n",
    "else:\n",
    "    print(\"No games found in the JSON file.\")"
   ]
  }
 ],
 "metadata": {
  "kernelspec": {
   "display_name": "Python 3 (ipykernel)",
   "language": "python",
   "name": "python3"
  },
  "language_info": {
   "codemirror_mode": {
    "name": "ipython",
    "version": 3
   },
   "file_extension": ".py",
   "mimetype": "text/x-python",
   "name": "python",
   "nbconvert_exporter": "python",
   "pygments_lexer": "ipython3",
   "version": "3.11.5"
  }
 },
 "nbformat": 4,
 "nbformat_minor": 5
}
