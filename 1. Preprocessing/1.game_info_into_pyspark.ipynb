{
 "cells": [
  {
   "cell_type": "markdown",
   "id": "e0dc6f9f-8b55-44be-ae9d-6f9a7b41d078",
   "metadata": {
    "tags": []
   },
   "source": [
    "## Converting the data set Pyspark!\n",
    "\n",
    "Here, we are converting the dataset from the json format into a dataframe. We converted the data into a format in which each column represents a board piece and the value in the value indicates what the value of the piece is. "
   ]
  },
  {
   "cell_type": "code",
   "execution_count": 1,
   "id": "d7a4e3f1-3e97-462f-912c-b565cdf4076d",
   "metadata": {
    "tags": []
   },
   "outputs": [
    {
     "name": "stderr",
     "output_type": "stream",
     "text": [
      "Setting default log level to \"WARN\".\n",
      "To adjust logging level use sc.setLogLevel(newLevel). For SparkR, use setLogLevel(newLevel).\n",
      "24/11/30 08:33:51 WARN NativeCodeLoader: Unable to load native-hadoop library for your platform... using builtin-java classes where applicable\n"
     ]
    }
   ],
   "source": [
    "import chess\n",
    "import chess.pgn\n",
    "from pyspark.sql import SparkSession, Row\n",
    "from pyspark.sql.types import StructType, StructField, IntegerType, StringType\n",
    "from pyspark.sql.functions import col, split, when, substring, lit\n",
    "from pyspark.sql import functions as F\n",
    "\n",
    "import pandas as pd\n",
    "\n",
    "spark = SparkSession.builder \\\n",
    "    .appName(\"ChessDataProcessing\") \\\n",
    "    .config(\"spark.executor.cores\", \"4\") \\\n",
    "    .config(\"spark.driver.memory\", \"64g\") \\\n",
    "    .config(\"spark.executor.memory\", \"64g\") \\\n",
    "    .config(\"spark.sql.shuffle.partitions\", \"100\") \\\n",
    "    .getOrCreate()\n",
    "\n",
    "spark.conf.set(\"spark.sql.codegen.wholeStage\", \"false\")\n",
    "\n",
    "spark.conf.set(\"spark.sql.codegen.maxFields\", \"2000\") \n",
    "\n",
    "\n"
   ]
  },
  {
   "cell_type": "markdown",
   "id": "87134aab-3e2b-47f7-b433-15bf5fc1a679",
   "metadata": {
    "tags": []
   },
   "source": [
    "## Our data"
   ]
  },
  {
   "cell_type": "markdown",
   "id": "d8013a24-2ff3-45ef-ab91-e9628a2601eb",
   "metadata": {},
   "source": [
    "# Run this"
   ]
  },
  {
   "cell_type": "code",
   "execution_count": 2,
   "id": "5b6d6446-4e85-44a0-881a-03d66a5a41a1",
   "metadata": {
    "tags": []
   },
   "outputs": [],
   "source": [
    "# Starting by first converting starting the pieces at their initial positions.\n",
    "# Every game begins like this\n",
    " \n",
    "initial_positions = {\n",
    "    \"Move\": 0,\n",
    "    \"White_Rook_1\": \"a1\",\n",
    "    \"White_Rook_2\": \"h1\",\n",
    "    \"White_Knight_1\": \"b1\",\n",
    "    \"White_Knight_2\": \"g1\",\n",
    "    \"White_Bishop_1\": \"c1\",\n",
    "    \"White_Bishop_2\": \"f1\",\n",
    "    \"White_Queen_1\": \"d1\",\n",
    "    \"White_King_1\": \"e1\",\n",
    "    \"White_Pawn_1\": \"a2\",\n",
    "    \"White_Pawn_2\": \"b2\",\n",
    "    \"White_Pawn_3\": \"c2\",\n",
    "    \"White_Pawn_4\": \"d2\",\n",
    "    \"White_Pawn_5\": \"e2\",\n",
    "    \"White_Pawn_6\": \"f2\",\n",
    "    \"White_Pawn_7\": \"g2\",\n",
    "    \"White_Pawn_8\": \"h2\",\n",
    "    \"Black_Rook_1\": \"a8\",\n",
    "    \"Black_Rook_2\": \"h8\",\n",
    "    \"Black_Knight_1\": \"b8\",\n",
    "    \"Black_Knight_2\": \"g8\",\n",
    "    \"Black_Bishop_1\": \"c8\",\n",
    "    \"Black_Bishop_2\": \"f8\",\n",
    "    \"Black_Queen_1\": \"d8\",\n",
    "    \"Black_King_1\": \"e8\",\n",
    "    \"Black_Pawn_1\": \"a7\",\n",
    "    \"Black_Pawn_2\": \"b7\",\n",
    "    \"Black_Pawn_3\": \"c7\",\n",
    "    \"Black_Pawn_4\": \"d7\",\n",
    "    \"Black_Pawn_5\": \"e7\",\n",
    "    \"Black_Pawn_6\": \"f7\",\n",
    "    \"Black_Pawn_7\": \"g7\",\n",
    "    \"Black_Pawn_8\": \"h7\",\n",
    "}\n",
    "\n",
    "df = pd.DataFrame([initial_positions])\n",
    "\n"
   ]
  },
  {
   "cell_type": "code",
   "execution_count": 1,
   "id": "337fda20-b975-4854-bbe5-5233edc719b6",
   "metadata": {
    "tags": []
   },
   "outputs": [
    {
     "ename": "NameError",
     "evalue": "name 'spark' is not defined",
     "output_type": "error",
     "traceback": [
      "\u001b[0;31m---------------------------------------------------------------------------\u001b[0m",
      "\u001b[0;31mNameError\u001b[0m                                 Traceback (most recent call last)",
      "Cell \u001b[0;32mIn[1], line 4\u001b[0m\n\u001b[1;32m      2\u001b[0m file_path_saved_games \u001b[38;5;241m=\u001b[39m \u001b[38;5;124m'\u001b[39m\u001b[38;5;124m/scratch/zrc3hc/combined_games.csv\u001b[39m\u001b[38;5;124m'\u001b[39m\n\u001b[1;32m      3\u001b[0m \u001b[38;5;66;03m#combined_games_df.write.csv(file_path, header=True, mode=\"overwrite\")\u001b[39;00m\n\u001b[0;32m----> 4\u001b[0m combined_games_df \u001b[38;5;241m=\u001b[39m \u001b[43mspark\u001b[49m\u001b[38;5;241m.\u001b[39mread\u001b[38;5;241m.\u001b[39mcsv(file_path_saved_games, header\u001b[38;5;241m=\u001b[39m\u001b[38;5;28;01mTrue\u001b[39;00m, inferSchema\u001b[38;5;241m=\u001b[39m\u001b[38;5;28;01mTrue\u001b[39;00m)\n",
      "\u001b[0;31mNameError\u001b[0m: name 'spark' is not defined"
     ]
    }
   ],
   "source": [
    "# upload combined games data...\n",
    "file_path_saved_games = '/scratch/zrc3hc/combined_games.csv'\n",
    "#combined_games_df.write.csv(file_path, header=True, mode=\"overwrite\")\n",
    "combined_games_df = spark.read.csv(file_path_saved_games, header=True, inferSchema=True)\n"
   ]
  },
  {
   "cell_type": "code",
   "execution_count": 4,
   "id": "5fd4c448-f804-4315-819b-f27417a52045",
   "metadata": {
    "tags": []
   },
   "outputs": [
    {
     "name": "stdout",
     "output_type": "stream",
     "text": [
      "+----+-------+---------+------+\n",
      "|Move|game_id|next_move|result|\n",
      "+----+-------+---------+------+\n",
      "|   0|     10|     e2e4|   1-0|\n",
      "|   1|     10|     e7e5|   1-0|\n",
      "|   2|     10|     g1f3|   1-0|\n",
      "|   3|     10|     g8f6|   1-0|\n",
      "|   4|     10|     d2d4|   1-0|\n",
      "|   5|     10|     f6e4|   1-0|\n",
      "|   6|     10|     d4e5|   1-0|\n",
      "|   7|     10|     f8c5|   1-0|\n",
      "|   8|     10|     f1c4|   1-0|\n",
      "|   9|     10|     c5f2|   1-0|\n",
      "+----+-------+---------+------+\n",
      "only showing top 10 rows\n",
      "\n"
     ]
    }
   ],
   "source": [
    "combined_games_df.filter(combined_games_df.game_id == 10).show(10)"
   ]
  },
  {
   "cell_type": "markdown",
   "id": "488f2512-867f-43ea-9800-58dc26d09e3b",
   "metadata": {},
   "source": [
    "# Run This"
   ]
  },
  {
   "cell_type": "code",
   "execution_count": 5,
   "id": "dde47ae7-8c9c-47f1-883c-e97364607682",
   "metadata": {
    "tags": []
   },
   "outputs": [],
   "source": [
    "schema = StructType([\n",
    "    StructField(\"Move\", IntegerType(), True),\n",
    "    StructField(\"White_Rook_1\", StringType(), True),\n",
    "    StructField(\"White_Rook_2\", StringType(), True),\n",
    "    StructField(\"White_Knight_1\", StringType(), True),\n",
    "    StructField(\"White_Knight_2\", StringType(), True),\n",
    "    StructField(\"White_Bishop_1\", StringType(), True),\n",
    "    StructField(\"White_Bishop_2\", StringType(), True),\n",
    "    StructField(\"White_Queen_1\", StringType(), True),\n",
    "    StructField(\"White_King_1\", StringType(), True),\n",
    "    StructField(\"White_Pawn_1\", StringType(), True),\n",
    "    StructField(\"White_Pawn_2\", StringType(), True),\n",
    "    StructField(\"White_Pawn_3\", StringType(), True),\n",
    "    StructField(\"White_Pawn_4\", StringType(), True),\n",
    "    StructField(\"White_Pawn_5\", StringType(), True),\n",
    "    StructField(\"White_Pawn_6\", StringType(), True),\n",
    "    StructField(\"White_Pawn_7\", StringType(), True),\n",
    "    StructField(\"White_Pawn_8\", StringType(), True),\n",
    "    StructField(\"Black_Rook_1\", StringType(), True),\n",
    "    StructField(\"Black_Rook_2\", StringType(), True),\n",
    "    StructField(\"Black_Knight_1\", StringType(), True),\n",
    "    StructField(\"Black_Knight_2\", StringType(), True),\n",
    "    StructField(\"Black_Bishop_1\", StringType(), True),\n",
    "    StructField(\"Black_Bishop_2\", StringType(), True),\n",
    "    StructField(\"Black_Queen_1\", StringType(), True),\n",
    "    StructField(\"Black_King_1\", StringType(), True),\n",
    "    StructField(\"Black_Pawn_1\", StringType(), True),\n",
    "    StructField(\"Black_Pawn_2\", StringType(), True),\n",
    "    StructField(\"Black_Pawn_3\", StringType(), True),\n",
    "    StructField(\"Black_Pawn_4\", StringType(), True),\n",
    "    StructField(\"Black_Pawn_5\", StringType(), True),\n",
    "    StructField(\"Black_Pawn_6\", StringType(), True),\n",
    "    StructField(\"Black_Pawn_7\", StringType(), True),\n",
    "    StructField(\"Black_Pawn_8\", StringType(), True),\n",
    "])"
   ]
  },
  {
   "cell_type": "code",
   "execution_count": 6,
   "id": "14823e05-8b77-4653-8795-0bdf436aec90",
   "metadata": {
    "tags": []
   },
   "outputs": [],
   "source": [
    "schema1 = StructType([\n",
    "    StructField(\"Move\", IntegerType(), True),\n",
    "    StructField(\"White_Rook_1\", StringType(), True),\n",
    "    StructField(\"White_Rook_2\", StringType(), True),\n",
    "    StructField(\"White_Knight_1\", StringType(), True),\n",
    "    StructField(\"White_Knight_2\", StringType(), True),\n",
    "    StructField(\"White_Bishop_1\", StringType(), True),\n",
    "    StructField(\"White_Bishop_2\", StringType(), True),\n",
    "    StructField(\"White_Queen_1\", StringType(), True),\n",
    "    StructField(\"White_King_1\", StringType(), True),\n",
    "    StructField(\"White_Pawn_1\", StringType(), True),\n",
    "    StructField(\"White_Pawn_2\", StringType(), True),\n",
    "    StructField(\"White_Pawn_3\", StringType(), True),\n",
    "    StructField(\"White_Pawn_4\", StringType(), True),\n",
    "    StructField(\"White_Pawn_5\", StringType(), True),\n",
    "    StructField(\"White_Pawn_6\", StringType(), True),\n",
    "    StructField(\"White_Pawn_7\", StringType(), True),\n",
    "    StructField(\"White_Pawn_8\", StringType(), True),\n",
    "    StructField(\"Black_Rook_1\", StringType(), True),\n",
    "    StructField(\"Black_Rook_2\", StringType(), True),\n",
    "    StructField(\"Black_Knight_1\", StringType(), True),\n",
    "    StructField(\"Black_Knight_2\", StringType(), True),\n",
    "    StructField(\"Black_Bishop_1\", StringType(), True),\n",
    "    StructField(\"Black_Bishop_2\", StringType(), True),\n",
    "    StructField(\"Black_Queen_1\", StringType(), True),\n",
    "    StructField(\"Black_King_1\", StringType(), True),\n",
    "    StructField(\"Black_Pawn_1\", StringType(), True),\n",
    "    StructField(\"Black_Pawn_2\", StringType(), True),\n",
    "    StructField(\"Black_Pawn_3\", StringType(), True),\n",
    "    StructField(\"Black_Pawn_4\", StringType(), True),\n",
    "    StructField(\"Black_Pawn_5\", StringType(), True),\n",
    "    StructField(\"Black_Pawn_6\", StringType(), True),\n",
    "    StructField(\"Black_Pawn_7\", StringType(), True),\n",
    "    StructField(\"Black_Pawn_8\", StringType(), True),\n",
    "    StructField(\"game_id\", StringType(), True),\n",
    "    StructField(\"next_move\", StringType(), True),\n",
    "    StructField(\"result\", IntegerType(), True),\n",
    "])"
   ]
  },
  {
   "cell_type": "code",
   "execution_count": 7,
   "id": "0272b1ba-8d64-43bb-83ab-ff6b667243e3",
   "metadata": {
    "tags": []
   },
   "outputs": [
    {
     "name": "stderr",
     "output_type": "stream",
     "text": [
      "                                                                                \r"
     ]
    },
    {
     "data": {
      "text/plain": [
       "1000"
      ]
     },
     "execution_count": 7,
     "metadata": {},
     "output_type": "execute_result"
    }
   ],
   "source": [
    "# Specify the game ids! \n",
    "game_ids = [row[\"game_id\"] for row in combined_games_df.select(\"game_id\").distinct().collect()[15000:16000]]\n",
    "len(game_ids)"
   ]
  },
  {
   "cell_type": "code",
   "execution_count": 8,
   "id": "82c20b64-cf04-4c02-8baa-77d47adbc3bb",
   "metadata": {},
   "outputs": [],
   "source": [
    "df = spark.createDataFrame(df, schema=schema)"
   ]
  },
  {
   "cell_type": "code",
   "execution_count": 9,
   "id": "5ae7fb42-ca17-4db1-9ffe-ad2acd7e3b1a",
   "metadata": {
    "tags": []
   },
   "outputs": [],
   "source": [
    "chess_squares = [\n",
    "    \"a1\", \"b1\", \"c1\", \"d1\", \"e1\", \"f1\", \"g1\", \"h1\",\n",
    "    \"a2\", \"b2\", \"c2\", \"d2\", \"e2\", \"f2\", \"g2\", \"h2\",\n",
    "    \"a3\", \"b3\", \"c3\", \"d3\", \"e3\", \"f3\", \"g3\", \"h3\",\n",
    "    \"a4\", \"b4\", \"c4\", \"d4\", \"e4\", \"f4\", \"g4\", \"h4\",\n",
    "    \"a5\", \"b5\", \"c5\", \"d5\", \"e5\", \"f5\", \"g5\", \"h5\",\n",
    "    \"a6\", \"b6\", \"c6\", \"d6\", \"e6\", \"f6\", \"g6\", \"h6\",\n",
    "    \"a7\", \"b7\", \"c7\", \"d7\", \"e7\", \"f7\", \"g7\", \"h7\",\n",
    "    \"a8\", \"b8\", \"c8\", \"d8\", \"e8\", \"f8\", \"g8\", \"h8\"\n",
    "]\n",
    "\n",
    "# Define the schema\n",
    "schema3 = StructType([\n",
    "    StructField(\"Move\", IntegerType(), True),\n",
    "    StructField(\"game_id\", IntegerType(), True),\n",
    "    StructField(\"next_move\", StringType(), True),\n",
    "    StructField(\"result\", StringType(), True),\n",
    "    *[\n",
    "        StructField(square, IntegerType(), True)  # Each chess square is an integer field\n",
    "        for square in chess_squares\n",
    "    ]\n",
    "])"
   ]
  },
  {
   "cell_type": "code",
   "execution_count": 10,
   "id": "e9458c73-0eda-414b-b3de-0f04197b6ea1",
   "metadata": {
    "tags": []
   },
   "outputs": [],
   "source": [
    "# This is a function for updating the pieces. \n",
    "\n",
    "def update_squares(row, piece, value, chess_squares):\n",
    "    for square in chess_squares:\n",
    "        if row[piece] == square:\n",
    "            row[square] = value\n",
    "    return row"
   ]
  },
  {
   "cell_type": "code",
   "execution_count": 61,
   "id": "0d6b7dfd-54b9-4398-939f-927a1462fe31",
   "metadata": {
    "tags": []
   },
   "outputs": [
    {
     "data": {
      "text/plain": [
       "99997"
      ]
     },
     "execution_count": 61,
     "metadata": {},
     "output_type": "execute_result"
    }
   ],
   "source": []
  },
  {
   "cell_type": "code",
   "execution_count": null,
   "id": "46402ad5-f1e8-46dc-95a2-6ff736ceec64",
   "metadata": {},
   "outputs": [
    {
     "name": "stdout",
     "output_type": "stream",
     "text": [
      "Processing Game ID: 13846, total moves: 54\n",
      "Processing Move: 0\n",
      "Processing Move: 15\n",
      "Processing Move: 30\n",
      "Processing Move: 45\n"
     ]
    },
    {
     "name": "stderr",
     "output_type": "stream",
     "text": [
      "24/11/30 08:34:39 WARN package: Truncated the string representation of a plan since it was too large. This behavior can be adjusted by setting 'spark.sql.debug.maxToStringFields'.\n",
      "24/11/30 08:34:49 WARN DAGScheduler: Broadcasting large task binary with size 1017.2 KiB\n"
     ]
    },
    {
     "name": "stdout",
     "output_type": "stream",
     "text": [
      "Saved Games Final Updated: 1 rows\n"
     ]
    },
    {
     "name": "stderr",
     "output_type": "stream",
     "text": [
      "24/11/30 08:35:04 WARN DAGScheduler: Broadcasting large task binary with size 1035.9 KiB\n"
     ]
    },
    {
     "name": "stdout",
     "output_type": "stream",
     "text": [
      "Saved Games Final Updated: 2 rows\n",
      "Processing Game ID: 13982, total moves: 34\n",
      "Processing Move: 0\n",
      "Processing Move: 15\n",
      "Processing Move: 30\n",
      "Saved Games Final Updated: 3 rows\n",
      "Processing Game ID: 14004, total moves: 114\n",
      "Processing Move: 0\n",
      "Processing Move: 15\n",
      "Processing Move: 30\n",
      "Processing Move: 45\n",
      "Processing Move: 60\n",
      "Processing Move: 75\n",
      "Processing Move: 90\n",
      "Processing Move: 105\n"
     ]
    },
    {
     "name": "stderr",
     "output_type": "stream",
     "text": [
      "24/11/30 08:37:18 WARN DAGScheduler: Broadcasting large task binary with size 2.0 MiB\n",
      "                                                                                \r"
     ]
    },
    {
     "name": "stdout",
     "output_type": "stream",
     "text": [
      "Saved Games Final Updated: 4 rows\n"
     ]
    },
    {
     "name": "stderr",
     "output_type": "stream",
     "text": [
      "24/11/30 08:38:23 WARN DAGScheduler: Broadcasting large task binary with size 2.1 MiB\n",
      "                                                                                \r"
     ]
    },
    {
     "name": "stdout",
     "output_type": "stream",
     "text": [
      "Saved Games Final Updated: 5 rows\n"
     ]
    },
    {
     "name": "stderr",
     "output_type": "stream",
     "text": [
      "24/11/30 08:39:31 WARN DAGScheduler: Broadcasting large task binary with size 2.1 MiB\n",
      "                                                                                \r"
     ]
    },
    {
     "name": "stdout",
     "output_type": "stream",
     "text": [
      "Saved Games Final Updated: 6 rows\n"
     ]
    },
    {
     "name": "stderr",
     "output_type": "stream",
     "text": [
      "24/11/30 08:40:40 WARN DAGScheduler: Broadcasting large task binary with size 2.1 MiB\n",
      "                                                                                \r"
     ]
    },
    {
     "name": "stdout",
     "output_type": "stream",
     "text": [
      "Saved Games Final Updated: 7 rows\n"
     ]
    },
    {
     "name": "stderr",
     "output_type": "stream",
     "text": [
      "24/11/30 08:41:51 WARN DAGScheduler: Broadcasting large task binary with size 2.1 MiB\n",
      "                                                                                \r"
     ]
    },
    {
     "name": "stdout",
     "output_type": "stream",
     "text": [
      "Saved Games Final Updated: 8 rows\n",
      "Processing Game ID: 14006, total moves: 97\n",
      "Processing Move: 0\n",
      "Processing Move: 15\n",
      "Processing Move: 30\n",
      "Processing Move: 45\n",
      "Processing Move: 60\n",
      "Processing Move: 75\n",
      "Processing Move: 90\n"
     ]
    },
    {
     "name": "stderr",
     "output_type": "stream",
     "text": [
      "24/11/30 08:43:18 WARN DAGScheduler: Broadcasting large task binary with size 1785.4 KiB\n",
      "                                                                                \r"
     ]
    },
    {
     "name": "stdout",
     "output_type": "stream",
     "text": [
      "Saved Games Final Updated: 9 rows\n"
     ]
    },
    {
     "name": "stderr",
     "output_type": "stream",
     "text": [
      "24/11/30 08:44:04 WARN DAGScheduler: Broadcasting large task binary with size 1804.2 KiB\n",
      "                                                                                \r"
     ]
    },
    {
     "name": "stdout",
     "output_type": "stream",
     "text": [
      "Saved Games Final Updated: 10 rows\n"
     ]
    },
    {
     "name": "stderr",
     "output_type": "stream",
     "text": [
      "24/11/30 08:44:53 WARN DAGScheduler: Broadcasting large task binary with size 1822.9 KiB\n",
      "                                                                                \r"
     ]
    },
    {
     "name": "stdout",
     "output_type": "stream",
     "text": [
      "Saved Games Final Updated: 11 rows\n"
     ]
    },
    {
     "name": "stderr",
     "output_type": "stream",
     "text": [
      "24/11/30 08:45:41 WARN DAGScheduler: Broadcasting large task binary with size 1841.7 KiB\n",
      "                                                                                \r"
     ]
    },
    {
     "name": "stdout",
     "output_type": "stream",
     "text": [
      "Saved Games Final Updated: 12 rows\n",
      "Processing Game ID: 14008, total moves: 82\n",
      "Processing Move: 0\n",
      "Processing Move: 15\n",
      "Processing Move: 30\n",
      "Processing Move: 45\n",
      "Processing Move: 60\n",
      "Processing Move: 75\n"
     ]
    },
    {
     "name": "stderr",
     "output_type": "stream",
     "text": [
      "24/11/30 08:46:45 WARN DAGScheduler: Broadcasting large task binary with size 1504.4 KiB\n",
      "                                                                                \r"
     ]
    },
    {
     "name": "stdout",
     "output_type": "stream",
     "text": [
      "Saved Games Final Updated: 13 rows\n"
     ]
    },
    {
     "name": "stderr",
     "output_type": "stream",
     "text": [
      "24/11/30 08:47:18 WARN DAGScheduler: Broadcasting large task binary with size 1523.1 KiB\n",
      "                                                                                \r"
     ]
    },
    {
     "name": "stdout",
     "output_type": "stream",
     "text": [
      "Saved Games Final Updated: 14 rows\n"
     ]
    },
    {
     "name": "stderr",
     "output_type": "stream",
     "text": [
      "24/11/30 08:47:53 WARN DAGScheduler: Broadcasting large task binary with size 1541.8 KiB\n",
      "                                                                                \r"
     ]
    },
    {
     "name": "stdout",
     "output_type": "stream",
     "text": [
      "Saved Games Final Updated: 15 rows\n"
     ]
    },
    {
     "name": "stderr",
     "output_type": "stream",
     "text": [
      "24/11/30 08:48:28 WARN DAGScheduler: Broadcasting large task binary with size 1560.6 KiB\n",
      "                                                                                \r"
     ]
    },
    {
     "name": "stdout",
     "output_type": "stream",
     "text": [
      "Saved Games Final Updated: 16 rows\n",
      "Processing Game ID: 14080, total moves: 57\n",
      "Processing Move: 0\n",
      "Processing Move: 15\n",
      "Processing Move: 30\n",
      "Processing Move: 45\n"
     ]
    },
    {
     "name": "stderr",
     "output_type": "stream",
     "text": [
      "24/11/30 08:49:03 WARN DAGScheduler: Broadcasting large task binary with size 1073.4 KiB\n"
     ]
    },
    {
     "name": "stdout",
     "output_type": "stream",
     "text": [
      "Saved Games Final Updated: 17 rows\n"
     ]
    },
    {
     "name": "stderr",
     "output_type": "stream",
     "text": [
      "24/11/30 08:49:21 WARN DAGScheduler: Broadcasting large task binary with size 1092.1 KiB\n"
     ]
    },
    {
     "name": "stdout",
     "output_type": "stream",
     "text": [
      "Saved Games Final Updated: 18 rows\n",
      "Processing Game ID: 14268, total moves: 60\n",
      "Processing Move: 0\n",
      "Processing Move: 15\n",
      "Processing Move: 30\n",
      "Processing Move: 45\n"
     ]
    },
    {
     "name": "stderr",
     "output_type": "stream",
     "text": [
      "24/11/30 08:49:58 WARN DAGScheduler: Broadcasting large task binary with size 1110.9 KiB\n"
     ]
    },
    {
     "name": "stdout",
     "output_type": "stream",
     "text": [
      "Saved Games Final Updated: 19 rows\n"
     ]
    },
    {
     "name": "stderr",
     "output_type": "stream",
     "text": [
      "24/11/30 08:50:16 WARN DAGScheduler: Broadcasting large task binary with size 1129.6 KiB\n"
     ]
    },
    {
     "name": "stdout",
     "output_type": "stream",
     "text": [
      "Saved Games Final Updated: 20 rows\n"
     ]
    },
    {
     "name": "stderr",
     "output_type": "stream",
     "text": [
      "24/11/30 08:50:35 WARN DAGScheduler: Broadcasting large task binary with size 1148.3 KiB\n"
     ]
    },
    {
     "name": "stdout",
     "output_type": "stream",
     "text": [
      "Saved Games Final Updated: 21 rows\n",
      "Processing Game ID: 14403, total moves: 45\n",
      "Processing Move: 0\n",
      "Processing Move: 15\n",
      "Processing Move: 30\n",
      "Saved Games Final Updated: 22 rows\n",
      "Saved Games Final Updated: 23 rows\n",
      "Processing Game ID: 14649, total moves: 48\n",
      "Processing Move: 0\n",
      "Processing Move: 15\n",
      "Processing Move: 30\n",
      "Processing Move: 45\n",
      "Saved Games Final Updated: 24 rows\n",
      "Saved Games Final Updated: 25 rows\n",
      "Processing Game ID: 14799, total moves: 56\n",
      "Processing Move: 0\n",
      "Processing Move: 15\n",
      "Processing Move: 30\n",
      "Processing Move: 45\n"
     ]
    },
    {
     "name": "stderr",
     "output_type": "stream",
     "text": [
      "24/11/30 08:52:23 WARN DAGScheduler: Broadcasting large task binary with size 1054.7 KiB\n"
     ]
    },
    {
     "name": "stdout",
     "output_type": "stream",
     "text": [
      "Saved Games Final Updated: 26 rows\n"
     ]
    },
    {
     "name": "stderr",
     "output_type": "stream",
     "text": [
      "24/11/30 08:52:40 WARN DAGScheduler: Broadcasting large task binary with size 1073.4 KiB\n"
     ]
    },
    {
     "name": "stdout",
     "output_type": "stream",
     "text": [
      "Saved Games Final Updated: 27 rows\n",
      "Processing Game ID: 14820, total moves: 58\n",
      "Processing Move: 0\n",
      "Processing Move: 15\n",
      "Processing Move: 30\n",
      "Processing Move: 45\n"
     ]
    },
    {
     "name": "stderr",
     "output_type": "stream",
     "text": [
      "24/11/30 08:53:15 WARN DAGScheduler: Broadcasting large task binary with size 1092.1 KiB\n"
     ]
    },
    {
     "name": "stdout",
     "output_type": "stream",
     "text": [
      "Saved Games Final Updated: 28 rows\n"
     ]
    },
    {
     "name": "stderr",
     "output_type": "stream",
     "text": [
      "24/11/30 08:53:33 WARN DAGScheduler: Broadcasting large task binary with size 1110.9 KiB\n"
     ]
    },
    {
     "name": "stdout",
     "output_type": "stream",
     "text": [
      "Saved Games Final Updated: 29 rows\n",
      "Processing Game ID: 14918, total moves: 50\n",
      "Processing Move: 0\n",
      "Processing Move: 15\n",
      "Processing Move: 30\n",
      "Processing Move: 45\n",
      "Saved Games Final Updated: 30 rows\n",
      "Saved Games Final Updated: 31 rows\n",
      "Processing Game ID: 15155, total moves: 24\n",
      "Processing Move: 0\n",
      "Processing Move: 15\n",
      "Saved Games Final Updated: 32 rows\n",
      "Processing Game ID: 15247, total moves: 48\n",
      "Processing Move: 0\n",
      "Processing Move: 15\n",
      "Processing Move: 30\n",
      "Processing Move: 45\n",
      "Saved Games Final Updated: 33 rows\n",
      "Saved Games Final Updated: 34 rows\n",
      "Processing Game ID: 15408, total moves: 100\n",
      "Processing Move: 0\n",
      "Processing Move: 15\n",
      "Processing Move: 30\n",
      "Processing Move: 45\n",
      "Processing Move: 60\n",
      "Processing Move: 75\n",
      "Processing Move: 90\n"
     ]
    },
    {
     "name": "stderr",
     "output_type": "stream",
     "text": [
      "24/11/30 08:56:33 WARN DAGScheduler: Broadcasting large task binary with size 1822.9 KiB\n",
      "                                                                                \r"
     ]
    },
    {
     "name": "stdout",
     "output_type": "stream",
     "text": [
      "Saved Games Final Updated: 35 rows\n"
     ]
    },
    {
     "name": "stderr",
     "output_type": "stream",
     "text": [
      "24/11/30 08:57:22 WARN DAGScheduler: Broadcasting large task binary with size 1841.7 KiB\n",
      "                                                                                \r"
     ]
    },
    {
     "name": "stdout",
     "output_type": "stream",
     "text": [
      "Saved Games Final Updated: 36 rows\n"
     ]
    },
    {
     "name": "stderr",
     "output_type": "stream",
     "text": [
      "24/11/30 08:58:13 WARN DAGScheduler: Broadcasting large task binary with size 1860.4 KiB\n",
      "                                                                                \r"
     ]
    },
    {
     "name": "stdout",
     "output_type": "stream",
     "text": [
      "Saved Games Final Updated: 37 rows\n"
     ]
    },
    {
     "name": "stderr",
     "output_type": "stream",
     "text": [
      "24/11/30 08:59:05 WARN DAGScheduler: Broadcasting large task binary with size 1879.1 KiB\n",
      "                                                                                \r"
     ]
    },
    {
     "name": "stdout",
     "output_type": "stream",
     "text": [
      "Saved Games Final Updated: 38 rows\n"
     ]
    },
    {
     "name": "stderr",
     "output_type": "stream",
     "text": [
      "24/11/30 08:59:58 WARN DAGScheduler: Broadcasting large task binary with size 1897.9 KiB\n",
      "                                                                                \r"
     ]
    },
    {
     "name": "stdout",
     "output_type": "stream",
     "text": [
      "Saved Games Final Updated: 39 rows\n",
      "Processing Game ID: 15675, total moves: 78\n",
      "Processing Move: 0\n",
      "Processing Move: 15\n",
      "Processing Move: 30\n",
      "Processing Move: 45\n",
      "Processing Move: 60\n"
     ]
    },
    {
     "name": "stderr",
     "output_type": "stream",
     "text": [
      "24/11/30 09:00:57 WARN DAGScheduler: Broadcasting large task binary with size 1448.2 KiB\n"
     ]
    },
    {
     "name": "stdout",
     "output_type": "stream",
     "text": [
      "Saved Games Final Updated: 40 rows\n",
      "Processing Move: 75\n"
     ]
    },
    {
     "name": "stderr",
     "output_type": "stream",
     "text": [
      "24/11/30 09:01:28 WARN DAGScheduler: Broadcasting large task binary with size 1466.9 KiB\n"
     ]
    },
    {
     "name": "stdout",
     "output_type": "stream",
     "text": [
      "Saved Games Final Updated: 41 rows\n"
     ]
    },
    {
     "name": "stderr",
     "output_type": "stream",
     "text": [
      "24/11/30 09:02:00 WARN DAGScheduler: Broadcasting large task binary with size 1485.6 KiB\n",
      "                                                                                \r"
     ]
    },
    {
     "name": "stdout",
     "output_type": "stream",
     "text": [
      "Saved Games Final Updated: 42 rows\n",
      "Processing Game ID: 15688, total moves: 46\n",
      "Processing Move: 0\n",
      "Processing Move: 15\n",
      "Processing Move: 30\n",
      "Saved Games Final Updated: 43 rows\n"
     ]
    },
    {
     "name": "stderr",
     "output_type": "stream",
     "text": [
      "                                                                                \r"
     ]
    },
    {
     "name": "stdout",
     "output_type": "stream",
     "text": [
      "Saved Games Final Updated: 44 rows\n",
      "Processing Game ID: 15754, total moves: 34\n",
      "Processing Move: 0\n",
      "Processing Move: 15\n",
      "Processing Move: 30\n",
      "Saved Games Final Updated: 45 rows\n",
      "Processing Game ID: 15797, total moves: 85\n",
      "Processing Move: 0\n",
      "Processing Move: 15\n",
      "Processing Move: 30\n",
      "Processing Move: 45\n",
      "Processing Move: 60\n",
      "Processing Move: 75\n"
     ]
    },
    {
     "name": "stderr",
     "output_type": "stream",
     "text": [
      "24/11/30 09:03:59 WARN DAGScheduler: Broadcasting large task binary with size 1560.6 KiB\n",
      "                                                                                \r"
     ]
    },
    {
     "name": "stdout",
     "output_type": "stream",
     "text": [
      "Saved Games Final Updated: 46 rows\n"
     ]
    },
    {
     "name": "stderr",
     "output_type": "stream",
     "text": [
      "24/11/30 09:04:35 WARN DAGScheduler: Broadcasting large task binary with size 1579.3 KiB\n",
      "                                                                                \r"
     ]
    },
    {
     "name": "stdout",
     "output_type": "stream",
     "text": [
      "Saved Games Final Updated: 47 rows\n"
     ]
    },
    {
     "name": "stderr",
     "output_type": "stream",
     "text": [
      "24/11/30 09:05:12 WARN DAGScheduler: Broadcasting large task binary with size 1598.1 KiB\n"
     ]
    },
    {
     "name": "stdout",
     "output_type": "stream",
     "text": [
      "Saved Games Final Updated: 48 rows\n"
     ]
    },
    {
     "name": "stderr",
     "output_type": "stream",
     "text": [
      "24/11/30 09:05:50 WARN DAGScheduler: Broadcasting large task binary with size 1616.8 KiB\n",
      "                                                                                \r"
     ]
    },
    {
     "name": "stdout",
     "output_type": "stream",
     "text": [
      "Saved Games Final Updated: 49 rows\n",
      "Processing Game ID: 15928, total moves: 64\n",
      "Processing Move: 0\n",
      "Processing Move: 15\n",
      "Processing Move: 30\n",
      "Processing Move: 45\n",
      "Processing Move: 60\n"
     ]
    },
    {
     "name": "stderr",
     "output_type": "stream",
     "text": [
      "24/11/30 09:06:31 WARN DAGScheduler: Broadcasting large task binary with size 1185.8 KiB\n"
     ]
    },
    {
     "name": "stdout",
     "output_type": "stream",
     "text": [
      "Saved Games Final Updated: 50 rows\n"
     ]
    },
    {
     "name": "stderr",
     "output_type": "stream",
     "text": [
      "24/11/30 09:06:52 WARN DAGScheduler: Broadcasting large task binary with size 1204.6 KiB\n"
     ]
    },
    {
     "name": "stdout",
     "output_type": "stream",
     "text": [
      "Saved Games Final Updated: 51 rows\n"
     ]
    },
    {
     "name": "stderr",
     "output_type": "stream",
     "text": [
      "24/11/30 09:07:14 WARN DAGScheduler: Broadcasting large task binary with size 1223.3 KiB\n"
     ]
    },
    {
     "name": "stdout",
     "output_type": "stream",
     "text": [
      "Saved Games Final Updated: 52 rows\n",
      "Processing Game ID: 15947, total moves: 79\n",
      "Processing Move: 0\n",
      "Processing Move: 15\n",
      "Processing Move: 30\n",
      "Processing Move: 45\n",
      "Processing Move: 60\n",
      "Processing Move: 75\n"
     ]
    },
    {
     "name": "stderr",
     "output_type": "stream",
     "text": [
      "24/11/30 09:08:14 WARN DAGScheduler: Broadcasting large task binary with size 1466.9 KiB\n",
      "                                                                                \r"
     ]
    },
    {
     "name": "stdout",
     "output_type": "stream",
     "text": [
      "Saved Games Final Updated: 53 rows\n"
     ]
    },
    {
     "name": "stderr",
     "output_type": "stream",
     "text": [
      "24/11/30 09:08:46 WARN DAGScheduler: Broadcasting large task binary with size 1485.6 KiB\n",
      "                                                                                \r"
     ]
    },
    {
     "name": "stdout",
     "output_type": "stream",
     "text": [
      "Saved Games Final Updated: 54 rows\n"
     ]
    },
    {
     "name": "stderr",
     "output_type": "stream",
     "text": [
      "24/11/30 09:09:18 WARN DAGScheduler: Broadcasting large task binary with size 1504.4 KiB\n",
      "                                                                                \r"
     ]
    },
    {
     "name": "stdout",
     "output_type": "stream",
     "text": [
      "Saved Games Final Updated: 55 rows\n",
      "Processing Game ID: 16014, total moves: 83\n",
      "Processing Move: 0\n",
      "Processing Move: 15\n",
      "Processing Move: 30\n",
      "Processing Move: 45\n",
      "Processing Move: 60\n",
      "Processing Move: 75\n"
     ]
    },
    {
     "name": "stderr",
     "output_type": "stream",
     "text": [
      "24/11/30 09:10:23 WARN DAGScheduler: Broadcasting large task binary with size 1523.1 KiB\n"
     ]
    },
    {
     "name": "stdout",
     "output_type": "stream",
     "text": [
      "Saved Games Final Updated: 56 rows\n"
     ]
    },
    {
     "name": "stderr",
     "output_type": "stream",
     "text": [
      "24/11/30 09:10:57 WARN DAGScheduler: Broadcasting large task binary with size 1541.8 KiB\n",
      "                                                                                \r"
     ]
    },
    {
     "name": "stdout",
     "output_type": "stream",
     "text": [
      "Saved Games Final Updated: 57 rows\n"
     ]
    },
    {
     "name": "stderr",
     "output_type": "stream",
     "text": [
      "24/11/30 09:11:32 WARN DAGScheduler: Broadcasting large task binary with size 1560.6 KiB\n",
      "                                                                                \r"
     ]
    },
    {
     "name": "stdout",
     "output_type": "stream",
     "text": [
      "Saved Games Final Updated: 58 rows\n"
     ]
    },
    {
     "name": "stderr",
     "output_type": "stream",
     "text": [
      "24/11/30 09:12:07 WARN DAGScheduler: Broadcasting large task binary with size 1579.3 KiB\n"
     ]
    },
    {
     "name": "stdout",
     "output_type": "stream",
     "text": [
      "Saved Games Final Updated: 59 rows\n",
      "Processing Game ID: 16135, total moves: 75\n",
      "Processing Move: 0\n",
      "Processing Move: 15\n",
      "Processing Move: 30\n",
      "Processing Move: 45\n",
      "Processing Move: 60\n"
     ]
    },
    {
     "name": "stderr",
     "output_type": "stream",
     "text": [
      "24/11/30 09:13:02 WARN DAGScheduler: Broadcasting large task binary with size 1391.9 KiB\n",
      "                                                                                \r"
     ]
    },
    {
     "name": "stdout",
     "output_type": "stream",
     "text": [
      "Saved Games Final Updated: 60 rows\n"
     ]
    },
    {
     "name": "stderr",
     "output_type": "stream",
     "text": [
      "24/11/30 09:13:30 WARN DAGScheduler: Broadcasting large task binary with size 1410.7 KiB\n"
     ]
    },
    {
     "name": "stdout",
     "output_type": "stream",
     "text": [
      "Saved Games Final Updated: 61 rows\n"
     ]
    },
    {
     "name": "stderr",
     "output_type": "stream",
     "text": [
      "24/11/30 09:13:59 WARN DAGScheduler: Broadcasting large task binary with size 1429.4 KiB\n"
     ]
    },
    {
     "name": "stdout",
     "output_type": "stream",
     "text": [
      "Saved Games Final Updated: 62 rows\n",
      "Processing Game ID: 16225, total moves: 104\n",
      "Processing Move: 0\n",
      "Processing Move: 15\n",
      "Processing Move: 30\n",
      "Processing Move: 45\n",
      "Processing Move: 60\n",
      "Processing Move: 75\n",
      "Processing Move: 90\n"
     ]
    },
    {
     "name": "stderr",
     "output_type": "stream",
     "text": [
      "24/11/30 09:15:36 WARN DAGScheduler: Broadcasting large task binary with size 1897.9 KiB\n",
      "                                                                                \r"
     ]
    },
    {
     "name": "stdout",
     "output_type": "stream",
     "text": [
      "Saved Games Final Updated: 63 rows\n"
     ]
    },
    {
     "name": "stderr",
     "output_type": "stream",
     "text": [
      "24/11/30 09:16:30 WARN DAGScheduler: Broadcasting large task binary with size 1916.6 KiB\n",
      "                                                                                \r"
     ]
    },
    {
     "name": "stdout",
     "output_type": "stream",
     "text": [
      "Saved Games Final Updated: 64 rows\n"
     ]
    },
    {
     "name": "stderr",
     "output_type": "stream",
     "text": [
      "24/11/30 09:17:24 WARN DAGScheduler: Broadcasting large task binary with size 1935.4 KiB\n",
      "                                                                                \r"
     ]
    },
    {
     "name": "stdout",
     "output_type": "stream",
     "text": [
      "Saved Games Final Updated: 65 rows\n"
     ]
    },
    {
     "name": "stderr",
     "output_type": "stream",
     "text": [
      "24/11/30 09:18:19 WARN DAGScheduler: Broadcasting large task binary with size 1954.1 KiB\n",
      "                                                                                \r"
     ]
    },
    {
     "name": "stdout",
     "output_type": "stream",
     "text": [
      "Saved Games Final Updated: 66 rows\n"
     ]
    },
    {
     "name": "stderr",
     "output_type": "stream",
     "text": [
      "24/11/30 09:19:16 WARN DAGScheduler: Broadcasting large task binary with size 1972.8 KiB\n",
      "                                                                                \r"
     ]
    },
    {
     "name": "stdout",
     "output_type": "stream",
     "text": [
      "Saved Games Final Updated: 67 rows\n",
      "Processing Game ID: 16482, total moves: 65\n",
      "Processing Move: 0\n",
      "Processing Move: 15\n",
      "Processing Move: 30\n",
      "Processing Move: 45\n",
      "Processing Move: 60\n"
     ]
    },
    {
     "name": "stderr",
     "output_type": "stream",
     "text": [
      "24/11/30 09:19:59 WARN DAGScheduler: Broadcasting large task binary with size 1204.6 KiB\n"
     ]
    },
    {
     "name": "stdout",
     "output_type": "stream",
     "text": [
      "Saved Games Final Updated: 68 rows\n"
     ]
    },
    {
     "name": "stderr",
     "output_type": "stream",
     "text": [
      "24/11/30 09:20:21 WARN DAGScheduler: Broadcasting large task binary with size 1223.3 KiB\n"
     ]
    },
    {
     "name": "stdout",
     "output_type": "stream",
     "text": [
      "Saved Games Final Updated: 69 rows\n"
     ]
    },
    {
     "name": "stderr",
     "output_type": "stream",
     "text": [
      "24/11/30 09:20:43 WARN DAGScheduler: Broadcasting large task binary with size 1242.0 KiB\n"
     ]
    },
    {
     "name": "stdout",
     "output_type": "stream",
     "text": [
      "Saved Games Final Updated: 70 rows\n",
      "Processing Game ID: 16541, total moves: 41\n",
      "Processing Move: 0\n",
      "Processing Move: 15\n",
      "Processing Move: 30\n",
      "Saved Games Final Updated: 71 rows\n",
      "Saved Games Final Updated: 72 rows\n",
      "Processing Game ID: 16719, total moves: 33\n",
      "Processing Move: 0\n",
      "Processing Move: 15\n",
      "Processing Move: 30\n",
      "Saved Games Final Updated: 73 rows\n",
      "Processing Game ID: 16842, total moves: 71\n",
      "Processing Move: 0\n",
      "Processing Move: 15\n",
      "Processing Move: 30\n",
      "Processing Move: 45\n",
      "Processing Move: 60\n"
     ]
    },
    {
     "name": "stderr",
     "output_type": "stream",
     "text": [
      "24/11/30 09:22:18 WARN DAGScheduler: Broadcasting large task binary with size 1317.0 KiB\n"
     ]
    },
    {
     "name": "stdout",
     "output_type": "stream",
     "text": [
      "Saved Games Final Updated: 74 rows\n"
     ]
    },
    {
     "name": "stderr",
     "output_type": "stream",
     "text": [
      "24/11/30 09:22:43 WARN DAGScheduler: Broadcasting large task binary with size 1335.7 KiB\n"
     ]
    },
    {
     "name": "stdout",
     "output_type": "stream",
     "text": [
      "Saved Games Final Updated: 75 rows\n"
     ]
    },
    {
     "name": "stderr",
     "output_type": "stream",
     "text": [
      "24/11/30 09:23:09 WARN DAGScheduler: Broadcasting large task binary with size 1354.5 KiB\n",
      "                                                                                \r"
     ]
    },
    {
     "name": "stdout",
     "output_type": "stream",
     "text": [
      "Saved Games Final Updated: 76 rows\n",
      "Processing Game ID: 16910, total moves: 120\n",
      "Processing Move: 0\n",
      "Processing Move: 15\n",
      "Processing Move: 30\n",
      "Processing Move: 45\n",
      "Processing Move: 60\n",
      "Processing Move: 75\n",
      "Processing Move: 90\n",
      "Processing Move: 105\n"
     ]
    },
    {
     "name": "stderr",
     "output_type": "stream",
     "text": [
      "24/11/30 09:25:16 WARN DAGScheduler: Broadcasting large task binary with size 2.1 MiB\n",
      "                                                                                \r"
     ]
    },
    {
     "name": "stdout",
     "output_type": "stream",
     "text": [
      "Saved Games Final Updated: 77 rows\n"
     ]
    },
    {
     "name": "stderr",
     "output_type": "stream",
     "text": [
      "24/11/30 09:26:26 WARN DAGScheduler: Broadcasting large task binary with size 2.1 MiB\n",
      "                                                                                \r"
     ]
    },
    {
     "name": "stdout",
     "output_type": "stream",
     "text": [
      "Saved Games Final Updated: 78 rows\n"
     ]
    },
    {
     "name": "stderr",
     "output_type": "stream",
     "text": [
      "24/11/30 09:27:39 WARN DAGScheduler: Broadcasting large task binary with size 2.2 MiB\n",
      "                                                                                \r"
     ]
    },
    {
     "name": "stdout",
     "output_type": "stream",
     "text": [
      "Saved Games Final Updated: 79 rows\n"
     ]
    },
    {
     "name": "stderr",
     "output_type": "stream",
     "text": [
      "24/11/30 09:28:52 WARN DAGScheduler: Broadcasting large task binary with size 2.2 MiB\n",
      "                                                                                \r"
     ]
    },
    {
     "name": "stdout",
     "output_type": "stream",
     "text": [
      "Saved Games Final Updated: 80 rows\n"
     ]
    },
    {
     "name": "stderr",
     "output_type": "stream",
     "text": [
      "24/11/30 09:30:11 WARN DAGScheduler: Broadcasting large task binary with size 2.2 MiB\n",
      "                                                                                \r"
     ]
    },
    {
     "name": "stdout",
     "output_type": "stream",
     "text": [
      "Saved Games Final Updated: 81 rows\n"
     ]
    },
    {
     "name": "stderr",
     "output_type": "stream",
     "text": [
      "24/11/30 09:31:26 WARN DAGScheduler: Broadcasting large task binary with size 2.2 MiB\n",
      "                                                                                \r"
     ]
    },
    {
     "name": "stdout",
     "output_type": "stream",
     "text": [
      "Saved Games Final Updated: 82 rows\n",
      "Processing Game ID: 17050, total moves: 53\n",
      "Processing Move: 0\n",
      "Processing Move: 15\n",
      "Processing Move: 30\n",
      "Processing Move: 45\n",
      "Saved Games Final Updated: 83 rows\n"
     ]
    },
    {
     "name": "stderr",
     "output_type": "stream",
     "text": [
      "24/11/30 09:32:11 WARN DAGScheduler: Broadcasting large task binary with size 1017.2 KiB\n"
     ]
    },
    {
     "name": "stdout",
     "output_type": "stream",
     "text": [
      "Saved Games Final Updated: 84 rows\n",
      "Processing Game ID: 17056, total moves: 59\n",
      "Processing Move: 0\n",
      "Processing Move: 15\n",
      "Processing Move: 30\n",
      "Processing Move: 45\n"
     ]
    },
    {
     "name": "stderr",
     "output_type": "stream",
     "text": [
      "24/11/30 09:32:49 WARN DAGScheduler: Broadcasting large task binary with size 1110.9 KiB\n"
     ]
    },
    {
     "name": "stdout",
     "output_type": "stream",
     "text": [
      "Saved Games Final Updated: 85 rows\n"
     ]
    },
    {
     "name": "stderr",
     "output_type": "stream",
     "text": [
      "24/11/30 09:33:07 WARN DAGScheduler: Broadcasting large task binary with size 1129.6 KiB\n"
     ]
    },
    {
     "name": "stdout",
     "output_type": "stream",
     "text": [
      "Saved Games Final Updated: 86 rows\n",
      "Processing Game ID: 17080, total moves: 113\n",
      "Processing Move: 0\n",
      "Processing Move: 15\n",
      "Processing Move: 30\n",
      "Processing Move: 45\n",
      "Processing Move: 60\n",
      "Processing Move: 75\n",
      "Processing Move: 90\n",
      "Processing Move: 105\n"
     ]
    },
    {
     "name": "stderr",
     "output_type": "stream",
     "text": [
      "24/11/30 09:35:02 WARN DAGScheduler: Broadcasting large task binary with size 2.0 MiB\n",
      "                                                                                \r"
     ]
    },
    {
     "name": "stdout",
     "output_type": "stream",
     "text": [
      "Saved Games Final Updated: 87 rows\n"
     ]
    },
    {
     "name": "stderr",
     "output_type": "stream",
     "text": [
      "24/11/30 09:36:04 WARN DAGScheduler: Broadcasting large task binary with size 2.0 MiB\n",
      "                                                                                \r"
     ]
    },
    {
     "name": "stdout",
     "output_type": "stream",
     "text": [
      "Saved Games Final Updated: 88 rows\n"
     ]
    },
    {
     "name": "stderr",
     "output_type": "stream",
     "text": [
      "24/11/30 09:37:09 WARN DAGScheduler: Broadcasting large task binary with size 2.1 MiB\n",
      "                                                                                \r"
     ]
    },
    {
     "name": "stdout",
     "output_type": "stream",
     "text": [
      "Saved Games Final Updated: 89 rows\n"
     ]
    },
    {
     "name": "stderr",
     "output_type": "stream",
     "text": [
      "24/11/30 09:38:15 WARN DAGScheduler: Broadcasting large task binary with size 2.1 MiB\n",
      "                                                                                \r"
     ]
    },
    {
     "name": "stdout",
     "output_type": "stream",
     "text": [
      "Saved Games Final Updated: 90 rows\n"
     ]
    },
    {
     "name": "stderr",
     "output_type": "stream",
     "text": [
      "24/11/30 09:39:21 WARN DAGScheduler: Broadcasting large task binary with size 2.1 MiB\n",
      "                                                                                \r"
     ]
    },
    {
     "name": "stdout",
     "output_type": "stream",
     "text": [
      "Saved Games Final Updated: 91 rows\n",
      "Processing Game ID: 17230, total moves: 33\n",
      "Processing Move: 0\n",
      "Processing Move: 15\n",
      "Processing Move: 30\n",
      "Saved Games Final Updated: 92 rows\n",
      "Processing Game ID: 17256, total moves: 84\n",
      "Processing Move: 0\n",
      "Processing Move: 15\n",
      "Processing Move: 30\n",
      "Processing Move: 45\n",
      "Processing Move: 60\n",
      "Processing Move: 75\n"
     ]
    },
    {
     "name": "stderr",
     "output_type": "stream",
     "text": [
      "24/11/30 09:40:41 WARN DAGScheduler: Broadcasting large task binary with size 1541.8 KiB\n"
     ]
    },
    {
     "name": "stdout",
     "output_type": "stream",
     "text": [
      "Saved Games Final Updated: 93 rows\n"
     ]
    },
    {
     "name": "stderr",
     "output_type": "stream",
     "text": [
      "24/11/30 09:41:16 WARN DAGScheduler: Broadcasting large task binary with size 1560.6 KiB\n"
     ]
    },
    {
     "name": "stdout",
     "output_type": "stream",
     "text": [
      "Saved Games Final Updated: 94 rows\n"
     ]
    },
    {
     "name": "stderr",
     "output_type": "stream",
     "text": [
      "24/11/30 09:41:52 WARN DAGScheduler: Broadcasting large task binary with size 1579.3 KiB\n"
     ]
    },
    {
     "name": "stdout",
     "output_type": "stream",
     "text": [
      "Saved Games Final Updated: 95 rows\n"
     ]
    },
    {
     "name": "stderr",
     "output_type": "stream",
     "text": [
      "24/11/30 09:42:29 WARN DAGScheduler: Broadcasting large task binary with size 1598.1 KiB\n",
      "                                                                                \r"
     ]
    },
    {
     "name": "stdout",
     "output_type": "stream",
     "text": [
      "Saved Games Final Updated: 96 rows\n",
      "Processing Game ID: 17306, total moves: 65\n",
      "Processing Move: 0\n",
      "Processing Move: 15\n",
      "Processing Move: 30\n",
      "Processing Move: 45\n",
      "Processing Move: 60\n"
     ]
    },
    {
     "name": "stderr",
     "output_type": "stream",
     "text": [
      "24/11/30 09:43:11 WARN DAGScheduler: Broadcasting large task binary with size 1204.6 KiB\n"
     ]
    },
    {
     "name": "stdout",
     "output_type": "stream",
     "text": [
      "Saved Games Final Updated: 97 rows\n"
     ]
    },
    {
     "name": "stderr",
     "output_type": "stream",
     "text": [
      "24/11/30 09:43:33 WARN DAGScheduler: Broadcasting large task binary with size 1223.3 KiB\n"
     ]
    },
    {
     "name": "stdout",
     "output_type": "stream",
     "text": [
      "Saved Games Final Updated: 98 rows\n"
     ]
    },
    {
     "name": "stderr",
     "output_type": "stream",
     "text": [
      "24/11/30 09:43:55 WARN DAGScheduler: Broadcasting large task binary with size 1242.0 KiB\n"
     ]
    },
    {
     "name": "stdout",
     "output_type": "stream",
     "text": [
      "Saved Games Final Updated: 99 rows\n",
      "Processing Game ID: 17348, total moves: 124\n",
      "Processing Move: 0\n",
      "Processing Move: 15\n",
      "Processing Move: 30\n",
      "Processing Move: 45\n",
      "Processing Move: 60\n",
      "Processing Move: 75\n",
      "Processing Move: 90\n",
      "Processing Move: 105\n"
     ]
    },
    {
     "name": "stderr",
     "output_type": "stream",
     "text": [
      "24/11/30 09:46:09 WARN DAGScheduler: Broadcasting large task binary with size 2.2 MiB\n",
      "                                                                                \r"
     ]
    },
    {
     "name": "stdout",
     "output_type": "stream",
     "text": [
      "Saved Games Final Updated: 100 rows\n"
     ]
    },
    {
     "name": "stderr",
     "output_type": "stream",
     "text": [
      "24/11/30 09:47:26 WARN DAGScheduler: Broadcasting large task binary with size 2.2 MiB\n",
      "                                                                                \r"
     ]
    },
    {
     "name": "stdout",
     "output_type": "stream",
     "text": [
      "Saved Games Final Updated: 101 rows\n"
     ]
    },
    {
     "name": "stderr",
     "output_type": "stream",
     "text": [
      "24/11/30 09:48:42 WARN DAGScheduler: Broadcasting large task binary with size 2.2 MiB\n",
      "                                                                                \r"
     ]
    },
    {
     "name": "stdout",
     "output_type": "stream",
     "text": [
      "Saved Games Final Updated: 102 rows\n",
      "Processing Move: 120\n"
     ]
    },
    {
     "name": "stderr",
     "output_type": "stream",
     "text": [
      "24/11/30 09:50:02 WARN DAGScheduler: Broadcasting large task binary with size 2.3 MiB\n",
      "                                                                                \r"
     ]
    },
    {
     "name": "stdout",
     "output_type": "stream",
     "text": [
      "Saved Games Final Updated: 103 rows\n"
     ]
    },
    {
     "name": "stderr",
     "output_type": "stream",
     "text": [
      "24/11/30 09:51:23 WARN DAGScheduler: Broadcasting large task binary with size 2.3 MiB\n",
      "                                                                                \r"
     ]
    },
    {
     "name": "stdout",
     "output_type": "stream",
     "text": [
      "Saved Games Final Updated: 104 rows\n"
     ]
    },
    {
     "name": "stderr",
     "output_type": "stream",
     "text": [
      "24/11/30 09:52:44 WARN DAGScheduler: Broadcasting large task binary with size 2.3 MiB\n",
      "                                                                                \r"
     ]
    },
    {
     "name": "stdout",
     "output_type": "stream",
     "text": [
      "Saved Games Final Updated: 105 rows\n",
      "Processing Game ID: 17362, total moves: 45\n",
      "Processing Move: 0\n",
      "Processing Move: 15\n",
      "Processing Move: 30\n",
      "Saved Games Final Updated: 106 rows\n",
      "Saved Games Final Updated: 107 rows\n",
      "Processing Game ID: 11913, total moves: 75\n",
      "Processing Move: 0\n",
      "Processing Move: 15\n",
      "Processing Move: 30\n",
      "Processing Move: 45\n",
      "Processing Move: 60\n"
     ]
    },
    {
     "name": "stderr",
     "output_type": "stream",
     "text": [
      "24/11/30 09:54:13 WARN DAGScheduler: Broadcasting large task binary with size 1391.9 KiB\n",
      "                                                                                \r"
     ]
    },
    {
     "name": "stdout",
     "output_type": "stream",
     "text": [
      "Saved Games Final Updated: 108 rows\n"
     ]
    },
    {
     "name": "stderr",
     "output_type": "stream",
     "text": [
      "24/11/30 09:54:41 WARN DAGScheduler: Broadcasting large task binary with size 1410.7 KiB\n"
     ]
    },
    {
     "name": "stdout",
     "output_type": "stream",
     "text": [
      "Saved Games Final Updated: 109 rows\n"
     ]
    },
    {
     "name": "stderr",
     "output_type": "stream",
     "text": [
      "24/11/30 09:55:10 WARN DAGScheduler: Broadcasting large task binary with size 1429.4 KiB\n"
     ]
    },
    {
     "name": "stdout",
     "output_type": "stream",
     "text": [
      "Saved Games Final Updated: 110 rows\n",
      "Processing Game ID: 11979, total moves: 85\n",
      "Processing Move: 0\n",
      "Processing Move: 15\n",
      "Processing Move: 30\n",
      "Processing Move: 45\n",
      "Processing Move: 60\n",
      "Processing Move: 75\n"
     ]
    },
    {
     "name": "stderr",
     "output_type": "stream",
     "text": [
      "24/11/30 09:56:18 WARN DAGScheduler: Broadcasting large task binary with size 1560.6 KiB\n"
     ]
    },
    {
     "name": "stdout",
     "output_type": "stream",
     "text": [
      "Saved Games Final Updated: 111 rows\n"
     ]
    },
    {
     "name": "stderr",
     "output_type": "stream",
     "text": [
      "24/11/30 09:56:53 WARN DAGScheduler: Broadcasting large task binary with size 1579.3 KiB\n",
      "                                                                                \r"
     ]
    },
    {
     "name": "stdout",
     "output_type": "stream",
     "text": [
      "Saved Games Final Updated: 112 rows\n"
     ]
    },
    {
     "name": "stderr",
     "output_type": "stream",
     "text": [
      "24/11/30 09:57:30 WARN DAGScheduler: Broadcasting large task binary with size 1598.1 KiB\n",
      "                                                                                \r"
     ]
    },
    {
     "name": "stdout",
     "output_type": "stream",
     "text": [
      "Saved Games Final Updated: 113 rows\n"
     ]
    },
    {
     "name": "stderr",
     "output_type": "stream",
     "text": [
      "24/11/30 09:58:08 WARN DAGScheduler: Broadcasting large task binary with size 1616.8 KiB\n",
      "                                                                                \r"
     ]
    },
    {
     "name": "stdout",
     "output_type": "stream",
     "text": [
      "Saved Games Final Updated: 114 rows\n",
      "Processing Game ID: 12012, total moves: 90\n",
      "Processing Move: 0\n",
      "Processing Move: 15\n",
      "Processing Move: 30\n",
      "Processing Move: 45\n",
      "Processing Move: 60\n",
      "Processing Move: 75\n"
     ]
    },
    {
     "name": "stderr",
     "output_type": "stream",
     "text": [
      "24/11/30 09:59:22 WARN DAGScheduler: Broadcasting large task binary with size 1654.3 KiB\n",
      "                                                                                \r"
     ]
    },
    {
     "name": "stdout",
     "output_type": "stream",
     "text": [
      "Saved Games Final Updated: 115 rows\n"
     ]
    },
    {
     "name": "stderr",
     "output_type": "stream",
     "text": [
      "24/11/30 10:00:02 WARN DAGScheduler: Broadcasting large task binary with size 1673.0 KiB\n",
      "                                                                                \r"
     ]
    },
    {
     "name": "stdout",
     "output_type": "stream",
     "text": [
      "Saved Games Final Updated: 116 rows\n"
     ]
    },
    {
     "name": "stderr",
     "output_type": "stream",
     "text": [
      "24/11/30 10:00:44 WARN DAGScheduler: Broadcasting large task binary with size 1691.8 KiB\n"
     ]
    },
    {
     "name": "stdout",
     "output_type": "stream",
     "text": [
      "Saved Games Final Updated: 117 rows\n"
     ]
    },
    {
     "name": "stderr",
     "output_type": "stream",
     "text": [
      "24/11/30 10:01:27 WARN DAGScheduler: Broadcasting large task binary with size 1710.5 KiB\n",
      "                                                                                \r"
     ]
    },
    {
     "name": "stdout",
     "output_type": "stream",
     "text": [
      "Saved Games Final Updated: 118 rows\n",
      "Processing Game ID: 12374, total moves: 85\n",
      "Processing Move: 0\n",
      "Processing Move: 15\n",
      "Processing Move: 30\n",
      "Processing Move: 45\n",
      "Processing Move: 60\n",
      "Processing Move: 75\n"
     ]
    },
    {
     "name": "stderr",
     "output_type": "stream",
     "text": [
      "24/11/30 10:02:35 WARN DAGScheduler: Broadcasting large task binary with size 1560.6 KiB\n"
     ]
    },
    {
     "name": "stdout",
     "output_type": "stream",
     "text": [
      "Saved Games Final Updated: 119 rows\n"
     ]
    },
    {
     "name": "stderr",
     "output_type": "stream",
     "text": [
      "24/11/30 10:03:10 WARN DAGScheduler: Broadcasting large task binary with size 1579.3 KiB\n",
      "                                                                                \r"
     ]
    },
    {
     "name": "stdout",
     "output_type": "stream",
     "text": [
      "Saved Games Final Updated: 120 rows\n"
     ]
    },
    {
     "name": "stderr",
     "output_type": "stream",
     "text": [
      "24/11/30 10:03:47 WARN DAGScheduler: Broadcasting large task binary with size 1598.1 KiB\n",
      "                                                                                \r"
     ]
    },
    {
     "name": "stdout",
     "output_type": "stream",
     "text": [
      "Saved Games Final Updated: 121 rows\n"
     ]
    },
    {
     "name": "stderr",
     "output_type": "stream",
     "text": [
      "24/11/30 10:04:24 WARN DAGScheduler: Broadcasting large task binary with size 1616.8 KiB\n",
      "                                                                                \r"
     ]
    },
    {
     "name": "stdout",
     "output_type": "stream",
     "text": [
      "Saved Games Final Updated: 122 rows\n",
      "Processing Game ID: 12427, total moves: 123\n",
      "Processing Move: 0\n",
      "Processing Move: 15\n",
      "Processing Move: 30\n",
      "Processing Move: 45\n",
      "Processing Move: 60\n",
      "Processing Move: 75\n",
      "Processing Move: 90\n",
      "Processing Move: 105\n"
     ]
    },
    {
     "name": "stderr",
     "output_type": "stream",
     "text": [
      "24/11/30 10:06:36 WARN DAGScheduler: Broadcasting large task binary with size 2.2 MiB\n",
      "                                                                                \r"
     ]
    },
    {
     "name": "stdout",
     "output_type": "stream",
     "text": [
      "Saved Games Final Updated: 123 rows\n"
     ]
    },
    {
     "name": "stderr",
     "output_type": "stream",
     "text": [
      "24/11/30 10:07:51 WARN DAGScheduler: Broadcasting large task binary with size 2.2 MiB\n",
      "                                                                                \r"
     ]
    },
    {
     "name": "stdout",
     "output_type": "stream",
     "text": [
      "Saved Games Final Updated: 124 rows\n"
     ]
    },
    {
     "name": "stderr",
     "output_type": "stream",
     "text": [
      "24/11/30 10:09:08 WARN DAGScheduler: Broadcasting large task binary with size 2.2 MiB\n",
      "                                                                                \r"
     ]
    },
    {
     "name": "stdout",
     "output_type": "stream",
     "text": [
      "Saved Games Final Updated: 125 rows\n"
     ]
    },
    {
     "name": "stderr",
     "output_type": "stream",
     "text": [
      "24/11/30 10:10:25 WARN DAGScheduler: Broadcasting large task binary with size 2.2 MiB\n",
      "                                                                                \r"
     ]
    },
    {
     "name": "stdout",
     "output_type": "stream",
     "text": [
      "Saved Games Final Updated: 126 rows\n",
      "Processing Move: 120\n"
     ]
    },
    {
     "name": "stderr",
     "output_type": "stream",
     "text": [
      "24/11/30 10:11:45 WARN DAGScheduler: Broadcasting large task binary with size 2.3 MiB\n",
      "                                                                                \r"
     ]
    },
    {
     "name": "stdout",
     "output_type": "stream",
     "text": [
      "Saved Games Final Updated: 127 rows\n"
     ]
    },
    {
     "name": "stderr",
     "output_type": "stream",
     "text": [
      "24/11/30 10:13:08 WARN DAGScheduler: Broadcasting large task binary with size 2.3 MiB\n",
      "                                                                                \r"
     ]
    },
    {
     "name": "stdout",
     "output_type": "stream",
     "text": [
      "Saved Games Final Updated: 128 rows\n",
      "Processing Game ID: 12501, total moves: 59\n",
      "Processing Move: 0\n",
      "Processing Move: 15\n",
      "Processing Move: 30\n",
      "Processing Move: 45\n"
     ]
    },
    {
     "name": "stderr",
     "output_type": "stream",
     "text": [
      "24/11/30 10:13:45 WARN DAGScheduler: Broadcasting large task binary with size 1110.9 KiB\n"
     ]
    },
    {
     "name": "stdout",
     "output_type": "stream",
     "text": [
      "Saved Games Final Updated: 129 rows\n"
     ]
    },
    {
     "name": "stderr",
     "output_type": "stream",
     "text": [
      "24/11/30 10:14:03 WARN DAGScheduler: Broadcasting large task binary with size 1129.6 KiB\n"
     ]
    },
    {
     "name": "stdout",
     "output_type": "stream",
     "text": [
      "Saved Games Final Updated: 130 rows\n",
      "Processing Game ID: 12567, total moves: 51\n",
      "Processing Move: 0\n",
      "Processing Move: 15\n",
      "Processing Move: 30\n",
      "Processing Move: 45\n",
      "Saved Games Final Updated: 131 rows\n",
      "Saved Games Final Updated: 132 rows\n",
      "Processing Game ID: 12623, total moves: 44\n",
      "Processing Move: 0\n",
      "Processing Move: 15\n",
      "Processing Move: 30\n",
      "Saved Games Final Updated: 133 rows\n",
      "Saved Games Final Updated: 134 rows\n",
      "Processing Game ID: 12650, total moves: 92\n",
      "Processing Move: 0\n",
      "Processing Move: 15\n",
      "Processing Move: 30\n",
      "Processing Move: 45\n",
      "Processing Move: 60\n",
      "Processing Move: 75\n"
     ]
    },
    {
     "name": "stderr",
     "output_type": "stream",
     "text": [
      "24/11/30 10:16:37 WARN DAGScheduler: Broadcasting large task binary with size 1691.8 KiB\n",
      "                                                                                \r"
     ]
    },
    {
     "name": "stdout",
     "output_type": "stream",
     "text": [
      "Saved Games Final Updated: 135 rows\n"
     ]
    },
    {
     "name": "stderr",
     "output_type": "stream",
     "text": [
      "24/11/30 10:17:18 WARN DAGScheduler: Broadcasting large task binary with size 1710.5 KiB\n",
      "                                                                                \r"
     ]
    },
    {
     "name": "stdout",
     "output_type": "stream",
     "text": [
      "Saved Games Final Updated: 136 rows\n"
     ]
    },
    {
     "name": "stderr",
     "output_type": "stream",
     "text": [
      "24/11/30 10:18:01 WARN DAGScheduler: Broadcasting large task binary with size 1729.2 KiB\n",
      "                                                                                \r"
     ]
    },
    {
     "name": "stdout",
     "output_type": "stream",
     "text": [
      "Saved Games Final Updated: 137 rows\n",
      "Processing Move: 90\n"
     ]
    },
    {
     "name": "stderr",
     "output_type": "stream",
     "text": [
      "24/11/30 10:18:45 WARN DAGScheduler: Broadcasting large task binary with size 1748.0 KiB\n",
      "                                                                                \r"
     ]
    },
    {
     "name": "stdout",
     "output_type": "stream",
     "text": [
      "Saved Games Final Updated: 138 rows\n",
      "Processing Game ID: 12721, total moves: 92\n",
      "Processing Move: 0\n",
      "Processing Move: 15\n",
      "Processing Move: 30\n",
      "Processing Move: 45\n",
      "Processing Move: 60\n",
      "Processing Move: 75\n"
     ]
    },
    {
     "name": "stderr",
     "output_type": "stream",
     "text": [
      "24/11/30 10:20:05 WARN DAGScheduler: Broadcasting large task binary with size 1691.8 KiB\n",
      "                                                                                \r"
     ]
    },
    {
     "name": "stdout",
     "output_type": "stream",
     "text": [
      "Saved Games Final Updated: 139 rows\n"
     ]
    },
    {
     "name": "stderr",
     "output_type": "stream",
     "text": [
      "24/11/30 10:20:48 WARN DAGScheduler: Broadcasting large task binary with size 1710.5 KiB\n",
      "                                                                                \r"
     ]
    },
    {
     "name": "stdout",
     "output_type": "stream",
     "text": [
      "Saved Games Final Updated: 140 rows\n"
     ]
    },
    {
     "name": "stderr",
     "output_type": "stream",
     "text": [
      "24/11/30 10:21:31 WARN DAGScheduler: Broadcasting large task binary with size 1729.2 KiB\n",
      "                                                                                \r"
     ]
    },
    {
     "name": "stdout",
     "output_type": "stream",
     "text": [
      "Saved Games Final Updated: 141 rows\n",
      "Processing Move: 90\n"
     ]
    },
    {
     "name": "stderr",
     "output_type": "stream",
     "text": [
      "24/11/30 10:22:15 WARN DAGScheduler: Broadcasting large task binary with size 1748.0 KiB\n",
      "                                                                                \r"
     ]
    },
    {
     "name": "stdout",
     "output_type": "stream",
     "text": [
      "Saved Games Final Updated: 142 rows\n",
      "Processing Game ID: 12729, total moves: 83\n",
      "Processing Move: 0\n",
      "Processing Move: 15\n",
      "Processing Move: 30\n",
      "Processing Move: 45\n",
      "Processing Move: 60\n",
      "Processing Move: 75\n"
     ]
    },
    {
     "name": "stderr",
     "output_type": "stream",
     "text": [
      "24/11/30 10:23:19 WARN DAGScheduler: Broadcasting large task binary with size 1523.1 KiB\n",
      "                                                                                \r"
     ]
    },
    {
     "name": "stdout",
     "output_type": "stream",
     "text": [
      "Saved Games Final Updated: 143 rows\n"
     ]
    },
    {
     "name": "stderr",
     "output_type": "stream",
     "text": [
      "24/11/30 10:23:54 WARN DAGScheduler: Broadcasting large task binary with size 1541.8 KiB\n",
      "                                                                                \r"
     ]
    },
    {
     "name": "stdout",
     "output_type": "stream",
     "text": [
      "Saved Games Final Updated: 144 rows\n"
     ]
    },
    {
     "name": "stderr",
     "output_type": "stream",
     "text": [
      "24/11/30 10:24:29 WARN DAGScheduler: Broadcasting large task binary with size 1560.6 KiB\n",
      "                                                                                \r"
     ]
    },
    {
     "name": "stdout",
     "output_type": "stream",
     "text": [
      "Saved Games Final Updated: 145 rows\n"
     ]
    },
    {
     "name": "stderr",
     "output_type": "stream",
     "text": [
      "24/11/30 10:25:05 WARN DAGScheduler: Broadcasting large task binary with size 1579.3 KiB\n",
      "                                                                                \r"
     ]
    },
    {
     "name": "stdout",
     "output_type": "stream",
     "text": [
      "Saved Games Final Updated: 146 rows\n",
      "Processing Game ID: 12737, total moves: 59\n",
      "Processing Move: 0\n",
      "Processing Move: 15\n",
      "Processing Move: 30\n",
      "Processing Move: 45\n"
     ]
    },
    {
     "name": "stderr",
     "output_type": "stream",
     "text": [
      "24/11/30 10:25:42 WARN DAGScheduler: Broadcasting large task binary with size 1110.9 KiB\n"
     ]
    },
    {
     "name": "stdout",
     "output_type": "stream",
     "text": [
      "Saved Games Final Updated: 147 rows\n"
     ]
    },
    {
     "name": "stderr",
     "output_type": "stream",
     "text": [
      "24/11/30 10:26:01 WARN DAGScheduler: Broadcasting large task binary with size 1129.6 KiB\n"
     ]
    },
    {
     "name": "stdout",
     "output_type": "stream",
     "text": [
      "Saved Games Final Updated: 148 rows\n",
      "Processing Game ID: 12804, total moves: 66\n",
      "Processing Move: 0\n",
      "Processing Move: 15\n",
      "Processing Move: 30\n",
      "Processing Move: 45\n",
      "Processing Move: 60\n"
     ]
    },
    {
     "name": "stderr",
     "output_type": "stream",
     "text": [
      "24/11/30 10:26:44 WARN DAGScheduler: Broadcasting large task binary with size 1223.3 KiB\n"
     ]
    },
    {
     "name": "stdout",
     "output_type": "stream",
     "text": [
      "Saved Games Final Updated: 149 rows\n"
     ]
    },
    {
     "name": "stderr",
     "output_type": "stream",
     "text": [
      "24/11/30 10:27:06 WARN DAGScheduler: Broadcasting large task binary with size 1242.0 KiB\n"
     ]
    },
    {
     "name": "stdout",
     "output_type": "stream",
     "text": [
      "Saved Games Final Updated: 150 rows\n"
     ]
    },
    {
     "name": "stderr",
     "output_type": "stream",
     "text": [
      "24/11/30 10:27:29 WARN DAGScheduler: Broadcasting large task binary with size 1260.8 KiB\n"
     ]
    },
    {
     "name": "stdout",
     "output_type": "stream",
     "text": [
      "Saved Games Final Updated: 151 rows\n",
      "Processing Game ID: 12821, total moves: 117\n",
      "Processing Move: 0\n",
      "Processing Move: 15\n",
      "Processing Move: 30\n",
      "Processing Move: 45\n",
      "Processing Move: 60\n",
      "Processing Move: 75\n",
      "Processing Move: 90\n",
      "Processing Move: 105\n"
     ]
    },
    {
     "name": "stderr",
     "output_type": "stream",
     "text": [
      "24/11/30 10:29:31 WARN DAGScheduler: Broadcasting large task binary with size 2.1 MiB\n",
      "                                                                                \r"
     ]
    },
    {
     "name": "stdout",
     "output_type": "stream",
     "text": [
      "Saved Games Final Updated: 152 rows\n"
     ]
    },
    {
     "name": "stderr",
     "output_type": "stream",
     "text": [
      "24/11/30 10:30:40 WARN DAGScheduler: Broadcasting large task binary with size 2.1 MiB\n",
      "                                                                                \r"
     ]
    },
    {
     "name": "stdout",
     "output_type": "stream",
     "text": [
      "Saved Games Final Updated: 153 rows\n"
     ]
    },
    {
     "name": "stderr",
     "output_type": "stream",
     "text": [
      "24/11/30 10:31:49 WARN DAGScheduler: Broadcasting large task binary with size 2.1 MiB\n",
      "                                                                                \r"
     ]
    },
    {
     "name": "stdout",
     "output_type": "stream",
     "text": [
      "Saved Games Final Updated: 154 rows\n"
     ]
    },
    {
     "name": "stderr",
     "output_type": "stream",
     "text": [
      "24/11/30 10:33:00 WARN DAGScheduler: Broadcasting large task binary with size 2.1 MiB\n",
      "                                                                                \r"
     ]
    },
    {
     "name": "stdout",
     "output_type": "stream",
     "text": [
      "Saved Games Final Updated: 155 rows\n"
     ]
    },
    {
     "name": "stderr",
     "output_type": "stream",
     "text": [
      "24/11/30 10:34:11 WARN DAGScheduler: Broadcasting large task binary with size 2.2 MiB\n",
      "                                                                                \r"
     ]
    },
    {
     "name": "stdout",
     "output_type": "stream",
     "text": [
      "Saved Games Final Updated: 156 rows\n",
      "Processing Game ID: 13094, total moves: 72\n",
      "Processing Move: 0\n",
      "Processing Move: 15\n",
      "Processing Move: 30\n",
      "Processing Move: 45\n",
      "Processing Move: 60\n"
     ]
    },
    {
     "name": "stderr",
     "output_type": "stream",
     "text": [
      "24/11/30 10:35:02 WARN DAGScheduler: Broadcasting large task binary with size 1335.7 KiB\n"
     ]
    },
    {
     "name": "stdout",
     "output_type": "stream",
     "text": [
      "Saved Games Final Updated: 157 rows\n"
     ]
    },
    {
     "name": "stderr",
     "output_type": "stream",
     "text": [
      "24/11/30 10:35:28 WARN DAGScheduler: Broadcasting large task binary with size 1354.5 KiB\n"
     ]
    },
    {
     "name": "stdout",
     "output_type": "stream",
     "text": [
      "Saved Games Final Updated: 158 rows\n"
     ]
    },
    {
     "name": "stderr",
     "output_type": "stream",
     "text": [
      "24/11/30 10:35:55 WARN DAGScheduler: Broadcasting large task binary with size 1373.2 KiB\n"
     ]
    },
    {
     "name": "stdout",
     "output_type": "stream",
     "text": [
      "Saved Games Final Updated: 159 rows\n",
      "Processing Game ID: 13209, total moves: 96\n",
      "Processing Move: 0\n",
      "Processing Move: 15\n",
      "Processing Move: 30\n",
      "Processing Move: 45\n",
      "Processing Move: 60\n",
      "Processing Move: 75\n",
      "Processing Move: 90\n"
     ]
    },
    {
     "name": "stderr",
     "output_type": "stream",
     "text": [
      "24/11/30 10:37:19 WARN DAGScheduler: Broadcasting large task binary with size 1766.7 KiB\n",
      "                                                                                \r"
     ]
    },
    {
     "name": "stdout",
     "output_type": "stream",
     "text": [
      "Saved Games Final Updated: 160 rows\n"
     ]
    },
    {
     "name": "stderr",
     "output_type": "stream",
     "text": [
      "24/11/30 10:38:06 WARN DAGScheduler: Broadcasting large task binary with size 1785.4 KiB\n",
      "                                                                                \r"
     ]
    },
    {
     "name": "stdout",
     "output_type": "stream",
     "text": [
      "Saved Games Final Updated: 161 rows\n"
     ]
    },
    {
     "name": "stderr",
     "output_type": "stream",
     "text": [
      "24/11/30 10:38:53 WARN DAGScheduler: Broadcasting large task binary with size 1804.2 KiB\n",
      "                                                                                \r"
     ]
    },
    {
     "name": "stdout",
     "output_type": "stream",
     "text": [
      "Saved Games Final Updated: 162 rows\n"
     ]
    },
    {
     "name": "stderr",
     "output_type": "stream",
     "text": [
      "24/11/30 10:39:42 WARN DAGScheduler: Broadcasting large task binary with size 1822.9 KiB\n",
      "                                                                                \r"
     ]
    },
    {
     "name": "stdout",
     "output_type": "stream",
     "text": [
      "Saved Games Final Updated: 163 rows\n",
      "Processing Game ID: 13215, total moves: 64\n",
      "Processing Move: 0\n",
      "Processing Move: 15\n",
      "Processing Move: 30\n",
      "Processing Move: 45\n",
      "Processing Move: 60\n"
     ]
    },
    {
     "name": "stderr",
     "output_type": "stream",
     "text": [
      "24/11/30 10:40:23 WARN DAGScheduler: Broadcasting large task binary with size 1185.8 KiB\n"
     ]
    },
    {
     "name": "stdout",
     "output_type": "stream",
     "text": [
      "Saved Games Final Updated: 164 rows\n"
     ]
    },
    {
     "name": "stderr",
     "output_type": "stream",
     "text": [
      "24/11/30 10:40:44 WARN DAGScheduler: Broadcasting large task binary with size 1204.6 KiB\n"
     ]
    },
    {
     "name": "stdout",
     "output_type": "stream",
     "text": [
      "Saved Games Final Updated: 165 rows\n"
     ]
    },
    {
     "name": "stderr",
     "output_type": "stream",
     "text": [
      "24/11/30 10:41:06 WARN DAGScheduler: Broadcasting large task binary with size 1223.3 KiB\n"
     ]
    },
    {
     "name": "stdout",
     "output_type": "stream",
     "text": [
      "Saved Games Final Updated: 166 rows\n",
      "Processing Game ID: 13263, total moves: 54\n",
      "Processing Move: 0\n",
      "Processing Move: 15\n",
      "Processing Move: 30\n",
      "Processing Move: 45\n"
     ]
    },
    {
     "name": "stderr",
     "output_type": "stream",
     "text": [
      "24/11/30 10:41:37 WARN DAGScheduler: Broadcasting large task binary with size 1017.2 KiB\n"
     ]
    },
    {
     "name": "stdout",
     "output_type": "stream",
     "text": [
      "Saved Games Final Updated: 167 rows\n"
     ]
    },
    {
     "name": "stderr",
     "output_type": "stream",
     "text": [
      "24/11/30 10:41:52 WARN DAGScheduler: Broadcasting large task binary with size 1035.9 KiB\n"
     ]
    },
    {
     "name": "stdout",
     "output_type": "stream",
     "text": [
      "Saved Games Final Updated: 168 rows\n",
      "Processing Game ID: 13271, total moves: 31\n",
      "Processing Move: 0\n",
      "Processing Move: 15\n",
      "Saved Games Final Updated: 169 rows\n",
      "Processing Game ID: 13309, total moves: 139\n",
      "Processing Move: 0\n",
      "Processing Move: 15\n",
      "Processing Move: 30\n",
      "Processing Move: 45\n",
      "Processing Move: 60\n",
      "Processing Move: 75\n",
      "Processing Move: 90\n",
      "Processing Move: 105\n",
      "Processing Move: 120\n"
     ]
    },
    {
     "name": "stderr",
     "output_type": "stream",
     "text": [
      "24/11/30 10:44:54 WARN DAGScheduler: Broadcasting large task binary with size 2.5 MiB\n",
      "                                                                                \r"
     ]
    },
    {
     "name": "stdout",
     "output_type": "stream",
     "text": [
      "Saved Games Final Updated: 170 rows\n"
     ]
    },
    {
     "name": "stderr",
     "output_type": "stream",
     "text": [
      "24/11/30 10:46:36 WARN DAGScheduler: Broadcasting large task binary with size 2.5 MiB\n",
      "                                                                                \r"
     ]
    },
    {
     "name": "stdout",
     "output_type": "stream",
     "text": [
      "Saved Games Final Updated: 171 rows\n"
     ]
    },
    {
     "name": "stderr",
     "output_type": "stream",
     "text": [
      "24/11/30 10:48:17 WARN DAGScheduler: Broadcasting large task binary with size 2.5 MiB\n",
      "                                                                                \r"
     ]
    },
    {
     "name": "stdout",
     "output_type": "stream",
     "text": [
      "Saved Games Final Updated: 172 rows\n",
      "Processing Move: 135\n"
     ]
    },
    {
     "name": "stderr",
     "output_type": "stream",
     "text": [
      "24/11/30 10:49:54 WARN DAGScheduler: Broadcasting large task binary with size 2.5 MiB\n",
      "                                                                                \r"
     ]
    },
    {
     "name": "stdout",
     "output_type": "stream",
     "text": [
      "Saved Games Final Updated: 173 rows\n"
     ]
    },
    {
     "name": "stderr",
     "output_type": "stream",
     "text": [
      "24/11/30 10:51:35 WARN DAGScheduler: Broadcasting large task binary with size 2.5 MiB\n",
      "                                                                                \r"
     ]
    },
    {
     "name": "stdout",
     "output_type": "stream",
     "text": [
      "Saved Games Final Updated: 174 rows\n"
     ]
    },
    {
     "name": "stderr",
     "output_type": "stream",
     "text": [
      "24/11/30 10:53:16 WARN DAGScheduler: Broadcasting large task binary with size 2.6 MiB\n",
      "                                                                                \r"
     ]
    },
    {
     "name": "stdout",
     "output_type": "stream",
     "text": [
      "Saved Games Final Updated: 175 rows\n",
      "Processing Game ID: 13421, total moves: 84\n",
      "Processing Move: 0\n",
      "Processing Move: 15\n",
      "Processing Move: 30\n",
      "Processing Move: 45\n",
      "Processing Move: 60\n",
      "Processing Move: 75\n"
     ]
    },
    {
     "name": "stderr",
     "output_type": "stream",
     "text": [
      "24/11/30 10:54:23 WARN DAGScheduler: Broadcasting large task binary with size 1541.8 KiB\n",
      "                                                                                \r"
     ]
    },
    {
     "name": "stdout",
     "output_type": "stream",
     "text": [
      "Saved Games Final Updated: 176 rows\n"
     ]
    },
    {
     "name": "stderr",
     "output_type": "stream",
     "text": [
      "24/11/30 10:54:58 WARN DAGScheduler: Broadcasting large task binary with size 1560.6 KiB\n",
      "                                                                                \r"
     ]
    },
    {
     "name": "stdout",
     "output_type": "stream",
     "text": [
      "Saved Games Final Updated: 177 rows\n"
     ]
    },
    {
     "name": "stderr",
     "output_type": "stream",
     "text": [
      "24/11/30 10:55:34 WARN DAGScheduler: Broadcasting large task binary with size 1579.3 KiB\n",
      "                                                                                \r"
     ]
    },
    {
     "name": "stdout",
     "output_type": "stream",
     "text": [
      "Saved Games Final Updated: 178 rows\n"
     ]
    },
    {
     "name": "stderr",
     "output_type": "stream",
     "text": [
      "24/11/30 10:56:11 WARN DAGScheduler: Broadcasting large task binary with size 1598.1 KiB\n"
     ]
    },
    {
     "name": "stdout",
     "output_type": "stream",
     "text": [
      "Saved Games Final Updated: 179 rows\n",
      "Processing Game ID: 13466, total moves: 26\n",
      "Processing Move: 0\n",
      "Processing Move: 15\n",
      "Saved Games Final Updated: 180 rows\n",
      "Processing Game ID: 13534, total moves: 66\n",
      "Processing Move: 0\n",
      "Processing Move: 15\n",
      "Processing Move: 30\n",
      "Processing Move: 45\n",
      "Processing Move: 60\n"
     ]
    },
    {
     "name": "stderr",
     "output_type": "stream",
     "text": [
      "24/11/30 10:57:05 WARN DAGScheduler: Broadcasting large task binary with size 1223.3 KiB\n"
     ]
    },
    {
     "name": "stdout",
     "output_type": "stream",
     "text": [
      "Saved Games Final Updated: 181 rows\n"
     ]
    },
    {
     "name": "stderr",
     "output_type": "stream",
     "text": [
      "24/11/30 10:57:27 WARN DAGScheduler: Broadcasting large task binary with size 1242.0 KiB\n"
     ]
    },
    {
     "name": "stdout",
     "output_type": "stream",
     "text": [
      "Saved Games Final Updated: 182 rows\n"
     ]
    },
    {
     "name": "stderr",
     "output_type": "stream",
     "text": [
      "24/11/30 10:57:50 WARN DAGScheduler: Broadcasting large task binary with size 1260.8 KiB\n"
     ]
    },
    {
     "name": "stdout",
     "output_type": "stream",
     "text": [
      "Saved Games Final Updated: 183 rows\n",
      "Processing Game ID: 13737, total moves: 108\n",
      "Processing Move: 0\n",
      "Processing Move: 15\n",
      "Processing Move: 30\n",
      "Processing Move: 45\n",
      "Processing Move: 60\n",
      "Processing Move: 75\n",
      "Processing Move: 90\n"
     ]
    },
    {
     "name": "stderr",
     "output_type": "stream",
     "text": [
      "24/11/30 10:59:34 WARN DAGScheduler: Broadcasting large task binary with size 1972.8 KiB\n",
      "                                                                                \r"
     ]
    },
    {
     "name": "stdout",
     "output_type": "stream",
     "text": [
      "Saved Games Final Updated: 184 rows\n"
     ]
    },
    {
     "name": "stderr",
     "output_type": "stream",
     "text": [
      "24/11/30 11:00:32 WARN DAGScheduler: Broadcasting large task binary with size 1991.6 KiB\n",
      "                                                                                \r"
     ]
    },
    {
     "name": "stdout",
     "output_type": "stream",
     "text": [
      "Saved Games Final Updated: 185 rows\n"
     ]
    },
    {
     "name": "stderr",
     "output_type": "stream",
     "text": [
      "24/11/30 11:01:30 WARN DAGScheduler: Broadcasting large task binary with size 2010.3 KiB\n",
      "                                                                                \r"
     ]
    },
    {
     "name": "stdout",
     "output_type": "stream",
     "text": [
      "Saved Games Final Updated: 186 rows\n",
      "Processing Move: 105\n"
     ]
    },
    {
     "name": "stderr",
     "output_type": "stream",
     "text": [
      "24/11/30 11:02:29 WARN DAGScheduler: Broadcasting large task binary with size 2029.0 KiB\n",
      "                                                                                \r"
     ]
    },
    {
     "name": "stdout",
     "output_type": "stream",
     "text": [
      "Saved Games Final Updated: 187 rows\n"
     ]
    },
    {
     "name": "stderr",
     "output_type": "stream",
     "text": [
      "24/11/30 11:03:31 WARN DAGScheduler: Broadcasting large task binary with size 2047.8 KiB\n",
      "                                                                                \r"
     ]
    },
    {
     "name": "stdout",
     "output_type": "stream",
     "text": [
      "Saved Games Final Updated: 188 rows\n",
      "Processing Game ID: 13786, total moves: 59\n",
      "Processing Move: 0\n",
      "Processing Move: 15\n",
      "Processing Move: 30\n",
      "Processing Move: 45\n"
     ]
    },
    {
     "name": "stderr",
     "output_type": "stream",
     "text": [
      "24/11/30 11:04:09 WARN DAGScheduler: Broadcasting large task binary with size 1110.9 KiB\n"
     ]
    },
    {
     "name": "stdout",
     "output_type": "stream",
     "text": [
      "Saved Games Final Updated: 189 rows\n"
     ]
    },
    {
     "name": "stderr",
     "output_type": "stream",
     "text": [
      "24/11/30 11:04:27 WARN DAGScheduler: Broadcasting large task binary with size 1129.6 KiB\n"
     ]
    },
    {
     "name": "stdout",
     "output_type": "stream",
     "text": [
      "Saved Games Final Updated: 190 rows\n",
      "Processing Game ID: 13791, total moves: 60\n",
      "Processing Move: 0\n",
      "Processing Move: 15\n",
      "Processing Move: 30\n",
      "Processing Move: 45\n"
     ]
    },
    {
     "name": "stderr",
     "output_type": "stream",
     "text": [
      "24/11/30 11:05:04 WARN DAGScheduler: Broadcasting large task binary with size 1110.9 KiB\n"
     ]
    },
    {
     "name": "stdout",
     "output_type": "stream",
     "text": [
      "Saved Games Final Updated: 191 rows\n"
     ]
    },
    {
     "name": "stderr",
     "output_type": "stream",
     "text": [
      "24/11/30 11:05:22 WARN DAGScheduler: Broadcasting large task binary with size 1129.6 KiB\n"
     ]
    },
    {
     "name": "stdout",
     "output_type": "stream",
     "text": [
      "Saved Games Final Updated: 192 rows\n"
     ]
    },
    {
     "name": "stderr",
     "output_type": "stream",
     "text": [
      "24/11/30 11:05:41 WARN DAGScheduler: Broadcasting large task binary with size 1148.3 KiB\n"
     ]
    },
    {
     "name": "stdout",
     "output_type": "stream",
     "text": [
      "Saved Games Final Updated: 193 rows\n",
      "Processing Game ID: 13803, total moves: 34\n",
      "Processing Move: 0\n",
      "Processing Move: 15\n",
      "Processing Move: 30\n",
      "Saved Games Final Updated: 194 rows\n",
      "Processing Game ID: 13908, total moves: 49\n",
      "Processing Move: 0\n",
      "Processing Move: 15\n",
      "Processing Move: 30\n",
      "Processing Move: 45\n",
      "Saved Games Final Updated: 195 rows\n",
      "Saved Games Final Updated: 196 rows\n",
      "Processing Game ID: 13942, total moves: 75\n",
      "Processing Move: 0\n",
      "Processing Move: 15\n",
      "Processing Move: 30\n",
      "Processing Move: 45\n",
      "Processing Move: 60\n"
     ]
    },
    {
     "name": "stderr",
     "output_type": "stream",
     "text": [
      "24/11/30 11:07:32 WARN DAGScheduler: Broadcasting large task binary with size 1391.9 KiB\n"
     ]
    },
    {
     "name": "stdout",
     "output_type": "stream",
     "text": [
      "Saved Games Final Updated: 197 rows\n"
     ]
    },
    {
     "name": "stderr",
     "output_type": "stream",
     "text": [
      "24/11/30 11:08:00 WARN DAGScheduler: Broadcasting large task binary with size 1410.7 KiB\n"
     ]
    },
    {
     "name": "stdout",
     "output_type": "stream",
     "text": [
      "Saved Games Final Updated: 198 rows\n"
     ]
    },
    {
     "name": "stderr",
     "output_type": "stream",
     "text": [
      "24/11/30 11:08:30 WARN DAGScheduler: Broadcasting large task binary with size 1429.4 KiB\n",
      "                                                                                \r"
     ]
    },
    {
     "name": "stdout",
     "output_type": "stream",
     "text": [
      "Saved Games Final Updated: 199 rows\n",
      "Processing Game ID: 14126, total moves: 96\n",
      "Processing Move: 0\n",
      "Processing Move: 15\n",
      "Processing Move: 30\n",
      "Processing Move: 45\n",
      "Processing Move: 60\n",
      "Processing Move: 75\n",
      "Processing Move: 90\n"
     ]
    },
    {
     "name": "stderr",
     "output_type": "stream",
     "text": [
      "24/11/30 11:09:53 WARN DAGScheduler: Broadcasting large task binary with size 1766.7 KiB\n",
      "                                                                                \r"
     ]
    },
    {
     "name": "stdout",
     "output_type": "stream",
     "text": [
      "Saved Games Final Updated: 200 rows\n"
     ]
    },
    {
     "name": "stderr",
     "output_type": "stream",
     "text": [
      "24/11/30 11:10:39 WARN DAGScheduler: Broadcasting large task binary with size 1785.4 KiB\n",
      "                                                                                \r"
     ]
    },
    {
     "name": "stdout",
     "output_type": "stream",
     "text": [
      "Saved Games Final Updated: 201 rows\n"
     ]
    },
    {
     "name": "stderr",
     "output_type": "stream",
     "text": [
      "24/11/30 11:11:26 WARN DAGScheduler: Broadcasting large task binary with size 1804.2 KiB\n",
      "                                                                                \r"
     ]
    },
    {
     "name": "stdout",
     "output_type": "stream",
     "text": [
      "Saved Games Final Updated: 202 rows\n"
     ]
    },
    {
     "name": "stderr",
     "output_type": "stream",
     "text": [
      "24/11/30 11:12:14 WARN DAGScheduler: Broadcasting large task binary with size 1822.9 KiB\n",
      "                                                                                \r"
     ]
    },
    {
     "name": "stdout",
     "output_type": "stream",
     "text": [
      "Saved Games Final Updated: 203 rows\n",
      "Processing Game ID: 14145, total moves: 41\n",
      "Processing Move: 0\n",
      "Processing Move: 15\n",
      "Processing Move: 30\n",
      "Saved Games Final Updated: 204 rows\n",
      "Saved Games Final Updated: 205 rows\n",
      "Processing Game ID: 14152, total moves: 63\n",
      "Processing Move: 0\n",
      "Processing Move: 15\n",
      "Processing Move: 30\n",
      "Processing Move: 45\n"
     ]
    },
    {
     "name": "stderr",
     "output_type": "stream",
     "text": [
      "24/11/30 11:13:23 WARN DAGScheduler: Broadcasting large task binary with size 1167.1 KiB\n"
     ]
    },
    {
     "name": "stdout",
     "output_type": "stream",
     "text": [
      "Saved Games Final Updated: 206 rows\n",
      "Processing Move: 60\n"
     ]
    },
    {
     "name": "stderr",
     "output_type": "stream",
     "text": [
      "24/11/30 11:13:44 WARN DAGScheduler: Broadcasting large task binary with size 1185.8 KiB\n"
     ]
    },
    {
     "name": "stdout",
     "output_type": "stream",
     "text": [
      "Saved Games Final Updated: 207 rows\n"
     ]
    },
    {
     "name": "stderr",
     "output_type": "stream",
     "text": [
      "24/11/30 11:14:05 WARN DAGScheduler: Broadcasting large task binary with size 1204.6 KiB\n"
     ]
    },
    {
     "name": "stdout",
     "output_type": "stream",
     "text": [
      "Saved Games Final Updated: 208 rows\n",
      "Processing Game ID: 14208, total moves: 46\n",
      "Processing Move: 0\n",
      "Processing Move: 15\n",
      "Processing Move: 30\n",
      "Saved Games Final Updated: 209 rows\n",
      "Saved Games Final Updated: 210 rows\n",
      "Processing Game ID: 14313, total moves: 20\n",
      "Processing Move: 0\n",
      "Processing Move: 15\n",
      "Saved Games Final Updated: 211 rows\n",
      "Processing Game ID: 14405, total moves: 45\n",
      "Processing Move: 0\n",
      "Processing Move: 15\n",
      "Processing Move: 30\n",
      "Saved Games Final Updated: 212 rows\n",
      "Saved Games Final Updated: 213 rows\n",
      "Processing Game ID: 14522, total moves: 29\n",
      "Processing Move: 0\n",
      "Processing Move: 15\n",
      "Saved Games Final Updated: 214 rows\n",
      "Processing Game ID: 14524, total moves: 214\n",
      "Processing Move: 0\n",
      "Processing Move: 15\n",
      "Processing Move: 30\n",
      "Processing Move: 45\n",
      "Processing Move: 60\n",
      "Processing Move: 75\n",
      "Processing Move: 90\n",
      "Processing Move: 105\n",
      "Processing Move: 120\n",
      "Processing Move: 135\n",
      "Processing Move: 150\n",
      "Processing Move: 165\n",
      "Processing Move: 180\n",
      "Processing Move: 195\n"
     ]
    },
    {
     "name": "stderr",
     "output_type": "stream",
     "text": [
      "24/11/30 11:22:08 WARN DAGScheduler: Broadcasting large task binary with size 3.8 MiB\n",
      "                                                                                \r"
     ]
    },
    {
     "name": "stdout",
     "output_type": "stream",
     "text": [
      "Saved Games Final Updated: 215 rows\n"
     ]
    },
    {
     "name": "stderr",
     "output_type": "stream",
     "text": [
      "24/11/30 11:26:07 WARN DAGScheduler: Broadcasting large task binary with size 3.8 MiB\n",
      "                                                                                \r"
     ]
    },
    {
     "name": "stdout",
     "output_type": "stream",
     "text": [
      "Saved Games Final Updated: 216 rows\n"
     ]
    },
    {
     "name": "stderr",
     "output_type": "stream",
     "text": [
      "24/11/30 11:30:10 WARN DAGScheduler: Broadcasting large task binary with size 3.8 MiB\n",
      "                                                                                \r"
     ]
    },
    {
     "name": "stdout",
     "output_type": "stream",
     "text": [
      "Saved Games Final Updated: 217 rows\n"
     ]
    },
    {
     "name": "stderr",
     "output_type": "stream",
     "text": [
      "24/11/30 11:34:18 WARN DAGScheduler: Broadcasting large task binary with size 3.8 MiB\n",
      "                                                                                \r"
     ]
    },
    {
     "name": "stdout",
     "output_type": "stream",
     "text": [
      "Saved Games Final Updated: 218 rows\n"
     ]
    },
    {
     "name": "stderr",
     "output_type": "stream",
     "text": [
      "24/11/30 11:38:25 WARN DAGScheduler: Broadcasting large task binary with size 3.8 MiB\n",
      "                                                                                \r"
     ]
    },
    {
     "name": "stdout",
     "output_type": "stream",
     "text": [
      "Saved Games Final Updated: 219 rows\n"
     ]
    },
    {
     "name": "stderr",
     "output_type": "stream",
     "text": [
      "24/11/30 11:42:46 WARN DAGScheduler: Broadcasting large task binary with size 3.9 MiB\n",
      "                                                                                \r"
     ]
    },
    {
     "name": "stdout",
     "output_type": "stream",
     "text": [
      "Saved Games Final Updated: 220 rows\n"
     ]
    },
    {
     "name": "stderr",
     "output_type": "stream",
     "text": [
      "24/11/30 11:46:51 WARN DAGScheduler: Broadcasting large task binary with size 3.9 MiB\n",
      "                                                                                \r"
     ]
    },
    {
     "name": "stdout",
     "output_type": "stream",
     "text": [
      "Saved Games Final Updated: 221 rows\n",
      "Processing Move: 210\n"
     ]
    },
    {
     "name": "stderr",
     "output_type": "stream",
     "text": [
      "24/11/30 11:51:09 WARN DAGScheduler: Broadcasting large task binary with size 3.9 MiB\n",
      "                                                                                \r"
     ]
    },
    {
     "name": "stdout",
     "output_type": "stream",
     "text": [
      "Saved Games Final Updated: 222 rows\n"
     ]
    },
    {
     "name": "stderr",
     "output_type": "stream",
     "text": [
      "24/11/30 11:55:24 WARN DAGScheduler: Broadcasting large task binary with size 3.9 MiB\n",
      "                                                                                \r"
     ]
    },
    {
     "name": "stdout",
     "output_type": "stream",
     "text": [
      "Saved Games Final Updated: 223 rows\n"
     ]
    },
    {
     "name": "stderr",
     "output_type": "stream",
     "text": [
      "24/11/30 11:59:33 WARN DAGScheduler: Broadcasting large task binary with size 3.9 MiB\n",
      "                                                                                \r"
     ]
    },
    {
     "name": "stdout",
     "output_type": "stream",
     "text": [
      "Saved Games Final Updated: 224 rows\n",
      "Processing Game ID: 14533, total moves: 43\n",
      "Processing Move: 0\n",
      "Processing Move: 15\n",
      "Processing Move: 30\n",
      "Saved Games Final Updated: 225 rows\n",
      "Saved Games Final Updated: 226 rows\n",
      "Processing Game ID: 14868, total moves: 46\n",
      "Processing Move: 0\n",
      "Processing Move: 15\n",
      "Processing Move: 30\n",
      "Saved Games Final Updated: 227 rows\n",
      "Saved Games Final Updated: 228 rows\n",
      "Processing Game ID: 14941, total moves: 42\n",
      "Processing Move: 0\n",
      "Processing Move: 15\n",
      "Processing Move: 30\n",
      "Saved Games Final Updated: 229 rows\n",
      "Saved Games Final Updated: 230 rows\n",
      "Processing Game ID: 15039, total moves: 74\n",
      "Processing Move: 0\n",
      "Processing Move: 15\n",
      "Processing Move: 30\n",
      "Processing Move: 45\n",
      "Processing Move: 60\n"
     ]
    },
    {
     "name": "stderr",
     "output_type": "stream",
     "text": [
      "24/11/30 12:02:05 WARN DAGScheduler: Broadcasting large task binary with size 1373.2 KiB\n"
     ]
    },
    {
     "name": "stdout",
     "output_type": "stream",
     "text": [
      "Saved Games Final Updated: 231 rows\n"
     ]
    },
    {
     "name": "stderr",
     "output_type": "stream",
     "text": [
      "24/11/30 12:02:33 WARN DAGScheduler: Broadcasting large task binary with size 1391.9 KiB\n",
      "                                                                                \r"
     ]
    },
    {
     "name": "stdout",
     "output_type": "stream",
     "text": [
      "Saved Games Final Updated: 232 rows\n"
     ]
    },
    {
     "name": "stderr",
     "output_type": "stream",
     "text": [
      "24/11/30 12:03:02 WARN DAGScheduler: Broadcasting large task binary with size 1410.7 KiB\n",
      "                                                                                \r"
     ]
    },
    {
     "name": "stdout",
     "output_type": "stream",
     "text": [
      "Saved Games Final Updated: 233 rows\n",
      "Processing Game ID: 15094, total moves: 35\n",
      "Processing Move: 0\n",
      "Processing Move: 15\n",
      "Processing Move: 30\n",
      "Saved Games Final Updated: 234 rows\n",
      "Processing Game ID: 15189, total moves: 66\n",
      "Processing Move: 0\n",
      "Processing Move: 15\n",
      "Processing Move: 30\n",
      "Processing Move: 45\n",
      "Processing Move: 60\n"
     ]
    },
    {
     "name": "stderr",
     "output_type": "stream",
     "text": [
      "24/11/30 12:04:02 WARN DAGScheduler: Broadcasting large task binary with size 1223.3 KiB\n"
     ]
    },
    {
     "name": "stdout",
     "output_type": "stream",
     "text": [
      "Saved Games Final Updated: 235 rows\n"
     ]
    },
    {
     "name": "stderr",
     "output_type": "stream",
     "text": [
      "24/11/30 12:04:24 WARN DAGScheduler: Broadcasting large task binary with size 1242.0 KiB\n"
     ]
    },
    {
     "name": "stdout",
     "output_type": "stream",
     "text": [
      "Saved Games Final Updated: 236 rows\n"
     ]
    },
    {
     "name": "stderr",
     "output_type": "stream",
     "text": [
      "24/11/30 12:04:46 WARN DAGScheduler: Broadcasting large task binary with size 1260.8 KiB\n"
     ]
    },
    {
     "name": "stdout",
     "output_type": "stream",
     "text": [
      "Saved Games Final Updated: 237 rows\n",
      "Processing Game ID: 15466, total moves: 77\n",
      "Processing Move: 0\n",
      "Processing Move: 15\n",
      "Processing Move: 30\n",
      "Processing Move: 45\n",
      "Processing Move: 60\n"
     ]
    },
    {
     "name": "stderr",
     "output_type": "stream",
     "text": [
      "24/11/30 12:05:43 WARN DAGScheduler: Broadcasting large task binary with size 1429.4 KiB\n"
     ]
    },
    {
     "name": "stdout",
     "output_type": "stream",
     "text": [
      "Saved Games Final Updated: 238 rows\n"
     ]
    },
    {
     "name": "stderr",
     "output_type": "stream",
     "text": [
      "24/11/30 12:06:13 WARN DAGScheduler: Broadcasting large task binary with size 1448.2 KiB\n",
      "                                                                                \r"
     ]
    },
    {
     "name": "stdout",
     "output_type": "stream",
     "text": [
      "Saved Games Final Updated: 239 rows\n",
      "Processing Move: 75\n"
     ]
    },
    {
     "name": "stderr",
     "output_type": "stream",
     "text": [
      "24/11/30 12:06:44 WARN DAGScheduler: Broadcasting large task binary with size 1466.9 KiB\n"
     ]
    },
    {
     "name": "stdout",
     "output_type": "stream",
     "text": [
      "Saved Games Final Updated: 240 rows\n",
      "Processing Game ID: 15545, total moves: 41\n",
      "Processing Move: 0\n",
      "Processing Move: 15\n",
      "Processing Move: 30\n",
      "Saved Games Final Updated: 241 rows\n",
      "Saved Games Final Updated: 242 rows\n",
      "Processing Game ID: 15625, total moves: 53\n",
      "Processing Move: 0\n",
      "Processing Move: 15\n",
      "Processing Move: 30\n",
      "Processing Move: 45\n",
      "Saved Games Final Updated: 243 rows\n"
     ]
    },
    {
     "name": "stderr",
     "output_type": "stream",
     "text": [
      "24/11/30 12:07:59 WARN DAGScheduler: Broadcasting large task binary with size 1017.2 KiB\n"
     ]
    },
    {
     "name": "stdout",
     "output_type": "stream",
     "text": [
      "Saved Games Final Updated: 244 rows\n",
      "Processing Game ID: 15641, total moves: 110\n",
      "Processing Move: 0\n",
      "Processing Move: 15\n",
      "Processing Move: 30\n",
      "Processing Move: 45\n",
      "Processing Move: 60\n",
      "Processing Move: 75\n",
      "Processing Move: 90\n"
     ]
    },
    {
     "name": "stderr",
     "output_type": "stream",
     "text": [
      "24/11/30 12:09:48 WARN DAGScheduler: Broadcasting large task binary with size 2010.3 KiB\n",
      "                                                                                \r"
     ]
    },
    {
     "name": "stdout",
     "output_type": "stream",
     "text": [
      "Saved Games Final Updated: 245 rows\n",
      "Processing Move: 105\n"
     ]
    },
    {
     "name": "stderr",
     "output_type": "stream",
     "text": [
      "24/11/30 12:10:48 WARN DAGScheduler: Broadcasting large task binary with size 2029.0 KiB\n",
      "                                                                                \r"
     ]
    },
    {
     "name": "stdout",
     "output_type": "stream",
     "text": [
      "Saved Games Final Updated: 246 rows\n"
     ]
    },
    {
     "name": "stderr",
     "output_type": "stream",
     "text": [
      "24/11/30 12:11:49 WARN DAGScheduler: Broadcasting large task binary with size 2047.8 KiB\n",
      "                                                                                \r"
     ]
    },
    {
     "name": "stdout",
     "output_type": "stream",
     "text": [
      "Saved Games Final Updated: 247 rows\n"
     ]
    },
    {
     "name": "stderr",
     "output_type": "stream",
     "text": [
      "24/11/30 12:12:51 WARN DAGScheduler: Broadcasting large task binary with size 2.0 MiB\n",
      "                                                                                \r"
     ]
    },
    {
     "name": "stdout",
     "output_type": "stream",
     "text": [
      "Saved Games Final Updated: 248 rows\n"
     ]
    },
    {
     "name": "stderr",
     "output_type": "stream",
     "text": [
      "24/11/30 12:13:55 WARN DAGScheduler: Broadcasting large task binary with size 2.0 MiB\n",
      "                                                                                \r"
     ]
    },
    {
     "name": "stdout",
     "output_type": "stream",
     "text": [
      "Saved Games Final Updated: 249 rows\n",
      "Processing Game ID: 15872, total moves: 82\n",
      "Processing Move: 0\n",
      "Processing Move: 15\n",
      "Processing Move: 30\n",
      "Processing Move: 45\n",
      "Processing Move: 60\n",
      "Processing Move: 75\n"
     ]
    },
    {
     "name": "stderr",
     "output_type": "stream",
     "text": [
      "24/11/30 12:14:58 WARN DAGScheduler: Broadcasting large task binary with size 1504.4 KiB\n",
      "                                                                                \r"
     ]
    },
    {
     "name": "stdout",
     "output_type": "stream",
     "text": [
      "Saved Games Final Updated: 250 rows\n"
     ]
    },
    {
     "name": "stderr",
     "output_type": "stream",
     "text": [
      "24/11/30 12:15:32 WARN DAGScheduler: Broadcasting large task binary with size 1523.1 KiB\n",
      "                                                                                \r"
     ]
    },
    {
     "name": "stdout",
     "output_type": "stream",
     "text": [
      "Saved Games Final Updated: 251 rows\n"
     ]
    },
    {
     "name": "stderr",
     "output_type": "stream",
     "text": [
      "24/11/30 12:16:06 WARN DAGScheduler: Broadcasting large task binary with size 1541.8 KiB\n"
     ]
    },
    {
     "name": "stdout",
     "output_type": "stream",
     "text": [
      "Saved Games Final Updated: 252 rows\n"
     ]
    },
    {
     "name": "stderr",
     "output_type": "stream",
     "text": [
      "24/11/30 12:16:41 WARN DAGScheduler: Broadcasting large task binary with size 1560.6 KiB\n"
     ]
    },
    {
     "name": "stdout",
     "output_type": "stream",
     "text": [
      "Saved Games Final Updated: 253 rows\n",
      "Processing Game ID: 16120, total moves: 93\n",
      "Processing Move: 0\n",
      "Processing Move: 15\n",
      "Processing Move: 30\n",
      "Processing Move: 45\n",
      "Processing Move: 60\n",
      "Processing Move: 75\n"
     ]
    },
    {
     "name": "stderr",
     "output_type": "stream",
     "text": [
      "24/11/30 12:18:01 WARN DAGScheduler: Broadcasting large task binary with size 1710.5 KiB\n",
      "                                                                                \r"
     ]
    },
    {
     "name": "stdout",
     "output_type": "stream",
     "text": [
      "Saved Games Final Updated: 254 rows\n"
     ]
    },
    {
     "name": "stderr",
     "output_type": "stream",
     "text": [
      "24/11/30 12:18:45 WARN DAGScheduler: Broadcasting large task binary with size 1729.2 KiB\n",
      "                                                                                \r"
     ]
    },
    {
     "name": "stdout",
     "output_type": "stream",
     "text": [
      "Saved Games Final Updated: 255 rows\n",
      "Processing Move: 90\n"
     ]
    },
    {
     "name": "stderr",
     "output_type": "stream",
     "text": [
      "24/11/30 12:19:29 WARN DAGScheduler: Broadcasting large task binary with size 1748.0 KiB\n",
      "                                                                                \r"
     ]
    },
    {
     "name": "stdout",
     "output_type": "stream",
     "text": [
      "Saved Games Final Updated: 256 rows\n"
     ]
    },
    {
     "name": "stderr",
     "output_type": "stream",
     "text": [
      "24/11/30 12:20:14 WARN DAGScheduler: Broadcasting large task binary with size 1766.7 KiB\n",
      "                                                                                \r"
     ]
    },
    {
     "name": "stdout",
     "output_type": "stream",
     "text": [
      "Saved Games Final Updated: 257 rows\n",
      "Processing Game ID: 16276, total moves: 116\n",
      "Processing Move: 0\n",
      "Processing Move: 15\n",
      "Processing Move: 30\n",
      "Processing Move: 45\n",
      "Processing Move: 60\n",
      "Processing Move: 75\n",
      "Processing Move: 90\n",
      "Processing Move: 105\n"
     ]
    },
    {
     "name": "stderr",
     "output_type": "stream",
     "text": [
      "24/11/30 12:22:14 WARN DAGScheduler: Broadcasting large task binary with size 2.1 MiB\n",
      "                                                                                \r"
     ]
    },
    {
     "name": "stdout",
     "output_type": "stream",
     "text": [
      "Saved Games Final Updated: 258 rows\n"
     ]
    },
    {
     "name": "stderr",
     "output_type": "stream",
     "text": [
      "24/11/30 12:23:22 WARN DAGScheduler: Broadcasting large task binary with size 2.1 MiB\n",
      "                                                                                \r"
     ]
    },
    {
     "name": "stdout",
     "output_type": "stream",
     "text": [
      "Saved Games Final Updated: 259 rows\n"
     ]
    },
    {
     "name": "stderr",
     "output_type": "stream",
     "text": [
      "24/11/30 12:24:32 WARN DAGScheduler: Broadcasting large task binary with size 2.1 MiB\n",
      "                                                                                \r"
     ]
    },
    {
     "name": "stdout",
     "output_type": "stream",
     "text": [
      "Saved Games Final Updated: 260 rows\n"
     ]
    },
    {
     "name": "stderr",
     "output_type": "stream",
     "text": [
      "24/11/30 12:25:42 WARN DAGScheduler: Broadcasting large task binary with size 2.1 MiB\n",
      "                                                                                \r"
     ]
    },
    {
     "name": "stdout",
     "output_type": "stream",
     "text": [
      "Saved Games Final Updated: 261 rows\n"
     ]
    },
    {
     "name": "stderr",
     "output_type": "stream",
     "text": [
      "24/11/30 12:26:53 WARN DAGScheduler: Broadcasting large task binary with size 2.1 MiB\n",
      "                                                                                \r"
     ]
    },
    {
     "name": "stdout",
     "output_type": "stream",
     "text": [
      "Saved Games Final Updated: 262 rows\n",
      "Processing Game ID: 16355, total moves: 89\n",
      "Processing Move: 0\n",
      "Processing Move: 15\n",
      "Processing Move: 30\n",
      "Processing Move: 45\n",
      "Processing Move: 60\n",
      "Processing Move: 75\n"
     ]
    },
    {
     "name": "stderr",
     "output_type": "stream",
     "text": [
      "24/11/30 12:28:06 WARN DAGScheduler: Broadcasting large task binary with size 1635.5 KiB\n",
      "                                                                                \r"
     ]
    },
    {
     "name": "stdout",
     "output_type": "stream",
     "text": [
      "Saved Games Final Updated: 263 rows\n"
     ]
    },
    {
     "name": "stderr",
     "output_type": "stream",
     "text": [
      "24/11/30 12:28:46 WARN DAGScheduler: Broadcasting large task binary with size 1654.3 KiB\n",
      "                                                                                \r"
     ]
    },
    {
     "name": "stdout",
     "output_type": "stream",
     "text": [
      "Saved Games Final Updated: 264 rows\n"
     ]
    },
    {
     "name": "stderr",
     "output_type": "stream",
     "text": [
      "24/11/30 12:29:26 WARN DAGScheduler: Broadcasting large task binary with size 1673.0 KiB\n",
      "                                                                                \r"
     ]
    },
    {
     "name": "stdout",
     "output_type": "stream",
     "text": [
      "Saved Games Final Updated: 265 rows\n"
     ]
    },
    {
     "name": "stderr",
     "output_type": "stream",
     "text": [
      "24/11/30 12:30:07 WARN DAGScheduler: Broadcasting large task binary with size 1691.8 KiB\n",
      "                                                                                \r"
     ]
    },
    {
     "name": "stdout",
     "output_type": "stream",
     "text": [
      "Saved Games Final Updated: 266 rows\n",
      "Processing Game ID: 16556, total moves: 74\n",
      "Processing Move: 0\n",
      "Processing Move: 15\n",
      "Processing Move: 30\n",
      "Processing Move: 45\n",
      "Processing Move: 60\n"
     ]
    },
    {
     "name": "stderr",
     "output_type": "stream",
     "text": [
      "24/11/30 12:31:01 WARN DAGScheduler: Broadcasting large task binary with size 1373.2 KiB\n",
      "                                                                                \r"
     ]
    },
    {
     "name": "stdout",
     "output_type": "stream",
     "text": [
      "Saved Games Final Updated: 267 rows\n"
     ]
    },
    {
     "name": "stderr",
     "output_type": "stream",
     "text": [
      "24/11/30 12:31:28 WARN DAGScheduler: Broadcasting large task binary with size 1391.9 KiB\n"
     ]
    },
    {
     "name": "stdout",
     "output_type": "stream",
     "text": [
      "Saved Games Final Updated: 268 rows\n"
     ]
    },
    {
     "name": "stderr",
     "output_type": "stream",
     "text": [
      "24/11/30 12:31:56 WARN DAGScheduler: Broadcasting large task binary with size 1410.7 KiB\n"
     ]
    },
    {
     "name": "stdout",
     "output_type": "stream",
     "text": [
      "Saved Games Final Updated: 269 rows\n",
      "Processing Game ID: 16632, total moves: 45\n",
      "Processing Move: 0\n",
      "Processing Move: 15\n",
      "Processing Move: 30\n",
      "Saved Games Final Updated: 270 rows\n",
      "Saved Games Final Updated: 271 rows\n",
      "Processing Game ID: 16666, total moves: 67\n",
      "Processing Move: 0\n",
      "Processing Move: 15\n",
      "Processing Move: 30\n",
      "Processing Move: 45\n",
      "Processing Move: 60\n"
     ]
    },
    {
     "name": "stderr",
     "output_type": "stream",
     "text": [
      "24/11/30 12:33:15 WARN DAGScheduler: Broadcasting large task binary with size 1242.0 KiB\n"
     ]
    },
    {
     "name": "stdout",
     "output_type": "stream",
     "text": [
      "Saved Games Final Updated: 272 rows\n"
     ]
    },
    {
     "name": "stderr",
     "output_type": "stream",
     "text": [
      "24/11/30 12:33:38 WARN DAGScheduler: Broadcasting large task binary with size 1260.8 KiB\n"
     ]
    },
    {
     "name": "stdout",
     "output_type": "stream",
     "text": [
      "Saved Games Final Updated: 273 rows\n"
     ]
    },
    {
     "name": "stderr",
     "output_type": "stream",
     "text": [
      "24/11/30 12:34:02 WARN DAGScheduler: Broadcasting large task binary with size 1279.5 KiB\n"
     ]
    },
    {
     "name": "stdout",
     "output_type": "stream",
     "text": [
      "Saved Games Final Updated: 274 rows\n",
      "Processing Game ID: 16733, total moves: 86\n",
      "Processing Move: 0\n",
      "Processing Move: 15\n",
      "Processing Move: 30\n",
      "Processing Move: 45\n",
      "Processing Move: 60\n",
      "Processing Move: 75\n"
     ]
    },
    {
     "name": "stderr",
     "output_type": "stream",
     "text": [
      "24/11/30 12:35:11 WARN DAGScheduler: Broadcasting large task binary with size 1579.3 KiB\n",
      "                                                                                \r"
     ]
    },
    {
     "name": "stdout",
     "output_type": "stream",
     "text": [
      "Saved Games Final Updated: 275 rows\n"
     ]
    },
    {
     "name": "stderr",
     "output_type": "stream",
     "text": [
      "24/11/30 12:35:47 WARN DAGScheduler: Broadcasting large task binary with size 1598.1 KiB\n",
      "                                                                                \r"
     ]
    },
    {
     "name": "stdout",
     "output_type": "stream",
     "text": [
      "Saved Games Final Updated: 276 rows\n"
     ]
    },
    {
     "name": "stderr",
     "output_type": "stream",
     "text": [
      "24/11/30 12:36:25 WARN DAGScheduler: Broadcasting large task binary with size 1616.8 KiB\n"
     ]
    },
    {
     "name": "stdout",
     "output_type": "stream",
     "text": [
      "Saved Games Final Updated: 277 rows\n"
     ]
    },
    {
     "name": "stderr",
     "output_type": "stream",
     "text": [
      "24/11/30 12:37:04 WARN DAGScheduler: Broadcasting large task binary with size 1635.5 KiB\n",
      "                                                                                \r"
     ]
    },
    {
     "name": "stdout",
     "output_type": "stream",
     "text": [
      "Saved Games Final Updated: 278 rows\n",
      "Processing Game ID: 16746, total moves: 79\n",
      "Processing Move: 0\n",
      "Processing Move: 15\n",
      "Processing Move: 30\n",
      "Processing Move: 45\n",
      "Processing Move: 60\n",
      "Processing Move: 75\n"
     ]
    },
    {
     "name": "stderr",
     "output_type": "stream",
     "text": [
      "24/11/30 12:38:04 WARN DAGScheduler: Broadcasting large task binary with size 1466.9 KiB\n"
     ]
    },
    {
     "name": "stdout",
     "output_type": "stream",
     "text": [
      "Saved Games Final Updated: 279 rows\n"
     ]
    },
    {
     "name": "stderr",
     "output_type": "stream",
     "text": [
      "24/11/30 12:38:36 WARN DAGScheduler: Broadcasting large task binary with size 1485.6 KiB\n",
      "                                                                                \r"
     ]
    },
    {
     "name": "stdout",
     "output_type": "stream",
     "text": [
      "Saved Games Final Updated: 280 rows\n"
     ]
    },
    {
     "name": "stderr",
     "output_type": "stream",
     "text": [
      "24/11/30 12:39:08 WARN DAGScheduler: Broadcasting large task binary with size 1504.4 KiB\n"
     ]
    },
    {
     "name": "stdout",
     "output_type": "stream",
     "text": [
      "Saved Games Final Updated: 281 rows\n",
      "Processing Game ID: 16831, total moves: 19\n",
      "Processing Move: 0\n",
      "Processing Move: 15\n",
      "Processing Game ID: 16840, total moves: 69\n",
      "Processing Move: 0\n",
      "Processing Move: 15\n",
      "Processing Move: 30\n",
      "Processing Move: 45\n",
      "Processing Move: 60\n"
     ]
    },
    {
     "name": "stderr",
     "output_type": "stream",
     "text": [
      "24/11/30 12:40:00 WARN DAGScheduler: Broadcasting large task binary with size 1279.5 KiB\n"
     ]
    },
    {
     "name": "stdout",
     "output_type": "stream",
     "text": [
      "Saved Games Final Updated: 282 rows\n"
     ]
    },
    {
     "name": "stderr",
     "output_type": "stream",
     "text": [
      "24/11/30 12:40:24 WARN DAGScheduler: Broadcasting large task binary with size 1298.3 KiB\n"
     ]
    },
    {
     "name": "stdout",
     "output_type": "stream",
     "text": [
      "Saved Games Final Updated: 283 rows\n"
     ]
    },
    {
     "name": "stderr",
     "output_type": "stream",
     "text": [
      "24/11/30 12:40:49 WARN DAGScheduler: Broadcasting large task binary with size 1317.0 KiB\n",
      "                                                                                \r"
     ]
    },
    {
     "name": "stdout",
     "output_type": "stream",
     "text": [
      "Saved Games Final Updated: 284 rows\n",
      "Processing Game ID: 16877, total moves: 83\n",
      "Processing Move: 0\n",
      "Processing Move: 15\n",
      "Processing Move: 30\n",
      "Processing Move: 45\n",
      "Processing Move: 60\n",
      "Processing Move: 75\n"
     ]
    },
    {
     "name": "stderr",
     "output_type": "stream",
     "text": [
      "24/11/30 12:41:53 WARN DAGScheduler: Broadcasting large task binary with size 1523.1 KiB\n",
      "                                                                                \r"
     ]
    },
    {
     "name": "stdout",
     "output_type": "stream",
     "text": [
      "Saved Games Final Updated: 285 rows\n"
     ]
    },
    {
     "name": "stderr",
     "output_type": "stream",
     "text": [
      "24/11/30 12:42:26 WARN DAGScheduler: Broadcasting large task binary with size 1541.8 KiB\n",
      "                                                                                \r"
     ]
    },
    {
     "name": "stdout",
     "output_type": "stream",
     "text": [
      "Saved Games Final Updated: 286 rows\n"
     ]
    },
    {
     "name": "stderr",
     "output_type": "stream",
     "text": [
      "24/11/30 12:43:01 WARN DAGScheduler: Broadcasting large task binary with size 1560.6 KiB\n",
      "                                                                                \r"
     ]
    },
    {
     "name": "stdout",
     "output_type": "stream",
     "text": [
      "Saved Games Final Updated: 287 rows\n"
     ]
    },
    {
     "name": "stderr",
     "output_type": "stream",
     "text": [
      "24/11/30 12:43:36 WARN DAGScheduler: Broadcasting large task binary with size 1579.3 KiB\n"
     ]
    },
    {
     "name": "stdout",
     "output_type": "stream",
     "text": [
      "Saved Games Final Updated: 288 rows\n",
      "Processing Game ID: 16896, total moves: 69\n",
      "Processing Move: 0\n",
      "Processing Move: 15\n",
      "Processing Move: 30\n",
      "Processing Move: 45\n",
      "Processing Move: 60\n"
     ]
    },
    {
     "name": "stderr",
     "output_type": "stream",
     "text": [
      "24/11/30 12:44:23 WARN DAGScheduler: Broadcasting large task binary with size 1279.5 KiB\n"
     ]
    },
    {
     "name": "stdout",
     "output_type": "stream",
     "text": [
      "Saved Games Final Updated: 289 rows\n"
     ]
    },
    {
     "name": "stderr",
     "output_type": "stream",
     "text": [
      "24/11/30 12:44:48 WARN DAGScheduler: Broadcasting large task binary with size 1298.3 KiB\n"
     ]
    },
    {
     "name": "stdout",
     "output_type": "stream",
     "text": [
      "Saved Games Final Updated: 290 rows\n"
     ]
    },
    {
     "name": "stderr",
     "output_type": "stream",
     "text": [
      "24/11/30 12:45:12 WARN DAGScheduler: Broadcasting large task binary with size 1317.0 KiB\n"
     ]
    },
    {
     "name": "stdout",
     "output_type": "stream",
     "text": [
      "Saved Games Final Updated: 291 rows\n",
      "Processing Game ID: 16905, total moves: 140\n",
      "Processing Move: 0\n",
      "Processing Move: 15\n",
      "Processing Move: 30\n",
      "Processing Move: 45\n",
      "Processing Move: 60\n",
      "Processing Move: 75\n",
      "Processing Move: 90\n",
      "Processing Move: 105\n",
      "Processing Move: 120\n"
     ]
    },
    {
     "name": "stderr",
     "output_type": "stream",
     "text": [
      "24/11/30 12:47:59 WARN DAGScheduler: Broadcasting large task binary with size 2.5 MiB\n",
      "                                                                                \r"
     ]
    },
    {
     "name": "stdout",
     "output_type": "stream",
     "text": [
      "Saved Games Final Updated: 292 rows\n"
     ]
    },
    {
     "name": "stderr",
     "output_type": "stream",
     "text": [
      "24/11/30 12:49:40 WARN DAGScheduler: Broadcasting large task binary with size 2.5 MiB\n",
      "                                                                                \r"
     ]
    },
    {
     "name": "stdout",
     "output_type": "stream",
     "text": [
      "Saved Games Final Updated: 293 rows\n"
     ]
    },
    {
     "name": "stderr",
     "output_type": "stream",
     "text": [
      "24/11/30 12:51:19 WARN DAGScheduler: Broadcasting large task binary with size 2.5 MiB\n",
      "                                                                                \r"
     ]
    },
    {
     "name": "stdout",
     "output_type": "stream",
     "text": [
      "Saved Games Final Updated: 294 rows\n",
      "Processing Move: 135\n"
     ]
    },
    {
     "name": "stderr",
     "output_type": "stream",
     "text": [
      "24/11/30 12:53:01 WARN DAGScheduler: Broadcasting large task binary with size 2.5 MiB\n",
      "                                                                                \r"
     ]
    },
    {
     "name": "stdout",
     "output_type": "stream",
     "text": [
      "Saved Games Final Updated: 295 rows\n"
     ]
    },
    {
     "name": "stderr",
     "output_type": "stream",
     "text": [
      "24/11/30 12:54:40 WARN DAGScheduler: Broadcasting large task binary with size 2.5 MiB\n",
      "                                                                                \r"
     ]
    },
    {
     "name": "stdout",
     "output_type": "stream",
     "text": [
      "Saved Games Final Updated: 296 rows\n"
     ]
    },
    {
     "name": "stderr",
     "output_type": "stream",
     "text": [
      "24/11/30 12:56:25 WARN DAGScheduler: Broadcasting large task binary with size 2.6 MiB\n",
      "                                                                                \r"
     ]
    },
    {
     "name": "stdout",
     "output_type": "stream",
     "text": [
      "Saved Games Final Updated: 297 rows\n"
     ]
    },
    {
     "name": "stderr",
     "output_type": "stream",
     "text": [
      "24/11/30 12:58:13 WARN DAGScheduler: Broadcasting large task binary with size 2.6 MiB\n",
      "                                                                                \r"
     ]
    },
    {
     "name": "stdout",
     "output_type": "stream",
     "text": [
      "Saved Games Final Updated: 298 rows\n",
      "Processing Game ID: 17030, total moves: 21\n",
      "Processing Move: 0\n",
      "Processing Move: 15\n",
      "Saved Games Final Updated: 299 rows\n",
      "Processing Game ID: 17168, total moves: 23\n",
      "Processing Move: 0\n",
      "Processing Move: 15\n",
      "Saved Games Final Updated: 300 rows\n",
      "Processing Game ID: 17194, total moves: 78\n",
      "Processing Move: 0\n",
      "Processing Move: 15\n",
      "Processing Move: 30\n",
      "Processing Move: 45\n",
      "Processing Move: 60\n"
     ]
    },
    {
     "name": "stderr",
     "output_type": "stream",
     "text": [
      "24/11/30 12:59:29 WARN DAGScheduler: Broadcasting large task binary with size 1448.2 KiB\n"
     ]
    },
    {
     "name": "stdout",
     "output_type": "stream",
     "text": [
      "Saved Games Final Updated: 301 rows\n",
      "Processing Move: 75\n"
     ]
    },
    {
     "name": "stderr",
     "output_type": "stream",
     "text": [
      "24/11/30 12:59:59 WARN DAGScheduler: Broadcasting large task binary with size 1466.9 KiB\n",
      "                                                                                \r"
     ]
    },
    {
     "name": "stdout",
     "output_type": "stream",
     "text": [
      "Saved Games Final Updated: 302 rows\n"
     ]
    },
    {
     "name": "stderr",
     "output_type": "stream",
     "text": [
      "24/11/30 13:00:31 WARN DAGScheduler: Broadcasting large task binary with size 1485.6 KiB\n",
      "                                                                                \r"
     ]
    },
    {
     "name": "stdout",
     "output_type": "stream",
     "text": [
      "Saved Games Final Updated: 303 rows\n",
      "Processing Game ID: 17234, total moves: 54\n",
      "Processing Move: 0\n",
      "Processing Move: 15\n",
      "Processing Move: 30\n",
      "Processing Move: 45\n"
     ]
    },
    {
     "name": "stderr",
     "output_type": "stream",
     "text": [
      "24/11/30 13:01:02 WARN DAGScheduler: Broadcasting large task binary with size 1017.2 KiB\n"
     ]
    },
    {
     "name": "stdout",
     "output_type": "stream",
     "text": [
      "Saved Games Final Updated: 304 rows\n"
     ]
    },
    {
     "name": "stderr",
     "output_type": "stream",
     "text": [
      "24/11/30 13:01:18 WARN DAGScheduler: Broadcasting large task binary with size 1035.9 KiB\n"
     ]
    },
    {
     "name": "stdout",
     "output_type": "stream",
     "text": [
      "Saved Games Final Updated: 305 rows\n",
      "Processing Game ID: 17246, total moves: 79\n",
      "Processing Move: 0\n",
      "Processing Move: 15\n",
      "Processing Move: 30\n",
      "Processing Move: 45\n",
      "Processing Move: 60\n",
      "Processing Move: 75\n"
     ]
    },
    {
     "name": "stderr",
     "output_type": "stream",
     "text": [
      "24/11/30 13:02:18 WARN DAGScheduler: Broadcasting large task binary with size 1466.9 KiB\n"
     ]
    },
    {
     "name": "stdout",
     "output_type": "stream",
     "text": [
      "Saved Games Final Updated: 306 rows\n"
     ]
    },
    {
     "name": "stderr",
     "output_type": "stream",
     "text": [
      "24/11/30 13:02:50 WARN DAGScheduler: Broadcasting large task binary with size 1485.6 KiB\n"
     ]
    },
    {
     "name": "stdout",
     "output_type": "stream",
     "text": [
      "Saved Games Final Updated: 307 rows\n"
     ]
    },
    {
     "name": "stderr",
     "output_type": "stream",
     "text": [
      "24/11/30 13:03:22 WARN DAGScheduler: Broadcasting large task binary with size 1504.4 KiB\n"
     ]
    },
    {
     "name": "stdout",
     "output_type": "stream",
     "text": [
      "Saved Games Final Updated: 308 rows\n",
      "Processing Game ID: 17324, total moves: 41\n",
      "Processing Move: 0\n",
      "Processing Move: 15\n",
      "Processing Move: 30\n",
      "Saved Games Final Updated: 309 rows\n",
      "Saved Games Final Updated: 310 rows\n",
      "Processing Game ID: 17363, total moves: 63\n",
      "Processing Move: 0\n",
      "Processing Move: 15\n",
      "Processing Move: 30\n",
      "Processing Move: 45\n"
     ]
    },
    {
     "name": "stderr",
     "output_type": "stream",
     "text": [
      "24/11/30 13:04:32 WARN DAGScheduler: Broadcasting large task binary with size 1167.1 KiB\n"
     ]
    },
    {
     "name": "stdout",
     "output_type": "stream",
     "text": [
      "Saved Games Final Updated: 311 rows\n",
      "Processing Move: 60\n"
     ]
    },
    {
     "name": "stderr",
     "output_type": "stream",
     "text": [
      "24/11/30 13:04:52 WARN DAGScheduler: Broadcasting large task binary with size 1185.8 KiB\n"
     ]
    },
    {
     "name": "stdout",
     "output_type": "stream",
     "text": [
      "Saved Games Final Updated: 312 rows\n"
     ]
    },
    {
     "name": "stderr",
     "output_type": "stream",
     "text": [
      "24/11/30 13:05:12 WARN DAGScheduler: Broadcasting large task binary with size 1204.6 KiB\n"
     ]
    },
    {
     "name": "stdout",
     "output_type": "stream",
     "text": [
      "Saved Games Final Updated: 313 rows\n",
      "Processing Game ID: 17373, total moves: 15\n",
      "Processing Move: 0\n",
      "Processing Game ID: 17385, total moves: 30\n",
      "Processing Move: 0\n",
      "Processing Move: 15\n",
      "Saved Games Final Updated: 314 rows\n",
      "Processing Game ID: 11977, total moves: 111\n",
      "Processing Move: 0\n",
      "Processing Move: 15\n",
      "Processing Move: 30\n",
      "Processing Move: 45\n",
      "Processing Move: 60\n",
      "Processing Move: 75\n",
      "Processing Move: 90\n",
      "Processing Move: 105\n"
     ]
    },
    {
     "name": "stderr",
     "output_type": "stream",
     "text": [
      "24/11/30 13:07:20 WARN DAGScheduler: Broadcasting large task binary with size 2029.0 KiB\n",
      "                                                                                \r"
     ]
    },
    {
     "name": "stdout",
     "output_type": "stream",
     "text": [
      "Saved Games Final Updated: 315 rows\n"
     ]
    },
    {
     "name": "stderr",
     "output_type": "stream",
     "text": [
      "24/11/30 13:08:21 WARN DAGScheduler: Broadcasting large task binary with size 2047.8 KiB\n",
      "                                                                                \r"
     ]
    },
    {
     "name": "stdout",
     "output_type": "stream",
     "text": [
      "Saved Games Final Updated: 316 rows\n"
     ]
    },
    {
     "name": "stderr",
     "output_type": "stream",
     "text": [
      "24/11/30 13:09:24 WARN DAGScheduler: Broadcasting large task binary with size 2.0 MiB\n",
      "                                                                                \r"
     ]
    },
    {
     "name": "stdout",
     "output_type": "stream",
     "text": [
      "Saved Games Final Updated: 317 rows\n"
     ]
    },
    {
     "name": "stderr",
     "output_type": "stream",
     "text": [
      "24/11/30 13:10:27 WARN DAGScheduler: Broadcasting large task binary with size 2.0 MiB\n",
      "                                                                                \r"
     ]
    },
    {
     "name": "stdout",
     "output_type": "stream",
     "text": [
      "Saved Games Final Updated: 318 rows\n"
     ]
    },
    {
     "name": "stderr",
     "output_type": "stream",
     "text": [
      "24/11/30 13:11:35 WARN DAGScheduler: Broadcasting large task binary with size 2.1 MiB\n",
      "                                                                                \r"
     ]
    },
    {
     "name": "stdout",
     "output_type": "stream",
     "text": [
      "Saved Games Final Updated: 319 rows\n",
      "Processing Game ID: 12104, total moves: 90\n",
      "Processing Move: 0\n",
      "Processing Move: 15\n",
      "Processing Move: 30\n",
      "Processing Move: 45\n",
      "Processing Move: 60\n",
      "Processing Move: 75\n"
     ]
    },
    {
     "name": "stderr",
     "output_type": "stream",
     "text": [
      "24/11/30 13:12:50 WARN DAGScheduler: Broadcasting large task binary with size 1654.3 KiB\n",
      "                                                                                \r"
     ]
    },
    {
     "name": "stdout",
     "output_type": "stream",
     "text": [
      "Saved Games Final Updated: 320 rows\n"
     ]
    },
    {
     "name": "stderr",
     "output_type": "stream",
     "text": [
      "24/11/30 13:13:30 WARN DAGScheduler: Broadcasting large task binary with size 1673.0 KiB\n",
      "                                                                                \r"
     ]
    },
    {
     "name": "stdout",
     "output_type": "stream",
     "text": [
      "Saved Games Final Updated: 321 rows\n"
     ]
    },
    {
     "name": "stderr",
     "output_type": "stream",
     "text": [
      "24/11/30 13:14:10 WARN DAGScheduler: Broadcasting large task binary with size 1691.8 KiB\n",
      "                                                                                \r"
     ]
    },
    {
     "name": "stdout",
     "output_type": "stream",
     "text": [
      "Saved Games Final Updated: 322 rows\n"
     ]
    },
    {
     "name": "stderr",
     "output_type": "stream",
     "text": [
      "24/11/30 13:14:51 WARN DAGScheduler: Broadcasting large task binary with size 1710.5 KiB\n",
      "                                                                                \r"
     ]
    },
    {
     "name": "stdout",
     "output_type": "stream",
     "text": [
      "Saved Games Final Updated: 323 rows\n",
      "Processing Game ID: 12254, total moves: 24\n",
      "Processing Move: 0\n",
      "Processing Move: 15\n",
      "Saved Games Final Updated: 324 rows\n",
      "Processing Game ID: 12323, total moves: 45\n",
      "Processing Move: 0\n",
      "Processing Move: 15\n",
      "Processing Move: 30\n",
      "Saved Games Final Updated: 325 rows\n",
      "Saved Games Final Updated: 326 rows\n",
      "Processing Game ID: 12483, total moves: 60\n",
      "Processing Move: 0\n",
      "Processing Move: 15\n",
      "Processing Move: 30\n",
      "Processing Move: 45\n"
     ]
    },
    {
     "name": "stderr",
     "output_type": "stream",
     "text": [
      "24/11/30 13:16:12 WARN DAGScheduler: Broadcasting large task binary with size 1110.9 KiB\n"
     ]
    },
    {
     "name": "stdout",
     "output_type": "stream",
     "text": [
      "Saved Games Final Updated: 327 rows\n"
     ]
    },
    {
     "name": "stderr",
     "output_type": "stream",
     "text": [
      "24/11/30 13:16:30 WARN DAGScheduler: Broadcasting large task binary with size 1129.6 KiB\n"
     ]
    },
    {
     "name": "stdout",
     "output_type": "stream",
     "text": [
      "Saved Games Final Updated: 328 rows\n"
     ]
    },
    {
     "name": "stderr",
     "output_type": "stream",
     "text": [
      "24/11/30 13:16:49 WARN DAGScheduler: Broadcasting large task binary with size 1148.3 KiB\n"
     ]
    },
    {
     "name": "stdout",
     "output_type": "stream",
     "text": [
      "Saved Games Final Updated: 329 rows\n",
      "Processing Game ID: 12636, total moves: 83\n",
      "Processing Move: 0\n",
      "Processing Move: 15\n",
      "Processing Move: 30\n",
      "Processing Move: 45\n",
      "Processing Move: 60\n",
      "Processing Move: 75\n"
     ]
    },
    {
     "name": "stderr",
     "output_type": "stream",
     "text": [
      "24/11/30 13:17:54 WARN DAGScheduler: Broadcasting large task binary with size 1523.1 KiB\n"
     ]
    },
    {
     "name": "stdout",
     "output_type": "stream",
     "text": [
      "Saved Games Final Updated: 330 rows\n"
     ]
    },
    {
     "name": "stderr",
     "output_type": "stream",
     "text": [
      "24/11/30 13:18:28 WARN DAGScheduler: Broadcasting large task binary with size 1541.8 KiB\n",
      "                                                                                \r"
     ]
    },
    {
     "name": "stdout",
     "output_type": "stream",
     "text": [
      "Saved Games Final Updated: 331 rows\n"
     ]
    },
    {
     "name": "stderr",
     "output_type": "stream",
     "text": [
      "24/11/30 13:19:03 WARN DAGScheduler: Broadcasting large task binary with size 1560.6 KiB\n",
      "                                                                                \r"
     ]
    },
    {
     "name": "stdout",
     "output_type": "stream",
     "text": [
      "Saved Games Final Updated: 332 rows\n"
     ]
    },
    {
     "name": "stderr",
     "output_type": "stream",
     "text": [
      "24/11/30 13:19:38 WARN DAGScheduler: Broadcasting large task binary with size 1579.3 KiB\n",
      "                                                                                \r"
     ]
    },
    {
     "name": "stdout",
     "output_type": "stream",
     "text": [
      "Saved Games Final Updated: 333 rows\n",
      "Processing Game ID: 12691, total moves: 101\n",
      "Processing Move: 0\n",
      "Processing Move: 15\n",
      "Processing Move: 30\n",
      "Processing Move: 45\n",
      "Processing Move: 60\n",
      "Processing Move: 75\n",
      "Processing Move: 90\n"
     ]
    },
    {
     "name": "stderr",
     "output_type": "stream",
     "text": [
      "24/11/30 13:21:09 WARN DAGScheduler: Broadcasting large task binary with size 1841.7 KiB\n",
      "                                                                                \r"
     ]
    },
    {
     "name": "stdout",
     "output_type": "stream",
     "text": [
      "Saved Games Final Updated: 334 rows\n"
     ]
    },
    {
     "name": "stderr",
     "output_type": "stream",
     "text": [
      "24/11/30 13:21:58 WARN DAGScheduler: Broadcasting large task binary with size 1860.4 KiB\n",
      "                                                                                \r"
     ]
    },
    {
     "name": "stdout",
     "output_type": "stream",
     "text": [
      "Saved Games Final Updated: 335 rows\n"
     ]
    },
    {
     "name": "stderr",
     "output_type": "stream",
     "text": [
      "24/11/30 13:22:49 WARN DAGScheduler: Broadcasting large task binary with size 1879.1 KiB\n",
      "                                                                                \r"
     ]
    },
    {
     "name": "stdout",
     "output_type": "stream",
     "text": [
      "Saved Games Final Updated: 336 rows\n"
     ]
    },
    {
     "name": "stderr",
     "output_type": "stream",
     "text": [
      "24/11/30 13:23:41 WARN DAGScheduler: Broadcasting large task binary with size 1897.9 KiB\n",
      "                                                                                \r"
     ]
    },
    {
     "name": "stdout",
     "output_type": "stream",
     "text": [
      "Saved Games Final Updated: 337 rows\n"
     ]
    },
    {
     "name": "stderr",
     "output_type": "stream",
     "text": [
      "24/11/30 13:24:34 WARN DAGScheduler: Broadcasting large task binary with size 1916.6 KiB\n",
      "                                                                                \r"
     ]
    },
    {
     "name": "stdout",
     "output_type": "stream",
     "text": [
      "Saved Games Final Updated: 338 rows\n",
      "Processing Game ID: 12849, total moves: 92\n",
      "Processing Move: 0\n",
      "Processing Move: 15\n",
      "Processing Move: 30\n",
      "Processing Move: 45\n",
      "Processing Move: 60\n",
      "Processing Move: 75\n"
     ]
    },
    {
     "name": "stderr",
     "output_type": "stream",
     "text": [
      "24/11/30 13:25:51 WARN DAGScheduler: Broadcasting large task binary with size 1691.8 KiB\n",
      "                                                                                \r"
     ]
    },
    {
     "name": "stdout",
     "output_type": "stream",
     "text": [
      "Saved Games Final Updated: 339 rows\n"
     ]
    },
    {
     "name": "stderr",
     "output_type": "stream",
     "text": [
      "24/11/30 13:26:33 WARN DAGScheduler: Broadcasting large task binary with size 1710.5 KiB\n",
      "                                                                                \r"
     ]
    },
    {
     "name": "stdout",
     "output_type": "stream",
     "text": [
      "Saved Games Final Updated: 340 rows\n"
     ]
    },
    {
     "name": "stderr",
     "output_type": "stream",
     "text": [
      "24/11/30 13:27:15 WARN DAGScheduler: Broadcasting large task binary with size 1729.2 KiB\n",
      "                                                                                \r"
     ]
    },
    {
     "name": "stdout",
     "output_type": "stream",
     "text": [
      "Saved Games Final Updated: 341 rows\n",
      "Processing Move: 90\n"
     ]
    },
    {
     "name": "stderr",
     "output_type": "stream",
     "text": [
      "24/11/30 13:27:58 WARN DAGScheduler: Broadcasting large task binary with size 1748.0 KiB\n",
      "                                                                                \r"
     ]
    },
    {
     "name": "stdout",
     "output_type": "stream",
     "text": [
      "Saved Games Final Updated: 342 rows\n",
      "Processing Game ID: 12930, total moves: 116\n",
      "Processing Move: 0\n",
      "Processing Move: 15\n",
      "Processing Move: 30\n",
      "Processing Move: 45\n",
      "Processing Move: 60\n",
      "Processing Move: 75\n",
      "Processing Move: 90\n",
      "Processing Move: 105\n"
     ]
    },
    {
     "name": "stderr",
     "output_type": "stream",
     "text": [
      "24/11/30 13:29:56 WARN DAGScheduler: Broadcasting large task binary with size 2.1 MiB\n",
      "                                                                                \r"
     ]
    },
    {
     "name": "stdout",
     "output_type": "stream",
     "text": [
      "Saved Games Final Updated: 343 rows\n"
     ]
    },
    {
     "name": "stderr",
     "output_type": "stream",
     "text": [
      "24/11/30 13:31:04 WARN DAGScheduler: Broadcasting large task binary with size 2.1 MiB\n",
      "                                                                                \r"
     ]
    },
    {
     "name": "stdout",
     "output_type": "stream",
     "text": [
      "Saved Games Final Updated: 344 rows\n"
     ]
    },
    {
     "name": "stderr",
     "output_type": "stream",
     "text": [
      "24/11/30 13:32:14 WARN DAGScheduler: Broadcasting large task binary with size 2.1 MiB\n",
      "                                                                                \r"
     ]
    },
    {
     "name": "stdout",
     "output_type": "stream",
     "text": [
      "Saved Games Final Updated: 345 rows\n"
     ]
    },
    {
     "name": "stderr",
     "output_type": "stream",
     "text": [
      "24/11/30 13:33:24 WARN DAGScheduler: Broadcasting large task binary with size 2.1 MiB\n",
      "                                                                                \r"
     ]
    },
    {
     "name": "stdout",
     "output_type": "stream",
     "text": [
      "Saved Games Final Updated: 346 rows\n"
     ]
    },
    {
     "name": "stderr",
     "output_type": "stream",
     "text": [
      "24/11/30 13:34:33 WARN DAGScheduler: Broadcasting large task binary with size 2.1 MiB\n",
      "                                                                                \r"
     ]
    },
    {
     "name": "stdout",
     "output_type": "stream",
     "text": [
      "Saved Games Final Updated: 347 rows\n",
      "Processing Game ID: 13002, total moves: 48\n",
      "Processing Move: 0\n",
      "Processing Move: 15\n",
      "Processing Move: 30\n",
      "Processing Move: 45\n",
      "Saved Games Final Updated: 348 rows\n",
      "Saved Games Final Updated: 349 rows\n",
      "Processing Game ID: 13375, total moves: 68\n",
      "Processing Move: 0\n",
      "Processing Move: 15\n",
      "Processing Move: 30\n",
      "Processing Move: 45\n",
      "Processing Move: 60\n"
     ]
    },
    {
     "name": "stderr",
     "output_type": "stream",
     "text": [
      "24/11/30 13:35:58 WARN DAGScheduler: Broadcasting large task binary with size 1260.8 KiB\n"
     ]
    },
    {
     "name": "stdout",
     "output_type": "stream",
     "text": [
      "Saved Games Final Updated: 350 rows\n"
     ]
    },
    {
     "name": "stderr",
     "output_type": "stream",
     "text": [
      "24/11/30 13:36:21 WARN DAGScheduler: Broadcasting large task binary with size 1279.5 KiB\n"
     ]
    },
    {
     "name": "stdout",
     "output_type": "stream",
     "text": [
      "Saved Games Final Updated: 351 rows\n"
     ]
    },
    {
     "name": "stderr",
     "output_type": "stream",
     "text": [
      "24/11/30 13:36:45 WARN DAGScheduler: Broadcasting large task binary with size 1298.3 KiB\n",
      "                                                                                \r"
     ]
    },
    {
     "name": "stdout",
     "output_type": "stream",
     "text": [
      "Saved Games Final Updated: 352 rows\n",
      "Processing Game ID: 13402, total moves: 125\n",
      "Processing Move: 0\n",
      "Processing Move: 15\n",
      "Processing Move: 30\n",
      "Processing Move: 45\n",
      "Processing Move: 60\n",
      "Processing Move: 75\n",
      "Processing Move: 90\n",
      "Processing Move: 105\n"
     ]
    },
    {
     "name": "stderr",
     "output_type": "stream",
     "text": [
      "24/11/30 13:39:03 WARN DAGScheduler: Broadcasting large task binary with size 2.2 MiB\n",
      "                                                                                \r"
     ]
    },
    {
     "name": "stdout",
     "output_type": "stream",
     "text": [
      "Saved Games Final Updated: 353 rows\n"
     ]
    },
    {
     "name": "stderr",
     "output_type": "stream",
     "text": [
      "24/11/30 13:40:20 WARN DAGScheduler: Broadcasting large task binary with size 2.2 MiB\n",
      "                                                                                \r"
     ]
    },
    {
     "name": "stdout",
     "output_type": "stream",
     "text": [
      "Saved Games Final Updated: 354 rows\n",
      "Processing Move: 120\n"
     ]
    },
    {
     "name": "stderr",
     "output_type": "stream",
     "text": [
      "24/11/30 13:41:38 WARN DAGScheduler: Broadcasting large task binary with size 2.3 MiB\n",
      "                                                                                \r"
     ]
    },
    {
     "name": "stdout",
     "output_type": "stream",
     "text": [
      "Saved Games Final Updated: 355 rows\n"
     ]
    },
    {
     "name": "stderr",
     "output_type": "stream",
     "text": [
      "24/11/30 13:42:59 WARN DAGScheduler: Broadcasting large task binary with size 2.3 MiB\n",
      "                                                                                \r"
     ]
    },
    {
     "name": "stdout",
     "output_type": "stream",
     "text": [
      "Saved Games Final Updated: 356 rows\n"
     ]
    },
    {
     "name": "stderr",
     "output_type": "stream",
     "text": [
      "24/11/30 13:44:20 WARN DAGScheduler: Broadcasting large task binary with size 2.3 MiB\n",
      "                                                                                \r"
     ]
    },
    {
     "name": "stdout",
     "output_type": "stream",
     "text": [
      "Saved Games Final Updated: 357 rows\n"
     ]
    },
    {
     "name": "stderr",
     "output_type": "stream",
     "text": [
      "24/11/30 13:45:42 WARN DAGScheduler: Broadcasting large task binary with size 2.3 MiB\n",
      "                                                                                \r"
     ]
    },
    {
     "name": "stdout",
     "output_type": "stream",
     "text": [
      "Saved Games Final Updated: 358 rows\n",
      "Processing Game ID: 13447, total moves: 48\n",
      "Processing Move: 0\n",
      "Processing Move: 15\n",
      "Processing Move: 30\n",
      "Processing Move: 45\n",
      "Saved Games Final Updated: 359 rows\n",
      "Saved Games Final Updated: 360 rows\n",
      "Processing Game ID: 13578, total moves: 99\n",
      "Processing Move: 0\n",
      "Processing Move: 15\n",
      "Processing Move: 30\n",
      "Processing Move: 45\n",
      "Processing Move: 60\n",
      "Processing Move: 75\n",
      "Processing Move: 90\n"
     ]
    },
    {
     "name": "stderr",
     "output_type": "stream",
     "text": [
      "24/11/30 13:47:51 WARN DAGScheduler: Broadcasting large task binary with size 1822.9 KiB\n",
      "                                                                                \r"
     ]
    },
    {
     "name": "stdout",
     "output_type": "stream",
     "text": [
      "Saved Games Final Updated: 361 rows\n"
     ]
    },
    {
     "name": "stderr",
     "output_type": "stream",
     "text": [
      "24/11/30 13:48:41 WARN DAGScheduler: Broadcasting large task binary with size 1841.7 KiB\n",
      "                                                                                \r"
     ]
    },
    {
     "name": "stdout",
     "output_type": "stream",
     "text": [
      "Saved Games Final Updated: 362 rows\n"
     ]
    },
    {
     "name": "stderr",
     "output_type": "stream",
     "text": [
      "24/11/30 13:49:31 WARN DAGScheduler: Broadcasting large task binary with size 1860.4 KiB\n",
      "                                                                                \r"
     ]
    },
    {
     "name": "stdout",
     "output_type": "stream",
     "text": [
      "Saved Games Final Updated: 363 rows\n"
     ]
    },
    {
     "name": "stderr",
     "output_type": "stream",
     "text": [
      "24/11/30 13:50:23 WARN DAGScheduler: Broadcasting large task binary with size 1879.1 KiB\n",
      "                                                                                \r"
     ]
    },
    {
     "name": "stdout",
     "output_type": "stream",
     "text": [
      "Saved Games Final Updated: 364 rows\n",
      "Processing Game ID: 13621, total moves: 61\n",
      "Processing Move: 0\n",
      "Processing Move: 15\n",
      "Processing Move: 30\n",
      "Processing Move: 45\n"
     ]
    },
    {
     "name": "stderr",
     "output_type": "stream",
     "text": [
      "24/11/30 13:51:00 WARN DAGScheduler: Broadcasting large task binary with size 1129.6 KiB\n"
     ]
    },
    {
     "name": "stdout",
     "output_type": "stream",
     "text": [
      "Saved Games Final Updated: 365 rows\n"
     ]
    },
    {
     "name": "stderr",
     "output_type": "stream",
     "text": [
      "24/11/30 13:51:19 WARN DAGScheduler: Broadcasting large task binary with size 1148.3 KiB\n"
     ]
    },
    {
     "name": "stdout",
     "output_type": "stream",
     "text": [
      "Saved Games Final Updated: 366 rows\n"
     ]
    },
    {
     "name": "stderr",
     "output_type": "stream",
     "text": [
      "24/11/30 13:51:38 WARN DAGScheduler: Broadcasting large task binary with size 1167.1 KiB\n"
     ]
    },
    {
     "name": "stdout",
     "output_type": "stream",
     "text": [
      "Saved Games Final Updated: 367 rows\n",
      "Processing Game ID: 14081, total moves: 29\n",
      "Processing Move: 0\n",
      "Processing Move: 15\n",
      "Saved Games Final Updated: 368 rows\n",
      "Processing Game ID: 14084, total moves: 118\n",
      "Processing Move: 0\n",
      "Processing Move: 15\n",
      "Processing Move: 30\n",
      "Processing Move: 45\n",
      "Processing Move: 60\n",
      "Processing Move: 75\n",
      "Processing Move: 90\n",
      "Processing Move: 105\n"
     ]
    },
    {
     "name": "stderr",
     "output_type": "stream",
     "text": [
      "24/11/30 13:53:53 WARN DAGScheduler: Broadcasting large task binary with size 2.1 MiB\n",
      "                                                                                \r"
     ]
    },
    {
     "name": "stdout",
     "output_type": "stream",
     "text": [
      "Saved Games Final Updated: 369 rows\n"
     ]
    },
    {
     "name": "stderr",
     "output_type": "stream",
     "text": [
      "24/11/30 13:55:02 WARN DAGScheduler: Broadcasting large task binary with size 2.1 MiB\n",
      "                                                                                \r"
     ]
    },
    {
     "name": "stdout",
     "output_type": "stream",
     "text": [
      "Saved Games Final Updated: 370 rows\n"
     ]
    },
    {
     "name": "stderr",
     "output_type": "stream",
     "text": [
      "24/11/30 13:56:13 WARN DAGScheduler: Broadcasting large task binary with size 2.1 MiB\n",
      "                                                                                \r"
     ]
    },
    {
     "name": "stdout",
     "output_type": "stream",
     "text": [
      "Saved Games Final Updated: 371 rows\n"
     ]
    },
    {
     "name": "stderr",
     "output_type": "stream",
     "text": [
      "24/11/30 13:57:27 WARN DAGScheduler: Broadcasting large task binary with size 2.2 MiB\n",
      "                                                                                \r"
     ]
    },
    {
     "name": "stdout",
     "output_type": "stream",
     "text": [
      "Saved Games Final Updated: 372 rows\n"
     ]
    },
    {
     "name": "stderr",
     "output_type": "stream",
     "text": [
      "24/11/30 13:58:39 WARN DAGScheduler: Broadcasting large task binary with size 2.2 MiB\n",
      "                                                                                \r"
     ]
    },
    {
     "name": "stdout",
     "output_type": "stream",
     "text": [
      "Saved Games Final Updated: 373 rows\n",
      "Processing Game ID: 14215, total moves: 40\n",
      "Processing Move: 0\n",
      "Processing Move: 15\n",
      "Processing Move: 30\n",
      "Saved Games Final Updated: 374 rows\n",
      "Saved Games Final Updated: 375 rows\n",
      "Processing Game ID: 14301, total moves: 85\n",
      "Processing Move: 0\n",
      "Processing Move: 15\n",
      "Processing Move: 30\n",
      "Processing Move: 45\n",
      "Processing Move: 60\n",
      "Processing Move: 75\n"
     ]
    },
    {
     "name": "stderr",
     "output_type": "stream",
     "text": [
      "24/11/30 14:00:14 WARN DAGScheduler: Broadcasting large task binary with size 1560.6 KiB\n",
      "                                                                                \r"
     ]
    },
    {
     "name": "stdout",
     "output_type": "stream",
     "text": [
      "Saved Games Final Updated: 376 rows\n"
     ]
    },
    {
     "name": "stderr",
     "output_type": "stream",
     "text": [
      "24/11/30 14:00:50 WARN DAGScheduler: Broadcasting large task binary with size 1579.3 KiB\n",
      "                                                                                \r"
     ]
    },
    {
     "name": "stdout",
     "output_type": "stream",
     "text": [
      "Saved Games Final Updated: 377 rows\n"
     ]
    },
    {
     "name": "stderr",
     "output_type": "stream",
     "text": [
      "24/11/30 14:01:27 WARN DAGScheduler: Broadcasting large task binary with size 1598.1 KiB\n",
      "                                                                                \r"
     ]
    },
    {
     "name": "stdout",
     "output_type": "stream",
     "text": [
      "Saved Games Final Updated: 378 rows\n"
     ]
    },
    {
     "name": "stderr",
     "output_type": "stream",
     "text": [
      "24/11/30 14:02:05 WARN DAGScheduler: Broadcasting large task binary with size 1616.8 KiB\n",
      "                                                                                \r"
     ]
    },
    {
     "name": "stdout",
     "output_type": "stream",
     "text": [
      "Saved Games Final Updated: 379 rows\n",
      "Processing Game ID: 14421, total moves: 39\n",
      "Processing Move: 0\n",
      "Processing Move: 15\n",
      "Processing Move: 30\n",
      "Saved Games Final Updated: 380 rows\n",
      "Processing Game ID: 14508, total moves: 122\n",
      "Processing Move: 0\n",
      "Processing Move: 15\n",
      "Processing Move: 30\n",
      "Processing Move: 45\n",
      "Processing Move: 60\n",
      "Processing Move: 75\n",
      "Processing Move: 90\n",
      "Processing Move: 105\n"
     ]
    },
    {
     "name": "stderr",
     "output_type": "stream",
     "text": [
      "24/11/30 14:04:33 WARN DAGScheduler: Broadcasting large task binary with size 2.2 MiB\n",
      "                                                                                \r"
     ]
    },
    {
     "name": "stdout",
     "output_type": "stream",
     "text": [
      "Saved Games Final Updated: 381 rows\n"
     ]
    },
    {
     "name": "stderr",
     "output_type": "stream",
     "text": [
      "24/11/30 14:05:48 WARN DAGScheduler: Broadcasting large task binary with size 2.2 MiB\n",
      "                                                                                \r"
     ]
    },
    {
     "name": "stdout",
     "output_type": "stream",
     "text": [
      "Saved Games Final Updated: 382 rows\n"
     ]
    },
    {
     "name": "stderr",
     "output_type": "stream",
     "text": [
      "24/11/30 14:07:04 WARN DAGScheduler: Broadcasting large task binary with size 2.2 MiB\n",
      "                                                                                \r"
     ]
    },
    {
     "name": "stdout",
     "output_type": "stream",
     "text": [
      "Saved Games Final Updated: 383 rows\n"
     ]
    },
    {
     "name": "stderr",
     "output_type": "stream",
     "text": [
      "24/11/30 14:08:19 WARN DAGScheduler: Broadcasting large task binary with size 2.2 MiB\n",
      "                                                                                \r"
     ]
    },
    {
     "name": "stdout",
     "output_type": "stream",
     "text": [
      "Saved Games Final Updated: 384 rows\n"
     ]
    },
    {
     "name": "stderr",
     "output_type": "stream",
     "text": [
      "24/11/30 14:09:37 WARN DAGScheduler: Broadcasting large task binary with size 2.2 MiB\n",
      "                                                                                \r"
     ]
    },
    {
     "name": "stdout",
     "output_type": "stream",
     "text": [
      "Saved Games Final Updated: 385 rows\n",
      "Processing Move: 120\n"
     ]
    },
    {
     "name": "stderr",
     "output_type": "stream",
     "text": [
      "24/11/30 14:10:58 WARN DAGScheduler: Broadcasting large task binary with size 2.3 MiB\n",
      "                                                                                \r"
     ]
    },
    {
     "name": "stdout",
     "output_type": "stream",
     "text": [
      "Saved Games Final Updated: 386 rows\n",
      "Processing Game ID: 14545, total moves: 67\n",
      "Processing Move: 0\n",
      "Processing Move: 15\n",
      "Processing Move: 30\n",
      "Processing Move: 45\n",
      "Processing Move: 60\n"
     ]
    },
    {
     "name": "stderr",
     "output_type": "stream",
     "text": [
      "24/11/30 14:11:43 WARN DAGScheduler: Broadcasting large task binary with size 1242.0 KiB\n"
     ]
    },
    {
     "name": "stdout",
     "output_type": "stream",
     "text": [
      "Saved Games Final Updated: 387 rows\n"
     ]
    },
    {
     "name": "stderr",
     "output_type": "stream",
     "text": [
      "24/11/30 14:12:05 WARN DAGScheduler: Broadcasting large task binary with size 1260.8 KiB\n"
     ]
    },
    {
     "name": "stdout",
     "output_type": "stream",
     "text": [
      "Saved Games Final Updated: 388 rows\n"
     ]
    },
    {
     "name": "stderr",
     "output_type": "stream",
     "text": [
      "24/11/30 14:12:29 WARN DAGScheduler: Broadcasting large task binary with size 1279.5 KiB\n"
     ]
    },
    {
     "name": "stdout",
     "output_type": "stream",
     "text": [
      "Saved Games Final Updated: 389 rows\n",
      "Processing Game ID: 14745, total moves: 77\n",
      "Processing Move: 0\n",
      "Processing Move: 15\n",
      "Processing Move: 30\n",
      "Processing Move: 45\n",
      "Processing Move: 60\n"
     ]
    },
    {
     "name": "stderr",
     "output_type": "stream",
     "text": [
      "24/11/30 14:13:26 WARN DAGScheduler: Broadcasting large task binary with size 1429.4 KiB\n",
      "                                                                                \r"
     ]
    },
    {
     "name": "stdout",
     "output_type": "stream",
     "text": [
      "Saved Games Final Updated: 390 rows\n"
     ]
    },
    {
     "name": "stderr",
     "output_type": "stream",
     "text": [
      "24/11/30 14:13:56 WARN DAGScheduler: Broadcasting large task binary with size 1448.2 KiB\n"
     ]
    },
    {
     "name": "stdout",
     "output_type": "stream",
     "text": [
      "Saved Games Final Updated: 391 rows\n",
      "Processing Move: 75\n"
     ]
    },
    {
     "name": "stderr",
     "output_type": "stream",
     "text": [
      "24/11/30 14:14:28 WARN DAGScheduler: Broadcasting large task binary with size 1466.9 KiB\n"
     ]
    },
    {
     "name": "stdout",
     "output_type": "stream",
     "text": [
      "Saved Games Final Updated: 392 rows\n",
      "Processing Game ID: 14746, total moves: 74\n",
      "Processing Move: 0\n",
      "Processing Move: 15\n",
      "Processing Move: 30\n",
      "Processing Move: 45\n",
      "Processing Move: 60\n"
     ]
    },
    {
     "name": "stderr",
     "output_type": "stream",
     "text": [
      "24/11/30 14:15:21 WARN DAGScheduler: Broadcasting large task binary with size 1373.2 KiB\n"
     ]
    },
    {
     "name": "stdout",
     "output_type": "stream",
     "text": [
      "Saved Games Final Updated: 393 rows\n"
     ]
    },
    {
     "name": "stderr",
     "output_type": "stream",
     "text": [
      "24/11/30 14:15:48 WARN DAGScheduler: Broadcasting large task binary with size 1391.9 KiB\n"
     ]
    },
    {
     "name": "stdout",
     "output_type": "stream",
     "text": [
      "Saved Games Final Updated: 394 rows\n"
     ]
    },
    {
     "name": "stderr",
     "output_type": "stream",
     "text": [
      "24/11/30 14:16:17 WARN DAGScheduler: Broadcasting large task binary with size 1410.7 KiB\n",
      "                                                                                \r"
     ]
    },
    {
     "name": "stdout",
     "output_type": "stream",
     "text": [
      "Saved Games Final Updated: 395 rows\n",
      "Processing Game ID: 14811, total moves: 34\n",
      "Processing Move: 0\n",
      "Processing Move: 15\n",
      "Processing Move: 30\n",
      "Saved Games Final Updated: 396 rows\n",
      "Processing Game ID: 14924, total moves: 115\n",
      "Processing Move: 0\n",
      "Processing Move: 15\n",
      "Processing Move: 30\n",
      "Processing Move: 45\n",
      "Processing Move: 60\n",
      "Processing Move: 75\n",
      "Processing Move: 90\n",
      "Processing Move: 105\n"
     ]
    },
    {
     "name": "stderr",
     "output_type": "stream",
     "text": [
      "24/11/30 14:18:33 WARN DAGScheduler: Broadcasting large task binary with size 2.1 MiB\n",
      "                                                                                \r"
     ]
    },
    {
     "name": "stdout",
     "output_type": "stream",
     "text": [
      "Saved Games Final Updated: 397 rows\n"
     ]
    },
    {
     "name": "stderr",
     "output_type": "stream",
     "text": [
      "24/11/30 14:19:39 WARN DAGScheduler: Broadcasting large task binary with size 2.1 MiB\n",
      "                                                                                \r"
     ]
    },
    {
     "name": "stdout",
     "output_type": "stream",
     "text": [
      "Saved Games Final Updated: 398 rows\n"
     ]
    },
    {
     "name": "stderr",
     "output_type": "stream",
     "text": [
      "24/11/30 14:20:47 WARN DAGScheduler: Broadcasting large task binary with size 2.1 MiB\n",
      "                                                                                \r"
     ]
    },
    {
     "name": "stdout",
     "output_type": "stream",
     "text": [
      "Saved Games Final Updated: 399 rows\n"
     ]
    },
    {
     "name": "stderr",
     "output_type": "stream",
     "text": [
      "24/11/30 14:21:55 WARN DAGScheduler: Broadcasting large task binary with size 2.1 MiB\n",
      "                                                                                \r"
     ]
    },
    {
     "name": "stdout",
     "output_type": "stream",
     "text": [
      "Saved Games Final Updated: 400 rows\n"
     ]
    },
    {
     "name": "stderr",
     "output_type": "stream",
     "text": [
      "24/11/30 14:23:05 WARN DAGScheduler: Broadcasting large task binary with size 2.1 MiB\n",
      "                                                                                \r"
     ]
    },
    {
     "name": "stdout",
     "output_type": "stream",
     "text": [
      "Saved Games Final Updated: 401 rows\n",
      "Processing Game ID: 14956, total moves: 61\n",
      "Processing Move: 0\n",
      "Processing Move: 15\n",
      "Processing Move: 30\n",
      "Processing Move: 45\n"
     ]
    },
    {
     "name": "stderr",
     "output_type": "stream",
     "text": [
      "24/11/30 14:23:43 WARN DAGScheduler: Broadcasting large task binary with size 1129.6 KiB\n"
     ]
    },
    {
     "name": "stdout",
     "output_type": "stream",
     "text": [
      "Saved Games Final Updated: 402 rows\n"
     ]
    },
    {
     "name": "stderr",
     "output_type": "stream",
     "text": [
      "24/11/30 14:24:02 WARN DAGScheduler: Broadcasting large task binary with size 1148.3 KiB\n"
     ]
    },
    {
     "name": "stdout",
     "output_type": "stream",
     "text": [
      "Saved Games Final Updated: 403 rows\n"
     ]
    },
    {
     "name": "stderr",
     "output_type": "stream",
     "text": [
      "24/11/30 14:24:22 WARN DAGScheduler: Broadcasting large task binary with size 1167.1 KiB\n"
     ]
    },
    {
     "name": "stdout",
     "output_type": "stream",
     "text": [
      "Saved Games Final Updated: 404 rows\n",
      "Processing Game ID: 14957, total moves: 45\n",
      "Processing Move: 0\n",
      "Processing Move: 15\n",
      "Processing Move: 30\n",
      "Saved Games Final Updated: 405 rows\n",
      "Saved Games Final Updated: 406 rows\n",
      "Processing Game ID: 14968, total moves: 55\n",
      "Processing Move: 0\n",
      "Processing Move: 15\n",
      "Processing Move: 30\n",
      "Processing Move: 45\n"
     ]
    },
    {
     "name": "stderr",
     "output_type": "stream",
     "text": [
      "24/11/30 14:25:29 WARN DAGScheduler: Broadcasting large task binary with size 1035.9 KiB\n"
     ]
    },
    {
     "name": "stdout",
     "output_type": "stream",
     "text": [
      "Saved Games Final Updated: 407 rows\n"
     ]
    },
    {
     "name": "stderr",
     "output_type": "stream",
     "text": [
      "24/11/30 14:25:45 WARN DAGScheduler: Broadcasting large task binary with size 1054.7 KiB\n"
     ]
    },
    {
     "name": "stdout",
     "output_type": "stream",
     "text": [
      "Saved Games Final Updated: 408 rows\n",
      "Processing Game ID: 15109, total moves: 34\n",
      "Processing Move: 0\n",
      "Processing Move: 15\n",
      "Processing Move: 30\n",
      "Saved Games Final Updated: 409 rows\n",
      "Processing Game ID: 15284, total moves: 53\n",
      "Processing Move: 0\n",
      "Processing Move: 15\n",
      "Processing Move: 30\n",
      "Processing Move: 45\n",
      "Saved Games Final Updated: 410 rows\n"
     ]
    },
    {
     "name": "stderr",
     "output_type": "stream",
     "text": [
      "24/11/30 14:26:46 WARN DAGScheduler: Broadcasting large task binary with size 1017.2 KiB\n"
     ]
    },
    {
     "name": "stdout",
     "output_type": "stream",
     "text": [
      "Saved Games Final Updated: 411 rows\n",
      "Processing Game ID: 15419, total moves: 86\n",
      "Processing Move: 0\n",
      "Processing Move: 15\n",
      "Processing Move: 30\n",
      "Processing Move: 45\n",
      "Processing Move: 60\n",
      "Processing Move: 75\n"
     ]
    },
    {
     "name": "stderr",
     "output_type": "stream",
     "text": [
      "24/11/30 14:27:54 WARN DAGScheduler: Broadcasting large task binary with size 1579.3 KiB\n"
     ]
    },
    {
     "name": "stdout",
     "output_type": "stream",
     "text": [
      "Saved Games Final Updated: 412 rows\n"
     ]
    },
    {
     "name": "stderr",
     "output_type": "stream",
     "text": [
      "24/11/30 14:28:31 WARN DAGScheduler: Broadcasting large task binary with size 1598.1 KiB\n",
      "                                                                                \r"
     ]
    },
    {
     "name": "stdout",
     "output_type": "stream",
     "text": [
      "Saved Games Final Updated: 413 rows\n"
     ]
    },
    {
     "name": "stderr",
     "output_type": "stream",
     "text": [
      "24/11/30 14:29:08 WARN DAGScheduler: Broadcasting large task binary with size 1616.8 KiB\n"
     ]
    },
    {
     "name": "stdout",
     "output_type": "stream",
     "text": [
      "Saved Games Final Updated: 414 rows\n"
     ]
    },
    {
     "name": "stderr",
     "output_type": "stream",
     "text": [
      "24/11/30 14:29:47 WARN DAGScheduler: Broadcasting large task binary with size 1635.5 KiB\n"
     ]
    },
    {
     "name": "stdout",
     "output_type": "stream",
     "text": [
      "Saved Games Final Updated: 415 rows\n",
      "Processing Game ID: 15450, total moves: 57\n",
      "Processing Move: 0\n",
      "Processing Move: 15\n",
      "Processing Move: 30\n",
      "Processing Move: 45\n"
     ]
    },
    {
     "name": "stderr",
     "output_type": "stream",
     "text": [
      "24/11/30 14:30:22 WARN DAGScheduler: Broadcasting large task binary with size 1073.4 KiB\n"
     ]
    },
    {
     "name": "stdout",
     "output_type": "stream",
     "text": [
      "Saved Games Final Updated: 416 rows\n"
     ]
    },
    {
     "name": "stderr",
     "output_type": "stream",
     "text": [
      "24/11/30 14:30:40 WARN DAGScheduler: Broadcasting large task binary with size 1092.1 KiB\n"
     ]
    },
    {
     "name": "stdout",
     "output_type": "stream",
     "text": [
      "Saved Games Final Updated: 417 rows\n",
      "Processing Game ID: 15463, total moves: 137\n",
      "Processing Move: 0\n",
      "Processing Move: 15\n",
      "Processing Move: 30\n",
      "Processing Move: 45\n",
      "Processing Move: 60\n",
      "Processing Move: 75\n",
      "Processing Move: 90\n",
      "Processing Move: 105\n",
      "Processing Move: 120\n"
     ]
    },
    {
     "name": "stderr",
     "output_type": "stream",
     "text": [
      "24/11/30 14:33:24 WARN DAGScheduler: Broadcasting large task binary with size 2.4 MiB\n",
      "                                                                                \r"
     ]
    },
    {
     "name": "stdout",
     "output_type": "stream",
     "text": [
      "Saved Games Final Updated: 418 rows\n"
     ]
    },
    {
     "name": "stderr",
     "output_type": "stream",
     "text": [
      "24/11/30 14:34:59 WARN DAGScheduler: Broadcasting large task binary with size 2.5 MiB\n",
      "                                                                                \r"
     ]
    },
    {
     "name": "stdout",
     "output_type": "stream",
     "text": [
      "Saved Games Final Updated: 419 rows\n"
     ]
    },
    {
     "name": "stderr",
     "output_type": "stream",
     "text": [
      "24/11/30 14:36:36 WARN DAGScheduler: Broadcasting large task binary with size 2.5 MiB\n",
      "                                                                                \r"
     ]
    },
    {
     "name": "stdout",
     "output_type": "stream",
     "text": [
      "Saved Games Final Updated: 420 rows\n"
     ]
    },
    {
     "name": "stderr",
     "output_type": "stream",
     "text": [
      "24/11/30 14:38:15 WARN DAGScheduler: Broadcasting large task binary with size 2.5 MiB\n",
      "                                                                                \r"
     ]
    },
    {
     "name": "stdout",
     "output_type": "stream",
     "text": [
      "Saved Games Final Updated: 421 rows\n"
     ]
    },
    {
     "name": "stderr",
     "output_type": "stream",
     "text": [
      "24/11/30 14:39:56 WARN DAGScheduler: Broadcasting large task binary with size 2.5 MiB\n",
      "                                                                                \r"
     ]
    },
    {
     "name": "stdout",
     "output_type": "stream",
     "text": [
      "Saved Games Final Updated: 422 rows\n",
      "Processing Move: 135\n"
     ]
    },
    {
     "name": "stderr",
     "output_type": "stream",
     "text": [
      "24/11/30 14:41:41 WARN DAGScheduler: Broadcasting large task binary with size 2.5 MiB\n",
      "                                                                                \r"
     ]
    },
    {
     "name": "stdout",
     "output_type": "stream",
     "text": [
      "Saved Games Final Updated: 423 rows\n",
      "Processing Game ID: 16088, total moves: 50\n",
      "Processing Move: 0\n",
      "Processing Move: 15\n",
      "Processing Move: 30\n",
      "Processing Move: 45\n",
      "Saved Games Final Updated: 424 rows\n",
      "Saved Games Final Updated: 425 rows\n",
      "Processing Game ID: 16099, total moves: 68\n",
      "Processing Move: 0\n",
      "Processing Move: 15\n",
      "Processing Move: 30\n",
      "Processing Move: 45\n",
      "Processing Move: 60\n"
     ]
    },
    {
     "name": "stderr",
     "output_type": "stream",
     "text": [
      "24/11/30 14:43:08 WARN DAGScheduler: Broadcasting large task binary with size 1260.8 KiB\n"
     ]
    },
    {
     "name": "stdout",
     "output_type": "stream",
     "text": [
      "Saved Games Final Updated: 426 rows\n"
     ]
    },
    {
     "name": "stderr",
     "output_type": "stream",
     "text": [
      "24/11/30 14:43:31 WARN DAGScheduler: Broadcasting large task binary with size 1279.5 KiB\n"
     ]
    },
    {
     "name": "stdout",
     "output_type": "stream",
     "text": [
      "Saved Games Final Updated: 427 rows\n"
     ]
    },
    {
     "name": "stderr",
     "output_type": "stream",
     "text": [
      "24/11/30 14:43:55 WARN DAGScheduler: Broadcasting large task binary with size 1298.3 KiB\n"
     ]
    },
    {
     "name": "stdout",
     "output_type": "stream",
     "text": [
      "Saved Games Final Updated: 428 rows\n",
      "Processing Game ID: 16146, total moves: 41\n",
      "Processing Move: 0\n",
      "Processing Move: 15\n",
      "Processing Move: 30\n",
      "Saved Games Final Updated: 429 rows\n",
      "Saved Games Final Updated: 430 rows\n",
      "Processing Game ID: 16193, total moves: 83\n",
      "Processing Move: 0\n",
      "Processing Move: 15\n",
      "Processing Move: 30\n",
      "Processing Move: 45\n",
      "Processing Move: 60\n",
      "Processing Move: 75\n"
     ]
    },
    {
     "name": "stderr",
     "output_type": "stream",
     "text": [
      "24/11/30 14:45:28 WARN DAGScheduler: Broadcasting large task binary with size 1523.1 KiB\n"
     ]
    },
    {
     "name": "stdout",
     "output_type": "stream",
     "text": [
      "Saved Games Final Updated: 431 rows\n"
     ]
    },
    {
     "name": "stderr",
     "output_type": "stream",
     "text": [
      "24/11/30 14:46:03 WARN DAGScheduler: Broadcasting large task binary with size 1541.8 KiB\n",
      "                                                                                \r"
     ]
    },
    {
     "name": "stdout",
     "output_type": "stream",
     "text": [
      "Saved Games Final Updated: 432 rows\n"
     ]
    },
    {
     "name": "stderr",
     "output_type": "stream",
     "text": [
      "24/11/30 14:46:38 WARN DAGScheduler: Broadcasting large task binary with size 1560.6 KiB\n",
      "                                                                                \r"
     ]
    },
    {
     "name": "stdout",
     "output_type": "stream",
     "text": [
      "Saved Games Final Updated: 433 rows\n"
     ]
    },
    {
     "name": "stderr",
     "output_type": "stream",
     "text": [
      "24/11/30 14:47:15 WARN DAGScheduler: Broadcasting large task binary with size 1579.3 KiB\n",
      "                                                                                \r"
     ]
    },
    {
     "name": "stdout",
     "output_type": "stream",
     "text": [
      "Saved Games Final Updated: 434 rows\n",
      "Processing Game ID: 16330, total moves: 122\n",
      "Processing Move: 0\n",
      "Processing Move: 15\n",
      "Processing Move: 30\n",
      "Processing Move: 45\n",
      "Processing Move: 60\n",
      "Processing Move: 75\n",
      "Processing Move: 90\n",
      "Processing Move: 105\n"
     ]
    },
    {
     "name": "stderr",
     "output_type": "stream",
     "text": [
      "24/11/30 14:49:23 WARN DAGScheduler: Broadcasting large task binary with size 2.2 MiB\n",
      "                                                                                \r"
     ]
    },
    {
     "name": "stdout",
     "output_type": "stream",
     "text": [
      "Saved Games Final Updated: 435 rows\n"
     ]
    },
    {
     "name": "stderr",
     "output_type": "stream",
     "text": [
      "24/11/30 14:50:36 WARN DAGScheduler: Broadcasting large task binary with size 2.2 MiB\n",
      "                                                                                \r"
     ]
    },
    {
     "name": "stdout",
     "output_type": "stream",
     "text": [
      "Saved Games Final Updated: 436 rows\n"
     ]
    },
    {
     "name": "stderr",
     "output_type": "stream",
     "text": [
      "24/11/30 14:51:50 WARN DAGScheduler: Broadcasting large task binary with size 2.2 MiB\n",
      "                                                                                \r"
     ]
    },
    {
     "name": "stdout",
     "output_type": "stream",
     "text": [
      "Saved Games Final Updated: 437 rows\n"
     ]
    },
    {
     "name": "stderr",
     "output_type": "stream",
     "text": [
      "24/11/30 14:53:04 WARN DAGScheduler: Broadcasting large task binary with size 2.2 MiB\n",
      "                                                                                \r"
     ]
    },
    {
     "name": "stdout",
     "output_type": "stream",
     "text": [
      "Saved Games Final Updated: 438 rows\n"
     ]
    },
    {
     "name": "stderr",
     "output_type": "stream",
     "text": [
      "24/11/30 14:54:20 WARN DAGScheduler: Broadcasting large task binary with size 2.2 MiB\n",
      "                                                                                \r"
     ]
    },
    {
     "name": "stdout",
     "output_type": "stream",
     "text": [
      "Saved Games Final Updated: 439 rows\n",
      "Processing Move: 120\n"
     ]
    },
    {
     "name": "stderr",
     "output_type": "stream",
     "text": [
      "24/11/30 14:55:38 WARN DAGScheduler: Broadcasting large task binary with size 2.3 MiB\n",
      "                                                                                \r"
     ]
    },
    {
     "name": "stdout",
     "output_type": "stream",
     "text": [
      "Saved Games Final Updated: 440 rows\n",
      "Processing Game ID: 16342, total moves: 16\n",
      "Processing Move: 0\n",
      "Processing Game ID: 16437, total moves: 128\n",
      "Processing Move: 0\n",
      "Processing Move: 15\n",
      "Processing Move: 30\n",
      "Processing Move: 45\n",
      "Processing Move: 60\n",
      "Processing Move: 75\n",
      "Processing Move: 90\n",
      "Processing Move: 105\n",
      "Processing Move: 120\n"
     ]
    },
    {
     "name": "stderr",
     "output_type": "stream",
     "text": [
      "24/11/30 14:58:04 WARN DAGScheduler: Broadcasting large task binary with size 2.3 MiB\n",
      "                                                                                \r"
     ]
    },
    {
     "name": "stdout",
     "output_type": "stream",
     "text": [
      "Saved Games Final Updated: 441 rows\n"
     ]
    },
    {
     "name": "stderr",
     "output_type": "stream",
     "text": [
      "24/11/30 14:59:28 WARN DAGScheduler: Broadcasting large task binary with size 2.3 MiB\n",
      "                                                                                \r"
     ]
    },
    {
     "name": "stdout",
     "output_type": "stream",
     "text": [
      "Saved Games Final Updated: 442 rows\n"
     ]
    },
    {
     "name": "stderr",
     "output_type": "stream",
     "text": [
      "24/11/30 15:00:49 WARN DAGScheduler: Broadcasting large task binary with size 2.3 MiB\n",
      "                                                                                \r"
     ]
    },
    {
     "name": "stdout",
     "output_type": "stream",
     "text": [
      "Saved Games Final Updated: 443 rows\n"
     ]
    },
    {
     "name": "stderr",
     "output_type": "stream",
     "text": [
      "24/11/30 15:02:15 WARN DAGScheduler: Broadcasting large task binary with size 2.3 MiB\n",
      "                                                                                \r"
     ]
    },
    {
     "name": "stdout",
     "output_type": "stream",
     "text": [
      "Saved Games Final Updated: 444 rows\n"
     ]
    },
    {
     "name": "stderr",
     "output_type": "stream",
     "text": [
      "24/11/30 15:03:40 WARN DAGScheduler: Broadcasting large task binary with size 2.3 MiB\n",
      "                                                                                \r"
     ]
    },
    {
     "name": "stdout",
     "output_type": "stream",
     "text": [
      "Saved Games Final Updated: 445 rows\n"
     ]
    },
    {
     "name": "stderr",
     "output_type": "stream",
     "text": [
      "24/11/30 15:05:07 WARN DAGScheduler: Broadcasting large task binary with size 2.4 MiB\n",
      "                                                                                \r"
     ]
    },
    {
     "name": "stdout",
     "output_type": "stream",
     "text": [
      "Saved Games Final Updated: 446 rows\n",
      "Processing Game ID: 16456, total moves: 103\n",
      "Processing Move: 0\n",
      "Processing Move: 15\n",
      "Processing Move: 30\n",
      "Processing Move: 45\n",
      "Processing Move: 60\n",
      "Processing Move: 75\n",
      "Processing Move: 90\n"
     ]
    },
    {
     "name": "stderr",
     "output_type": "stream",
     "text": [
      "24/11/30 15:06:42 WARN DAGScheduler: Broadcasting large task binary with size 1879.1 KiB\n",
      "                                                                                \r"
     ]
    },
    {
     "name": "stdout",
     "output_type": "stream",
     "text": [
      "Saved Games Final Updated: 447 rows\n"
     ]
    },
    {
     "name": "stderr",
     "output_type": "stream",
     "text": [
      "24/11/30 15:07:34 WARN DAGScheduler: Broadcasting large task binary with size 1897.9 KiB\n",
      "                                                                                \r"
     ]
    },
    {
     "name": "stdout",
     "output_type": "stream",
     "text": [
      "Saved Games Final Updated: 448 rows\n"
     ]
    },
    {
     "name": "stderr",
     "output_type": "stream",
     "text": [
      "24/11/30 15:08:27 WARN DAGScheduler: Broadcasting large task binary with size 1916.6 KiB\n",
      "                                                                                \r"
     ]
    },
    {
     "name": "stdout",
     "output_type": "stream",
     "text": [
      "Saved Games Final Updated: 449 rows\n"
     ]
    },
    {
     "name": "stderr",
     "output_type": "stream",
     "text": [
      "24/11/30 15:09:21 WARN DAGScheduler: Broadcasting large task binary with size 1935.4 KiB\n",
      "                                                                                \r"
     ]
    },
    {
     "name": "stdout",
     "output_type": "stream",
     "text": [
      "Saved Games Final Updated: 450 rows\n"
     ]
    },
    {
     "name": "stderr",
     "output_type": "stream",
     "text": [
      "24/11/30 15:10:15 WARN DAGScheduler: Broadcasting large task binary with size 1954.1 KiB\n",
      "                                                                                \r"
     ]
    },
    {
     "name": "stdout",
     "output_type": "stream",
     "text": [
      "Saved Games Final Updated: 451 rows\n",
      "Processing Game ID: 16535, total moves: 91\n",
      "Processing Move: 0\n",
      "Processing Move: 15\n",
      "Processing Move: 30\n",
      "Processing Move: 45\n",
      "Processing Move: 60\n",
      "Processing Move: 75\n"
     ]
    },
    {
     "name": "stderr",
     "output_type": "stream",
     "text": [
      "24/11/30 15:11:31 WARN DAGScheduler: Broadcasting large task binary with size 1673.0 KiB\n",
      "                                                                                \r"
     ]
    },
    {
     "name": "stdout",
     "output_type": "stream",
     "text": [
      "Saved Games Final Updated: 452 rows\n"
     ]
    },
    {
     "name": "stderr",
     "output_type": "stream",
     "text": [
      "24/11/30 15:12:12 WARN DAGScheduler: Broadcasting large task binary with size 1691.8 KiB\n",
      "                                                                                \r"
     ]
    },
    {
     "name": "stdout",
     "output_type": "stream",
     "text": [
      "Saved Games Final Updated: 453 rows\n"
     ]
    },
    {
     "name": "stderr",
     "output_type": "stream",
     "text": [
      "24/11/30 15:12:55 WARN DAGScheduler: Broadcasting large task binary with size 1710.5 KiB\n",
      "                                                                                \r"
     ]
    },
    {
     "name": "stdout",
     "output_type": "stream",
     "text": [
      "Saved Games Final Updated: 454 rows\n"
     ]
    },
    {
     "name": "stderr",
     "output_type": "stream",
     "text": [
      "24/11/30 15:13:38 WARN DAGScheduler: Broadcasting large task binary with size 1729.2 KiB\n",
      "                                                                                \r"
     ]
    },
    {
     "name": "stdout",
     "output_type": "stream",
     "text": [
      "Saved Games Final Updated: 455 rows\n",
      "Processing Game ID: 16697, total moves: 48\n",
      "Processing Move: 0\n",
      "Processing Move: 15\n",
      "Processing Move: 30\n",
      "Processing Move: 45\n",
      "Saved Games Final Updated: 456 rows\n",
      "Saved Games Final Updated: 457 rows\n",
      "Processing Game ID: 16731, total moves: 25\n",
      "Processing Move: 0\n",
      "Processing Move: 15\n",
      "Saved Games Final Updated: 458 rows\n",
      "Processing Game ID: 16764, total moves: 58\n",
      "Processing Move: 0\n",
      "Processing Move: 15\n",
      "Processing Move: 30\n",
      "Processing Move: 45\n"
     ]
    },
    {
     "name": "stderr",
     "output_type": "stream",
     "text": [
      "24/11/30 15:15:03 WARN DAGScheduler: Broadcasting large task binary with size 1092.1 KiB\n"
     ]
    },
    {
     "name": "stdout",
     "output_type": "stream",
     "text": [
      "Saved Games Final Updated: 459 rows\n"
     ]
    },
    {
     "name": "stderr",
     "output_type": "stream",
     "text": [
      "24/11/30 15:15:20 WARN DAGScheduler: Broadcasting large task binary with size 1110.9 KiB\n"
     ]
    },
    {
     "name": "stdout",
     "output_type": "stream",
     "text": [
      "Saved Games Final Updated: 460 rows\n",
      "Processing Game ID: 16836, total moves: 75\n",
      "Processing Move: 0\n",
      "Processing Move: 15\n",
      "Processing Move: 30\n",
      "Processing Move: 45\n",
      "Processing Move: 60\n"
     ]
    },
    {
     "name": "stderr",
     "output_type": "stream",
     "text": [
      "24/11/30 15:16:15 WARN DAGScheduler: Broadcasting large task binary with size 1391.9 KiB\n",
      "                                                                                \r"
     ]
    },
    {
     "name": "stdout",
     "output_type": "stream",
     "text": [
      "Saved Games Final Updated: 461 rows\n"
     ]
    },
    {
     "name": "stderr",
     "output_type": "stream",
     "text": [
      "24/11/30 15:16:44 WARN DAGScheduler: Broadcasting large task binary with size 1410.7 KiB\n"
     ]
    },
    {
     "name": "stdout",
     "output_type": "stream",
     "text": [
      "Saved Games Final Updated: 462 rows\n"
     ]
    },
    {
     "name": "stderr",
     "output_type": "stream",
     "text": [
      "24/11/30 15:17:13 WARN DAGScheduler: Broadcasting large task binary with size 1429.4 KiB\n"
     ]
    },
    {
     "name": "stdout",
     "output_type": "stream",
     "text": [
      "Saved Games Final Updated: 463 rows\n",
      "Processing Game ID: 16973, total moves: 45\n",
      "Processing Move: 0\n",
      "Processing Move: 15\n",
      "Processing Move: 30\n",
      "Saved Games Final Updated: 464 rows\n",
      "Saved Games Final Updated: 465 rows\n",
      "Processing Game ID: 17037, total moves: 51\n",
      "Processing Move: 0\n",
      "Processing Move: 15\n",
      "Processing Move: 30\n",
      "Processing Move: 45\n",
      "Saved Games Final Updated: 466 rows\n",
      "Saved Games Final Updated: 467 rows\n",
      "Processing Game ID: 17065, total moves: 45\n",
      "Processing Move: 0\n",
      "Processing Move: 15\n",
      "Processing Move: 30\n",
      "Saved Games Final Updated: 468 rows\n",
      "Saved Games Final Updated: 469 rows\n",
      "Processing Game ID: 17082, total moves: 56\n",
      "Processing Move: 0\n",
      "Processing Move: 15\n",
      "Processing Move: 30\n",
      "Processing Move: 45\n"
     ]
    },
    {
     "name": "stderr",
     "output_type": "stream",
     "text": [
      "24/11/30 15:19:38 WARN DAGScheduler: Broadcasting large task binary with size 1054.7 KiB\n"
     ]
    },
    {
     "name": "stdout",
     "output_type": "stream",
     "text": [
      "Saved Games Final Updated: 470 rows\n"
     ]
    },
    {
     "name": "stderr",
     "output_type": "stream",
     "text": [
      "24/11/30 15:19:55 WARN DAGScheduler: Broadcasting large task binary with size 1073.4 KiB\n"
     ]
    },
    {
     "name": "stdout",
     "output_type": "stream",
     "text": [
      "Saved Games Final Updated: 471 rows\n",
      "Processing Game ID: 17217, total moves: 108\n",
      "Processing Move: 0\n",
      "Processing Move: 15\n",
      "Processing Move: 30\n",
      "Processing Move: 45\n",
      "Processing Move: 60\n",
      "Processing Move: 75\n",
      "Processing Move: 90\n"
     ]
    },
    {
     "name": "stderr",
     "output_type": "stream",
     "text": [
      "24/11/30 15:21:40 WARN DAGScheduler: Broadcasting large task binary with size 1972.8 KiB\n",
      "                                                                                \r"
     ]
    },
    {
     "name": "stdout",
     "output_type": "stream",
     "text": [
      "Saved Games Final Updated: 472 rows\n"
     ]
    },
    {
     "name": "stderr",
     "output_type": "stream",
     "text": [
      "24/11/30 15:22:37 WARN DAGScheduler: Broadcasting large task binary with size 1991.6 KiB\n",
      "                                                                                \r"
     ]
    },
    {
     "name": "stdout",
     "output_type": "stream",
     "text": [
      "Saved Games Final Updated: 473 rows\n"
     ]
    },
    {
     "name": "stderr",
     "output_type": "stream",
     "text": [
      "24/11/30 15:23:35 WARN DAGScheduler: Broadcasting large task binary with size 2010.3 KiB\n",
      "                                                                                \r"
     ]
    },
    {
     "name": "stdout",
     "output_type": "stream",
     "text": [
      "Saved Games Final Updated: 474 rows\n",
      "Processing Move: 105\n"
     ]
    },
    {
     "name": "stderr",
     "output_type": "stream",
     "text": [
      "24/11/30 15:24:34 WARN DAGScheduler: Broadcasting large task binary with size 2029.0 KiB\n",
      "                                                                                \r"
     ]
    },
    {
     "name": "stdout",
     "output_type": "stream",
     "text": [
      "Saved Games Final Updated: 475 rows\n"
     ]
    },
    {
     "name": "stderr",
     "output_type": "stream",
     "text": [
      "24/11/30 15:25:34 WARN DAGScheduler: Broadcasting large task binary with size 2047.8 KiB\n",
      "                                                                                \r"
     ]
    },
    {
     "name": "stdout",
     "output_type": "stream",
     "text": [
      "Saved Games Final Updated: 476 rows\n",
      "Processing Game ID: 17319, total moves: 85\n",
      "Processing Move: 0\n",
      "Processing Move: 15\n",
      "Processing Move: 30\n",
      "Processing Move: 45\n",
      "Processing Move: 60\n",
      "Processing Move: 75\n"
     ]
    },
    {
     "name": "stderr",
     "output_type": "stream",
     "text": [
      "24/11/30 15:26:42 WARN DAGScheduler: Broadcasting large task binary with size 1560.6 KiB\n",
      "                                                                                \r"
     ]
    },
    {
     "name": "stdout",
     "output_type": "stream",
     "text": [
      "Saved Games Final Updated: 477 rows\n"
     ]
    },
    {
     "name": "stderr",
     "output_type": "stream",
     "text": [
      "24/11/30 15:27:18 WARN DAGScheduler: Broadcasting large task binary with size 1579.3 KiB\n",
      "                                                                                \r"
     ]
    },
    {
     "name": "stdout",
     "output_type": "stream",
     "text": [
      "Saved Games Final Updated: 478 rows\n"
     ]
    },
    {
     "name": "stderr",
     "output_type": "stream",
     "text": [
      "24/11/30 15:27:55 WARN DAGScheduler: Broadcasting large task binary with size 1598.1 KiB\n",
      "                                                                                \r"
     ]
    },
    {
     "name": "stdout",
     "output_type": "stream",
     "text": [
      "Saved Games Final Updated: 479 rows\n"
     ]
    },
    {
     "name": "stderr",
     "output_type": "stream",
     "text": [
      "24/11/30 15:28:32 WARN DAGScheduler: Broadcasting large task binary with size 1616.8 KiB\n",
      "                                                                                \r"
     ]
    },
    {
     "name": "stdout",
     "output_type": "stream",
     "text": [
      "Saved Games Final Updated: 480 rows\n",
      "Processing Game ID: 17376, total moves: 122\n",
      "Processing Move: 0\n",
      "Processing Move: 15\n",
      "Processing Move: 30\n",
      "Processing Move: 45\n",
      "Processing Move: 60\n",
      "Processing Move: 75\n",
      "Processing Move: 90\n",
      "Processing Move: 105\n"
     ]
    },
    {
     "name": "stderr",
     "output_type": "stream",
     "text": [
      "24/11/30 15:30:44 WARN DAGScheduler: Broadcasting large task binary with size 2.2 MiB\n",
      "                                                                                \r"
     ]
    },
    {
     "name": "stdout",
     "output_type": "stream",
     "text": [
      "Saved Games Final Updated: 481 rows\n"
     ]
    },
    {
     "name": "stderr",
     "output_type": "stream",
     "text": [
      "24/11/30 15:31:57 WARN DAGScheduler: Broadcasting large task binary with size 2.2 MiB\n",
      "                                                                                \r"
     ]
    },
    {
     "name": "stdout",
     "output_type": "stream",
     "text": [
      "Saved Games Final Updated: 482 rows\n"
     ]
    },
    {
     "name": "stderr",
     "output_type": "stream",
     "text": [
      "24/11/30 15:33:12 WARN DAGScheduler: Broadcasting large task binary with size 2.2 MiB\n",
      "                                                                                \r"
     ]
    },
    {
     "name": "stdout",
     "output_type": "stream",
     "text": [
      "Saved Games Final Updated: 483 rows\n"
     ]
    },
    {
     "name": "stderr",
     "output_type": "stream",
     "text": [
      "24/11/30 15:34:27 WARN DAGScheduler: Broadcasting large task binary with size 2.2 MiB\n",
      "                                                                                \r"
     ]
    },
    {
     "name": "stdout",
     "output_type": "stream",
     "text": [
      "Saved Games Final Updated: 484 rows\n"
     ]
    },
    {
     "name": "stderr",
     "output_type": "stream",
     "text": [
      "24/11/30 15:35:47 WARN DAGScheduler: Broadcasting large task binary with size 2.2 MiB\n",
      "                                                                                \r"
     ]
    },
    {
     "name": "stdout",
     "output_type": "stream",
     "text": [
      "Saved Games Final Updated: 485 rows\n",
      "Processing Move: 120\n"
     ]
    },
    {
     "name": "stderr",
     "output_type": "stream",
     "text": [
      "24/11/30 15:37:04 WARN DAGScheduler: Broadcasting large task binary with size 2.3 MiB\n",
      "                                                                                \r"
     ]
    },
    {
     "name": "stdout",
     "output_type": "stream",
     "text": [
      "Saved Games Final Updated: 486 rows\n",
      "Processing Game ID: 11896, total moves: 57\n",
      "Processing Move: 0\n",
      "Processing Move: 15\n",
      "Processing Move: 30\n",
      "Processing Move: 45\n"
     ]
    },
    {
     "name": "stderr",
     "output_type": "stream",
     "text": [
      "24/11/30 15:37:39 WARN DAGScheduler: Broadcasting large task binary with size 1073.4 KiB\n"
     ]
    },
    {
     "name": "stdout",
     "output_type": "stream",
     "text": [
      "Saved Games Final Updated: 487 rows\n"
     ]
    },
    {
     "name": "stderr",
     "output_type": "stream",
     "text": [
      "24/11/30 15:37:56 WARN DAGScheduler: Broadcasting large task binary with size 1092.1 KiB\n"
     ]
    },
    {
     "name": "stdout",
     "output_type": "stream",
     "text": [
      "Saved Games Final Updated: 488 rows\n",
      "Processing Game ID: 12043, total moves: 89\n",
      "Processing Move: 0\n",
      "Processing Move: 15\n",
      "Processing Move: 30\n",
      "Processing Move: 45\n",
      "Processing Move: 60\n",
      "Processing Move: 75\n"
     ]
    },
    {
     "name": "stderr",
     "output_type": "stream",
     "text": [
      "24/11/30 15:39:09 WARN DAGScheduler: Broadcasting large task binary with size 1635.5 KiB\n",
      "                                                                                \r"
     ]
    },
    {
     "name": "stdout",
     "output_type": "stream",
     "text": [
      "Saved Games Final Updated: 489 rows\n"
     ]
    },
    {
     "name": "stderr",
     "output_type": "stream",
     "text": [
      "24/11/30 15:39:49 WARN DAGScheduler: Broadcasting large task binary with size 1654.3 KiB\n",
      "                                                                                \r"
     ]
    },
    {
     "name": "stdout",
     "output_type": "stream",
     "text": [
      "Saved Games Final Updated: 490 rows\n"
     ]
    },
    {
     "name": "stderr",
     "output_type": "stream",
     "text": [
      "24/11/30 15:40:30 WARN DAGScheduler: Broadcasting large task binary with size 1673.0 KiB\n",
      "                                                                                \r"
     ]
    },
    {
     "name": "stdout",
     "output_type": "stream",
     "text": [
      "Saved Games Final Updated: 491 rows\n"
     ]
    },
    {
     "name": "stderr",
     "output_type": "stream",
     "text": [
      "24/11/30 15:41:12 WARN DAGScheduler: Broadcasting large task binary with size 1691.8 KiB\n",
      "                                                                                \r"
     ]
    },
    {
     "name": "stdout",
     "output_type": "stream",
     "text": [
      "Saved Games Final Updated: 492 rows\n",
      "Processing Game ID: 12112, total moves: 68\n",
      "Processing Move: 0\n",
      "Processing Move: 15\n",
      "Processing Move: 30\n",
      "Processing Move: 45\n",
      "Processing Move: 60\n"
     ]
    },
    {
     "name": "stderr",
     "output_type": "stream",
     "text": [
      "24/11/30 15:41:57 WARN DAGScheduler: Broadcasting large task binary with size 1260.8 KiB\n"
     ]
    },
    {
     "name": "stdout",
     "output_type": "stream",
     "text": [
      "Saved Games Final Updated: 493 rows\n"
     ]
    },
    {
     "name": "stderr",
     "output_type": "stream",
     "text": [
      "24/11/30 15:42:21 WARN DAGScheduler: Broadcasting large task binary with size 1279.5 KiB\n",
      "                                                                                \r"
     ]
    },
    {
     "name": "stdout",
     "output_type": "stream",
     "text": [
      "Saved Games Final Updated: 494 rows\n"
     ]
    },
    {
     "name": "stderr",
     "output_type": "stream",
     "text": [
      "24/11/30 15:42:45 WARN DAGScheduler: Broadcasting large task binary with size 1298.3 KiB\n"
     ]
    },
    {
     "name": "stdout",
     "output_type": "stream",
     "text": [
      "Saved Games Final Updated: 495 rows\n",
      "Processing Game ID: 12390, total moves: 100\n",
      "Processing Move: 0\n",
      "Processing Move: 15\n",
      "Processing Move: 30\n",
      "Processing Move: 45\n",
      "Processing Move: 60\n",
      "Processing Move: 75\n",
      "Processing Move: 90\n"
     ]
    },
    {
     "name": "stderr",
     "output_type": "stream",
     "text": [
      "24/11/30 15:44:15 WARN DAGScheduler: Broadcasting large task binary with size 1822.9 KiB\n",
      "                                                                                \r"
     ]
    },
    {
     "name": "stdout",
     "output_type": "stream",
     "text": [
      "Saved Games Final Updated: 496 rows\n"
     ]
    },
    {
     "name": "stderr",
     "output_type": "stream",
     "text": [
      "24/11/30 15:45:03 WARN DAGScheduler: Broadcasting large task binary with size 1841.7 KiB\n",
      "                                                                                \r"
     ]
    },
    {
     "name": "stdout",
     "output_type": "stream",
     "text": [
      "Saved Games Final Updated: 497 rows\n"
     ]
    },
    {
     "name": "stderr",
     "output_type": "stream",
     "text": [
      "24/11/30 15:45:53 WARN DAGScheduler: Broadcasting large task binary with size 1860.4 KiB\n",
      "                                                                                \r"
     ]
    },
    {
     "name": "stdout",
     "output_type": "stream",
     "text": [
      "Saved Games Final Updated: 498 rows\n"
     ]
    },
    {
     "name": "stderr",
     "output_type": "stream",
     "text": [
      "24/11/30 15:46:43 WARN DAGScheduler: Broadcasting large task binary with size 1879.1 KiB\n",
      "                                                                                \r"
     ]
    },
    {
     "name": "stdout",
     "output_type": "stream",
     "text": [
      "Saved Games Final Updated: 499 rows\n"
     ]
    },
    {
     "name": "stderr",
     "output_type": "stream",
     "text": [
      "24/11/30 15:47:36 WARN DAGScheduler: Broadcasting large task binary with size 1897.9 KiB\n",
      "                                                                                \r"
     ]
    },
    {
     "name": "stdout",
     "output_type": "stream",
     "text": [
      "Saved Games Final Updated: 500 rows\n",
      "Processing Game ID: 12405, total moves: 52\n",
      "Processing Move: 0\n",
      "Processing Move: 15\n",
      "Processing Move: 30\n",
      "Processing Move: 45\n",
      "Saved Games Final Updated: 501 rows\n",
      "Saved Games Final Updated: 502 rows\n",
      "Processing Game ID: 12605, total moves: 86\n",
      "Processing Move: 0\n",
      "Processing Move: 15\n",
      "Processing Move: 30\n",
      "Processing Move: 45\n",
      "Processing Move: 60\n",
      "Processing Move: 75\n"
     ]
    },
    {
     "name": "stderr",
     "output_type": "stream",
     "text": [
      "24/11/30 15:49:29 WARN DAGScheduler: Broadcasting large task binary with size 1579.3 KiB\n"
     ]
    },
    {
     "name": "stdout",
     "output_type": "stream",
     "text": [
      "Saved Games Final Updated: 503 rows\n"
     ]
    },
    {
     "name": "stderr",
     "output_type": "stream",
     "text": [
      "24/11/30 15:50:06 WARN DAGScheduler: Broadcasting large task binary with size 1598.1 KiB\n",
      "                                                                                \r"
     ]
    },
    {
     "name": "stdout",
     "output_type": "stream",
     "text": [
      "Saved Games Final Updated: 504 rows\n"
     ]
    },
    {
     "name": "stderr",
     "output_type": "stream",
     "text": [
      "24/11/30 15:50:43 WARN DAGScheduler: Broadcasting large task binary with size 1616.8 KiB\n"
     ]
    },
    {
     "name": "stdout",
     "output_type": "stream",
     "text": [
      "Saved Games Final Updated: 505 rows\n"
     ]
    },
    {
     "name": "stderr",
     "output_type": "stream",
     "text": [
      "24/11/30 15:51:22 WARN DAGScheduler: Broadcasting large task binary with size 1635.5 KiB\n",
      "                                                                                \r"
     ]
    },
    {
     "name": "stdout",
     "output_type": "stream",
     "text": [
      "Saved Games Final Updated: 506 rows\n",
      "Processing Game ID: 12685, total moves: 91\n",
      "Processing Move: 0\n",
      "Processing Move: 15\n",
      "Processing Move: 30\n",
      "Processing Move: 45\n",
      "Processing Move: 60\n",
      "Processing Move: 75\n"
     ]
    },
    {
     "name": "stderr",
     "output_type": "stream",
     "text": [
      "24/11/30 15:52:38 WARN DAGScheduler: Broadcasting large task binary with size 1673.0 KiB\n"
     ]
    },
    {
     "name": "stdout",
     "output_type": "stream",
     "text": [
      "Saved Games Final Updated: 507 rows\n"
     ]
    },
    {
     "name": "stderr",
     "output_type": "stream",
     "text": [
      "24/11/30 15:53:19 WARN DAGScheduler: Broadcasting large task binary with size 1691.8 KiB\n",
      "                                                                                \r"
     ]
    },
    {
     "name": "stdout",
     "output_type": "stream",
     "text": [
      "Saved Games Final Updated: 508 rows\n"
     ]
    },
    {
     "name": "stderr",
     "output_type": "stream",
     "text": [
      "24/11/30 15:54:02 WARN DAGScheduler: Broadcasting large task binary with size 1710.5 KiB\n",
      "                                                                                \r"
     ]
    },
    {
     "name": "stdout",
     "output_type": "stream",
     "text": [
      "Saved Games Final Updated: 509 rows\n"
     ]
    },
    {
     "name": "stderr",
     "output_type": "stream",
     "text": [
      "24/11/30 15:54:45 WARN DAGScheduler: Broadcasting large task binary with size 1729.2 KiB\n",
      "                                                                                \r"
     ]
    },
    {
     "name": "stdout",
     "output_type": "stream",
     "text": [
      "Saved Games Final Updated: 510 rows\n",
      "Processing Game ID: 12801, total moves: 69\n",
      "Processing Move: 0\n",
      "Processing Move: 15\n",
      "Processing Move: 30\n",
      "Processing Move: 45\n",
      "Processing Move: 60\n"
     ]
    },
    {
     "name": "stderr",
     "output_type": "stream",
     "text": [
      "24/11/30 15:55:33 WARN DAGScheduler: Broadcasting large task binary with size 1279.5 KiB\n"
     ]
    },
    {
     "name": "stdout",
     "output_type": "stream",
     "text": [
      "Saved Games Final Updated: 511 rows\n"
     ]
    },
    {
     "name": "stderr",
     "output_type": "stream",
     "text": [
      "24/11/30 15:55:57 WARN DAGScheduler: Broadcasting large task binary with size 1298.3 KiB\n"
     ]
    },
    {
     "name": "stdout",
     "output_type": "stream",
     "text": [
      "Saved Games Final Updated: 512 rows\n"
     ]
    },
    {
     "name": "stderr",
     "output_type": "stream",
     "text": [
      "24/11/30 15:56:22 WARN DAGScheduler: Broadcasting large task binary with size 1317.0 KiB\n",
      "                                                                                \r"
     ]
    },
    {
     "name": "stdout",
     "output_type": "stream",
     "text": [
      "Saved Games Final Updated: 513 rows\n",
      "Processing Game ID: 12851, total moves: 57\n",
      "Processing Move: 0\n",
      "Processing Move: 15\n",
      "Processing Move: 30\n",
      "Processing Move: 45\n"
     ]
    },
    {
     "name": "stderr",
     "output_type": "stream",
     "text": [
      "24/11/30 15:56:56 WARN DAGScheduler: Broadcasting large task binary with size 1073.4 KiB\n"
     ]
    },
    {
     "name": "stdout",
     "output_type": "stream",
     "text": [
      "Saved Games Final Updated: 514 rows\n"
     ]
    },
    {
     "name": "stderr",
     "output_type": "stream",
     "text": [
      "24/11/30 15:57:13 WARN DAGScheduler: Broadcasting large task binary with size 1092.1 KiB\n"
     ]
    },
    {
     "name": "stdout",
     "output_type": "stream",
     "text": [
      "Saved Games Final Updated: 515 rows\n",
      "Processing Game ID: 13006, total moves: 13\n",
      "Processing Move: 0\n",
      "Processing Game ID: 13176, total moves: 52\n",
      "Processing Move: 0\n",
      "Processing Move: 15\n",
      "Processing Move: 30\n",
      "Processing Move: 45\n",
      "Saved Games Final Updated: 516 rows\n",
      "Saved Games Final Updated: 517 rows\n",
      "Processing Game ID: 13205, total moves: 72\n",
      "Processing Move: 0\n",
      "Processing Move: 15\n",
      "Processing Move: 30\n",
      "Processing Move: 45\n",
      "Processing Move: 60\n"
     ]
    },
    {
     "name": "stderr",
     "output_type": "stream",
     "text": [
      "24/11/30 15:58:51 WARN DAGScheduler: Broadcasting large task binary with size 1335.7 KiB\n"
     ]
    },
    {
     "name": "stdout",
     "output_type": "stream",
     "text": [
      "Saved Games Final Updated: 518 rows\n"
     ]
    },
    {
     "name": "stderr",
     "output_type": "stream",
     "text": [
      "24/11/30 15:59:17 WARN DAGScheduler: Broadcasting large task binary with size 1354.5 KiB\n"
     ]
    },
    {
     "name": "stdout",
     "output_type": "stream",
     "text": [
      "Saved Games Final Updated: 519 rows\n"
     ]
    },
    {
     "name": "stderr",
     "output_type": "stream",
     "text": [
      "24/11/30 15:59:44 WARN DAGScheduler: Broadcasting large task binary with size 1373.2 KiB\n"
     ]
    },
    {
     "name": "stdout",
     "output_type": "stream",
     "text": [
      "Saved Games Final Updated: 520 rows\n",
      "Processing Game ID: 13345, total moves: 101\n",
      "Processing Move: 0\n",
      "Processing Move: 15\n",
      "Processing Move: 30\n",
      "Processing Move: 45\n",
      "Processing Move: 60\n",
      "Processing Move: 75\n",
      "Processing Move: 90\n"
     ]
    },
    {
     "name": "stderr",
     "output_type": "stream",
     "text": [
      "24/11/30 16:01:17 WARN DAGScheduler: Broadcasting large task binary with size 1841.7 KiB\n",
      "                                                                                \r"
     ]
    },
    {
     "name": "stdout",
     "output_type": "stream",
     "text": [
      "Saved Games Final Updated: 521 rows\n"
     ]
    },
    {
     "name": "stderr",
     "output_type": "stream",
     "text": [
      "24/11/30 16:02:07 WARN DAGScheduler: Broadcasting large task binary with size 1860.4 KiB\n",
      "                                                                                \r"
     ]
    },
    {
     "name": "stdout",
     "output_type": "stream",
     "text": [
      "Saved Games Final Updated: 522 rows\n"
     ]
    },
    {
     "name": "stderr",
     "output_type": "stream",
     "text": [
      "24/11/30 16:02:57 WARN DAGScheduler: Broadcasting large task binary with size 1879.1 KiB\n",
      "                                                                                \r"
     ]
    },
    {
     "name": "stdout",
     "output_type": "stream",
     "text": [
      "Saved Games Final Updated: 523 rows\n"
     ]
    },
    {
     "name": "stderr",
     "output_type": "stream",
     "text": [
      "24/11/30 16:03:49 WARN DAGScheduler: Broadcasting large task binary with size 1897.9 KiB\n",
      "                                                                                \r"
     ]
    },
    {
     "name": "stdout",
     "output_type": "stream",
     "text": [
      "Saved Games Final Updated: 524 rows\n"
     ]
    },
    {
     "name": "stderr",
     "output_type": "stream",
     "text": [
      "24/11/30 16:04:41 WARN DAGScheduler: Broadcasting large task binary with size 1916.6 KiB\n",
      "                                                                                \r"
     ]
    },
    {
     "name": "stdout",
     "output_type": "stream",
     "text": [
      "Saved Games Final Updated: 525 rows\n",
      "Processing Game ID: 13376, total moves: 50\n",
      "Processing Move: 0\n",
      "Processing Move: 15\n",
      "Processing Move: 30\n",
      "Processing Move: 45\n",
      "Saved Games Final Updated: 526 rows\n",
      "Saved Games Final Updated: 527 rows\n",
      "Processing Game ID: 13407, total moves: 138\n",
      "Processing Move: 0\n",
      "Processing Move: 15\n",
      "Processing Move: 30\n",
      "Processing Move: 45\n",
      "Processing Move: 60\n",
      "Processing Move: 75\n",
      "Processing Move: 90\n",
      "Processing Move: 105\n",
      "Processing Move: 120\n"
     ]
    },
    {
     "name": "stderr",
     "output_type": "stream",
     "text": [
      "24/11/30 16:08:08 WARN DAGScheduler: Broadcasting large task binary with size 2.5 MiB\n",
      "                                                                                \r"
     ]
    },
    {
     "name": "stdout",
     "output_type": "stream",
     "text": [
      "Saved Games Final Updated: 528 rows\n"
     ]
    },
    {
     "name": "stderr",
     "output_type": "stream",
     "text": [
      "24/11/30 16:09:43 WARN DAGScheduler: Broadcasting large task binary with size 2.5 MiB\n",
      "                                                                                \r"
     ]
    },
    {
     "name": "stdout",
     "output_type": "stream",
     "text": [
      "Saved Games Final Updated: 529 rows\n"
     ]
    },
    {
     "name": "stderr",
     "output_type": "stream",
     "text": [
      "24/11/30 16:11:18 WARN DAGScheduler: Broadcasting large task binary with size 2.5 MiB\n",
      "                                                                                \r"
     ]
    },
    {
     "name": "stdout",
     "output_type": "stream",
     "text": [
      "Saved Games Final Updated: 530 rows\n"
     ]
    },
    {
     "name": "stderr",
     "output_type": "stream",
     "text": [
      "24/11/30 16:13:02 WARN DAGScheduler: Broadcasting large task binary with size 2.5 MiB\n",
      "                                                                                \r"
     ]
    },
    {
     "name": "stdout",
     "output_type": "stream",
     "text": [
      "Saved Games Final Updated: 531 rows\n",
      "Processing Move: 135\n"
     ]
    },
    {
     "name": "stderr",
     "output_type": "stream",
     "text": [
      "24/11/30 16:14:48 WARN DAGScheduler: Broadcasting large task binary with size 2.5 MiB\n",
      "                                                                                \r"
     ]
    },
    {
     "name": "stdout",
     "output_type": "stream",
     "text": [
      "Saved Games Final Updated: 532 rows\n"
     ]
    },
    {
     "name": "stderr",
     "output_type": "stream",
     "text": [
      "24/11/30 16:16:30 WARN DAGScheduler: Broadcasting large task binary with size 2.5 MiB\n",
      "                                                                                \r"
     ]
    },
    {
     "name": "stdout",
     "output_type": "stream",
     "text": [
      "Saved Games Final Updated: 533 rows\n",
      "Processing Game ID: 13408, total moves: 165\n",
      "Processing Move: 0\n",
      "Processing Move: 15\n",
      "Processing Move: 30\n",
      "Processing Move: 45\n",
      "Processing Move: 60\n",
      "Processing Move: 75\n",
      "Processing Move: 90\n",
      "Processing Move: 105\n",
      "Processing Move: 120\n",
      "Processing Move: 135\n",
      "Processing Move: 150\n"
     ]
    },
    {
     "name": "stderr",
     "output_type": "stream",
     "text": [
      "24/11/30 16:20:24 WARN DAGScheduler: Broadcasting large task binary with size 2.9 MiB\n",
      "                                                                                \r"
     ]
    },
    {
     "name": "stdout",
     "output_type": "stream",
     "text": [
      "Saved Games Final Updated: 534 rows\n"
     ]
    },
    {
     "name": "stderr",
     "output_type": "stream",
     "text": [
      "24/11/30 16:22:45 WARN DAGScheduler: Broadcasting large task binary with size 2.9 MiB\n",
      "                                                                                \r"
     ]
    },
    {
     "name": "stdout",
     "output_type": "stream",
     "text": [
      "Saved Games Final Updated: 535 rows\n"
     ]
    },
    {
     "name": "stderr",
     "output_type": "stream",
     "text": [
      "24/11/30 16:25:05 WARN DAGScheduler: Broadcasting large task binary with size 3.0 MiB\n",
      "                                                                                \r"
     ]
    },
    {
     "name": "stdout",
     "output_type": "stream",
     "text": [
      "Saved Games Final Updated: 536 rows\n"
     ]
    },
    {
     "name": "stderr",
     "output_type": "stream",
     "text": [
      "24/11/30 16:27:27 WARN DAGScheduler: Broadcasting large task binary with size 3.0 MiB\n",
      "                                                                                \r"
     ]
    },
    {
     "name": "stdout",
     "output_type": "stream",
     "text": [
      "Saved Games Final Updated: 537 rows\n"
     ]
    }
   ],
   "source": [
    "output_file = '/home/zrc3hc/Chess/1. Preprocessing/saved_games_final17.csv'\n",
    "\n",
    "# Blank canvas for each game\n",
    "df = pd.DataFrame([initial_positions])\n",
    "\n",
    "df = spark.createDataFrame(df, schema=schema)\n",
    "\n",
    "saved_games = spark.createDataFrame([], schema = schema3)\n",
    "\n",
    "#game_ids = [row[\"game_id\"] for row in combined_games_df.select(\"game_id\").distinct().collect()]\n",
    "\n",
    "saved_games_final = pd.DataFrame()\n",
    "\n",
    "\n",
    "# initializing the board\n",
    "\n",
    "piece_to_value = {\n",
    "    \"White_Rook_1\": 5, \"White_Rook_2\": 5,\n",
    "    \"White_Knight_1\": 3, \"White_Knight_2\": 3,\n",
    "    \"White_Bishop_1\": 3, \"White_Bishop_2\": 3,\n",
    "    \"White_Queen_1\": 9,\n",
    "    \"White_King_1\": 10, \n",
    "    \"White_Pawn_1\": 1, \"White_Pawn_2\": 1, \"White_Pawn_3\": 1, \"White_Pawn_4\": 1,\n",
    "    \"White_Pawn_5\": 1, \"White_Pawn_6\": 1, \"White_Pawn_7\": 1, \"White_Pawn_8\": 1,\n",
    "    \"Black_Rook_1\": -5, \"Black_Rook_2\": -5,\n",
    "    \"Black_Knight_1\": -3, \"Black_Knight_2\": -3,\n",
    "    \"Black_Bishop_1\": -3, \"Black_Bishop_2\": -3,\n",
    "    \"Black_Queen_1\": -9,\n",
    "    \"Black_King_1\": -10, \n",
    "    \"Black_Pawn_1\": -1, \"Black_Pawn_2\": -1, \"Black_Pawn_3\": -1, \"Black_Pawn_4\": -1,\n",
    "    \"Black_Pawn_5\": -1, \"Black_Pawn_6\": -1, \"Black_Pawn_7\": -1, \"Black_Pawn_8\": -1\n",
    "}\n",
    "\n",
    "chess_squares = [\n",
    "    \"a1\", \"b1\", \"c1\", \"d1\", \"e1\", \"f1\", \"g1\", \"h1\",\n",
    "    \"a2\", \"b2\", \"c2\", \"d2\", \"e2\", \"f2\", \"g2\", \"h2\",\n",
    "    \"a3\", \"b3\", \"c3\", \"d3\", \"e3\", \"f3\", \"g3\", \"h3\",\n",
    "    \"a4\", \"b4\", \"c4\", \"d4\", \"e4\", \"f4\", \"g4\", \"h4\",\n",
    "    \"a5\", \"b5\", \"c5\", \"d5\", \"e5\", \"f5\", \"g5\", \"h5\",\n",
    "    \"a6\", \"b6\", \"c6\", \"d6\", \"e6\", \"f6\", \"g6\", \"h6\",\n",
    "    \"a7\", \"b7\", \"c7\", \"d7\", \"e7\", \"f7\", \"g7\", \"h7\",\n",
    "    \"a8\", \"b8\", \"c8\", \"d8\", \"e8\", \"f8\", \"g8\", \"h8\"\n",
    "]\n",
    "\n",
    "\n",
    " \n",
    "saved_games = df_combined = spark.createDataFrame([], schema1)\n",
    "\n",
    "for game_id in game_ids:\n",
    "    \n",
    "    current_game_info = combined_games_df.filter(combined_games_df.game_id == game_id)\n",
    "    \n",
    "    # Step 1. First, calculate which rows we will be saving (only the last 10 percent of each game...)\n",
    "\n",
    "    next_moves = [row[\"next_move\"] for row in current_game_info.select(\"next_move\").collect()]\n",
    "\n",
    "    total_moves = current_game_info.count()\n",
    "\n",
    "    number_of_moves = int(total_moves * .05)\n",
    "\n",
    "    moves_captured_range = range(total_moves - number_of_moves, total_moves)\n",
    "    \n",
    "    print(f\"Processing Game ID: {game_id}, total moves: {total_moves}\")\n",
    "\n",
    "    # Step 2. Denote the previous row\n",
    "\n",
    "    current_game = df.join(current_game_info, on=\"Move\", how=\"left\")\n",
    "\n",
    "    # removing duplicate columns\n",
    "\n",
    "    current_game = current_game.select(*(col for col in current_game.columns if current_game.columns.count(col) == 1))\n",
    "          \n",
    "    # Reset move count for each game \n",
    "    move_count = 0\n",
    "\n",
    "    previous_row = current_game.filter(col(\"Move\") == move_count)\n",
    "\n",
    "    next_moves = [row[\"next_move\"] for row in current_game_info.select(\"next_move\").collect()]\n",
    "\n",
    "    row_list = []\n",
    "    \n",
    "    for move in range(0, total_moves - 1): \n",
    "        \n",
    "        if move % 15 == 0:\n",
    "\n",
    "            print(f\"Processing Move: {move}\")\n",
    "\n",
    "        # Step 2: Duplicate the previous row\n",
    "\n",
    "        new_row = previous_row.withColumn(\"Move\", col(\"Move\") + 1)\n",
    "\n",
    "        # Step 3: Split 'next_move' into 'from_square' and 'to_square'\n",
    "\n",
    "        new_row = new_row.withColumn(\"from_square\", substring(col(\"next_move\"), 1, 2)) \\\n",
    "                         .withColumn(\"to_square\", substring(col(\"next_move\"), 3, 2))\n",
    "\n",
    "        # Step 4a: Update the piece positions based on 'to_square'\n",
    "        columns_to_check = [c for c in current_game.columns if c not in [\"Move\", \"next_move\", \"from_square\", \"to_square\", \"game_id\", \"result\"]]\n",
    "        new_row = new_row.select(\n",
    "            *[\n",
    "                when(col(\"to_square\") == col(column), \"0\").otherwise(col(column)).alias(column)\n",
    "                if column in columns_to_check else col(column)\n",
    "                for column in new_row.columns\n",
    "            ]\n",
    "        )\n",
    "\n",
    "        # Step 4b: Update the piece positions based on 'from_square'\n",
    "        new_row = new_row.select(\n",
    "            *[\n",
    "                when(col(column) == col(\"from_square\"), col(\"to_square\")).otherwise(col(column)).alias(column)\n",
    "                if column in columns_to_check else col(column)\n",
    "                for column in new_row.columns\n",
    "            ]\n",
    "        )\n",
    "\n",
    "        # Step 5: Update the 'Next Move'\n",
    "        move_count += 1\n",
    "        new_row = new_row.withColumn(\"Move\", lit(move_count)).drop(\"from_square\", \"to_square\")\n",
    "        if move + 1 < len(next_moves):\n",
    "            new_row = new_row.withColumn(\"next_move\", lit(next_moves[move + 1]))\n",
    "        else:\n",
    "            new_row = new_row.withColumn(\"next_move\", lit(None))\n",
    "            print(\"Ran out of moves\")\n",
    "            print(move)\n",
    "\n",
    "        previous_row = new_row\n",
    "\n",
    "        if move_count in moves_captured_range:\n",
    "            pandas_df = new_row.toPandas()\n",
    "\n",
    "            for square in chess_squares:\n",
    "                pandas_df[square] = 0\n",
    "\n",
    "            # Update chess squares based on piece positions\n",
    "            for piece, value in piece_to_value.items():\n",
    "                pandas_df = pandas_df.apply(\n",
    "                    lambda row: update_squares(row, piece, value, chess_squares),\n",
    "                    axis=1\n",
    "            )\n",
    "\n",
    "            pandas_df = pandas_df.drop(columns=list(piece_to_value.keys()))\n",
    "\n",
    "            saved_games_final = pd.concat([saved_games_final, pandas_df], ignore_index=True)\n",
    "            print(f\"Saved Games Final Updated: {saved_games_final.shape[0]} rows\")\n",
    "            \n",
    "            # Save intermediate results\n",
    "            \n",
    "            saved_games_final.to_csv(output_file, index = False)\n",
    "\n",
    "print(\"Final DataFrame:\")\n",
    "print(saved_games_final)\n",
    "\n",
    "\n",
    "\n"
   ]
  },
  {
   "cell_type": "code",
   "execution_count": 54,
   "id": "101a993d-bee3-421e-814c-e411fa7c9de7",
   "metadata": {
    "tags": []
   },
   "outputs": [],
   "source": [
    "output_path = '/home/zrc3hc/Chess/1. Preprocessing/saved_games_final1.csv'\n",
    "\n",
    "saved_games_final.to_csv(output_path, index=False)\n"
   ]
  }
 ],
 "metadata": {
  "kernelspec": {
   "display_name": "Python 3 (ipykernel)",
   "language": "python",
   "name": "python3"
  },
  "language_info": {
   "codemirror_mode": {
    "name": "ipython",
    "version": 3
   },
   "file_extension": ".py",
   "mimetype": "text/x-python",
   "name": "python",
   "nbconvert_exporter": "python",
   "pygments_lexer": "ipython3",
   "version": "3.11.5"
  }
 },
 "nbformat": 4,
 "nbformat_minor": 5
}
