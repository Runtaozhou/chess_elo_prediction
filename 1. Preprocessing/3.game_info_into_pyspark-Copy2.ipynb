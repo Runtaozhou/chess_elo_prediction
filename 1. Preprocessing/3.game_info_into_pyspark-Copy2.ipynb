{
 "cells": [
  {
   "cell_type": "markdown",
   "id": "e0dc6f9f-8b55-44be-ae9d-6f9a7b41d078",
   "metadata": {
    "tags": []
   },
   "source": [
    "## Converting the data set Pyspark!"
   ]
  },
  {
   "cell_type": "code",
   "execution_count": 1,
   "id": "d7a4e3f1-3e97-462f-912c-b565cdf4076d",
   "metadata": {
    "tags": []
   },
   "outputs": [
    {
     "name": "stderr",
     "output_type": "stream",
     "text": [
      "Setting default log level to \"WARN\".\n",
      "To adjust logging level use sc.setLogLevel(newLevel). For SparkR, use setLogLevel(newLevel).\n",
      "24/11/30 08:35:05 WARN NativeCodeLoader: Unable to load native-hadoop library for your platform... using builtin-java classes where applicable\n",
      "24/11/30 08:35:05 WARN Utils: Service 'SparkUI' could not bind on port 4040. Attempting port 4041.\n",
      "24/11/30 08:35:05 WARN Utils: Service 'SparkUI' could not bind on port 4041. Attempting port 4042.\n"
     ]
    }
   ],
   "source": [
    "import chess\n",
    "import chess.pgn\n",
    "from pyspark.sql import SparkSession, Row\n",
    "from pyspark.sql.types import StructType, StructField, IntegerType, StringType\n",
    "from pyspark.sql.functions import col, split, when, substring, lit\n",
    "from pyspark.sql import functions as F\n",
    "\n",
    "import pandas as pd\n",
    "\n",
    "# Start a new SparkSession\n",
    "spark = SparkSession.builder \\\n",
    "    .appName(\"ChessDataProcessing\") \\\n",
    "    .config(\"spark.executor.cores\", \"4\") \\\n",
    "    .config(\"spark.driver.memory\", \"64g\") \\\n",
    "    .config(\"spark.executor.memory\", \"64g\") \\\n",
    "    .config(\"spark.sql.shuffle.partitions\", \"100\") \\\n",
    "    .getOrCreate()\n",
    "\n",
    "spark.conf.set(\"spark.sql.codegen.wholeStage\", \"false\")\n",
    "\n",
    "spark.conf.set(\"spark.sql.codegen.maxFields\", \"2000\") \n",
    "\n",
    "\n"
   ]
  },
  {
   "cell_type": "markdown",
   "id": "87134aab-3e2b-47f7-b433-15bf5fc1a679",
   "metadata": {
    "tags": []
   },
   "source": [
    "## Our data"
   ]
  },
  {
   "cell_type": "markdown",
   "id": "d8013a24-2ff3-45ef-ab91-e9628a2601eb",
   "metadata": {},
   "source": [
    "# Run this"
   ]
  },
  {
   "cell_type": "code",
   "execution_count": 2,
   "id": "5b6d6446-4e85-44a0-881a-03d66a5a41a1",
   "metadata": {
    "tags": []
   },
   "outputs": [],
   "source": [
    "# Starting by first converting starting the pieces at their initial positions.\n",
    "# Every game begins like this\n",
    " \n",
    "initial_positions = {\n",
    "    \"Move\": 0,\n",
    "    \"White_Rook_1\": \"a1\",\n",
    "    \"White_Rook_2\": \"h1\",\n",
    "    \"White_Knight_1\": \"b1\",\n",
    "    \"White_Knight_2\": \"g1\",\n",
    "    \"White_Bishop_1\": \"c1\",\n",
    "    \"White_Bishop_2\": \"f1\",\n",
    "    \"White_Queen_1\": \"d1\",\n",
    "    \"White_King_1\": \"e1\",\n",
    "    \"White_Pawn_1\": \"a2\",\n",
    "    \"White_Pawn_2\": \"b2\",\n",
    "    \"White_Pawn_3\": \"c2\",\n",
    "    \"White_Pawn_4\": \"d2\",\n",
    "    \"White_Pawn_5\": \"e2\",\n",
    "    \"White_Pawn_6\": \"f2\",\n",
    "    \"White_Pawn_7\": \"g2\",\n",
    "    \"White_Pawn_8\": \"h2\",\n",
    "    \"Black_Rook_1\": \"a8\",\n",
    "    \"Black_Rook_2\": \"h8\",\n",
    "    \"Black_Knight_1\": \"b8\",\n",
    "    \"Black_Knight_2\": \"g8\",\n",
    "    \"Black_Bishop_1\": \"c8\",\n",
    "    \"Black_Bishop_2\": \"f8\",\n",
    "    \"Black_Queen_1\": \"d8\",\n",
    "    \"Black_King_1\": \"e8\",\n",
    "    \"Black_Pawn_1\": \"a7\",\n",
    "    \"Black_Pawn_2\": \"b7\",\n",
    "    \"Black_Pawn_3\": \"c7\",\n",
    "    \"Black_Pawn_4\": \"d7\",\n",
    "    \"Black_Pawn_5\": \"e7\",\n",
    "    \"Black_Pawn_6\": \"f7\",\n",
    "    \"Black_Pawn_7\": \"g7\",\n",
    "    \"Black_Pawn_8\": \"h7\",\n",
    "}\n",
    "\n",
    "df = pd.DataFrame([initial_positions])\n",
    "\n"
   ]
  },
  {
   "cell_type": "raw",
   "id": "d00f4940-7f4e-4336-8de8-d3ad3eab5594",
   "metadata": {
    "tags": []
   },
   "source": [
    "file_path = '/scratch/zrc3hc/filtered_games_total/part-00000-9eb34237-6933-4165-9287-e8441a64b433-c000.json'\n",
    "games_df = spark.read.json(file_path)\n",
    "\n",
    "if games_df.count() > 0:\n",
    "    combined_game_data = []  # store data for all games\n",
    "\n",
    "    # Loop through each game\n",
    "    for game_id, game in enumerate(games_df.collect()):\n",
    "        moves = game[\"Moves\"]  # extract the moves from the given game\n",
    "        result = game[\"Result\"]  # extrace the result from the given game\n",
    "        game_data = [] \n",
    "        \n",
    "        for move_number, move in enumerate(moves):\n",
    "            game_data.append({\n",
    "                \"game_id\": game_id,\n",
    "                \"Move\": move_number,\n",
    "                \"next_move\": move,\n",
    "                \"result\": result \n",
    "            })\n",
    "        \n",
    "        combined_game_data.extend(game_data)\n",
    "    \n",
    "    # Create a single PySpark DataFrame for all games\n",
    "    combined_games_df = spark.createDataFrame(combined_game_data)\n",
    "    combined_games_df.show(truncate=False)\n",
    "else:\n",
    "    print(\"No games found in the file or file is not accessible.\")"
   ]
  },
  {
   "cell_type": "code",
   "execution_count": 3,
   "id": "337fda20-b975-4854-bbe5-5233edc719b6",
   "metadata": {
    "tags": []
   },
   "outputs": [
    {
     "name": "stderr",
     "output_type": "stream",
     "text": [
      "                                                                                \r"
     ]
    }
   ],
   "source": [
    "# Saving and or upload combined games data...\n",
    "file_path_saved_games = '/scratch/zrc3hc/combined_games.csv'\n",
    "#combined_games_df.write.csv(file_path, header=True, mode=\"overwrite\")\n",
    "combined_games_df = spark.read.csv(file_path_saved_games, header=True, inferSchema=True)\n"
   ]
  },
  {
   "cell_type": "code",
   "execution_count": 4,
   "id": "5fd4c448-f804-4315-819b-f27417a52045",
   "metadata": {
    "tags": []
   },
   "outputs": [
    {
     "name": "stdout",
     "output_type": "stream",
     "text": [
      "+----+-------+---------+------+\n",
      "|Move|game_id|next_move|result|\n",
      "+----+-------+---------+------+\n",
      "|   0|     10|     e2e4|   1-0|\n",
      "|   1|     10|     e7e5|   1-0|\n",
      "|   2|     10|     g1f3|   1-0|\n",
      "|   3|     10|     g8f6|   1-0|\n",
      "|   4|     10|     d2d4|   1-0|\n",
      "|   5|     10|     f6e4|   1-0|\n",
      "|   6|     10|     d4e5|   1-0|\n",
      "|   7|     10|     f8c5|   1-0|\n",
      "|   8|     10|     f1c4|   1-0|\n",
      "|   9|     10|     c5f2|   1-0|\n",
      "+----+-------+---------+------+\n",
      "only showing top 10 rows\n",
      "\n"
     ]
    }
   ],
   "source": [
    "combined_games_df.filter(combined_games_df.game_id == 10).show(10)"
   ]
  },
  {
   "cell_type": "markdown",
   "id": "488f2512-867f-43ea-9800-58dc26d09e3b",
   "metadata": {},
   "source": [
    "# Run This"
   ]
  },
  {
   "cell_type": "code",
   "execution_count": 4,
   "id": "dde47ae7-8c9c-47f1-883c-e97364607682",
   "metadata": {
    "tags": []
   },
   "outputs": [],
   "source": [
    "schema = StructType([\n",
    "    StructField(\"Move\", IntegerType(), True),\n",
    "    StructField(\"White_Rook_1\", StringType(), True),\n",
    "    StructField(\"White_Rook_2\", StringType(), True),\n",
    "    StructField(\"White_Knight_1\", StringType(), True),\n",
    "    StructField(\"White_Knight_2\", StringType(), True),\n",
    "    StructField(\"White_Bishop_1\", StringType(), True),\n",
    "    StructField(\"White_Bishop_2\", StringType(), True),\n",
    "    StructField(\"White_Queen_1\", StringType(), True),\n",
    "    StructField(\"White_King_1\", StringType(), True),\n",
    "    StructField(\"White_Pawn_1\", StringType(), True),\n",
    "    StructField(\"White_Pawn_2\", StringType(), True),\n",
    "    StructField(\"White_Pawn_3\", StringType(), True),\n",
    "    StructField(\"White_Pawn_4\", StringType(), True),\n",
    "    StructField(\"White_Pawn_5\", StringType(), True),\n",
    "    StructField(\"White_Pawn_6\", StringType(), True),\n",
    "    StructField(\"White_Pawn_7\", StringType(), True),\n",
    "    StructField(\"White_Pawn_8\", StringType(), True),\n",
    "    StructField(\"Black_Rook_1\", StringType(), True),\n",
    "    StructField(\"Black_Rook_2\", StringType(), True),\n",
    "    StructField(\"Black_Knight_1\", StringType(), True),\n",
    "    StructField(\"Black_Knight_2\", StringType(), True),\n",
    "    StructField(\"Black_Bishop_1\", StringType(), True),\n",
    "    StructField(\"Black_Bishop_2\", StringType(), True),\n",
    "    StructField(\"Black_Queen_1\", StringType(), True),\n",
    "    StructField(\"Black_King_1\", StringType(), True),\n",
    "    StructField(\"Black_Pawn_1\", StringType(), True),\n",
    "    StructField(\"Black_Pawn_2\", StringType(), True),\n",
    "    StructField(\"Black_Pawn_3\", StringType(), True),\n",
    "    StructField(\"Black_Pawn_4\", StringType(), True),\n",
    "    StructField(\"Black_Pawn_5\", StringType(), True),\n",
    "    StructField(\"Black_Pawn_6\", StringType(), True),\n",
    "    StructField(\"Black_Pawn_7\", StringType(), True),\n",
    "    StructField(\"Black_Pawn_8\", StringType(), True),\n",
    "])"
   ]
  },
  {
   "cell_type": "code",
   "execution_count": 5,
   "id": "14823e05-8b77-4653-8795-0bdf436aec90",
   "metadata": {
    "tags": []
   },
   "outputs": [],
   "source": [
    "schema1 = StructType([\n",
    "    StructField(\"Move\", IntegerType(), True),\n",
    "    StructField(\"White_Rook_1\", StringType(), True),\n",
    "    StructField(\"White_Rook_2\", StringType(), True),\n",
    "    StructField(\"White_Knight_1\", StringType(), True),\n",
    "    StructField(\"White_Knight_2\", StringType(), True),\n",
    "    StructField(\"White_Bishop_1\", StringType(), True),\n",
    "    StructField(\"White_Bishop_2\", StringType(), True),\n",
    "    StructField(\"White_Queen_1\", StringType(), True),\n",
    "    StructField(\"White_King_1\", StringType(), True),\n",
    "    StructField(\"White_Pawn_1\", StringType(), True),\n",
    "    StructField(\"White_Pawn_2\", StringType(), True),\n",
    "    StructField(\"White_Pawn_3\", StringType(), True),\n",
    "    StructField(\"White_Pawn_4\", StringType(), True),\n",
    "    StructField(\"White_Pawn_5\", StringType(), True),\n",
    "    StructField(\"White_Pawn_6\", StringType(), True),\n",
    "    StructField(\"White_Pawn_7\", StringType(), True),\n",
    "    StructField(\"White_Pawn_8\", StringType(), True),\n",
    "    StructField(\"Black_Rook_1\", StringType(), True),\n",
    "    StructField(\"Black_Rook_2\", StringType(), True),\n",
    "    StructField(\"Black_Knight_1\", StringType(), True),\n",
    "    StructField(\"Black_Knight_2\", StringType(), True),\n",
    "    StructField(\"Black_Bishop_1\", StringType(), True),\n",
    "    StructField(\"Black_Bishop_2\", StringType(), True),\n",
    "    StructField(\"Black_Queen_1\", StringType(), True),\n",
    "    StructField(\"Black_King_1\", StringType(), True),\n",
    "    StructField(\"Black_Pawn_1\", StringType(), True),\n",
    "    StructField(\"Black_Pawn_2\", StringType(), True),\n",
    "    StructField(\"Black_Pawn_3\", StringType(), True),\n",
    "    StructField(\"Black_Pawn_4\", StringType(), True),\n",
    "    StructField(\"Black_Pawn_5\", StringType(), True),\n",
    "    StructField(\"Black_Pawn_6\", StringType(), True),\n",
    "    StructField(\"Black_Pawn_7\", StringType(), True),\n",
    "    StructField(\"Black_Pawn_8\", StringType(), True),\n",
    "    StructField(\"game_id\", StringType(), True),\n",
    "    StructField(\"next_move\", StringType(), True),\n",
    "    StructField(\"result\", IntegerType(), True),\n",
    "])"
   ]
  },
  {
   "cell_type": "code",
   "execution_count": 6,
   "id": "0272b1ba-8d64-43bb-83ab-ff6b667243e3",
   "metadata": {
    "tags": []
   },
   "outputs": [
    {
     "name": "stderr",
     "output_type": "stream",
     "text": [
      "                                                                                \r"
     ]
    },
    {
     "data": {
      "text/plain": [
       "1000"
      ]
     },
     "execution_count": 6,
     "metadata": {},
     "output_type": "execute_result"
    }
   ],
   "source": [
    "# Specify the game ids! \n",
    "game_ids = [row[\"game_id\"] for row in combined_games_df.select(\"game_id\").distinct().collect()[17000:18000]]\n",
    "len(game_ids)"
   ]
  },
  {
   "cell_type": "code",
   "execution_count": 7,
   "id": "82c20b64-cf04-4c02-8baa-77d47adbc3bb",
   "metadata": {},
   "outputs": [],
   "source": [
    "df = spark.createDataFrame(df, schema=schema)"
   ]
  },
  {
   "cell_type": "code",
   "execution_count": null,
   "id": "6d0c3d00-b8d5-41a9-aad5-84136caa8cb6",
   "metadata": {},
   "outputs": [],
   "source": []
  },
  {
   "cell_type": "markdown",
   "id": "7b1dda9c-500a-47e6-81ef-89070088d8b2",
   "metadata": {},
   "source": [
    "# It's here!"
   ]
  },
  {
   "cell_type": "code",
   "execution_count": 8,
   "id": "5ae7fb42-ca17-4db1-9ffe-ad2acd7e3b1a",
   "metadata": {
    "tags": []
   },
   "outputs": [],
   "source": [
    "chess_squares = [\n",
    "    \"a1\", \"b1\", \"c1\", \"d1\", \"e1\", \"f1\", \"g1\", \"h1\",\n",
    "    \"a2\", \"b2\", \"c2\", \"d2\", \"e2\", \"f2\", \"g2\", \"h2\",\n",
    "    \"a3\", \"b3\", \"c3\", \"d3\", \"e3\", \"f3\", \"g3\", \"h3\",\n",
    "    \"a4\", \"b4\", \"c4\", \"d4\", \"e4\", \"f4\", \"g4\", \"h4\",\n",
    "    \"a5\", \"b5\", \"c5\", \"d5\", \"e5\", \"f5\", \"g5\", \"h5\",\n",
    "    \"a6\", \"b6\", \"c6\", \"d6\", \"e6\", \"f6\", \"g6\", \"h6\",\n",
    "    \"a7\", \"b7\", \"c7\", \"d7\", \"e7\", \"f7\", \"g7\", \"h7\",\n",
    "    \"a8\", \"b8\", \"c8\", \"d8\", \"e8\", \"f8\", \"g8\", \"h8\"\n",
    "]\n",
    "\n",
    "# Define the schema\n",
    "schema3 = StructType([\n",
    "    StructField(\"Move\", IntegerType(), True),\n",
    "    StructField(\"game_id\", IntegerType(), True),\n",
    "    StructField(\"next_move\", StringType(), True),\n",
    "    StructField(\"result\", StringType(), True),\n",
    "    *[\n",
    "        StructField(square, IntegerType(), True)  # Each chess square is an integer field\n",
    "        for square in chess_squares\n",
    "    ]\n",
    "])"
   ]
  },
  {
   "cell_type": "code",
   "execution_count": 9,
   "id": "e9458c73-0eda-414b-b3de-0f04197b6ea1",
   "metadata": {
    "tags": []
   },
   "outputs": [],
   "source": [
    "def update_squares(row, piece, value, chess_squares):\n",
    "    for square in chess_squares:\n",
    "        if row[piece] == square:\n",
    "            row[square] = value\n",
    "    return row"
   ]
  },
  {
   "cell_type": "code",
   "execution_count": 61,
   "id": "0d6b7dfd-54b9-4398-939f-927a1462fe31",
   "metadata": {
    "tags": []
   },
   "outputs": [
    {
     "data": {
      "text/plain": [
       "99997"
      ]
     },
     "execution_count": 61,
     "metadata": {},
     "output_type": "execute_result"
    }
   ],
   "source": []
  },
  {
   "cell_type": "code",
   "execution_count": null,
   "id": "46402ad5-f1e8-46dc-95a2-6ff736ceec64",
   "metadata": {},
   "outputs": [
    {
     "name": "stdout",
     "output_type": "stream",
     "text": [
      "Processing Game ID: 15380, total moves: 87\n",
      "Processing Move: 0\n",
      "Processing Move: 15\n",
      "Processing Move: 30\n",
      "Processing Move: 45\n",
      "Processing Move: 60\n",
      "Processing Move: 75\n"
     ]
    },
    {
     "name": "stderr",
     "output_type": "stream",
     "text": [
      "24/11/30 08:36:19 WARN package: Truncated the string representation of a plan since it was too large. This behavior can be adjusted by setting 'spark.sql.debug.maxToStringFields'.\n",
      "24/11/30 08:36:41 WARN DAGScheduler: Broadcasting large task binary with size 1598.1 KiB\n",
      "                                                                                \r"
     ]
    },
    {
     "name": "stdout",
     "output_type": "stream",
     "text": [
      "Saved Games Final Updated: 1 rows\n"
     ]
    },
    {
     "name": "stderr",
     "output_type": "stream",
     "text": [
      "24/11/30 08:37:17 WARN DAGScheduler: Broadcasting large task binary with size 1616.8 KiB\n",
      "                                                                                \r"
     ]
    },
    {
     "name": "stdout",
     "output_type": "stream",
     "text": [
      "Saved Games Final Updated: 2 rows\n"
     ]
    },
    {
     "name": "stderr",
     "output_type": "stream",
     "text": [
      "24/11/30 08:37:53 WARN DAGScheduler: Broadcasting large task binary with size 1635.5 KiB\n"
     ]
    },
    {
     "name": "stdout",
     "output_type": "stream",
     "text": [
      "Saved Games Final Updated: 3 rows\n"
     ]
    },
    {
     "name": "stderr",
     "output_type": "stream",
     "text": [
      "24/11/30 08:38:30 WARN DAGScheduler: Broadcasting large task binary with size 1654.3 KiB\n",
      "                                                                                \r"
     ]
    },
    {
     "name": "stdout",
     "output_type": "stream",
     "text": [
      "Saved Games Final Updated: 4 rows\n",
      "Processing Game ID: 15579, total moves: 45\n",
      "Processing Move: 0\n",
      "Processing Move: 15\n",
      "Processing Move: 30\n"
     ]
    },
    {
     "name": "stderr",
     "output_type": "stream",
     "text": [
      "                                                                                \r"
     ]
    },
    {
     "name": "stdout",
     "output_type": "stream",
     "text": [
      "Saved Games Final Updated: 5 rows\n",
      "Saved Games Final Updated: 6 rows\n",
      "Processing Game ID: 15620, total moves: 97\n",
      "Processing Move: 0\n",
      "Processing Move: 15\n",
      "Processing Move: 30\n",
      "Processing Move: 45\n",
      "Processing Move: 60\n",
      "Processing Move: 75\n",
      "Processing Move: 90\n"
     ]
    },
    {
     "name": "stderr",
     "output_type": "stream",
     "text": [
      "24/11/30 08:40:27 WARN DAGScheduler: Broadcasting large task binary with size 1785.4 KiB\n",
      "                                                                                \r"
     ]
    },
    {
     "name": "stdout",
     "output_type": "stream",
     "text": [
      "Saved Games Final Updated: 7 rows\n"
     ]
    },
    {
     "name": "stderr",
     "output_type": "stream",
     "text": [
      "24/11/30 08:41:11 WARN DAGScheduler: Broadcasting large task binary with size 1804.2 KiB\n",
      "                                                                                \r"
     ]
    },
    {
     "name": "stdout",
     "output_type": "stream",
     "text": [
      "Saved Games Final Updated: 8 rows\n"
     ]
    },
    {
     "name": "stderr",
     "output_type": "stream",
     "text": [
      "24/11/30 08:41:56 WARN DAGScheduler: Broadcasting large task binary with size 1822.9 KiB\n",
      "                                                                                \r"
     ]
    },
    {
     "name": "stdout",
     "output_type": "stream",
     "text": [
      "Saved Games Final Updated: 9 rows\n"
     ]
    },
    {
     "name": "stderr",
     "output_type": "stream",
     "text": [
      "24/11/30 08:42:42 WARN DAGScheduler: Broadcasting large task binary with size 1841.7 KiB\n",
      "                                                                                \r"
     ]
    },
    {
     "name": "stdout",
     "output_type": "stream",
     "text": [
      "Saved Games Final Updated: 10 rows\n",
      "Processing Game ID: 15703, total moves: 122\n",
      "Processing Move: 0\n",
      "Processing Move: 15\n",
      "Processing Move: 30\n",
      "Processing Move: 45\n",
      "Processing Move: 60\n",
      "Processing Move: 75\n",
      "Processing Move: 90\n",
      "Processing Move: 105\n"
     ]
    },
    {
     "name": "stderr",
     "output_type": "stream",
     "text": [
      "24/11/30 08:44:49 WARN DAGScheduler: Broadcasting large task binary with size 2.2 MiB\n",
      "                                                                                \r"
     ]
    },
    {
     "name": "stdout",
     "output_type": "stream",
     "text": [
      "Saved Games Final Updated: 11 rows\n"
     ]
    },
    {
     "name": "stderr",
     "output_type": "stream",
     "text": [
      "24/11/30 08:45:58 WARN DAGScheduler: Broadcasting large task binary with size 2.2 MiB\n",
      "                                                                                \r"
     ]
    },
    {
     "name": "stdout",
     "output_type": "stream",
     "text": [
      "Saved Games Final Updated: 12 rows\n"
     ]
    },
    {
     "name": "stderr",
     "output_type": "stream",
     "text": [
      "24/11/30 08:47:08 WARN DAGScheduler: Broadcasting large task binary with size 2.2 MiB\n",
      "                                                                                \r"
     ]
    },
    {
     "name": "stdout",
     "output_type": "stream",
     "text": [
      "Saved Games Final Updated: 13 rows\n"
     ]
    },
    {
     "name": "stderr",
     "output_type": "stream",
     "text": [
      "24/11/30 08:48:19 WARN DAGScheduler: Broadcasting large task binary with size 2.2 MiB\n",
      "                                                                                \r"
     ]
    },
    {
     "name": "stdout",
     "output_type": "stream",
     "text": [
      "Saved Games Final Updated: 14 rows\n"
     ]
    },
    {
     "name": "stderr",
     "output_type": "stream",
     "text": [
      "24/11/30 08:49:34 WARN DAGScheduler: Broadcasting large task binary with size 2.2 MiB\n",
      "                                                                                \r"
     ]
    },
    {
     "name": "stdout",
     "output_type": "stream",
     "text": [
      "Saved Games Final Updated: 15 rows\n",
      "Processing Move: 120\n"
     ]
    },
    {
     "name": "stderr",
     "output_type": "stream",
     "text": [
      "24/11/30 08:50:51 WARN DAGScheduler: Broadcasting large task binary with size 2.3 MiB\n",
      "                                                                                \r"
     ]
    },
    {
     "name": "stdout",
     "output_type": "stream",
     "text": [
      "Saved Games Final Updated: 16 rows\n",
      "Processing Game ID: 15777, total moves: 97\n",
      "Processing Move: 0\n",
      "Processing Move: 15\n",
      "Processing Move: 30\n",
      "Processing Move: 45\n",
      "Processing Move: 60\n",
      "Processing Move: 75\n",
      "Processing Move: 90\n"
     ]
    },
    {
     "name": "stderr",
     "output_type": "stream",
     "text": [
      "24/11/30 08:52:16 WARN DAGScheduler: Broadcasting large task binary with size 1785.4 KiB\n",
      "                                                                                \r"
     ]
    },
    {
     "name": "stdout",
     "output_type": "stream",
     "text": [
      "Saved Games Final Updated: 17 rows\n"
     ]
    },
    {
     "name": "stderr",
     "output_type": "stream",
     "text": [
      "24/11/30 08:53:00 WARN DAGScheduler: Broadcasting large task binary with size 1804.2 KiB\n",
      "                                                                                \r"
     ]
    },
    {
     "name": "stdout",
     "output_type": "stream",
     "text": [
      "Saved Games Final Updated: 18 rows\n"
     ]
    },
    {
     "name": "stderr",
     "output_type": "stream",
     "text": [
      "24/11/30 08:53:46 WARN DAGScheduler: Broadcasting large task binary with size 1822.9 KiB\n",
      "                                                                                \r"
     ]
    },
    {
     "name": "stdout",
     "output_type": "stream",
     "text": [
      "Saved Games Final Updated: 19 rows\n"
     ]
    },
    {
     "name": "stderr",
     "output_type": "stream",
     "text": [
      "24/11/30 08:54:33 WARN DAGScheduler: Broadcasting large task binary with size 1841.7 KiB\n",
      "                                                                                \r"
     ]
    },
    {
     "name": "stdout",
     "output_type": "stream",
     "text": [
      "Saved Games Final Updated: 20 rows\n",
      "Processing Game ID: 15857, total moves: 121\n",
      "Processing Move: 0\n",
      "Processing Move: 15\n",
      "Processing Move: 30\n",
      "Processing Move: 45\n",
      "Processing Move: 60\n",
      "Processing Move: 75\n",
      "Processing Move: 90\n",
      "Processing Move: 105\n"
     ]
    },
    {
     "name": "stderr",
     "output_type": "stream",
     "text": [
      "24/11/30 08:56:36 WARN DAGScheduler: Broadcasting large task binary with size 2.1 MiB\n",
      "                                                                                \r"
     ]
    },
    {
     "name": "stdout",
     "output_type": "stream",
     "text": [
      "Saved Games Final Updated: 21 rows\n"
     ]
    },
    {
     "name": "stderr",
     "output_type": "stream",
     "text": [
      "24/11/30 08:57:44 WARN DAGScheduler: Broadcasting large task binary with size 2.2 MiB\n",
      "                                                                                \r"
     ]
    },
    {
     "name": "stdout",
     "output_type": "stream",
     "text": [
      "Saved Games Final Updated: 22 rows\n"
     ]
    },
    {
     "name": "stderr",
     "output_type": "stream",
     "text": [
      "24/11/30 08:58:52 WARN DAGScheduler: Broadcasting large task binary with size 2.2 MiB\n",
      "                                                                                \r"
     ]
    },
    {
     "name": "stdout",
     "output_type": "stream",
     "text": [
      "Saved Games Final Updated: 23 rows\n"
     ]
    },
    {
     "name": "stderr",
     "output_type": "stream",
     "text": [
      "24/11/30 09:00:04 WARN DAGScheduler: Broadcasting large task binary with size 2.2 MiB\n",
      "                                                                                \r"
     ]
    },
    {
     "name": "stdout",
     "output_type": "stream",
     "text": [
      "Saved Games Final Updated: 24 rows\n"
     ]
    },
    {
     "name": "stderr",
     "output_type": "stream",
     "text": [
      "24/11/30 09:01:17 WARN DAGScheduler: Broadcasting large task binary with size 2.2 MiB\n",
      "                                                                                \r"
     ]
    },
    {
     "name": "stdout",
     "output_type": "stream",
     "text": [
      "Saved Games Final Updated: 25 rows\n"
     ]
    },
    {
     "name": "stderr",
     "output_type": "stream",
     "text": [
      "24/11/30 09:02:30 WARN DAGScheduler: Broadcasting large task binary with size 2.2 MiB\n",
      "                                                                                \r"
     ]
    },
    {
     "name": "stdout",
     "output_type": "stream",
     "text": [
      "Saved Games Final Updated: 26 rows\n",
      "Processing Game ID: 15941, total moves: 66\n",
      "Processing Move: 0\n",
      "Processing Move: 15\n",
      "Processing Move: 30\n",
      "Processing Move: 45\n",
      "Processing Move: 60\n"
     ]
    },
    {
     "name": "stderr",
     "output_type": "stream",
     "text": [
      "24/11/30 09:03:13 WARN DAGScheduler: Broadcasting large task binary with size 1223.3 KiB\n"
     ]
    },
    {
     "name": "stdout",
     "output_type": "stream",
     "text": [
      "Saved Games Final Updated: 27 rows\n"
     ]
    },
    {
     "name": "stderr",
     "output_type": "stream",
     "text": [
      "24/11/30 09:03:34 WARN DAGScheduler: Broadcasting large task binary with size 1242.0 KiB\n"
     ]
    },
    {
     "name": "stdout",
     "output_type": "stream",
     "text": [
      "Saved Games Final Updated: 28 rows\n"
     ]
    },
    {
     "name": "stderr",
     "output_type": "stream",
     "text": [
      "24/11/30 09:03:56 WARN DAGScheduler: Broadcasting large task binary with size 1260.8 KiB\n"
     ]
    },
    {
     "name": "stdout",
     "output_type": "stream",
     "text": [
      "Saved Games Final Updated: 29 rows\n",
      "Processing Game ID: 16009, total moves: 55\n",
      "Processing Move: 0\n",
      "Processing Move: 15\n",
      "Processing Move: 30\n",
      "Processing Move: 45\n"
     ]
    },
    {
     "name": "stderr",
     "output_type": "stream",
     "text": [
      "24/11/30 09:04:28 WARN DAGScheduler: Broadcasting large task binary with size 1035.9 KiB\n"
     ]
    },
    {
     "name": "stdout",
     "output_type": "stream",
     "text": [
      "Saved Games Final Updated: 30 rows\n"
     ]
    },
    {
     "name": "stderr",
     "output_type": "stream",
     "text": [
      "24/11/30 09:04:43 WARN DAGScheduler: Broadcasting large task binary with size 1054.7 KiB\n"
     ]
    },
    {
     "name": "stdout",
     "output_type": "stream",
     "text": [
      "Saved Games Final Updated: 31 rows\n",
      "Processing Game ID: 16013, total moves: 37\n",
      "Processing Move: 0\n",
      "Processing Move: 15\n",
      "Processing Move: 30\n",
      "Saved Games Final Updated: 32 rows\n",
      "Processing Game ID: 16034, total moves: 77\n",
      "Processing Move: 0\n",
      "Processing Move: 15\n",
      "Processing Move: 30\n",
      "Processing Move: 45\n",
      "Processing Move: 60\n"
     ]
    },
    {
     "name": "stderr",
     "output_type": "stream",
     "text": [
      "24/11/30 09:05:56 WARN DAGScheduler: Broadcasting large task binary with size 1429.4 KiB\n"
     ]
    },
    {
     "name": "stdout",
     "output_type": "stream",
     "text": [
      "Saved Games Final Updated: 33 rows\n"
     ]
    },
    {
     "name": "stderr",
     "output_type": "stream",
     "text": [
      "24/11/30 09:06:25 WARN DAGScheduler: Broadcasting large task binary with size 1448.2 KiB\n"
     ]
    },
    {
     "name": "stdout",
     "output_type": "stream",
     "text": [
      "Saved Games Final Updated: 34 rows\n",
      "Processing Move: 75\n"
     ]
    },
    {
     "name": "stderr",
     "output_type": "stream",
     "text": [
      "24/11/30 09:06:55 WARN DAGScheduler: Broadcasting large task binary with size 1466.9 KiB\n"
     ]
    },
    {
     "name": "stdout",
     "output_type": "stream",
     "text": [
      "Saved Games Final Updated: 35 rows\n",
      "Processing Game ID: 16141, total moves: 74\n",
      "Processing Move: 0\n",
      "Processing Move: 15\n",
      "Processing Move: 30\n",
      "Processing Move: 45\n",
      "Processing Move: 60\n"
     ]
    },
    {
     "name": "stderr",
     "output_type": "stream",
     "text": [
      "24/11/30 09:07:46 WARN DAGScheduler: Broadcasting large task binary with size 1373.2 KiB\n"
     ]
    },
    {
     "name": "stdout",
     "output_type": "stream",
     "text": [
      "Saved Games Final Updated: 36 rows\n"
     ]
    },
    {
     "name": "stderr",
     "output_type": "stream",
     "text": [
      "24/11/30 09:08:12 WARN DAGScheduler: Broadcasting large task binary with size 1391.9 KiB\n"
     ]
    },
    {
     "name": "stdout",
     "output_type": "stream",
     "text": [
      "Saved Games Final Updated: 37 rows\n"
     ]
    },
    {
     "name": "stderr",
     "output_type": "stream",
     "text": [
      "24/11/30 09:08:39 WARN DAGScheduler: Broadcasting large task binary with size 1410.7 KiB\n"
     ]
    },
    {
     "name": "stdout",
     "output_type": "stream",
     "text": [
      "Saved Games Final Updated: 38 rows\n",
      "Processing Game ID: 16153, total moves: 51\n",
      "Processing Move: 0\n",
      "Processing Move: 15\n",
      "Processing Move: 30\n",
      "Processing Move: 45\n",
      "Saved Games Final Updated: 39 rows\n",
      "Saved Games Final Updated: 40 rows\n",
      "Processing Game ID: 16200, total moves: 127\n",
      "Processing Move: 0\n",
      "Processing Move: 15\n",
      "Processing Move: 30\n",
      "Processing Move: 45\n",
      "Processing Move: 60\n",
      "Processing Move: 75\n",
      "Processing Move: 90\n",
      "Processing Move: 105\n",
      "Processing Move: 120\n"
     ]
    },
    {
     "name": "stderr",
     "output_type": "stream",
     "text": [
      "24/11/30 09:11:40 WARN DAGScheduler: Broadcasting large task binary with size 2.3 MiB\n",
      "                                                                                \r"
     ]
    },
    {
     "name": "stdout",
     "output_type": "stream",
     "text": [
      "Saved Games Final Updated: 41 rows\n"
     ]
    },
    {
     "name": "stderr",
     "output_type": "stream",
     "text": [
      "24/11/30 09:12:57 WARN DAGScheduler: Broadcasting large task binary with size 2.3 MiB\n",
      "                                                                                \r"
     ]
    },
    {
     "name": "stdout",
     "output_type": "stream",
     "text": [
      "Saved Games Final Updated: 42 rows\n"
     ]
    },
    {
     "name": "stderr",
     "output_type": "stream",
     "text": [
      "24/11/30 09:14:17 WARN DAGScheduler: Broadcasting large task binary with size 2.3 MiB\n",
      "                                                                                \r"
     ]
    },
    {
     "name": "stdout",
     "output_type": "stream",
     "text": [
      "Saved Games Final Updated: 43 rows\n"
     ]
    },
    {
     "name": "stderr",
     "output_type": "stream",
     "text": [
      "24/11/30 09:15:38 WARN DAGScheduler: Broadcasting large task binary with size 2.3 MiB\n",
      "                                                                                \r"
     ]
    },
    {
     "name": "stdout",
     "output_type": "stream",
     "text": [
      "Saved Games Final Updated: 44 rows\n"
     ]
    },
    {
     "name": "stderr",
     "output_type": "stream",
     "text": [
      "24/11/30 09:16:56 WARN DAGScheduler: Broadcasting large task binary with size 2.3 MiB\n",
      "                                                                                \r"
     ]
    },
    {
     "name": "stdout",
     "output_type": "stream",
     "text": [
      "Saved Games Final Updated: 45 rows\n"
     ]
    },
    {
     "name": "stderr",
     "output_type": "stream",
     "text": [
      "24/11/30 09:18:21 WARN DAGScheduler: Broadcasting large task binary with size 2.3 MiB\n",
      "                                                                                \r"
     ]
    },
    {
     "name": "stdout",
     "output_type": "stream",
     "text": [
      "Saved Games Final Updated: 46 rows\n",
      "Processing Game ID: 16258, total moves: 27\n",
      "Processing Move: 0\n",
      "Processing Move: 15\n",
      "Saved Games Final Updated: 47 rows\n",
      "Processing Game ID: 16562, total moves: 72\n",
      "Processing Move: 0\n",
      "Processing Move: 15\n",
      "Processing Move: 30\n",
      "Processing Move: 45\n",
      "Processing Move: 60\n"
     ]
    },
    {
     "name": "stderr",
     "output_type": "stream",
     "text": [
      "24/11/30 09:19:22 WARN DAGScheduler: Broadcasting large task binary with size 1335.7 KiB\n"
     ]
    },
    {
     "name": "stdout",
     "output_type": "stream",
     "text": [
      "Saved Games Final Updated: 48 rows\n"
     ]
    },
    {
     "name": "stderr",
     "output_type": "stream",
     "text": [
      "24/11/30 09:19:47 WARN DAGScheduler: Broadcasting large task binary with size 1354.5 KiB\n",
      "                                                                                \r"
     ]
    },
    {
     "name": "stdout",
     "output_type": "stream",
     "text": [
      "Saved Games Final Updated: 49 rows\n"
     ]
    },
    {
     "name": "stderr",
     "output_type": "stream",
     "text": [
      "24/11/30 09:20:12 WARN DAGScheduler: Broadcasting large task binary with size 1373.2 KiB\n"
     ]
    },
    {
     "name": "stdout",
     "output_type": "stream",
     "text": [
      "Saved Games Final Updated: 50 rows\n",
      "Processing Game ID: 16617, total moves: 66\n",
      "Processing Move: 0\n",
      "Processing Move: 15\n",
      "Processing Move: 30\n",
      "Processing Move: 45\n",
      "Processing Move: 60\n"
     ]
    },
    {
     "name": "stderr",
     "output_type": "stream",
     "text": [
      "24/11/30 09:20:54 WARN DAGScheduler: Broadcasting large task binary with size 1223.3 KiB\n"
     ]
    },
    {
     "name": "stdout",
     "output_type": "stream",
     "text": [
      "Saved Games Final Updated: 51 rows\n"
     ]
    },
    {
     "name": "stderr",
     "output_type": "stream",
     "text": [
      "24/11/30 09:21:15 WARN DAGScheduler: Broadcasting large task binary with size 1242.0 KiB\n"
     ]
    },
    {
     "name": "stdout",
     "output_type": "stream",
     "text": [
      "Saved Games Final Updated: 52 rows\n"
     ]
    },
    {
     "name": "stderr",
     "output_type": "stream",
     "text": [
      "24/11/30 09:21:36 WARN DAGScheduler: Broadcasting large task binary with size 1260.8 KiB\n"
     ]
    },
    {
     "name": "stdout",
     "output_type": "stream",
     "text": [
      "Saved Games Final Updated: 53 rows\n",
      "Processing Game ID: 16711, total moves: 52\n",
      "Processing Move: 0\n",
      "Processing Move: 15\n",
      "Processing Move: 30\n",
      "Processing Move: 45\n",
      "Saved Games Final Updated: 54 rows\n",
      "Saved Games Final Updated: 55 rows\n",
      "Processing Game ID: 16793, total moves: 30\n",
      "Processing Move: 0\n",
      "Processing Move: 15\n",
      "Saved Games Final Updated: 56 rows\n",
      "Processing Game ID: 16927, total moves: 59\n",
      "Processing Move: 0\n",
      "Processing Move: 15\n",
      "Processing Move: 30\n",
      "Processing Move: 45\n"
     ]
    },
    {
     "name": "stderr",
     "output_type": "stream",
     "text": [
      "24/11/30 09:23:06 WARN DAGScheduler: Broadcasting large task binary with size 1110.9 KiB\n"
     ]
    },
    {
     "name": "stdout",
     "output_type": "stream",
     "text": [
      "Saved Games Final Updated: 57 rows\n"
     ]
    },
    {
     "name": "stderr",
     "output_type": "stream",
     "text": [
      "24/11/30 09:23:23 WARN DAGScheduler: Broadcasting large task binary with size 1129.6 KiB\n"
     ]
    },
    {
     "name": "stdout",
     "output_type": "stream",
     "text": [
      "Saved Games Final Updated: 58 rows\n",
      "Processing Game ID: 16959, total moves: 44\n",
      "Processing Move: 0\n",
      "Processing Move: 15\n",
      "Processing Move: 30\n",
      "Saved Games Final Updated: 59 rows\n",
      "Saved Games Final Updated: 60 rows\n",
      "Processing Game ID: 17041, total moves: 79\n",
      "Processing Move: 0\n",
      "Processing Move: 15\n",
      "Processing Move: 30\n",
      "Processing Move: 45\n",
      "Processing Move: 60\n",
      "Processing Move: 75\n"
     ]
    },
    {
     "name": "stderr",
     "output_type": "stream",
     "text": [
      "24/11/30 09:24:52 WARN DAGScheduler: Broadcasting large task binary with size 1466.9 KiB\n"
     ]
    },
    {
     "name": "stdout",
     "output_type": "stream",
     "text": [
      "Saved Games Final Updated: 61 rows\n"
     ]
    },
    {
     "name": "stderr",
     "output_type": "stream",
     "text": [
      "24/11/30 09:25:22 WARN DAGScheduler: Broadcasting large task binary with size 1485.6 KiB\n",
      "                                                                                \r"
     ]
    },
    {
     "name": "stdout",
     "output_type": "stream",
     "text": [
      "Saved Games Final Updated: 62 rows\n"
     ]
    },
    {
     "name": "stderr",
     "output_type": "stream",
     "text": [
      "24/11/30 09:25:52 WARN DAGScheduler: Broadcasting large task binary with size 1504.4 KiB\n",
      "                                                                                \r"
     ]
    },
    {
     "name": "stdout",
     "output_type": "stream",
     "text": [
      "Saved Games Final Updated: 63 rows\n",
      "Processing Game ID: 17055, total moves: 71\n",
      "Processing Move: 0\n",
      "Processing Move: 15\n",
      "Processing Move: 30\n",
      "Processing Move: 45\n",
      "Processing Move: 60\n"
     ]
    },
    {
     "name": "stderr",
     "output_type": "stream",
     "text": [
      "24/11/30 09:26:40 WARN DAGScheduler: Broadcasting large task binary with size 1317.0 KiB\n"
     ]
    },
    {
     "name": "stdout",
     "output_type": "stream",
     "text": [
      "Saved Games Final Updated: 64 rows\n"
     ]
    },
    {
     "name": "stderr",
     "output_type": "stream",
     "text": [
      "24/11/30 09:27:04 WARN DAGScheduler: Broadcasting large task binary with size 1335.7 KiB\n"
     ]
    },
    {
     "name": "stdout",
     "output_type": "stream",
     "text": [
      "Saved Games Final Updated: 65 rows\n"
     ]
    },
    {
     "name": "stderr",
     "output_type": "stream",
     "text": [
      "24/11/30 09:27:28 WARN DAGScheduler: Broadcasting large task binary with size 1354.5 KiB\n"
     ]
    },
    {
     "name": "stdout",
     "output_type": "stream",
     "text": [
      "Saved Games Final Updated: 66 rows\n",
      "Processing Game ID: 17173, total moves: 61\n",
      "Processing Move: 0\n",
      "Processing Move: 15\n",
      "Processing Move: 30\n",
      "Processing Move: 45\n"
     ]
    },
    {
     "name": "stderr",
     "output_type": "stream",
     "text": [
      "24/11/30 09:28:05 WARN DAGScheduler: Broadcasting large task binary with size 1129.6 KiB\n"
     ]
    },
    {
     "name": "stdout",
     "output_type": "stream",
     "text": [
      "Saved Games Final Updated: 67 rows\n"
     ]
    },
    {
     "name": "stderr",
     "output_type": "stream",
     "text": [
      "24/11/30 09:28:23 WARN DAGScheduler: Broadcasting large task binary with size 1148.3 KiB\n"
     ]
    },
    {
     "name": "stdout",
     "output_type": "stream",
     "text": [
      "Saved Games Final Updated: 68 rows\n"
     ]
    },
    {
     "name": "stderr",
     "output_type": "stream",
     "text": [
      "24/11/30 09:28:42 WARN DAGScheduler: Broadcasting large task binary with size 1167.1 KiB\n"
     ]
    },
    {
     "name": "stdout",
     "output_type": "stream",
     "text": [
      "Saved Games Final Updated: 69 rows\n",
      "Processing Game ID: 17202, total moves: 56\n",
      "Processing Move: 0\n",
      "Processing Move: 15\n",
      "Processing Move: 30\n",
      "Processing Move: 45\n"
     ]
    },
    {
     "name": "stderr",
     "output_type": "stream",
     "text": [
      "24/11/30 09:29:14 WARN DAGScheduler: Broadcasting large task binary with size 1054.7 KiB\n"
     ]
    },
    {
     "name": "stdout",
     "output_type": "stream",
     "text": [
      "Saved Games Final Updated: 70 rows\n"
     ]
    },
    {
     "name": "stderr",
     "output_type": "stream",
     "text": [
      "24/11/30 09:29:30 WARN DAGScheduler: Broadcasting large task binary with size 1073.4 KiB\n"
     ]
    },
    {
     "name": "stdout",
     "output_type": "stream",
     "text": [
      "Saved Games Final Updated: 71 rows\n",
      "Processing Game ID: 17301, total moves: 84\n",
      "Processing Move: 0\n",
      "Processing Move: 15\n",
      "Processing Move: 30\n",
      "Processing Move: 45\n",
      "Processing Move: 60\n",
      "Processing Move: 75\n"
     ]
    },
    {
     "name": "stderr",
     "output_type": "stream",
     "text": [
      "24/11/30 09:30:33 WARN DAGScheduler: Broadcasting large task binary with size 1541.8 KiB\n"
     ]
    },
    {
     "name": "stdout",
     "output_type": "stream",
     "text": [
      "Saved Games Final Updated: 72 rows\n"
     ]
    },
    {
     "name": "stderr",
     "output_type": "stream",
     "text": [
      "24/11/30 09:31:05 WARN DAGScheduler: Broadcasting large task binary with size 1560.6 KiB\n",
      "                                                                                \r"
     ]
    },
    {
     "name": "stdout",
     "output_type": "stream",
     "text": [
      "Saved Games Final Updated: 73 rows\n"
     ]
    },
    {
     "name": "stderr",
     "output_type": "stream",
     "text": [
      "24/11/30 09:31:39 WARN DAGScheduler: Broadcasting large task binary with size 1579.3 KiB\n"
     ]
    },
    {
     "name": "stdout",
     "output_type": "stream",
     "text": [
      "Saved Games Final Updated: 74 rows\n"
     ]
    },
    {
     "name": "stderr",
     "output_type": "stream",
     "text": [
      "24/11/30 09:32:13 WARN DAGScheduler: Broadcasting large task binary with size 1598.1 KiB\n"
     ]
    },
    {
     "name": "stdout",
     "output_type": "stream",
     "text": [
      "Saved Games Final Updated: 75 rows\n",
      "Processing Game ID: 12041, total moves: 123\n",
      "Processing Move: 0\n",
      "Processing Move: 15\n",
      "Processing Move: 30\n",
      "Processing Move: 45\n",
      "Processing Move: 60\n",
      "Processing Move: 75\n",
      "Processing Move: 90\n",
      "Processing Move: 105\n"
     ]
    },
    {
     "name": "stderr",
     "output_type": "stream",
     "text": [
      "24/11/30 09:34:19 WARN DAGScheduler: Broadcasting large task binary with size 2.2 MiB\n",
      "                                                                                \r"
     ]
    },
    {
     "name": "stdout",
     "output_type": "stream",
     "text": [
      "Saved Games Final Updated: 76 rows\n"
     ]
    },
    {
     "name": "stderr",
     "output_type": "stream",
     "text": [
      "24/11/30 09:35:30 WARN DAGScheduler: Broadcasting large task binary with size 2.2 MiB\n",
      "                                                                                \r"
     ]
    },
    {
     "name": "stdout",
     "output_type": "stream",
     "text": [
      "Saved Games Final Updated: 77 rows\n"
     ]
    },
    {
     "name": "stderr",
     "output_type": "stream",
     "text": [
      "24/11/30 09:36:42 WARN DAGScheduler: Broadcasting large task binary with size 2.2 MiB\n",
      "                                                                                \r"
     ]
    },
    {
     "name": "stdout",
     "output_type": "stream",
     "text": [
      "Saved Games Final Updated: 78 rows\n"
     ]
    },
    {
     "name": "stderr",
     "output_type": "stream",
     "text": [
      "24/11/30 09:37:56 WARN DAGScheduler: Broadcasting large task binary with size 2.2 MiB\n",
      "                                                                                \r"
     ]
    },
    {
     "name": "stdout",
     "output_type": "stream",
     "text": [
      "Saved Games Final Updated: 79 rows\n",
      "Processing Move: 120\n"
     ]
    },
    {
     "name": "stderr",
     "output_type": "stream",
     "text": [
      "24/11/30 09:39:11 WARN DAGScheduler: Broadcasting large task binary with size 2.3 MiB\n",
      "                                                                                \r"
     ]
    },
    {
     "name": "stdout",
     "output_type": "stream",
     "text": [
      "Saved Games Final Updated: 80 rows\n"
     ]
    },
    {
     "name": "stderr",
     "output_type": "stream",
     "text": [
      "24/11/30 09:40:29 WARN DAGScheduler: Broadcasting large task binary with size 2.3 MiB\n",
      "                                                                                \r"
     ]
    },
    {
     "name": "stdout",
     "output_type": "stream",
     "text": [
      "Saved Games Final Updated: 81 rows\n",
      "Processing Game ID: 12115, total moves: 41\n",
      "Processing Move: 0\n",
      "Processing Move: 15\n",
      "Processing Move: 30\n",
      "Saved Games Final Updated: 82 rows\n",
      "Saved Games Final Updated: 83 rows\n",
      "Processing Game ID: 12206, total moves: 65\n",
      "Processing Move: 0\n",
      "Processing Move: 15\n",
      "Processing Move: 30\n",
      "Processing Move: 45\n",
      "Processing Move: 60\n"
     ]
    },
    {
     "name": "stderr",
     "output_type": "stream",
     "text": [
      "24/11/30 09:41:39 WARN DAGScheduler: Broadcasting large task binary with size 1204.6 KiB\n"
     ]
    },
    {
     "name": "stdout",
     "output_type": "stream",
     "text": [
      "Saved Games Final Updated: 84 rows\n"
     ]
    },
    {
     "name": "stderr",
     "output_type": "stream",
     "text": [
      "24/11/30 09:41:59 WARN DAGScheduler: Broadcasting large task binary with size 1223.3 KiB\n"
     ]
    },
    {
     "name": "stdout",
     "output_type": "stream",
     "text": [
      "Saved Games Final Updated: 85 rows\n"
     ]
    },
    {
     "name": "stderr",
     "output_type": "stream",
     "text": [
      "24/11/30 09:42:20 WARN DAGScheduler: Broadcasting large task binary with size 1242.0 KiB\n"
     ]
    },
    {
     "name": "stdout",
     "output_type": "stream",
     "text": [
      "Saved Games Final Updated: 86 rows\n",
      "Processing Game ID: 12242, total moves: 67\n",
      "Processing Move: 0\n",
      "Processing Move: 15\n",
      "Processing Move: 30\n",
      "Processing Move: 45\n",
      "Processing Move: 60\n"
     ]
    },
    {
     "name": "stderr",
     "output_type": "stream",
     "text": [
      "24/11/30 09:43:04 WARN DAGScheduler: Broadcasting large task binary with size 1242.0 KiB\n"
     ]
    },
    {
     "name": "stdout",
     "output_type": "stream",
     "text": [
      "Saved Games Final Updated: 87 rows\n"
     ]
    },
    {
     "name": "stderr",
     "output_type": "stream",
     "text": [
      "24/11/30 09:43:25 WARN DAGScheduler: Broadcasting large task binary with size 1260.8 KiB\n"
     ]
    },
    {
     "name": "stdout",
     "output_type": "stream",
     "text": [
      "Saved Games Final Updated: 88 rows\n"
     ]
    },
    {
     "name": "stderr",
     "output_type": "stream",
     "text": [
      "24/11/30 09:43:48 WARN DAGScheduler: Broadcasting large task binary with size 1279.5 KiB\n"
     ]
    },
    {
     "name": "stdout",
     "output_type": "stream",
     "text": [
      "Saved Games Final Updated: 89 rows\n",
      "Processing Game ID: 12330, total moves: 61\n",
      "Processing Move: 0\n",
      "Processing Move: 15\n",
      "Processing Move: 30\n",
      "Processing Move: 45\n"
     ]
    },
    {
     "name": "stderr",
     "output_type": "stream",
     "text": [
      "24/11/30 09:44:24 WARN DAGScheduler: Broadcasting large task binary with size 1129.6 KiB\n"
     ]
    },
    {
     "name": "stdout",
     "output_type": "stream",
     "text": [
      "Saved Games Final Updated: 90 rows\n"
     ]
    },
    {
     "name": "stderr",
     "output_type": "stream",
     "text": [
      "24/11/30 09:44:42 WARN DAGScheduler: Broadcasting large task binary with size 1148.3 KiB\n"
     ]
    },
    {
     "name": "stdout",
     "output_type": "stream",
     "text": [
      "Saved Games Final Updated: 91 rows\n"
     ]
    },
    {
     "name": "stderr",
     "output_type": "stream",
     "text": [
      "24/11/30 09:45:00 WARN DAGScheduler: Broadcasting large task binary with size 1167.1 KiB\n"
     ]
    },
    {
     "name": "stdout",
     "output_type": "stream",
     "text": [
      "Saved Games Final Updated: 92 rows\n",
      "Processing Game ID: 12354, total moves: 43\n",
      "Processing Move: 0\n",
      "Processing Move: 15\n",
      "Processing Move: 30\n",
      "Saved Games Final Updated: 93 rows\n",
      "Saved Games Final Updated: 94 rows\n",
      "Processing Game ID: 12612, total moves: 59\n",
      "Processing Move: 0\n",
      "Processing Move: 15\n",
      "Processing Move: 30\n",
      "Processing Move: 45\n"
     ]
    },
    {
     "name": "stderr",
     "output_type": "stream",
     "text": [
      "24/11/30 09:46:07 WARN DAGScheduler: Broadcasting large task binary with size 1110.9 KiB\n"
     ]
    },
    {
     "name": "stdout",
     "output_type": "stream",
     "text": [
      "Saved Games Final Updated: 95 rows\n"
     ]
    },
    {
     "name": "stderr",
     "output_type": "stream",
     "text": [
      "24/11/30 09:46:24 WARN DAGScheduler: Broadcasting large task binary with size 1129.6 KiB\n"
     ]
    },
    {
     "name": "stdout",
     "output_type": "stream",
     "text": [
      "Saved Games Final Updated: 96 rows\n",
      "Processing Game ID: 12680, total moves: 59\n",
      "Processing Move: 0\n",
      "Processing Move: 15\n",
      "Processing Move: 30\n",
      "Processing Move: 45\n"
     ]
    },
    {
     "name": "stderr",
     "output_type": "stream",
     "text": [
      "24/11/30 09:47:00 WARN DAGScheduler: Broadcasting large task binary with size 1110.9 KiB\n"
     ]
    },
    {
     "name": "stdout",
     "output_type": "stream",
     "text": [
      "Saved Games Final Updated: 97 rows\n"
     ]
    },
    {
     "name": "stderr",
     "output_type": "stream",
     "text": [
      "24/11/30 09:47:17 WARN DAGScheduler: Broadcasting large task binary with size 1129.6 KiB\n"
     ]
    },
    {
     "name": "stdout",
     "output_type": "stream",
     "text": [
      "Saved Games Final Updated: 98 rows\n",
      "Processing Game ID: 12756, total moves: 31\n",
      "Processing Move: 0\n",
      "Processing Move: 15\n",
      "Saved Games Final Updated: 99 rows\n",
      "Processing Game ID: 12988, total moves: 39\n",
      "Processing Move: 0\n",
      "Processing Move: 15\n",
      "Processing Move: 30\n"
     ]
    },
    {
     "name": "stderr",
     "output_type": "stream",
     "text": [
      "                                                                                \r"
     ]
    },
    {
     "name": "stdout",
     "output_type": "stream",
     "text": [
      "Saved Games Final Updated: 100 rows\n",
      "Processing Game ID: 13071, total moves: 70\n",
      "Processing Move: 0\n",
      "Processing Move: 15\n",
      "Processing Move: 30\n",
      "Processing Move: 45\n",
      "Processing Move: 60\n"
     ]
    },
    {
     "name": "stderr",
     "output_type": "stream",
     "text": [
      "24/11/30 09:48:35 WARN DAGScheduler: Broadcasting large task binary with size 1298.3 KiB\n"
     ]
    },
    {
     "name": "stdout",
     "output_type": "stream",
     "text": [
      "Saved Games Final Updated: 101 rows\n"
     ]
    },
    {
     "name": "stderr",
     "output_type": "stream",
     "text": [
      "24/11/30 09:48:59 WARN DAGScheduler: Broadcasting large task binary with size 1317.0 KiB\n"
     ]
    },
    {
     "name": "stdout",
     "output_type": "stream",
     "text": [
      "Saved Games Final Updated: 102 rows\n"
     ]
    },
    {
     "name": "stderr",
     "output_type": "stream",
     "text": [
      "24/11/30 09:49:23 WARN DAGScheduler: Broadcasting large task binary with size 1335.7 KiB\n"
     ]
    },
    {
     "name": "stdout",
     "output_type": "stream",
     "text": [
      "Saved Games Final Updated: 103 rows\n",
      "Processing Game ID: 13078, total moves: 32\n",
      "Processing Move: 0\n",
      "Processing Move: 15\n",
      "Processing Move: 30\n",
      "Saved Games Final Updated: 104 rows\n",
      "Processing Game ID: 13126, total moves: 21\n",
      "Processing Move: 0\n",
      "Processing Move: 15\n",
      "Saved Games Final Updated: 105 rows\n",
      "Processing Game ID: 13155, total moves: 185\n",
      "Processing Move: 0\n",
      "Processing Move: 15\n",
      "Processing Move: 30\n",
      "Processing Move: 45\n",
      "Processing Move: 60\n",
      "Processing Move: 75\n",
      "Processing Move: 90\n",
      "Processing Move: 105\n",
      "Processing Move: 120\n",
      "Processing Move: 135\n",
      "Processing Move: 150\n",
      "Processing Move: 165\n"
     ]
    },
    {
     "name": "stderr",
     "output_type": "stream",
     "text": [
      "24/11/30 09:54:31 WARN DAGScheduler: Broadcasting large task binary with size 3.3 MiB\n",
      "                                                                                \r"
     ]
    },
    {
     "name": "stdout",
     "output_type": "stream",
     "text": [
      "Saved Games Final Updated: 106 rows\n"
     ]
    },
    {
     "name": "stderr",
     "output_type": "stream",
     "text": [
      "24/11/30 09:57:22 WARN DAGScheduler: Broadcasting large task binary with size 3.3 MiB\n",
      "                                                                                \r"
     ]
    },
    {
     "name": "stdout",
     "output_type": "stream",
     "text": [
      "Saved Games Final Updated: 107 rows\n"
     ]
    },
    {
     "name": "stderr",
     "output_type": "stream",
     "text": [
      "24/11/30 10:00:13 WARN DAGScheduler: Broadcasting large task binary with size 3.3 MiB\n",
      "                                                                                \r"
     ]
    },
    {
     "name": "stdout",
     "output_type": "stream",
     "text": [
      "Saved Games Final Updated: 108 rows\n"
     ]
    },
    {
     "name": "stderr",
     "output_type": "stream",
     "text": [
      "24/11/30 10:03:04 WARN DAGScheduler: Broadcasting large task binary with size 3.3 MiB\n",
      "                                                                                \r"
     ]
    },
    {
     "name": "stdout",
     "output_type": "stream",
     "text": [
      "Saved Games Final Updated: 109 rows\n"
     ]
    },
    {
     "name": "stderr",
     "output_type": "stream",
     "text": [
      "24/11/30 10:06:08 WARN DAGScheduler: Broadcasting large task binary with size 3.3 MiB\n",
      "                                                                                \r"
     ]
    },
    {
     "name": "stdout",
     "output_type": "stream",
     "text": [
      "Saved Games Final Updated: 110 rows\n",
      "Processing Move: 180\n"
     ]
    },
    {
     "name": "stderr",
     "output_type": "stream",
     "text": [
      "24/11/30 10:09:08 WARN DAGScheduler: Broadcasting large task binary with size 3.4 MiB\n",
      "                                                                                \r"
     ]
    },
    {
     "name": "stdout",
     "output_type": "stream",
     "text": [
      "Saved Games Final Updated: 111 rows\n"
     ]
    },
    {
     "name": "stderr",
     "output_type": "stream",
     "text": [
      "24/11/30 10:12:09 WARN DAGScheduler: Broadcasting large task binary with size 3.4 MiB\n",
      "                                                                                \r"
     ]
    },
    {
     "name": "stdout",
     "output_type": "stream",
     "text": [
      "Saved Games Final Updated: 112 rows\n"
     ]
    },
    {
     "name": "stderr",
     "output_type": "stream",
     "text": [
      "24/11/30 10:15:09 WARN DAGScheduler: Broadcasting large task binary with size 3.4 MiB\n",
      "                                                                                \r"
     ]
    },
    {
     "name": "stdout",
     "output_type": "stream",
     "text": [
      "Saved Games Final Updated: 113 rows\n"
     ]
    },
    {
     "name": "stderr",
     "output_type": "stream",
     "text": [
      "24/11/30 10:18:09 WARN DAGScheduler: Broadcasting large task binary with size 3.4 MiB\n",
      "                                                                                \r"
     ]
    },
    {
     "name": "stdout",
     "output_type": "stream",
     "text": [
      "Saved Games Final Updated: 114 rows\n",
      "Processing Game ID: 13203, total moves: 48\n",
      "Processing Move: 0\n",
      "Processing Move: 15\n",
      "Processing Move: 30\n",
      "Processing Move: 45\n",
      "Saved Games Final Updated: 115 rows\n",
      "Saved Games Final Updated: 116 rows\n",
      "Processing Game ID: 13284, total moves: 117\n",
      "Processing Move: 0\n",
      "Processing Move: 15\n",
      "Processing Move: 30\n",
      "Processing Move: 45\n",
      "Processing Move: 60\n",
      "Processing Move: 75\n",
      "Processing Move: 90\n",
      "Processing Move: 105\n"
     ]
    },
    {
     "name": "stderr",
     "output_type": "stream",
     "text": [
      "24/11/30 10:20:46 WARN DAGScheduler: Broadcasting large task binary with size 2.1 MiB\n",
      "                                                                                \r"
     ]
    },
    {
     "name": "stdout",
     "output_type": "stream",
     "text": [
      "Saved Games Final Updated: 117 rows\n"
     ]
    },
    {
     "name": "stderr",
     "output_type": "stream",
     "text": [
      "24/11/30 10:21:50 WARN DAGScheduler: Broadcasting large task binary with size 2.1 MiB\n",
      "                                                                                \r"
     ]
    },
    {
     "name": "stdout",
     "output_type": "stream",
     "text": [
      "Saved Games Final Updated: 118 rows\n"
     ]
    },
    {
     "name": "stderr",
     "output_type": "stream",
     "text": [
      "24/11/30 10:22:58 WARN DAGScheduler: Broadcasting large task binary with size 2.1 MiB\n",
      "                                                                                \r"
     ]
    },
    {
     "name": "stdout",
     "output_type": "stream",
     "text": [
      "Saved Games Final Updated: 119 rows\n"
     ]
    },
    {
     "name": "stderr",
     "output_type": "stream",
     "text": [
      "24/11/30 10:24:09 WARN DAGScheduler: Broadcasting large task binary with size 2.1 MiB\n",
      "                                                                                \r"
     ]
    },
    {
     "name": "stdout",
     "output_type": "stream",
     "text": [
      "Saved Games Final Updated: 120 rows\n"
     ]
    },
    {
     "name": "stderr",
     "output_type": "stream",
     "text": [
      "24/11/30 10:25:18 WARN DAGScheduler: Broadcasting large task binary with size 2.2 MiB\n",
      "                                                                                \r"
     ]
    },
    {
     "name": "stdout",
     "output_type": "stream",
     "text": [
      "Saved Games Final Updated: 121 rows\n",
      "Processing Game ID: 13380, total moves: 57\n",
      "Processing Move: 0\n",
      "Processing Move: 15\n",
      "Processing Move: 30\n",
      "Processing Move: 45\n"
     ]
    },
    {
     "name": "stderr",
     "output_type": "stream",
     "text": [
      "24/11/30 10:25:52 WARN DAGScheduler: Broadcasting large task binary with size 1073.4 KiB\n"
     ]
    },
    {
     "name": "stdout",
     "output_type": "stream",
     "text": [
      "Saved Games Final Updated: 122 rows\n"
     ]
    },
    {
     "name": "stderr",
     "output_type": "stream",
     "text": [
      "24/11/30 10:26:09 WARN DAGScheduler: Broadcasting large task binary with size 1092.1 KiB\n"
     ]
    },
    {
     "name": "stdout",
     "output_type": "stream",
     "text": [
      "Saved Games Final Updated: 123 rows\n",
      "Processing Game ID: 13435, total moves: 48\n",
      "Processing Move: 0\n",
      "Processing Move: 15\n",
      "Processing Move: 30\n",
      "Processing Move: 45\n"
     ]
    },
    {
     "name": "stderr",
     "output_type": "stream",
     "text": [
      "                                                                                \r"
     ]
    },
    {
     "name": "stdout",
     "output_type": "stream",
     "text": [
      "Saved Games Final Updated: 124 rows\n",
      "Saved Games Final Updated: 125 rows\n",
      "Processing Game ID: 13480, total moves: 46\n",
      "Processing Move: 0\n",
      "Processing Move: 15\n",
      "Processing Move: 30\n",
      "Saved Games Final Updated: 126 rows\n",
      "Saved Games Final Updated: 127 rows\n",
      "Processing Game ID: 13613, total moves: 83\n",
      "Processing Move: 0\n",
      "Processing Move: 15\n",
      "Processing Move: 30\n",
      "Processing Move: 45\n",
      "Processing Move: 60\n",
      "Processing Move: 75\n"
     ]
    },
    {
     "name": "stderr",
     "output_type": "stream",
     "text": [
      "24/11/30 10:28:21 WARN DAGScheduler: Broadcasting large task binary with size 1523.1 KiB\n"
     ]
    },
    {
     "name": "stdout",
     "output_type": "stream",
     "text": [
      "Saved Games Final Updated: 128 rows\n"
     ]
    },
    {
     "name": "stderr",
     "output_type": "stream",
     "text": [
      "24/11/30 10:28:53 WARN DAGScheduler: Broadcasting large task binary with size 1541.8 KiB\n",
      "                                                                                \r"
     ]
    },
    {
     "name": "stdout",
     "output_type": "stream",
     "text": [
      "Saved Games Final Updated: 129 rows\n"
     ]
    },
    {
     "name": "stderr",
     "output_type": "stream",
     "text": [
      "24/11/30 10:29:26 WARN DAGScheduler: Broadcasting large task binary with size 1560.6 KiB\n"
     ]
    },
    {
     "name": "stdout",
     "output_type": "stream",
     "text": [
      "Saved Games Final Updated: 130 rows\n"
     ]
    },
    {
     "name": "stderr",
     "output_type": "stream",
     "text": [
      "24/11/30 10:30:00 WARN DAGScheduler: Broadcasting large task binary with size 1579.3 KiB\n"
     ]
    },
    {
     "name": "stdout",
     "output_type": "stream",
     "text": [
      "Saved Games Final Updated: 131 rows\n",
      "Processing Game ID: 13963, total moves: 127\n",
      "Processing Move: 0\n",
      "Processing Move: 15\n",
      "Processing Move: 30\n",
      "Processing Move: 45\n",
      "Processing Move: 60\n",
      "Processing Move: 75\n",
      "Processing Move: 90\n",
      "Processing Move: 105\n",
      "Processing Move: 120\n"
     ]
    },
    {
     "name": "stderr",
     "output_type": "stream",
     "text": [
      "24/11/30 10:32:16 WARN DAGScheduler: Broadcasting large task binary with size 2.3 MiB\n",
      "                                                                                \r"
     ]
    },
    {
     "name": "stdout",
     "output_type": "stream",
     "text": [
      "Saved Games Final Updated: 132 rows\n"
     ]
    },
    {
     "name": "stderr",
     "output_type": "stream",
     "text": [
      "24/11/30 10:33:30 WARN DAGScheduler: Broadcasting large task binary with size 2.3 MiB\n",
      "                                                                                \r"
     ]
    },
    {
     "name": "stdout",
     "output_type": "stream",
     "text": [
      "Saved Games Final Updated: 133 rows\n"
     ]
    },
    {
     "name": "stderr",
     "output_type": "stream",
     "text": [
      "24/11/30 10:34:47 WARN DAGScheduler: Broadcasting large task binary with size 2.3 MiB\n",
      "                                                                                \r"
     ]
    },
    {
     "name": "stdout",
     "output_type": "stream",
     "text": [
      "Saved Games Final Updated: 134 rows\n"
     ]
    },
    {
     "name": "stderr",
     "output_type": "stream",
     "text": [
      "24/11/30 10:36:06 WARN DAGScheduler: Broadcasting large task binary with size 2.3 MiB\n",
      "                                                                                \r"
     ]
    },
    {
     "name": "stdout",
     "output_type": "stream",
     "text": [
      "Saved Games Final Updated: 135 rows\n"
     ]
    },
    {
     "name": "stderr",
     "output_type": "stream",
     "text": [
      "24/11/30 10:37:25 WARN DAGScheduler: Broadcasting large task binary with size 2.3 MiB\n",
      "                                                                                \r"
     ]
    },
    {
     "name": "stdout",
     "output_type": "stream",
     "text": [
      "Saved Games Final Updated: 136 rows\n"
     ]
    },
    {
     "name": "stderr",
     "output_type": "stream",
     "text": [
      "24/11/30 10:38:49 WARN DAGScheduler: Broadcasting large task binary with size 2.3 MiB\n",
      "                                                                                \r"
     ]
    },
    {
     "name": "stdout",
     "output_type": "stream",
     "text": [
      "Saved Games Final Updated: 137 rows\n",
      "Processing Game ID: 14049, total moves: 59\n",
      "Processing Move: 0\n",
      "Processing Move: 15\n",
      "Processing Move: 30\n",
      "Processing Move: 45\n"
     ]
    },
    {
     "name": "stderr",
     "output_type": "stream",
     "text": [
      "24/11/30 10:39:24 WARN DAGScheduler: Broadcasting large task binary with size 1110.9 KiB\n"
     ]
    },
    {
     "name": "stdout",
     "output_type": "stream",
     "text": [
      "Saved Games Final Updated: 138 rows\n"
     ]
    },
    {
     "name": "stderr",
     "output_type": "stream",
     "text": [
      "24/11/30 10:39:42 WARN DAGScheduler: Broadcasting large task binary with size 1129.6 KiB\n"
     ]
    },
    {
     "name": "stdout",
     "output_type": "stream",
     "text": [
      "Saved Games Final Updated: 139 rows\n",
      "Processing Game ID: 14173, total moves: 96\n",
      "Processing Move: 0\n",
      "Processing Move: 15\n",
      "Processing Move: 30\n",
      "Processing Move: 45\n",
      "Processing Move: 60\n",
      "Processing Move: 75\n",
      "Processing Move: 90\n"
     ]
    },
    {
     "name": "stderr",
     "output_type": "stream",
     "text": [
      "24/11/30 10:41:03 WARN DAGScheduler: Broadcasting large task binary with size 1766.7 KiB\n",
      "                                                                                \r"
     ]
    },
    {
     "name": "stdout",
     "output_type": "stream",
     "text": [
      "Saved Games Final Updated: 140 rows\n"
     ]
    },
    {
     "name": "stderr",
     "output_type": "stream",
     "text": [
      "24/11/30 10:41:47 WARN DAGScheduler: Broadcasting large task binary with size 1785.4 KiB\n",
      "                                                                                \r"
     ]
    },
    {
     "name": "stdout",
     "output_type": "stream",
     "text": [
      "Saved Games Final Updated: 141 rows\n"
     ]
    },
    {
     "name": "stderr",
     "output_type": "stream",
     "text": [
      "24/11/30 10:42:32 WARN DAGScheduler: Broadcasting large task binary with size 1804.2 KiB\n",
      "                                                                                \r"
     ]
    },
    {
     "name": "stdout",
     "output_type": "stream",
     "text": [
      "Saved Games Final Updated: 142 rows\n"
     ]
    },
    {
     "name": "stderr",
     "output_type": "stream",
     "text": [
      "24/11/30 10:43:18 WARN DAGScheduler: Broadcasting large task binary with size 1822.9 KiB\n",
      "                                                                                \r"
     ]
    },
    {
     "name": "stdout",
     "output_type": "stream",
     "text": [
      "Saved Games Final Updated: 143 rows\n",
      "Processing Game ID: 14331, total moves: 38\n",
      "Processing Move: 0\n",
      "Processing Move: 15\n",
      "Processing Move: 30\n",
      "Saved Games Final Updated: 144 rows\n",
      "Processing Game ID: 14344, total moves: 82\n",
      "Processing Move: 0\n",
      "Processing Move: 15\n",
      "Processing Move: 30\n",
      "Processing Move: 45\n",
      "Processing Move: 60\n",
      "Processing Move: 75\n"
     ]
    },
    {
     "name": "stderr",
     "output_type": "stream",
     "text": [
      "24/11/30 10:44:36 WARN DAGScheduler: Broadcasting large task binary with size 1504.4 KiB\n"
     ]
    },
    {
     "name": "stdout",
     "output_type": "stream",
     "text": [
      "Saved Games Final Updated: 145 rows\n"
     ]
    },
    {
     "name": "stderr",
     "output_type": "stream",
     "text": [
      "24/11/30 10:45:07 WARN DAGScheduler: Broadcasting large task binary with size 1523.1 KiB\n"
     ]
    },
    {
     "name": "stdout",
     "output_type": "stream",
     "text": [
      "Saved Games Final Updated: 146 rows\n"
     ]
    },
    {
     "name": "stderr",
     "output_type": "stream",
     "text": [
      "24/11/30 10:45:39 WARN DAGScheduler: Broadcasting large task binary with size 1541.8 KiB\n"
     ]
    },
    {
     "name": "stdout",
     "output_type": "stream",
     "text": [
      "Saved Games Final Updated: 147 rows\n"
     ]
    },
    {
     "name": "stderr",
     "output_type": "stream",
     "text": [
      "24/11/30 10:46:12 WARN DAGScheduler: Broadcasting large task binary with size 1560.6 KiB\n"
     ]
    },
    {
     "name": "stdout",
     "output_type": "stream",
     "text": [
      "Saved Games Final Updated: 148 rows\n",
      "Processing Game ID: 14461, total moves: 86\n",
      "Processing Move: 0\n",
      "Processing Move: 15\n",
      "Processing Move: 30\n",
      "Processing Move: 45\n",
      "Processing Move: 60\n",
      "Processing Move: 75\n"
     ]
    },
    {
     "name": "stderr",
     "output_type": "stream",
     "text": [
      "24/11/30 10:47:18 WARN DAGScheduler: Broadcasting large task binary with size 1579.3 KiB\n"
     ]
    },
    {
     "name": "stdout",
     "output_type": "stream",
     "text": [
      "Saved Games Final Updated: 149 rows\n"
     ]
    },
    {
     "name": "stderr",
     "output_type": "stream",
     "text": [
      "24/11/30 10:47:52 WARN DAGScheduler: Broadcasting large task binary with size 1598.1 KiB\n"
     ]
    },
    {
     "name": "stdout",
     "output_type": "stream",
     "text": [
      "Saved Games Final Updated: 150 rows\n"
     ]
    },
    {
     "name": "stderr",
     "output_type": "stream",
     "text": [
      "24/11/30 10:48:28 WARN DAGScheduler: Broadcasting large task binary with size 1616.8 KiB\n",
      "                                                                                \r"
     ]
    },
    {
     "name": "stdout",
     "output_type": "stream",
     "text": [
      "Saved Games Final Updated: 151 rows\n"
     ]
    },
    {
     "name": "stderr",
     "output_type": "stream",
     "text": [
      "24/11/30 10:49:05 WARN DAGScheduler: Broadcasting large task binary with size 1635.5 KiB\n",
      "                                                                                \r"
     ]
    },
    {
     "name": "stdout",
     "output_type": "stream",
     "text": [
      "Saved Games Final Updated: 152 rows\n",
      "Processing Game ID: 14605, total moves: 45\n",
      "Processing Move: 0\n",
      "Processing Move: 15\n",
      "Processing Move: 30\n",
      "Saved Games Final Updated: 153 rows\n",
      "Saved Games Final Updated: 154 rows\n",
      "Processing Game ID: 14802, total moves: 95\n",
      "Processing Move: 0\n",
      "Processing Move: 15\n",
      "Processing Move: 30\n",
      "Processing Move: 45\n",
      "Processing Move: 60\n",
      "Processing Move: 75\n",
      "Processing Move: 90\n"
     ]
    },
    {
     "name": "stderr",
     "output_type": "stream",
     "text": [
      "24/11/30 10:50:59 WARN DAGScheduler: Broadcasting large task binary with size 1748.0 KiB\n",
      "                                                                                \r"
     ]
    },
    {
     "name": "stdout",
     "output_type": "stream",
     "text": [
      "Saved Games Final Updated: 155 rows\n"
     ]
    },
    {
     "name": "stderr",
     "output_type": "stream",
     "text": [
      "24/11/30 10:51:42 WARN DAGScheduler: Broadcasting large task binary with size 1766.7 KiB\n",
      "                                                                                \r"
     ]
    },
    {
     "name": "stdout",
     "output_type": "stream",
     "text": [
      "Saved Games Final Updated: 156 rows\n"
     ]
    },
    {
     "name": "stderr",
     "output_type": "stream",
     "text": [
      "24/11/30 10:52:26 WARN DAGScheduler: Broadcasting large task binary with size 1785.4 KiB\n",
      "                                                                                \r"
     ]
    },
    {
     "name": "stdout",
     "output_type": "stream",
     "text": [
      "Saved Games Final Updated: 157 rows\n"
     ]
    },
    {
     "name": "stderr",
     "output_type": "stream",
     "text": [
      "24/11/30 10:53:11 WARN DAGScheduler: Broadcasting large task binary with size 1804.2 KiB\n",
      "                                                                                \r"
     ]
    },
    {
     "name": "stdout",
     "output_type": "stream",
     "text": [
      "Saved Games Final Updated: 158 rows\n",
      "Processing Game ID: 14909, total moves: 58\n",
      "Processing Move: 0\n",
      "Processing Move: 15\n",
      "Processing Move: 30\n",
      "Processing Move: 45\n"
     ]
    },
    {
     "name": "stderr",
     "output_type": "stream",
     "text": [
      "24/11/30 10:53:46 WARN DAGScheduler: Broadcasting large task binary with size 1092.1 KiB\n"
     ]
    },
    {
     "name": "stdout",
     "output_type": "stream",
     "text": [
      "Saved Games Final Updated: 159 rows\n"
     ]
    },
    {
     "name": "stderr",
     "output_type": "stream",
     "text": [
      "24/11/30 10:54:03 WARN DAGScheduler: Broadcasting large task binary with size 1110.9 KiB\n"
     ]
    },
    {
     "name": "stdout",
     "output_type": "stream",
     "text": [
      "Saved Games Final Updated: 160 rows\n",
      "Processing Game ID: 14987, total moves: 71\n",
      "Processing Move: 0\n",
      "Processing Move: 15\n",
      "Processing Move: 30\n",
      "Processing Move: 45\n",
      "Processing Move: 60\n"
     ]
    },
    {
     "name": "stderr",
     "output_type": "stream",
     "text": [
      "24/11/30 10:54:51 WARN DAGScheduler: Broadcasting large task binary with size 1317.0 KiB\n"
     ]
    },
    {
     "name": "stdout",
     "output_type": "stream",
     "text": [
      "Saved Games Final Updated: 161 rows\n"
     ]
    },
    {
     "name": "stderr",
     "output_type": "stream",
     "text": [
      "24/11/30 10:55:15 WARN DAGScheduler: Broadcasting large task binary with size 1335.7 KiB\n"
     ]
    },
    {
     "name": "stdout",
     "output_type": "stream",
     "text": [
      "Saved Games Final Updated: 162 rows\n"
     ]
    },
    {
     "name": "stderr",
     "output_type": "stream",
     "text": [
      "24/11/30 10:55:40 WARN DAGScheduler: Broadcasting large task binary with size 1354.5 KiB\n"
     ]
    },
    {
     "name": "stdout",
     "output_type": "stream",
     "text": [
      "Saved Games Final Updated: 163 rows\n",
      "Processing Game ID: 15069, total moves: 74\n",
      "Processing Move: 0\n",
      "Processing Move: 15\n",
      "Processing Move: 30\n",
      "Processing Move: 45\n",
      "Processing Move: 60\n"
     ]
    },
    {
     "name": "stderr",
     "output_type": "stream",
     "text": [
      "24/11/30 10:56:32 WARN DAGScheduler: Broadcasting large task binary with size 1373.2 KiB\n"
     ]
    },
    {
     "name": "stdout",
     "output_type": "stream",
     "text": [
      "Saved Games Final Updated: 164 rows\n"
     ]
    },
    {
     "name": "stderr",
     "output_type": "stream",
     "text": [
      "24/11/30 10:56:59 WARN DAGScheduler: Broadcasting large task binary with size 1391.9 KiB\n"
     ]
    },
    {
     "name": "stdout",
     "output_type": "stream",
     "text": [
      "Saved Games Final Updated: 165 rows\n"
     ]
    },
    {
     "name": "stderr",
     "output_type": "stream",
     "text": [
      "24/11/30 10:57:26 WARN DAGScheduler: Broadcasting large task binary with size 1410.7 KiB\n"
     ]
    },
    {
     "name": "stdout",
     "output_type": "stream",
     "text": [
      "Saved Games Final Updated: 166 rows\n",
      "Processing Game ID: 15313, total moves: 51\n",
      "Processing Move: 0\n",
      "Processing Move: 15\n",
      "Processing Move: 30\n",
      "Processing Move: 45\n",
      "Saved Games Final Updated: 167 rows\n",
      "Saved Games Final Updated: 168 rows\n",
      "Processing Game ID: 15378, total moves: 32\n",
      "Processing Move: 0\n",
      "Processing Move: 15\n",
      "Processing Move: 30\n",
      "Saved Games Final Updated: 169 rows\n",
      "Processing Game ID: 15430, total moves: 69\n",
      "Processing Move: 0\n",
      "Processing Move: 15\n",
      "Processing Move: 30\n",
      "Processing Move: 45\n",
      "Processing Move: 60\n"
     ]
    },
    {
     "name": "stderr",
     "output_type": "stream",
     "text": [
      "24/11/30 10:59:06 WARN DAGScheduler: Broadcasting large task binary with size 1279.5 KiB\n"
     ]
    },
    {
     "name": "stdout",
     "output_type": "stream",
     "text": [
      "Saved Games Final Updated: 170 rows\n"
     ]
    },
    {
     "name": "stderr",
     "output_type": "stream",
     "text": [
      "24/11/30 10:59:29 WARN DAGScheduler: Broadcasting large task binary with size 1298.3 KiB\n"
     ]
    },
    {
     "name": "stdout",
     "output_type": "stream",
     "text": [
      "Saved Games Final Updated: 171 rows\n"
     ]
    },
    {
     "name": "stderr",
     "output_type": "stream",
     "text": [
      "24/11/30 10:59:52 WARN DAGScheduler: Broadcasting large task binary with size 1317.0 KiB\n"
     ]
    },
    {
     "name": "stdout",
     "output_type": "stream",
     "text": [
      "Saved Games Final Updated: 172 rows\n",
      "Processing Game ID: 15529, total moves: 83\n",
      "Processing Move: 0\n",
      "Processing Move: 15\n",
      "Processing Move: 30\n",
      "Processing Move: 45\n",
      "Processing Move: 60\n",
      "Processing Move: 75\n"
     ]
    },
    {
     "name": "stderr",
     "output_type": "stream",
     "text": [
      "24/11/30 11:00:54 WARN DAGScheduler: Broadcasting large task binary with size 1523.1 KiB\n",
      "                                                                                \r"
     ]
    },
    {
     "name": "stdout",
     "output_type": "stream",
     "text": [
      "Saved Games Final Updated: 173 rows\n"
     ]
    },
    {
     "name": "stderr",
     "output_type": "stream",
     "text": [
      "24/11/30 11:01:27 WARN DAGScheduler: Broadcasting large task binary with size 1541.8 KiB\n",
      "                                                                                \r"
     ]
    },
    {
     "name": "stdout",
     "output_type": "stream",
     "text": [
      "Saved Games Final Updated: 174 rows\n"
     ]
    },
    {
     "name": "stderr",
     "output_type": "stream",
     "text": [
      "24/11/30 11:02:00 WARN DAGScheduler: Broadcasting large task binary with size 1560.6 KiB\n",
      "                                                                                \r"
     ]
    },
    {
     "name": "stdout",
     "output_type": "stream",
     "text": [
      "Saved Games Final Updated: 175 rows\n"
     ]
    },
    {
     "name": "stderr",
     "output_type": "stream",
     "text": [
      "24/11/30 11:02:34 WARN DAGScheduler: Broadcasting large task binary with size 1579.3 KiB\n",
      "                                                                                \r"
     ]
    },
    {
     "name": "stdout",
     "output_type": "stream",
     "text": [
      "Saved Games Final Updated: 176 rows\n",
      "Processing Game ID: 15627, total moves: 65\n",
      "Processing Move: 0\n",
      "Processing Move: 15\n",
      "Processing Move: 30\n",
      "Processing Move: 45\n",
      "Processing Move: 60\n"
     ]
    },
    {
     "name": "stderr",
     "output_type": "stream",
     "text": [
      "24/11/30 11:03:15 WARN DAGScheduler: Broadcasting large task binary with size 1204.6 KiB\n"
     ]
    },
    {
     "name": "stdout",
     "output_type": "stream",
     "text": [
      "Saved Games Final Updated: 177 rows\n"
     ]
    },
    {
     "name": "stderr",
     "output_type": "stream",
     "text": [
      "24/11/30 11:03:35 WARN DAGScheduler: Broadcasting large task binary with size 1223.3 KiB\n"
     ]
    },
    {
     "name": "stdout",
     "output_type": "stream",
     "text": [
      "Saved Games Final Updated: 178 rows\n"
     ]
    },
    {
     "name": "stderr",
     "output_type": "stream",
     "text": [
      "24/11/30 11:03:56 WARN DAGScheduler: Broadcasting large task binary with size 1242.0 KiB\n"
     ]
    },
    {
     "name": "stdout",
     "output_type": "stream",
     "text": [
      "Saved Games Final Updated: 179 rows\n",
      "Processing Game ID: 15654, total moves: 101\n",
      "Processing Move: 0\n",
      "Processing Move: 15\n",
      "Processing Move: 30\n",
      "Processing Move: 45\n",
      "Processing Move: 60\n",
      "Processing Move: 75\n",
      "Processing Move: 90\n"
     ]
    },
    {
     "name": "stderr",
     "output_type": "stream",
     "text": [
      "24/11/30 11:05:25 WARN DAGScheduler: Broadcasting large task binary with size 1841.7 KiB\n",
      "                                                                                \r"
     ]
    },
    {
     "name": "stdout",
     "output_type": "stream",
     "text": [
      "Saved Games Final Updated: 180 rows\n"
     ]
    },
    {
     "name": "stderr",
     "output_type": "stream",
     "text": [
      "24/11/30 11:06:13 WARN DAGScheduler: Broadcasting large task binary with size 1860.4 KiB\n",
      "                                                                                \r"
     ]
    },
    {
     "name": "stdout",
     "output_type": "stream",
     "text": [
      "Saved Games Final Updated: 181 rows\n"
     ]
    },
    {
     "name": "stderr",
     "output_type": "stream",
     "text": [
      "24/11/30 11:07:02 WARN DAGScheduler: Broadcasting large task binary with size 1879.1 KiB\n",
      "                                                                                \r"
     ]
    },
    {
     "name": "stdout",
     "output_type": "stream",
     "text": [
      "Saved Games Final Updated: 182 rows\n"
     ]
    },
    {
     "name": "stderr",
     "output_type": "stream",
     "text": [
      "24/11/30 11:07:50 WARN DAGScheduler: Broadcasting large task binary with size 1897.9 KiB\n",
      "                                                                                \r"
     ]
    },
    {
     "name": "stdout",
     "output_type": "stream",
     "text": [
      "Saved Games Final Updated: 183 rows\n"
     ]
    },
    {
     "name": "stderr",
     "output_type": "stream",
     "text": [
      "24/11/30 11:08:42 WARN DAGScheduler: Broadcasting large task binary with size 1916.6 KiB\n",
      "                                                                                \r"
     ]
    },
    {
     "name": "stdout",
     "output_type": "stream",
     "text": [
      "Saved Games Final Updated: 184 rows\n",
      "Processing Game ID: 15820, total moves: 67\n",
      "Processing Move: 0\n",
      "Processing Move: 15\n",
      "Processing Move: 30\n",
      "Processing Move: 45\n",
      "Processing Move: 60\n"
     ]
    },
    {
     "name": "stderr",
     "output_type": "stream",
     "text": [
      "24/11/30 11:09:25 WARN DAGScheduler: Broadcasting large task binary with size 1242.0 KiB\n"
     ]
    },
    {
     "name": "stdout",
     "output_type": "stream",
     "text": [
      "Saved Games Final Updated: 185 rows\n"
     ]
    },
    {
     "name": "stderr",
     "output_type": "stream",
     "text": [
      "24/11/30 11:09:46 WARN DAGScheduler: Broadcasting large task binary with size 1260.8 KiB\n"
     ]
    },
    {
     "name": "stdout",
     "output_type": "stream",
     "text": [
      "Saved Games Final Updated: 186 rows\n"
     ]
    },
    {
     "name": "stderr",
     "output_type": "stream",
     "text": [
      "24/11/30 11:10:09 WARN DAGScheduler: Broadcasting large task binary with size 1279.5 KiB\n"
     ]
    },
    {
     "name": "stdout",
     "output_type": "stream",
     "text": [
      "Saved Games Final Updated: 187 rows\n",
      "Processing Game ID: 15851, total moves: 35\n",
      "Processing Move: 0\n",
      "Processing Move: 15\n",
      "Processing Move: 30\n",
      "Saved Games Final Updated: 188 rows\n",
      "Processing Game ID: 15868, total moves: 59\n",
      "Processing Move: 0\n",
      "Processing Move: 15\n",
      "Processing Move: 30\n",
      "Processing Move: 45\n"
     ]
    },
    {
     "name": "stderr",
     "output_type": "stream",
     "text": [
      "24/11/30 11:11:00 WARN DAGScheduler: Broadcasting large task binary with size 1110.9 KiB\n"
     ]
    },
    {
     "name": "stdout",
     "output_type": "stream",
     "text": [
      "Saved Games Final Updated: 189 rows\n"
     ]
    },
    {
     "name": "stderr",
     "output_type": "stream",
     "text": [
      "24/11/30 11:11:18 WARN DAGScheduler: Broadcasting large task binary with size 1129.6 KiB\n"
     ]
    },
    {
     "name": "stdout",
     "output_type": "stream",
     "text": [
      "Saved Games Final Updated: 190 rows\n",
      "Processing Game ID: 15954, total moves: 63\n",
      "Processing Move: 0\n",
      "Processing Move: 15\n",
      "Processing Move: 30\n",
      "Processing Move: 45\n"
     ]
    },
    {
     "name": "stderr",
     "output_type": "stream",
     "text": [
      "24/11/30 11:11:57 WARN DAGScheduler: Broadcasting large task binary with size 1167.1 KiB\n"
     ]
    },
    {
     "name": "stdout",
     "output_type": "stream",
     "text": [
      "Saved Games Final Updated: 191 rows\n",
      "Processing Move: 60\n"
     ]
    },
    {
     "name": "stderr",
     "output_type": "stream",
     "text": [
      "24/11/30 11:12:16 WARN DAGScheduler: Broadcasting large task binary with size 1185.8 KiB\n"
     ]
    },
    {
     "name": "stdout",
     "output_type": "stream",
     "text": [
      "Saved Games Final Updated: 192 rows\n"
     ]
    },
    {
     "name": "stderr",
     "output_type": "stream",
     "text": [
      "24/11/30 11:12:35 WARN DAGScheduler: Broadcasting large task binary with size 1204.6 KiB\n"
     ]
    },
    {
     "name": "stdout",
     "output_type": "stream",
     "text": [
      "Saved Games Final Updated: 193 rows\n",
      "Processing Game ID: 16046, total moves: 79\n",
      "Processing Move: 0\n",
      "Processing Move: 15\n",
      "Processing Move: 30\n",
      "Processing Move: 45\n",
      "Processing Move: 60\n",
      "Processing Move: 75\n"
     ]
    },
    {
     "name": "stderr",
     "output_type": "stream",
     "text": [
      "24/11/30 11:13:34 WARN DAGScheduler: Broadcasting large task binary with size 1466.9 KiB\n"
     ]
    },
    {
     "name": "stdout",
     "output_type": "stream",
     "text": [
      "Saved Games Final Updated: 194 rows\n"
     ]
    },
    {
     "name": "stderr",
     "output_type": "stream",
     "text": [
      "24/11/30 11:14:04 WARN DAGScheduler: Broadcasting large task binary with size 1485.6 KiB\n",
      "                                                                                \r"
     ]
    },
    {
     "name": "stdout",
     "output_type": "stream",
     "text": [
      "Saved Games Final Updated: 195 rows\n"
     ]
    },
    {
     "name": "stderr",
     "output_type": "stream",
     "text": [
      "24/11/30 11:14:34 WARN DAGScheduler: Broadcasting large task binary with size 1504.4 KiB\n"
     ]
    },
    {
     "name": "stdout",
     "output_type": "stream",
     "text": [
      "Saved Games Final Updated: 196 rows\n",
      "Processing Game ID: 16143, total moves: 102\n",
      "Processing Move: 0\n",
      "Processing Move: 15\n",
      "Processing Move: 30\n",
      "Processing Move: 45\n",
      "Processing Move: 60\n",
      "Processing Move: 75\n",
      "Processing Move: 90\n"
     ]
    },
    {
     "name": "stderr",
     "output_type": "stream",
     "text": [
      "24/11/30 11:16:05 WARN DAGScheduler: Broadcasting large task binary with size 1860.4 KiB\n",
      "                                                                                \r"
     ]
    },
    {
     "name": "stdout",
     "output_type": "stream",
     "text": [
      "Saved Games Final Updated: 197 rows\n"
     ]
    },
    {
     "name": "stderr",
     "output_type": "stream",
     "text": [
      "24/11/30 11:16:53 WARN DAGScheduler: Broadcasting large task binary with size 1879.1 KiB\n",
      "                                                                                \r"
     ]
    },
    {
     "name": "stdout",
     "output_type": "stream",
     "text": [
      "Saved Games Final Updated: 198 rows\n"
     ]
    },
    {
     "name": "stderr",
     "output_type": "stream",
     "text": [
      "24/11/30 11:17:44 WARN DAGScheduler: Broadcasting large task binary with size 1897.9 KiB\n",
      "                                                                                \r"
     ]
    },
    {
     "name": "stdout",
     "output_type": "stream",
     "text": [
      "Saved Games Final Updated: 199 rows\n"
     ]
    },
    {
     "name": "stderr",
     "output_type": "stream",
     "text": [
      "24/11/30 11:18:33 WARN DAGScheduler: Broadcasting large task binary with size 1916.6 KiB\n",
      "                                                                                \r"
     ]
    },
    {
     "name": "stdout",
     "output_type": "stream",
     "text": [
      "Saved Games Final Updated: 200 rows\n"
     ]
    },
    {
     "name": "stderr",
     "output_type": "stream",
     "text": [
      "24/11/30 11:19:26 WARN DAGScheduler: Broadcasting large task binary with size 1935.4 KiB\n",
      "                                                                                \r"
     ]
    },
    {
     "name": "stdout",
     "output_type": "stream",
     "text": [
      "Saved Games Final Updated: 201 rows\n",
      "Processing Game ID: 16209, total moves: 57\n",
      "Processing Move: 0\n",
      "Processing Move: 15\n",
      "Processing Move: 30\n",
      "Processing Move: 45\n"
     ]
    },
    {
     "name": "stderr",
     "output_type": "stream",
     "text": [
      "24/11/30 11:20:00 WARN DAGScheduler: Broadcasting large task binary with size 1073.4 KiB\n"
     ]
    },
    {
     "name": "stdout",
     "output_type": "stream",
     "text": [
      "Saved Games Final Updated: 202 rows\n"
     ]
    },
    {
     "name": "stderr",
     "output_type": "stream",
     "text": [
      "24/11/30 11:20:17 WARN DAGScheduler: Broadcasting large task binary with size 1092.1 KiB\n"
     ]
    },
    {
     "name": "stdout",
     "output_type": "stream",
     "text": [
      "Saved Games Final Updated: 203 rows\n",
      "Processing Game ID: 16270, total moves: 43\n",
      "Processing Move: 0\n",
      "Processing Move: 15\n",
      "Processing Move: 30\n"
     ]
    },
    {
     "name": "stderr",
     "output_type": "stream",
     "text": [
      "                                                                                \r"
     ]
    },
    {
     "name": "stdout",
     "output_type": "stream",
     "text": [
      "Saved Games Final Updated: 204 rows\n",
      "Saved Games Final Updated: 205 rows\n",
      "Processing Game ID: 16751, total moves: 62\n",
      "Processing Move: 0\n",
      "Processing Move: 15\n",
      "Processing Move: 30\n",
      "Processing Move: 45\n"
     ]
    },
    {
     "name": "stderr",
     "output_type": "stream",
     "text": [
      "24/11/30 11:21:25 WARN DAGScheduler: Broadcasting large task binary with size 1148.3 KiB\n"
     ]
    },
    {
     "name": "stdout",
     "output_type": "stream",
     "text": [
      "Saved Games Final Updated: 206 rows\n"
     ]
    },
    {
     "name": "stderr",
     "output_type": "stream",
     "text": [
      "24/11/30 11:21:43 WARN DAGScheduler: Broadcasting large task binary with size 1167.1 KiB\n"
     ]
    },
    {
     "name": "stdout",
     "output_type": "stream",
     "text": [
      "Saved Games Final Updated: 207 rows\n",
      "Processing Move: 60\n"
     ]
    },
    {
     "name": "stderr",
     "output_type": "stream",
     "text": [
      "24/11/30 11:22:03 WARN DAGScheduler: Broadcasting large task binary with size 1185.8 KiB\n"
     ]
    },
    {
     "name": "stdout",
     "output_type": "stream",
     "text": [
      "Saved Games Final Updated: 208 rows\n",
      "Processing Game ID: 16753, total moves: 122\n",
      "Processing Move: 0\n",
      "Processing Move: 15\n",
      "Processing Move: 30\n",
      "Processing Move: 45\n",
      "Processing Move: 60\n",
      "Processing Move: 75\n",
      "Processing Move: 90\n",
      "Processing Move: 105\n"
     ]
    },
    {
     "name": "stderr",
     "output_type": "stream",
     "text": [
      "24/11/30 11:24:06 WARN DAGScheduler: Broadcasting large task binary with size 2.2 MiB\n",
      "                                                                                \r"
     ]
    },
    {
     "name": "stdout",
     "output_type": "stream",
     "text": [
      "Saved Games Final Updated: 209 rows\n"
     ]
    },
    {
     "name": "stderr",
     "output_type": "stream",
     "text": [
      "24/11/30 11:25:15 WARN DAGScheduler: Broadcasting large task binary with size 2.2 MiB\n",
      "                                                                                \r"
     ]
    },
    {
     "name": "stdout",
     "output_type": "stream",
     "text": [
      "Saved Games Final Updated: 210 rows\n"
     ]
    },
    {
     "name": "stderr",
     "output_type": "stream",
     "text": [
      "24/11/30 11:26:25 WARN DAGScheduler: Broadcasting large task binary with size 2.2 MiB\n",
      "                                                                                \r"
     ]
    },
    {
     "name": "stdout",
     "output_type": "stream",
     "text": [
      "Saved Games Final Updated: 211 rows\n"
     ]
    },
    {
     "name": "stderr",
     "output_type": "stream",
     "text": [
      "24/11/30 11:27:36 WARN DAGScheduler: Broadcasting large task binary with size 2.2 MiB\n",
      "                                                                                \r"
     ]
    },
    {
     "name": "stdout",
     "output_type": "stream",
     "text": [
      "Saved Games Final Updated: 212 rows\n"
     ]
    },
    {
     "name": "stderr",
     "output_type": "stream",
     "text": [
      "24/11/30 11:28:50 WARN DAGScheduler: Broadcasting large task binary with size 2.2 MiB\n",
      "                                                                                \r"
     ]
    },
    {
     "name": "stdout",
     "output_type": "stream",
     "text": [
      "Saved Games Final Updated: 213 rows\n",
      "Processing Move: 120\n"
     ]
    },
    {
     "name": "stderr",
     "output_type": "stream",
     "text": [
      "24/11/30 11:30:04 WARN DAGScheduler: Broadcasting large task binary with size 2.3 MiB\n",
      "                                                                                \r"
     ]
    },
    {
     "name": "stdout",
     "output_type": "stream",
     "text": [
      "Saved Games Final Updated: 214 rows\n",
      "Processing Game ID: 16755, total moves: 98\n",
      "Processing Move: 0\n",
      "Processing Move: 15\n",
      "Processing Move: 30\n",
      "Processing Move: 45\n",
      "Processing Move: 60\n",
      "Processing Move: 75\n",
      "Processing Move: 90\n"
     ]
    },
    {
     "name": "stderr",
     "output_type": "stream",
     "text": [
      "24/11/30 11:31:28 WARN DAGScheduler: Broadcasting large task binary with size 1804.2 KiB\n",
      "                                                                                \r"
     ]
    },
    {
     "name": "stdout",
     "output_type": "stream",
     "text": [
      "Saved Games Final Updated: 215 rows\n"
     ]
    },
    {
     "name": "stderr",
     "output_type": "stream",
     "text": [
      "24/11/30 11:32:13 WARN DAGScheduler: Broadcasting large task binary with size 1822.9 KiB\n",
      "                                                                                \r"
     ]
    },
    {
     "name": "stdout",
     "output_type": "stream",
     "text": [
      "Saved Games Final Updated: 216 rows\n"
     ]
    },
    {
     "name": "stderr",
     "output_type": "stream",
     "text": [
      "24/11/30 11:33:00 WARN DAGScheduler: Broadcasting large task binary with size 1841.7 KiB\n",
      "                                                                                \r"
     ]
    },
    {
     "name": "stdout",
     "output_type": "stream",
     "text": [
      "Saved Games Final Updated: 217 rows\n"
     ]
    },
    {
     "name": "stderr",
     "output_type": "stream",
     "text": [
      "24/11/30 11:33:48 WARN DAGScheduler: Broadcasting large task binary with size 1860.4 KiB\n",
      "                                                                                \r"
     ]
    },
    {
     "name": "stdout",
     "output_type": "stream",
     "text": [
      "Saved Games Final Updated: 218 rows\n",
      "Processing Game ID: 16878, total moves: 61\n",
      "Processing Move: 0\n",
      "Processing Move: 15\n",
      "Processing Move: 30\n",
      "Processing Move: 45\n"
     ]
    },
    {
     "name": "stderr",
     "output_type": "stream",
     "text": [
      "24/11/30 11:34:24 WARN DAGScheduler: Broadcasting large task binary with size 1129.6 KiB\n"
     ]
    },
    {
     "name": "stdout",
     "output_type": "stream",
     "text": [
      "Saved Games Final Updated: 219 rows\n"
     ]
    },
    {
     "name": "stderr",
     "output_type": "stream",
     "text": [
      "24/11/30 11:34:42 WARN DAGScheduler: Broadcasting large task binary with size 1148.3 KiB\n"
     ]
    },
    {
     "name": "stdout",
     "output_type": "stream",
     "text": [
      "Saved Games Final Updated: 220 rows\n"
     ]
    },
    {
     "name": "stderr",
     "output_type": "stream",
     "text": [
      "24/11/30 11:35:00 WARN DAGScheduler: Broadcasting large task binary with size 1167.1 KiB\n"
     ]
    },
    {
     "name": "stdout",
     "output_type": "stream",
     "text": [
      "Saved Games Final Updated: 221 rows\n",
      "Processing Game ID: 16904, total moves: 92\n",
      "Processing Move: 0\n",
      "Processing Move: 15\n",
      "Processing Move: 30\n",
      "Processing Move: 45\n",
      "Processing Move: 60\n",
      "Processing Move: 75\n"
     ]
    },
    {
     "name": "stderr",
     "output_type": "stream",
     "text": [
      "24/11/30 11:36:15 WARN DAGScheduler: Broadcasting large task binary with size 1691.8 KiB\n"
     ]
    },
    {
     "name": "stdout",
     "output_type": "stream",
     "text": [
      "Saved Games Final Updated: 222 rows\n"
     ]
    },
    {
     "name": "stderr",
     "output_type": "stream",
     "text": [
      "24/11/30 11:36:53 WARN DAGScheduler: Broadcasting large task binary with size 1710.5 KiB\n",
      "                                                                                \r"
     ]
    },
    {
     "name": "stdout",
     "output_type": "stream",
     "text": [
      "Saved Games Final Updated: 223 rows\n"
     ]
    },
    {
     "name": "stderr",
     "output_type": "stream",
     "text": [
      "24/11/30 11:37:34 WARN DAGScheduler: Broadcasting large task binary with size 1729.2 KiB\n"
     ]
    },
    {
     "name": "stdout",
     "output_type": "stream",
     "text": [
      "Saved Games Final Updated: 224 rows\n",
      "Processing Move: 90\n"
     ]
    },
    {
     "name": "stderr",
     "output_type": "stream",
     "text": [
      "24/11/30 11:38:15 WARN DAGScheduler: Broadcasting large task binary with size 1748.0 KiB\n",
      "                                                                                \r"
     ]
    },
    {
     "name": "stdout",
     "output_type": "stream",
     "text": [
      "Saved Games Final Updated: 225 rows\n",
      "Processing Game ID: 17142, total moves: 95\n",
      "Processing Move: 0\n",
      "Processing Move: 15\n",
      "Processing Move: 30\n",
      "Processing Move: 45\n",
      "Processing Move: 60\n",
      "Processing Move: 75\n",
      "Processing Move: 90\n"
     ]
    },
    {
     "name": "stderr",
     "output_type": "stream",
     "text": [
      "24/11/30 11:39:35 WARN DAGScheduler: Broadcasting large task binary with size 1748.0 KiB\n",
      "                                                                                \r"
     ]
    },
    {
     "name": "stdout",
     "output_type": "stream",
     "text": [
      "Saved Games Final Updated: 226 rows\n"
     ]
    },
    {
     "name": "stderr",
     "output_type": "stream",
     "text": [
      "24/11/30 11:40:17 WARN DAGScheduler: Broadcasting large task binary with size 1766.7 KiB\n",
      "                                                                                \r"
     ]
    },
    {
     "name": "stdout",
     "output_type": "stream",
     "text": [
      "Saved Games Final Updated: 227 rows\n"
     ]
    },
    {
     "name": "stderr",
     "output_type": "stream",
     "text": [
      "24/11/30 11:41:01 WARN DAGScheduler: Broadcasting large task binary with size 1785.4 KiB\n",
      "                                                                                \r"
     ]
    },
    {
     "name": "stdout",
     "output_type": "stream",
     "text": [
      "Saved Games Final Updated: 228 rows\n"
     ]
    },
    {
     "name": "stderr",
     "output_type": "stream",
     "text": [
      "24/11/30 11:41:45 WARN DAGScheduler: Broadcasting large task binary with size 1804.2 KiB\n",
      "                                                                                \r"
     ]
    },
    {
     "name": "stdout",
     "output_type": "stream",
     "text": [
      "Saved Games Final Updated: 229 rows\n",
      "Processing Game ID: 17211, total moves: 111\n",
      "Processing Move: 0\n",
      "Processing Move: 15\n",
      "Processing Move: 30\n",
      "Processing Move: 45\n",
      "Processing Move: 60\n",
      "Processing Move: 75\n",
      "Processing Move: 90\n",
      "Processing Move: 105\n"
     ]
    },
    {
     "name": "stderr",
     "output_type": "stream",
     "text": [
      "24/11/30 11:43:30 WARN DAGScheduler: Broadcasting large task binary with size 2029.0 KiB\n",
      "                                                                                \r"
     ]
    },
    {
     "name": "stdout",
     "output_type": "stream",
     "text": [
      "Saved Games Final Updated: 230 rows\n"
     ]
    },
    {
     "name": "stderr",
     "output_type": "stream",
     "text": [
      "24/11/30 11:44:30 WARN DAGScheduler: Broadcasting large task binary with size 2047.8 KiB\n",
      "                                                                                \r"
     ]
    },
    {
     "name": "stdout",
     "output_type": "stream",
     "text": [
      "Saved Games Final Updated: 231 rows\n"
     ]
    },
    {
     "name": "stderr",
     "output_type": "stream",
     "text": [
      "24/11/30 11:45:30 WARN DAGScheduler: Broadcasting large task binary with size 2.0 MiB\n",
      "                                                                                \r"
     ]
    },
    {
     "name": "stdout",
     "output_type": "stream",
     "text": [
      "Saved Games Final Updated: 232 rows\n"
     ]
    },
    {
     "name": "stderr",
     "output_type": "stream",
     "text": [
      "24/11/30 11:46:31 WARN DAGScheduler: Broadcasting large task binary with size 2.0 MiB\n",
      "                                                                                \r"
     ]
    },
    {
     "name": "stdout",
     "output_type": "stream",
     "text": [
      "Saved Games Final Updated: 233 rows\n"
     ]
    },
    {
     "name": "stderr",
     "output_type": "stream",
     "text": [
      "24/11/30 11:47:32 WARN DAGScheduler: Broadcasting large task binary with size 2.1 MiB\n",
      "                                                                                \r"
     ]
    },
    {
     "name": "stdout",
     "output_type": "stream",
     "text": [
      "Saved Games Final Updated: 234 rows\n",
      "Processing Game ID: 11991, total moves: 112\n",
      "Processing Move: 0\n",
      "Processing Move: 15\n",
      "Processing Move: 30\n",
      "Processing Move: 45\n",
      "Processing Move: 60\n",
      "Processing Move: 75\n",
      "Processing Move: 90\n",
      "Processing Move: 105\n"
     ]
    },
    {
     "name": "stderr",
     "output_type": "stream",
     "text": [
      "24/11/30 11:49:20 WARN DAGScheduler: Broadcasting large task binary with size 2047.8 KiB\n",
      "                                                                                \r"
     ]
    },
    {
     "name": "stdout",
     "output_type": "stream",
     "text": [
      "Saved Games Final Updated: 235 rows\n"
     ]
    },
    {
     "name": "stderr",
     "output_type": "stream",
     "text": [
      "24/11/30 11:50:21 WARN DAGScheduler: Broadcasting large task binary with size 2.0 MiB\n",
      "                                                                                \r"
     ]
    },
    {
     "name": "stdout",
     "output_type": "stream",
     "text": [
      "Saved Games Final Updated: 236 rows\n"
     ]
    },
    {
     "name": "stderr",
     "output_type": "stream",
     "text": [
      "24/11/30 11:51:20 WARN DAGScheduler: Broadcasting large task binary with size 2.0 MiB\n",
      "                                                                                \r"
     ]
    },
    {
     "name": "stdout",
     "output_type": "stream",
     "text": [
      "Saved Games Final Updated: 237 rows\n"
     ]
    },
    {
     "name": "stderr",
     "output_type": "stream",
     "text": [
      "24/11/30 11:52:21 WARN DAGScheduler: Broadcasting large task binary with size 2.1 MiB\n",
      "                                                                                \r"
     ]
    },
    {
     "name": "stdout",
     "output_type": "stream",
     "text": [
      "Saved Games Final Updated: 238 rows\n"
     ]
    },
    {
     "name": "stderr",
     "output_type": "stream",
     "text": [
      "24/11/30 11:53:24 WARN DAGScheduler: Broadcasting large task binary with size 2.1 MiB\n",
      "                                                                                \r"
     ]
    },
    {
     "name": "stdout",
     "output_type": "stream",
     "text": [
      "Saved Games Final Updated: 239 rows\n",
      "Processing Game ID: 12074, total moves: 49\n",
      "Processing Move: 0\n",
      "Processing Move: 15\n",
      "Processing Move: 30\n",
      "Processing Move: 45\n",
      "Saved Games Final Updated: 240 rows\n",
      "Saved Games Final Updated: 241 rows\n",
      "Processing Game ID: 12212, total moves: 70\n",
      "Processing Move: 0\n",
      "Processing Move: 15\n",
      "Processing Move: 30\n",
      "Processing Move: 45\n",
      "Processing Move: 60\n"
     ]
    },
    {
     "name": "stderr",
     "output_type": "stream",
     "text": [
      "24/11/30 11:54:49 WARN DAGScheduler: Broadcasting large task binary with size 1298.3 KiB\n"
     ]
    },
    {
     "name": "stdout",
     "output_type": "stream",
     "text": [
      "Saved Games Final Updated: 242 rows\n"
     ]
    },
    {
     "name": "stderr",
     "output_type": "stream",
     "text": [
      "24/11/30 11:55:13 WARN DAGScheduler: Broadcasting large task binary with size 1317.0 KiB\n"
     ]
    },
    {
     "name": "stdout",
     "output_type": "stream",
     "text": [
      "Saved Games Final Updated: 243 rows\n"
     ]
    },
    {
     "name": "stderr",
     "output_type": "stream",
     "text": [
      "24/11/30 11:55:37 WARN DAGScheduler: Broadcasting large task binary with size 1335.7 KiB\n",
      "                                                                                \r"
     ]
    },
    {
     "name": "stdout",
     "output_type": "stream",
     "text": [
      "Saved Games Final Updated: 244 rows\n",
      "Processing Game ID: 12214, total moves: 41\n",
      "Processing Move: 0\n",
      "Processing Move: 15\n",
      "Processing Move: 30\n",
      "Saved Games Final Updated: 245 rows\n",
      "Saved Games Final Updated: 246 rows\n",
      "Processing Game ID: 12375, total moves: 87\n",
      "Processing Move: 0\n",
      "Processing Move: 15\n",
      "Processing Move: 30\n",
      "Processing Move: 45\n",
      "Processing Move: 60\n",
      "Processing Move: 75\n"
     ]
    },
    {
     "name": "stderr",
     "output_type": "stream",
     "text": [
      "24/11/30 11:57:13 WARN DAGScheduler: Broadcasting large task binary with size 1598.1 KiB\n",
      "                                                                                \r"
     ]
    },
    {
     "name": "stdout",
     "output_type": "stream",
     "text": [
      "Saved Games Final Updated: 247 rows\n"
     ]
    },
    {
     "name": "stderr",
     "output_type": "stream",
     "text": [
      "24/11/30 11:57:48 WARN DAGScheduler: Broadcasting large task binary with size 1616.8 KiB\n",
      "                                                                                \r"
     ]
    },
    {
     "name": "stdout",
     "output_type": "stream",
     "text": [
      "Saved Games Final Updated: 248 rows\n"
     ]
    },
    {
     "name": "stderr",
     "output_type": "stream",
     "text": [
      "24/11/30 11:58:24 WARN DAGScheduler: Broadcasting large task binary with size 1635.5 KiB\n",
      "                                                                                \r"
     ]
    },
    {
     "name": "stdout",
     "output_type": "stream",
     "text": [
      "Saved Games Final Updated: 249 rows\n"
     ]
    },
    {
     "name": "stderr",
     "output_type": "stream",
     "text": [
      "24/11/30 11:59:02 WARN DAGScheduler: Broadcasting large task binary with size 1654.3 KiB\n",
      "                                                                                \r"
     ]
    },
    {
     "name": "stdout",
     "output_type": "stream",
     "text": [
      "Saved Games Final Updated: 250 rows\n",
      "Processing Game ID: 12476, total moves: 61\n",
      "Processing Move: 0\n",
      "Processing Move: 15\n",
      "Processing Move: 30\n",
      "Processing Move: 45\n"
     ]
    },
    {
     "name": "stderr",
     "output_type": "stream",
     "text": [
      "24/11/30 11:59:39 WARN DAGScheduler: Broadcasting large task binary with size 1129.6 KiB\n"
     ]
    },
    {
     "name": "stdout",
     "output_type": "stream",
     "text": [
      "Saved Games Final Updated: 251 rows\n"
     ]
    },
    {
     "name": "stderr",
     "output_type": "stream",
     "text": [
      "24/11/30 11:59:57 WARN DAGScheduler: Broadcasting large task binary with size 1148.3 KiB\n"
     ]
    },
    {
     "name": "stdout",
     "output_type": "stream",
     "text": [
      "Saved Games Final Updated: 252 rows\n"
     ]
    },
    {
     "name": "stderr",
     "output_type": "stream",
     "text": [
      "24/11/30 12:00:16 WARN DAGScheduler: Broadcasting large task binary with size 1167.1 KiB\n"
     ]
    },
    {
     "name": "stdout",
     "output_type": "stream",
     "text": [
      "Saved Games Final Updated: 253 rows\n",
      "Processing Game ID: 12701, total moves: 69\n",
      "Processing Move: 0\n",
      "Processing Move: 15\n",
      "Processing Move: 30\n",
      "Processing Move: 45\n",
      "Processing Move: 60\n"
     ]
    },
    {
     "name": "stderr",
     "output_type": "stream",
     "text": [
      "24/11/30 12:01:01 WARN DAGScheduler: Broadcasting large task binary with size 1279.5 KiB\n"
     ]
    },
    {
     "name": "stdout",
     "output_type": "stream",
     "text": [
      "Saved Games Final Updated: 254 rows\n"
     ]
    },
    {
     "name": "stderr",
     "output_type": "stream",
     "text": [
      "24/11/30 12:01:24 WARN DAGScheduler: Broadcasting large task binary with size 1298.3 KiB\n"
     ]
    },
    {
     "name": "stdout",
     "output_type": "stream",
     "text": [
      "Saved Games Final Updated: 255 rows\n"
     ]
    },
    {
     "name": "stderr",
     "output_type": "stream",
     "text": [
      "24/11/30 12:01:48 WARN DAGScheduler: Broadcasting large task binary with size 1317.0 KiB\n",
      "                                                                                \r"
     ]
    },
    {
     "name": "stdout",
     "output_type": "stream",
     "text": [
      "Saved Games Final Updated: 256 rows\n",
      "Processing Game ID: 12819, total moves: 30\n",
      "Processing Move: 0\n",
      "Processing Move: 15\n",
      "Saved Games Final Updated: 257 rows\n",
      "Processing Game ID: 12822, total moves: 74\n",
      "Processing Move: 0\n",
      "Processing Move: 15\n",
      "Processing Move: 30\n",
      "Processing Move: 45\n",
      "Processing Move: 60\n"
     ]
    },
    {
     "name": "stderr",
     "output_type": "stream",
     "text": [
      "24/11/30 12:02:52 WARN DAGScheduler: Broadcasting large task binary with size 1373.2 KiB\n"
     ]
    },
    {
     "name": "stdout",
     "output_type": "stream",
     "text": [
      "Saved Games Final Updated: 258 rows\n"
     ]
    },
    {
     "name": "stderr",
     "output_type": "stream",
     "text": [
      "24/11/30 12:03:19 WARN DAGScheduler: Broadcasting large task binary with size 1391.9 KiB\n"
     ]
    },
    {
     "name": "stdout",
     "output_type": "stream",
     "text": [
      "Saved Games Final Updated: 259 rows\n"
     ]
    },
    {
     "name": "stderr",
     "output_type": "stream",
     "text": [
      "24/11/30 12:03:46 WARN DAGScheduler: Broadcasting large task binary with size 1410.7 KiB\n"
     ]
    },
    {
     "name": "stdout",
     "output_type": "stream",
     "text": [
      "Saved Games Final Updated: 260 rows\n",
      "Processing Game ID: 12931, total moves: 116\n",
      "Processing Move: 0\n",
      "Processing Move: 15\n",
      "Processing Move: 30\n",
      "Processing Move: 45\n",
      "Processing Move: 60\n",
      "Processing Move: 75\n",
      "Processing Move: 90\n",
      "Processing Move: 105\n"
     ]
    },
    {
     "name": "stderr",
     "output_type": "stream",
     "text": [
      "24/11/30 12:05:42 WARN DAGScheduler: Broadcasting large task binary with size 2.1 MiB\n",
      "                                                                                \r"
     ]
    },
    {
     "name": "stdout",
     "output_type": "stream",
     "text": [
      "Saved Games Final Updated: 261 rows\n"
     ]
    },
    {
     "name": "stderr",
     "output_type": "stream",
     "text": [
      "24/11/30 12:06:45 WARN DAGScheduler: Broadcasting large task binary with size 2.1 MiB\n",
      "                                                                                \r"
     ]
    },
    {
     "name": "stdout",
     "output_type": "stream",
     "text": [
      "Saved Games Final Updated: 262 rows\n"
     ]
    },
    {
     "name": "stderr",
     "output_type": "stream",
     "text": [
      "24/11/30 12:07:49 WARN DAGScheduler: Broadcasting large task binary with size 2.1 MiB\n",
      "                                                                                \r"
     ]
    },
    {
     "name": "stdout",
     "output_type": "stream",
     "text": [
      "Saved Games Final Updated: 263 rows\n"
     ]
    },
    {
     "name": "stderr",
     "output_type": "stream",
     "text": [
      "24/11/30 12:08:54 WARN DAGScheduler: Broadcasting large task binary with size 2.1 MiB\n",
      "                                                                                \r"
     ]
    },
    {
     "name": "stdout",
     "output_type": "stream",
     "text": [
      "Saved Games Final Updated: 264 rows\n"
     ]
    },
    {
     "name": "stderr",
     "output_type": "stream",
     "text": [
      "24/11/30 12:10:01 WARN DAGScheduler: Broadcasting large task binary with size 2.1 MiB\n",
      "                                                                                \r"
     ]
    },
    {
     "name": "stdout",
     "output_type": "stream",
     "text": [
      "Saved Games Final Updated: 265 rows\n",
      "Processing Game ID: 13007, total moves: 61\n",
      "Processing Move: 0\n",
      "Processing Move: 15\n",
      "Processing Move: 30\n",
      "Processing Move: 45\n"
     ]
    },
    {
     "name": "stderr",
     "output_type": "stream",
     "text": [
      "24/11/30 12:10:38 WARN DAGScheduler: Broadcasting large task binary with size 1129.6 KiB\n"
     ]
    },
    {
     "name": "stdout",
     "output_type": "stream",
     "text": [
      "Saved Games Final Updated: 266 rows\n"
     ]
    },
    {
     "name": "stderr",
     "output_type": "stream",
     "text": [
      "24/11/30 12:10:56 WARN DAGScheduler: Broadcasting large task binary with size 1148.3 KiB\n"
     ]
    },
    {
     "name": "stdout",
     "output_type": "stream",
     "text": [
      "Saved Games Final Updated: 267 rows\n"
     ]
    },
    {
     "name": "stderr",
     "output_type": "stream",
     "text": [
      "24/11/30 12:11:14 WARN DAGScheduler: Broadcasting large task binary with size 1167.1 KiB\n"
     ]
    },
    {
     "name": "stdout",
     "output_type": "stream",
     "text": [
      "Saved Games Final Updated: 268 rows\n",
      "Processing Game ID: 13276, total moves: 110\n",
      "Processing Move: 0\n",
      "Processing Move: 15\n",
      "Processing Move: 30\n",
      "Processing Move: 45\n",
      "Processing Move: 60\n",
      "Processing Move: 75\n",
      "Processing Move: 90\n"
     ]
    },
    {
     "name": "stderr",
     "output_type": "stream",
     "text": [
      "24/11/30 12:12:59 WARN DAGScheduler: Broadcasting large task binary with size 2010.3 KiB\n",
      "                                                                                \r"
     ]
    },
    {
     "name": "stdout",
     "output_type": "stream",
     "text": [
      "Saved Games Final Updated: 269 rows\n",
      "Processing Move: 105\n"
     ]
    },
    {
     "name": "stderr",
     "output_type": "stream",
     "text": [
      "24/11/30 12:13:57 WARN DAGScheduler: Broadcasting large task binary with size 2029.0 KiB\n",
      "                                                                                \r"
     ]
    },
    {
     "name": "stdout",
     "output_type": "stream",
     "text": [
      "Saved Games Final Updated: 270 rows\n"
     ]
    },
    {
     "name": "stderr",
     "output_type": "stream",
     "text": [
      "24/11/30 12:14:54 WARN DAGScheduler: Broadcasting large task binary with size 2047.8 KiB\n",
      "                                                                                \r"
     ]
    },
    {
     "name": "stdout",
     "output_type": "stream",
     "text": [
      "Saved Games Final Updated: 271 rows\n"
     ]
    },
    {
     "name": "stderr",
     "output_type": "stream",
     "text": [
      "24/11/30 12:15:52 WARN DAGScheduler: Broadcasting large task binary with size 2.0 MiB\n",
      "                                                                                \r"
     ]
    },
    {
     "name": "stdout",
     "output_type": "stream",
     "text": [
      "Saved Games Final Updated: 272 rows\n"
     ]
    },
    {
     "name": "stderr",
     "output_type": "stream",
     "text": [
      "24/11/30 12:16:53 WARN DAGScheduler: Broadcasting large task binary with size 2.0 MiB\n",
      "                                                                                \r"
     ]
    },
    {
     "name": "stdout",
     "output_type": "stream",
     "text": [
      "Saved Games Final Updated: 273 rows\n",
      "Processing Game ID: 13311, total moves: 28\n",
      "Processing Move: 0\n",
      "Processing Move: 15\n",
      "Saved Games Final Updated: 274 rows\n",
      "Processing Game ID: 13642, total moves: 91\n",
      "Processing Move: 0\n",
      "Processing Move: 15\n",
      "Processing Move: 30\n",
      "Processing Move: 45\n",
      "Processing Move: 60\n",
      "Processing Move: 75\n"
     ]
    },
    {
     "name": "stderr",
     "output_type": "stream",
     "text": [
      "24/11/30 12:18:19 WARN DAGScheduler: Broadcasting large task binary with size 1673.0 KiB\n",
      "                                                                                \r"
     ]
    },
    {
     "name": "stdout",
     "output_type": "stream",
     "text": [
      "Saved Games Final Updated: 275 rows\n"
     ]
    },
    {
     "name": "stderr",
     "output_type": "stream",
     "text": [
      "24/11/30 12:18:58 WARN DAGScheduler: Broadcasting large task binary with size 1691.8 KiB\n",
      "                                                                                \r"
     ]
    },
    {
     "name": "stdout",
     "output_type": "stream",
     "text": [
      "Saved Games Final Updated: 276 rows\n"
     ]
    },
    {
     "name": "stderr",
     "output_type": "stream",
     "text": [
      "24/11/30 12:19:37 WARN DAGScheduler: Broadcasting large task binary with size 1710.5 KiB\n",
      "                                                                                \r"
     ]
    },
    {
     "name": "stdout",
     "output_type": "stream",
     "text": [
      "Saved Games Final Updated: 277 rows\n"
     ]
    },
    {
     "name": "stderr",
     "output_type": "stream",
     "text": [
      "24/11/30 12:20:17 WARN DAGScheduler: Broadcasting large task binary with size 1729.2 KiB\n"
     ]
    },
    {
     "name": "stdout",
     "output_type": "stream",
     "text": [
      "Saved Games Final Updated: 278 rows\n",
      "Processing Game ID: 13735, total moves: 57\n",
      "Processing Move: 0\n",
      "Processing Move: 15\n",
      "Processing Move: 30\n",
      "Processing Move: 45\n"
     ]
    },
    {
     "name": "stderr",
     "output_type": "stream",
     "text": [
      "24/11/30 12:20:51 WARN DAGScheduler: Broadcasting large task binary with size 1073.4 KiB\n"
     ]
    },
    {
     "name": "stdout",
     "output_type": "stream",
     "text": [
      "Saved Games Final Updated: 279 rows\n"
     ]
    },
    {
     "name": "stderr",
     "output_type": "stream",
     "text": [
      "24/11/30 12:21:07 WARN DAGScheduler: Broadcasting large task binary with size 1092.1 KiB\n"
     ]
    },
    {
     "name": "stdout",
     "output_type": "stream",
     "text": [
      "Saved Games Final Updated: 280 rows\n",
      "Processing Game ID: 13736, total moves: 71\n",
      "Processing Move: 0\n",
      "Processing Move: 15\n",
      "Processing Move: 30\n",
      "Processing Move: 45\n",
      "Processing Move: 60\n"
     ]
    },
    {
     "name": "stderr",
     "output_type": "stream",
     "text": [
      "24/11/30 12:21:55 WARN DAGScheduler: Broadcasting large task binary with size 1317.0 KiB\n"
     ]
    },
    {
     "name": "stdout",
     "output_type": "stream",
     "text": [
      "Saved Games Final Updated: 281 rows\n"
     ]
    },
    {
     "name": "stderr",
     "output_type": "stream",
     "text": [
      "24/11/30 12:22:19 WARN DAGScheduler: Broadcasting large task binary with size 1335.7 KiB\n"
     ]
    },
    {
     "name": "stdout",
     "output_type": "stream",
     "text": [
      "Saved Games Final Updated: 282 rows\n"
     ]
    },
    {
     "name": "stderr",
     "output_type": "stream",
     "text": [
      "24/11/30 12:22:44 WARN DAGScheduler: Broadcasting large task binary with size 1354.5 KiB\n"
     ]
    },
    {
     "name": "stdout",
     "output_type": "stream",
     "text": [
      "Saved Games Final Updated: 283 rows\n",
      "Processing Game ID: 13851, total moves: 57\n",
      "Processing Move: 0\n",
      "Processing Move: 15\n",
      "Processing Move: 30\n",
      "Processing Move: 45\n"
     ]
    },
    {
     "name": "stderr",
     "output_type": "stream",
     "text": [
      "24/11/30 12:23:17 WARN DAGScheduler: Broadcasting large task binary with size 1073.4 KiB\n"
     ]
    },
    {
     "name": "stdout",
     "output_type": "stream",
     "text": [
      "Saved Games Final Updated: 284 rows\n"
     ]
    },
    {
     "name": "stderr",
     "output_type": "stream",
     "text": [
      "24/11/30 12:23:33 WARN DAGScheduler: Broadcasting large task binary with size 1092.1 KiB\n"
     ]
    },
    {
     "name": "stdout",
     "output_type": "stream",
     "text": [
      "Saved Games Final Updated: 285 rows\n",
      "Processing Game ID: 13944, total moves: 102\n",
      "Processing Move: 0\n",
      "Processing Move: 15\n",
      "Processing Move: 30\n",
      "Processing Move: 45\n",
      "Processing Move: 60\n",
      "Processing Move: 75\n",
      "Processing Move: 90\n"
     ]
    },
    {
     "name": "stderr",
     "output_type": "stream",
     "text": [
      "24/11/30 12:25:03 WARN DAGScheduler: Broadcasting large task binary with size 1860.4 KiB\n",
      "                                                                                \r"
     ]
    },
    {
     "name": "stdout",
     "output_type": "stream",
     "text": [
      "Saved Games Final Updated: 286 rows\n"
     ]
    },
    {
     "name": "stderr",
     "output_type": "stream",
     "text": [
      "24/11/30 12:25:51 WARN DAGScheduler: Broadcasting large task binary with size 1879.1 KiB\n",
      "                                                                                \r"
     ]
    },
    {
     "name": "stdout",
     "output_type": "stream",
     "text": [
      "Saved Games Final Updated: 287 rows\n"
     ]
    },
    {
     "name": "stderr",
     "output_type": "stream",
     "text": [
      "24/11/30 12:26:40 WARN DAGScheduler: Broadcasting large task binary with size 1897.9 KiB\n",
      "                                                                                \r"
     ]
    },
    {
     "name": "stdout",
     "output_type": "stream",
     "text": [
      "Saved Games Final Updated: 288 rows\n"
     ]
    },
    {
     "name": "stderr",
     "output_type": "stream",
     "text": [
      "24/11/30 12:27:31 WARN DAGScheduler: Broadcasting large task binary with size 1916.6 KiB\n",
      "                                                                                \r"
     ]
    },
    {
     "name": "stdout",
     "output_type": "stream",
     "text": [
      "Saved Games Final Updated: 289 rows\n"
     ]
    },
    {
     "name": "stderr",
     "output_type": "stream",
     "text": [
      "24/11/30 12:28:22 WARN DAGScheduler: Broadcasting large task binary with size 1935.4 KiB\n",
      "                                                                                \r"
     ]
    },
    {
     "name": "stdout",
     "output_type": "stream",
     "text": [
      "Saved Games Final Updated: 290 rows\n",
      "Processing Game ID: 14190, total moves: 104\n",
      "Processing Move: 0\n",
      "Processing Move: 15\n",
      "Processing Move: 30\n",
      "Processing Move: 45\n",
      "Processing Move: 60\n",
      "Processing Move: 75\n",
      "Processing Move: 90\n"
     ]
    },
    {
     "name": "stderr",
     "output_type": "stream",
     "text": [
      "24/11/30 12:29:56 WARN DAGScheduler: Broadcasting large task binary with size 1897.9 KiB\n",
      "                                                                                \r"
     ]
    },
    {
     "name": "stdout",
     "output_type": "stream",
     "text": [
      "Saved Games Final Updated: 291 rows\n"
     ]
    },
    {
     "name": "stderr",
     "output_type": "stream",
     "text": [
      "24/11/30 12:30:47 WARN DAGScheduler: Broadcasting large task binary with size 1916.6 KiB\n",
      "                                                                                \r"
     ]
    },
    {
     "name": "stdout",
     "output_type": "stream",
     "text": [
      "Saved Games Final Updated: 292 rows\n"
     ]
    },
    {
     "name": "stderr",
     "output_type": "stream",
     "text": [
      "24/11/30 12:31:38 WARN DAGScheduler: Broadcasting large task binary with size 1935.4 KiB\n",
      "                                                                                \r"
     ]
    },
    {
     "name": "stdout",
     "output_type": "stream",
     "text": [
      "Saved Games Final Updated: 293 rows\n"
     ]
    },
    {
     "name": "stderr",
     "output_type": "stream",
     "text": [
      "24/11/30 12:32:31 WARN DAGScheduler: Broadcasting large task binary with size 1954.1 KiB\n",
      "                                                                                \r"
     ]
    },
    {
     "name": "stdout",
     "output_type": "stream",
     "text": [
      "Saved Games Final Updated: 294 rows\n"
     ]
    },
    {
     "name": "stderr",
     "output_type": "stream",
     "text": [
      "24/11/30 12:33:25 WARN DAGScheduler: Broadcasting large task binary with size 1972.8 KiB\n",
      "                                                                                \r"
     ]
    },
    {
     "name": "stdout",
     "output_type": "stream",
     "text": [
      "Saved Games Final Updated: 295 rows\n",
      "Processing Game ID: 14191, total moves: 81\n",
      "Processing Move: 0\n",
      "Processing Move: 15\n",
      "Processing Move: 30\n",
      "Processing Move: 45\n",
      "Processing Move: 60\n",
      "Processing Move: 75\n"
     ]
    },
    {
     "name": "stderr",
     "output_type": "stream",
     "text": [
      "24/11/30 12:34:25 WARN DAGScheduler: Broadcasting large task binary with size 1485.6 KiB\n",
      "                                                                                \r"
     ]
    },
    {
     "name": "stdout",
     "output_type": "stream",
     "text": [
      "Saved Games Final Updated: 296 rows\n"
     ]
    },
    {
     "name": "stderr",
     "output_type": "stream",
     "text": [
      "24/11/30 12:34:56 WARN DAGScheduler: Broadcasting large task binary with size 1504.4 KiB\n"
     ]
    },
    {
     "name": "stdout",
     "output_type": "stream",
     "text": [
      "Saved Games Final Updated: 297 rows\n"
     ]
    },
    {
     "name": "stderr",
     "output_type": "stream",
     "text": [
      "24/11/30 12:35:27 WARN DAGScheduler: Broadcasting large task binary with size 1523.1 KiB\n"
     ]
    },
    {
     "name": "stdout",
     "output_type": "stream",
     "text": [
      "Saved Games Final Updated: 298 rows\n"
     ]
    },
    {
     "name": "stderr",
     "output_type": "stream",
     "text": [
      "24/11/30 12:35:59 WARN DAGScheduler: Broadcasting large task binary with size 1541.8 KiB\n"
     ]
    },
    {
     "name": "stdout",
     "output_type": "stream",
     "text": [
      "Saved Games Final Updated: 299 rows\n",
      "Processing Game ID: 14325, total moves: 31\n",
      "Processing Move: 0\n",
      "Processing Move: 15\n",
      "Saved Games Final Updated: 300 rows\n",
      "Processing Game ID: 14617, total moves: 60\n",
      "Processing Move: 0\n",
      "Processing Move: 15\n",
      "Processing Move: 30\n",
      "Processing Move: 45\n"
     ]
    },
    {
     "name": "stderr",
     "output_type": "stream",
     "text": [
      "24/11/30 12:36:48 WARN DAGScheduler: Broadcasting large task binary with size 1110.9 KiB\n"
     ]
    },
    {
     "name": "stdout",
     "output_type": "stream",
     "text": [
      "Saved Games Final Updated: 301 rows\n"
     ]
    },
    {
     "name": "stderr",
     "output_type": "stream",
     "text": [
      "24/11/30 12:37:06 WARN DAGScheduler: Broadcasting large task binary with size 1129.6 KiB\n"
     ]
    },
    {
     "name": "stdout",
     "output_type": "stream",
     "text": [
      "Saved Games Final Updated: 302 rows\n"
     ]
    },
    {
     "name": "stderr",
     "output_type": "stream",
     "text": [
      "24/11/30 12:37:23 WARN DAGScheduler: Broadcasting large task binary with size 1148.3 KiB\n"
     ]
    },
    {
     "name": "stdout",
     "output_type": "stream",
     "text": [
      "Saved Games Final Updated: 303 rows\n",
      "Processing Game ID: 14753, total moves: 89\n",
      "Processing Move: 0\n",
      "Processing Move: 15\n",
      "Processing Move: 30\n",
      "Processing Move: 45\n",
      "Processing Move: 60\n",
      "Processing Move: 75\n"
     ]
    },
    {
     "name": "stderr",
     "output_type": "stream",
     "text": [
      "24/11/30 12:38:34 WARN DAGScheduler: Broadcasting large task binary with size 1635.5 KiB\n"
     ]
    },
    {
     "name": "stdout",
     "output_type": "stream",
     "text": [
      "Saved Games Final Updated: 304 rows\n"
     ]
    },
    {
     "name": "stderr",
     "output_type": "stream",
     "text": [
      "24/11/30 12:39:12 WARN DAGScheduler: Broadcasting large task binary with size 1654.3 KiB\n",
      "                                                                                \r"
     ]
    },
    {
     "name": "stdout",
     "output_type": "stream",
     "text": [
      "Saved Games Final Updated: 305 rows\n"
     ]
    },
    {
     "name": "stderr",
     "output_type": "stream",
     "text": [
      "24/11/30 12:39:50 WARN DAGScheduler: Broadcasting large task binary with size 1673.0 KiB\n",
      "                                                                                \r"
     ]
    },
    {
     "name": "stdout",
     "output_type": "stream",
     "text": [
      "Saved Games Final Updated: 306 rows\n"
     ]
    },
    {
     "name": "stderr",
     "output_type": "stream",
     "text": [
      "24/11/30 12:40:29 WARN DAGScheduler: Broadcasting large task binary with size 1691.8 KiB\n",
      "                                                                                \r"
     ]
    },
    {
     "name": "stdout",
     "output_type": "stream",
     "text": [
      "Saved Games Final Updated: 307 rows\n",
      "Processing Game ID: 14897, total moves: 61\n",
      "Processing Move: 0\n",
      "Processing Move: 15\n",
      "Processing Move: 30\n",
      "Processing Move: 45\n"
     ]
    },
    {
     "name": "stderr",
     "output_type": "stream",
     "text": [
      "24/11/30 12:41:06 WARN DAGScheduler: Broadcasting large task binary with size 1129.6 KiB\n"
     ]
    },
    {
     "name": "stdout",
     "output_type": "stream",
     "text": [
      "Saved Games Final Updated: 308 rows\n"
     ]
    },
    {
     "name": "stderr",
     "output_type": "stream",
     "text": [
      "24/11/30 12:41:24 WARN DAGScheduler: Broadcasting large task binary with size 1148.3 KiB\n"
     ]
    },
    {
     "name": "stdout",
     "output_type": "stream",
     "text": [
      "Saved Games Final Updated: 309 rows\n"
     ]
    },
    {
     "name": "stderr",
     "output_type": "stream",
     "text": [
      "24/11/30 12:41:43 WARN DAGScheduler: Broadcasting large task binary with size 1167.1 KiB\n"
     ]
    },
    {
     "name": "stdout",
     "output_type": "stream",
     "text": [
      "Saved Games Final Updated: 310 rows\n",
      "Processing Game ID: 14898, total moves: 156\n",
      "Processing Move: 0\n",
      "Processing Move: 15\n",
      "Processing Move: 30\n",
      "Processing Move: 45\n",
      "Processing Move: 60\n",
      "Processing Move: 75\n",
      "Processing Move: 90\n",
      "Processing Move: 105\n",
      "Processing Move: 120\n",
      "Processing Move: 135\n"
     ]
    },
    {
     "name": "stderr",
     "output_type": "stream",
     "text": [
      "24/11/30 12:45:09 WARN DAGScheduler: Broadcasting large task binary with size 2.8 MiB\n",
      "                                                                                \r"
     ]
    },
    {
     "name": "stdout",
     "output_type": "stream",
     "text": [
      "Saved Games Final Updated: 311 rows\n"
     ]
    },
    {
     "name": "stderr",
     "output_type": "stream",
     "text": [
      "24/11/30 12:47:08 WARN DAGScheduler: Broadcasting large task binary with size 2.8 MiB\n",
      "                                                                                \r"
     ]
    },
    {
     "name": "stdout",
     "output_type": "stream",
     "text": [
      "Saved Games Final Updated: 312 rows\n",
      "Processing Move: 150\n"
     ]
    },
    {
     "name": "stderr",
     "output_type": "stream",
     "text": [
      "24/11/30 12:49:11 WARN DAGScheduler: Broadcasting large task binary with size 2.8 MiB\n",
      "                                                                                \r"
     ]
    },
    {
     "name": "stdout",
     "output_type": "stream",
     "text": [
      "Saved Games Final Updated: 313 rows\n"
     ]
    },
    {
     "name": "stderr",
     "output_type": "stream",
     "text": [
      "24/11/30 12:51:15 WARN DAGScheduler: Broadcasting large task binary with size 2.8 MiB\n",
      "                                                                                \r"
     ]
    },
    {
     "name": "stdout",
     "output_type": "stream",
     "text": [
      "Saved Games Final Updated: 314 rows\n"
     ]
    },
    {
     "name": "stderr",
     "output_type": "stream",
     "text": [
      "24/11/30 12:53:15 WARN DAGScheduler: Broadcasting large task binary with size 2.8 MiB\n",
      "                                                                                \r"
     ]
    },
    {
     "name": "stdout",
     "output_type": "stream",
     "text": [
      "Saved Games Final Updated: 315 rows\n"
     ]
    },
    {
     "name": "stderr",
     "output_type": "stream",
     "text": [
      "24/11/30 12:55:22 WARN DAGScheduler: Broadcasting large task binary with size 2.9 MiB\n",
      "                                                                                \r"
     ]
    },
    {
     "name": "stdout",
     "output_type": "stream",
     "text": [
      "Saved Games Final Updated: 316 rows\n"
     ]
    },
    {
     "name": "stderr",
     "output_type": "stream",
     "text": [
      "24/11/30 12:57:31 WARN DAGScheduler: Broadcasting large task binary with size 2.9 MiB\n",
      "                                                                                \r"
     ]
    },
    {
     "name": "stdout",
     "output_type": "stream",
     "text": [
      "Saved Games Final Updated: 317 rows\n",
      "Processing Game ID: 15072, total moves: 43\n",
      "Processing Move: 0\n",
      "Processing Move: 15\n",
      "Processing Move: 30\n",
      "Saved Games Final Updated: 318 rows\n",
      "Saved Games Final Updated: 319 rows\n",
      "Processing Game ID: 15077, total moves: 101\n",
      "Processing Move: 0\n",
      "Processing Move: 15\n",
      "Processing Move: 30\n",
      "Processing Move: 45\n",
      "Processing Move: 60\n",
      "Processing Move: 75\n",
      "Processing Move: 90\n"
     ]
    },
    {
     "name": "stderr",
     "output_type": "stream",
     "text": [
      "24/11/30 12:59:30 WARN DAGScheduler: Broadcasting large task binary with size 1841.7 KiB\n",
      "                                                                                \r"
     ]
    },
    {
     "name": "stdout",
     "output_type": "stream",
     "text": [
      "Saved Games Final Updated: 320 rows\n"
     ]
    },
    {
     "name": "stderr",
     "output_type": "stream",
     "text": [
      "24/11/30 13:00:18 WARN DAGScheduler: Broadcasting large task binary with size 1860.4 KiB\n",
      "                                                                                \r"
     ]
    },
    {
     "name": "stdout",
     "output_type": "stream",
     "text": [
      "Saved Games Final Updated: 321 rows\n"
     ]
    },
    {
     "name": "stderr",
     "output_type": "stream",
     "text": [
      "24/11/30 13:01:06 WARN DAGScheduler: Broadcasting large task binary with size 1879.1 KiB\n",
      "                                                                                \r"
     ]
    },
    {
     "name": "stdout",
     "output_type": "stream",
     "text": [
      "Saved Games Final Updated: 322 rows\n"
     ]
    },
    {
     "name": "stderr",
     "output_type": "stream",
     "text": [
      "24/11/30 13:01:56 WARN DAGScheduler: Broadcasting large task binary with size 1897.9 KiB\n",
      "                                                                                \r"
     ]
    },
    {
     "name": "stdout",
     "output_type": "stream",
     "text": [
      "Saved Games Final Updated: 323 rows\n"
     ]
    },
    {
     "name": "stderr",
     "output_type": "stream",
     "text": [
      "24/11/30 13:02:45 WARN DAGScheduler: Broadcasting large task binary with size 1916.6 KiB\n",
      "                                                                                \r"
     ]
    },
    {
     "name": "stdout",
     "output_type": "stream",
     "text": [
      "Saved Games Final Updated: 324 rows\n",
      "Processing Game ID: 15317, total moves: 81\n",
      "Processing Move: 0\n",
      "Processing Move: 15\n",
      "Processing Move: 30\n",
      "Processing Move: 45\n",
      "Processing Move: 60\n",
      "Processing Move: 75\n"
     ]
    },
    {
     "name": "stderr",
     "output_type": "stream",
     "text": [
      "24/11/30 13:03:45 WARN DAGScheduler: Broadcasting large task binary with size 1485.6 KiB\n",
      "                                                                                \r"
     ]
    },
    {
     "name": "stdout",
     "output_type": "stream",
     "text": [
      "Saved Games Final Updated: 325 rows\n"
     ]
    },
    {
     "name": "stderr",
     "output_type": "stream",
     "text": [
      "24/11/30 13:04:16 WARN DAGScheduler: Broadcasting large task binary with size 1504.4 KiB\n",
      "                                                                                \r"
     ]
    },
    {
     "name": "stdout",
     "output_type": "stream",
     "text": [
      "Saved Games Final Updated: 326 rows\n"
     ]
    },
    {
     "name": "stderr",
     "output_type": "stream",
     "text": [
      "24/11/30 13:04:47 WARN DAGScheduler: Broadcasting large task binary with size 1523.1 KiB\n",
      "                                                                                \r"
     ]
    },
    {
     "name": "stdout",
     "output_type": "stream",
     "text": [
      "Saved Games Final Updated: 327 rows\n"
     ]
    },
    {
     "name": "stderr",
     "output_type": "stream",
     "text": [
      "24/11/30 13:05:20 WARN DAGScheduler: Broadcasting large task binary with size 1541.8 KiB\n"
     ]
    },
    {
     "name": "stdout",
     "output_type": "stream",
     "text": [
      "Saved Games Final Updated: 328 rows\n",
      "Processing Game ID: 15377, total moves: 69\n",
      "Processing Move: 0\n",
      "Processing Move: 15\n",
      "Processing Move: 30\n",
      "Processing Move: 45\n",
      "Processing Move: 60\n"
     ]
    },
    {
     "name": "stderr",
     "output_type": "stream",
     "text": [
      "24/11/30 13:06:06 WARN DAGScheduler: Broadcasting large task binary with size 1279.5 KiB\n"
     ]
    },
    {
     "name": "stdout",
     "output_type": "stream",
     "text": [
      "Saved Games Final Updated: 329 rows\n"
     ]
    },
    {
     "name": "stderr",
     "output_type": "stream",
     "text": [
      "24/11/30 13:06:30 WARN DAGScheduler: Broadcasting large task binary with size 1298.3 KiB\n"
     ]
    },
    {
     "name": "stdout",
     "output_type": "stream",
     "text": [
      "Saved Games Final Updated: 330 rows\n"
     ]
    },
    {
     "name": "stderr",
     "output_type": "stream",
     "text": [
      "24/11/30 13:06:53 WARN DAGScheduler: Broadcasting large task binary with size 1317.0 KiB\n"
     ]
    },
    {
     "name": "stdout",
     "output_type": "stream",
     "text": [
      "Saved Games Final Updated: 331 rows\n",
      "Processing Game ID: 15399, total moves: 83\n",
      "Processing Move: 0\n",
      "Processing Move: 15\n",
      "Processing Move: 30\n",
      "Processing Move: 45\n",
      "Processing Move: 60\n",
      "Processing Move: 75\n"
     ]
    },
    {
     "name": "stderr",
     "output_type": "stream",
     "text": [
      "24/11/30 13:07:56 WARN DAGScheduler: Broadcasting large task binary with size 1523.1 KiB\n",
      "                                                                                \r"
     ]
    },
    {
     "name": "stdout",
     "output_type": "stream",
     "text": [
      "Saved Games Final Updated: 332 rows\n"
     ]
    },
    {
     "name": "stderr",
     "output_type": "stream",
     "text": [
      "24/11/30 13:08:29 WARN DAGScheduler: Broadcasting large task binary with size 1541.8 KiB\n"
     ]
    },
    {
     "name": "stdout",
     "output_type": "stream",
     "text": [
      "Saved Games Final Updated: 333 rows\n"
     ]
    },
    {
     "name": "stderr",
     "output_type": "stream",
     "text": [
      "24/11/30 13:09:02 WARN DAGScheduler: Broadcasting large task binary with size 1560.6 KiB\n"
     ]
    },
    {
     "name": "stdout",
     "output_type": "stream",
     "text": [
      "Saved Games Final Updated: 334 rows\n"
     ]
    },
    {
     "name": "stderr",
     "output_type": "stream",
     "text": [
      "24/11/30 13:09:35 WARN DAGScheduler: Broadcasting large task binary with size 1579.3 KiB\n",
      "                                                                                \r"
     ]
    },
    {
     "name": "stdout",
     "output_type": "stream",
     "text": [
      "Saved Games Final Updated: 335 rows\n",
      "Processing Game ID: 15433, total moves: 58\n",
      "Processing Move: 0\n",
      "Processing Move: 15\n",
      "Processing Move: 30\n",
      "Processing Move: 45\n"
     ]
    },
    {
     "name": "stderr",
     "output_type": "stream",
     "text": [
      "24/11/30 13:10:10 WARN DAGScheduler: Broadcasting large task binary with size 1092.1 KiB\n"
     ]
    },
    {
     "name": "stdout",
     "output_type": "stream",
     "text": [
      "Saved Games Final Updated: 336 rows\n"
     ]
    },
    {
     "name": "stderr",
     "output_type": "stream",
     "text": [
      "24/11/30 13:10:27 WARN DAGScheduler: Broadcasting large task binary with size 1110.9 KiB\n"
     ]
    },
    {
     "name": "stdout",
     "output_type": "stream",
     "text": [
      "Saved Games Final Updated: 337 rows\n",
      "Processing Game ID: 15449, total moves: 41\n",
      "Processing Move: 0\n",
      "Processing Move: 15\n",
      "Processing Move: 30\n",
      "Saved Games Final Updated: 338 rows\n",
      "Saved Games Final Updated: 339 rows\n",
      "Processing Game ID: 15483, total moves: 35\n",
      "Processing Move: 0\n",
      "Processing Move: 15\n",
      "Processing Move: 30\n"
     ]
    },
    {
     "name": "stderr",
     "output_type": "stream",
     "text": [
      "                                                                                \r"
     ]
    },
    {
     "name": "stdout",
     "output_type": "stream",
     "text": [
      "Saved Games Final Updated: 340 rows\n",
      "Processing Game ID: 15526, total moves: 64\n",
      "Processing Move: 0\n",
      "Processing Move: 15\n",
      "Processing Move: 30\n",
      "Processing Move: 45\n",
      "Processing Move: 60\n"
     ]
    },
    {
     "name": "stderr",
     "output_type": "stream",
     "text": [
      "24/11/30 13:11:51 WARN DAGScheduler: Broadcasting large task binary with size 1185.8 KiB\n"
     ]
    },
    {
     "name": "stdout",
     "output_type": "stream",
     "text": [
      "Saved Games Final Updated: 341 rows\n"
     ]
    },
    {
     "name": "stderr",
     "output_type": "stream",
     "text": [
      "24/11/30 13:12:11 WARN DAGScheduler: Broadcasting large task binary with size 1204.6 KiB\n"
     ]
    },
    {
     "name": "stdout",
     "output_type": "stream",
     "text": [
      "Saved Games Final Updated: 342 rows\n"
     ]
    },
    {
     "name": "stderr",
     "output_type": "stream",
     "text": [
      "24/11/30 13:12:31 WARN DAGScheduler: Broadcasting large task binary with size 1223.3 KiB\n"
     ]
    },
    {
     "name": "stdout",
     "output_type": "stream",
     "text": [
      "Saved Games Final Updated: 343 rows\n",
      "Processing Game ID: 15671, total moves: 163\n",
      "Processing Move: 0\n",
      "Processing Move: 15\n",
      "Processing Move: 30\n",
      "Processing Move: 45\n",
      "Processing Move: 60\n",
      "Processing Move: 75\n",
      "Processing Move: 90\n",
      "Processing Move: 105\n",
      "Processing Move: 120\n",
      "Processing Move: 135\n",
      "Processing Move: 150\n"
     ]
    },
    {
     "name": "stderr",
     "output_type": "stream",
     "text": [
      "24/11/30 13:16:18 WARN DAGScheduler: Broadcasting large task binary with size 2.9 MiB\n",
      "                                                                                \r"
     ]
    },
    {
     "name": "stdout",
     "output_type": "stream",
     "text": [
      "Saved Games Final Updated: 344 rows\n"
     ]
    },
    {
     "name": "stderr",
     "output_type": "stream",
     "text": [
      "24/11/30 13:18:27 WARN DAGScheduler: Broadcasting large task binary with size 2.9 MiB\n",
      "                                                                                \r"
     ]
    },
    {
     "name": "stdout",
     "output_type": "stream",
     "text": [
      "Saved Games Final Updated: 345 rows\n"
     ]
    },
    {
     "name": "stderr",
     "output_type": "stream",
     "text": [
      "24/11/30 13:20:40 WARN DAGScheduler: Broadcasting large task binary with size 2.9 MiB\n",
      "                                                                                \r"
     ]
    },
    {
     "name": "stdout",
     "output_type": "stream",
     "text": [
      "Saved Games Final Updated: 346 rows\n"
     ]
    },
    {
     "name": "stderr",
     "output_type": "stream",
     "text": [
      "24/11/30 13:22:56 WARN DAGScheduler: Broadcasting large task binary with size 2.9 MiB\n",
      "                                                                                \r"
     ]
    },
    {
     "name": "stdout",
     "output_type": "stream",
     "text": [
      "Saved Games Final Updated: 347 rows\n"
     ]
    },
    {
     "name": "stderr",
     "output_type": "stream",
     "text": [
      "24/11/30 13:25:09 WARN DAGScheduler: Broadcasting large task binary with size 3.0 MiB\n",
      "                                                                                \r"
     ]
    },
    {
     "name": "stdout",
     "output_type": "stream",
     "text": [
      "Saved Games Final Updated: 348 rows\n"
     ]
    },
    {
     "name": "stderr",
     "output_type": "stream",
     "text": [
      "24/11/30 13:27:28 WARN DAGScheduler: Broadcasting large task binary with size 3.0 MiB\n",
      "                                                                                \r"
     ]
    },
    {
     "name": "stdout",
     "output_type": "stream",
     "text": [
      "Saved Games Final Updated: 349 rows\n"
     ]
    },
    {
     "name": "stderr",
     "output_type": "stream",
     "text": [
      "24/11/30 13:29:43 WARN DAGScheduler: Broadcasting large task binary with size 3.0 MiB\n",
      "                                                                                \r"
     ]
    },
    {
     "name": "stdout",
     "output_type": "stream",
     "text": [
      "Saved Games Final Updated: 350 rows\n"
     ]
    },
    {
     "name": "stderr",
     "output_type": "stream",
     "text": [
      "24/11/30 13:31:58 WARN DAGScheduler: Broadcasting large task binary with size 3.0 MiB\n",
      "                                                                                \r"
     ]
    },
    {
     "name": "stdout",
     "output_type": "stream",
     "text": [
      "Saved Games Final Updated: 351 rows\n",
      "Processing Game ID: 15720, total moves: 21\n",
      "Processing Move: 0\n",
      "Processing Move: 15\n",
      "Saved Games Final Updated: 352 rows\n",
      "Processing Game ID: 15745, total moves: 117\n",
      "Processing Move: 0\n",
      "Processing Move: 15\n",
      "Processing Move: 30\n",
      "Processing Move: 45\n",
      "Processing Move: 60\n",
      "Processing Move: 75\n",
      "Processing Move: 90\n",
      "Processing Move: 105\n"
     ]
    },
    {
     "name": "stderr",
     "output_type": "stream",
     "text": [
      "24/11/30 13:34:05 WARN DAGScheduler: Broadcasting large task binary with size 2.1 MiB\n",
      "                                                                                \r"
     ]
    },
    {
     "name": "stdout",
     "output_type": "stream",
     "text": [
      "Saved Games Final Updated: 353 rows\n"
     ]
    },
    {
     "name": "stderr",
     "output_type": "stream",
     "text": [
      "24/11/30 13:35:12 WARN DAGScheduler: Broadcasting large task binary with size 2.1 MiB\n",
      "                                                                                \r"
     ]
    },
    {
     "name": "stdout",
     "output_type": "stream",
     "text": [
      "Saved Games Final Updated: 354 rows\n"
     ]
    },
    {
     "name": "stderr",
     "output_type": "stream",
     "text": [
      "24/11/30 13:36:19 WARN DAGScheduler: Broadcasting large task binary with size 2.1 MiB\n",
      "                                                                                \r"
     ]
    },
    {
     "name": "stdout",
     "output_type": "stream",
     "text": [
      "Saved Games Final Updated: 355 rows\n"
     ]
    },
    {
     "name": "stderr",
     "output_type": "stream",
     "text": [
      "24/11/30 13:37:28 WARN DAGScheduler: Broadcasting large task binary with size 2.1 MiB\n",
      "                                                                                \r"
     ]
    },
    {
     "name": "stdout",
     "output_type": "stream",
     "text": [
      "Saved Games Final Updated: 356 rows\n"
     ]
    },
    {
     "name": "stderr",
     "output_type": "stream",
     "text": [
      "24/11/30 13:38:36 WARN DAGScheduler: Broadcasting large task binary with size 2.2 MiB\n",
      "                                                                                \r"
     ]
    },
    {
     "name": "stdout",
     "output_type": "stream",
     "text": [
      "Saved Games Final Updated: 357 rows\n",
      "Processing Game ID: 15751, total moves: 81\n",
      "Processing Move: 0\n",
      "Processing Move: 15\n",
      "Processing Move: 30\n",
      "Processing Move: 45\n",
      "Processing Move: 60\n",
      "Processing Move: 75\n"
     ]
    },
    {
     "name": "stderr",
     "output_type": "stream",
     "text": [
      "24/11/30 13:39:35 WARN DAGScheduler: Broadcasting large task binary with size 1485.6 KiB\n",
      "                                                                                \r"
     ]
    },
    {
     "name": "stdout",
     "output_type": "stream",
     "text": [
      "Saved Games Final Updated: 358 rows\n"
     ]
    },
    {
     "name": "stderr",
     "output_type": "stream",
     "text": [
      "24/11/30 13:40:06 WARN DAGScheduler: Broadcasting large task binary with size 1504.4 KiB\n"
     ]
    },
    {
     "name": "stdout",
     "output_type": "stream",
     "text": [
      "Saved Games Final Updated: 359 rows\n"
     ]
    },
    {
     "name": "stderr",
     "output_type": "stream",
     "text": [
      "24/11/30 13:40:38 WARN DAGScheduler: Broadcasting large task binary with size 1523.1 KiB\n",
      "                                                                                \r"
     ]
    },
    {
     "name": "stdout",
     "output_type": "stream",
     "text": [
      "Saved Games Final Updated: 360 rows\n"
     ]
    },
    {
     "name": "stderr",
     "output_type": "stream",
     "text": [
      "24/11/30 13:41:10 WARN DAGScheduler: Broadcasting large task binary with size 1541.8 KiB\n"
     ]
    },
    {
     "name": "stdout",
     "output_type": "stream",
     "text": [
      "Saved Games Final Updated: 361 rows\n",
      "Processing Game ID: 15808, total moves: 135\n",
      "Processing Move: 0\n",
      "Processing Move: 15\n",
      "Processing Move: 30\n",
      "Processing Move: 45\n",
      "Processing Move: 60\n",
      "Processing Move: 75\n",
      "Processing Move: 90\n",
      "Processing Move: 105\n",
      "Processing Move: 120\n"
     ]
    },
    {
     "name": "stderr",
     "output_type": "stream",
     "text": [
      "24/11/30 13:43:43 WARN DAGScheduler: Broadcasting large task binary with size 2.4 MiB\n",
      "                                                                                \r"
     ]
    },
    {
     "name": "stdout",
     "output_type": "stream",
     "text": [
      "Saved Games Final Updated: 362 rows\n"
     ]
    },
    {
     "name": "stderr",
     "output_type": "stream",
     "text": [
      "24/11/30 13:45:12 WARN DAGScheduler: Broadcasting large task binary with size 2.4 MiB\n",
      "                                                                                \r"
     ]
    },
    {
     "name": "stdout",
     "output_type": "stream",
     "text": [
      "Saved Games Final Updated: 363 rows\n"
     ]
    },
    {
     "name": "stderr",
     "output_type": "stream",
     "text": [
      "24/11/30 13:46:41 WARN DAGScheduler: Broadcasting large task binary with size 2.4 MiB\n",
      "                                                                                \r"
     ]
    },
    {
     "name": "stdout",
     "output_type": "stream",
     "text": [
      "Saved Games Final Updated: 364 rows\n"
     ]
    },
    {
     "name": "stderr",
     "output_type": "stream",
     "text": [
      "24/11/30 13:48:13 WARN DAGScheduler: Broadcasting large task binary with size 2.5 MiB\n",
      "                                                                                \r"
     ]
    },
    {
     "name": "stdout",
     "output_type": "stream",
     "text": [
      "Saved Games Final Updated: 365 rows\n"
     ]
    },
    {
     "name": "stderr",
     "output_type": "stream",
     "text": [
      "24/11/30 13:49:44 WARN DAGScheduler: Broadcasting large task binary with size 2.5 MiB\n",
      "                                                                                \r"
     ]
    },
    {
     "name": "stdout",
     "output_type": "stream",
     "text": [
      "Saved Games Final Updated: 366 rows\n"
     ]
    },
    {
     "name": "stderr",
     "output_type": "stream",
     "text": [
      "24/11/30 13:51:18 WARN DAGScheduler: Broadcasting large task binary with size 2.5 MiB\n",
      "                                                                                \r"
     ]
    },
    {
     "name": "stdout",
     "output_type": "stream",
     "text": [
      "Saved Games Final Updated: 367 rows\n",
      "Processing Game ID: 15980, total moves: 35\n",
      "Processing Move: 0\n",
      "Processing Move: 15\n",
      "Processing Move: 30\n",
      "Saved Games Final Updated: 368 rows\n",
      "Processing Game ID: 16022, total moves: 133\n",
      "Processing Move: 0\n",
      "Processing Move: 15\n",
      "Processing Move: 30\n",
      "Processing Move: 45\n",
      "Processing Move: 60\n",
      "Processing Move: 75\n",
      "Processing Move: 90\n",
      "Processing Move: 105\n",
      "Processing Move: 120\n"
     ]
    },
    {
     "name": "stderr",
     "output_type": "stream",
     "text": [
      "24/11/30 13:54:05 WARN DAGScheduler: Broadcasting large task binary with size 2.4 MiB\n",
      "                                                                                \r"
     ]
    },
    {
     "name": "stdout",
     "output_type": "stream",
     "text": [
      "Saved Games Final Updated: 369 rows\n"
     ]
    },
    {
     "name": "stderr",
     "output_type": "stream",
     "text": [
      "24/11/30 13:55:31 WARN DAGScheduler: Broadcasting large task binary with size 2.4 MiB\n",
      "                                                                                \r"
     ]
    },
    {
     "name": "stdout",
     "output_type": "stream",
     "text": [
      "Saved Games Final Updated: 370 rows\n"
     ]
    },
    {
     "name": "stderr",
     "output_type": "stream",
     "text": [
      "24/11/30 13:56:58 WARN DAGScheduler: Broadcasting large task binary with size 2.4 MiB\n",
      "                                                                                \r"
     ]
    },
    {
     "name": "stdout",
     "output_type": "stream",
     "text": [
      "Saved Games Final Updated: 371 rows\n"
     ]
    },
    {
     "name": "stderr",
     "output_type": "stream",
     "text": [
      "24/11/30 13:58:28 WARN DAGScheduler: Broadcasting large task binary with size 2.4 MiB\n",
      "                                                                                \r"
     ]
    },
    {
     "name": "stdout",
     "output_type": "stream",
     "text": [
      "Saved Games Final Updated: 372 rows\n"
     ]
    },
    {
     "name": "stderr",
     "output_type": "stream",
     "text": [
      "24/11/30 14:00:00 WARN DAGScheduler: Broadcasting large task binary with size 2.4 MiB\n",
      "                                                                                \r"
     ]
    },
    {
     "name": "stdout",
     "output_type": "stream",
     "text": [
      "Saved Games Final Updated: 373 rows\n"
     ]
    },
    {
     "name": "stderr",
     "output_type": "stream",
     "text": [
      "24/11/30 14:01:33 WARN DAGScheduler: Broadcasting large task binary with size 2.5 MiB\n",
      "                                                                                \r"
     ]
    },
    {
     "name": "stdout",
     "output_type": "stream",
     "text": [
      "Saved Games Final Updated: 374 rows\n",
      "Processing Game ID: 16092, total moves: 112\n",
      "Processing Move: 0\n",
      "Processing Move: 15\n",
      "Processing Move: 30\n",
      "Processing Move: 45\n",
      "Processing Move: 60\n",
      "Processing Move: 75\n",
      "Processing Move: 90\n",
      "Processing Move: 105\n"
     ]
    },
    {
     "name": "stderr",
     "output_type": "stream",
     "text": [
      "24/11/30 14:03:22 WARN DAGScheduler: Broadcasting large task binary with size 2047.8 KiB\n",
      "                                                                                \r"
     ]
    },
    {
     "name": "stdout",
     "output_type": "stream",
     "text": [
      "Saved Games Final Updated: 375 rows\n"
     ]
    },
    {
     "name": "stderr",
     "output_type": "stream",
     "text": [
      "24/11/30 14:04:21 WARN DAGScheduler: Broadcasting large task binary with size 2.0 MiB\n",
      "                                                                                \r"
     ]
    },
    {
     "name": "stdout",
     "output_type": "stream",
     "text": [
      "Saved Games Final Updated: 376 rows\n"
     ]
    },
    {
     "name": "stderr",
     "output_type": "stream",
     "text": [
      "24/11/30 14:05:23 WARN DAGScheduler: Broadcasting large task binary with size 2.0 MiB\n",
      "                                                                                \r"
     ]
    },
    {
     "name": "stdout",
     "output_type": "stream",
     "text": [
      "Saved Games Final Updated: 377 rows\n"
     ]
    },
    {
     "name": "stderr",
     "output_type": "stream",
     "text": [
      "24/11/30 14:06:24 WARN DAGScheduler: Broadcasting large task binary with size 2.1 MiB\n",
      "                                                                                \r"
     ]
    },
    {
     "name": "stdout",
     "output_type": "stream",
     "text": [
      "Saved Games Final Updated: 378 rows\n"
     ]
    },
    {
     "name": "stderr",
     "output_type": "stream",
     "text": [
      "24/11/30 14:07:28 WARN DAGScheduler: Broadcasting large task binary with size 2.1 MiB\n",
      "                                                                                \r"
     ]
    },
    {
     "name": "stdout",
     "output_type": "stream",
     "text": [
      "Saved Games Final Updated: 379 rows\n",
      "Processing Game ID: 16126, total moves: 42\n",
      "Processing Move: 0\n",
      "Processing Move: 15\n",
      "Processing Move: 30\n",
      "Saved Games Final Updated: 380 rows\n"
     ]
    },
    {
     "name": "stderr",
     "output_type": "stream",
     "text": [
      "                                                                                \r"
     ]
    },
    {
     "name": "stdout",
     "output_type": "stream",
     "text": [
      "Saved Games Final Updated: 381 rows\n",
      "Processing Game ID: 16140, total moves: 75\n",
      "Processing Move: 0\n",
      "Processing Move: 15\n",
      "Processing Move: 30\n",
      "Processing Move: 45\n",
      "Processing Move: 60\n"
     ]
    },
    {
     "name": "stderr",
     "output_type": "stream",
     "text": [
      "24/11/30 14:08:51 WARN DAGScheduler: Broadcasting large task binary with size 1391.9 KiB\n",
      "                                                                                \r"
     ]
    },
    {
     "name": "stdout",
     "output_type": "stream",
     "text": [
      "Saved Games Final Updated: 382 rows\n"
     ]
    },
    {
     "name": "stderr",
     "output_type": "stream",
     "text": [
      "24/11/30 14:09:18 WARN DAGScheduler: Broadcasting large task binary with size 1410.7 KiB\n"
     ]
    },
    {
     "name": "stdout",
     "output_type": "stream",
     "text": [
      "Saved Games Final Updated: 383 rows\n"
     ]
    },
    {
     "name": "stderr",
     "output_type": "stream",
     "text": [
      "24/11/30 14:09:46 WARN DAGScheduler: Broadcasting large task binary with size 1429.4 KiB\n",
      "                                                                                \r"
     ]
    },
    {
     "name": "stdout",
     "output_type": "stream",
     "text": [
      "Saved Games Final Updated: 384 rows\n",
      "Processing Game ID: 16144, total moves: 95\n",
      "Processing Move: 0\n",
      "Processing Move: 15\n",
      "Processing Move: 30\n",
      "Processing Move: 45\n",
      "Processing Move: 60\n",
      "Processing Move: 75\n",
      "Processing Move: 90\n"
     ]
    },
    {
     "name": "stderr",
     "output_type": "stream",
     "text": [
      "24/11/30 14:11:06 WARN DAGScheduler: Broadcasting large task binary with size 1748.0 KiB\n",
      "                                                                                \r"
     ]
    },
    {
     "name": "stdout",
     "output_type": "stream",
     "text": [
      "Saved Games Final Updated: 385 rows\n"
     ]
    },
    {
     "name": "stderr",
     "output_type": "stream",
     "text": [
      "24/11/30 14:11:48 WARN DAGScheduler: Broadcasting large task binary with size 1766.7 KiB\n",
      "                                                                                \r"
     ]
    },
    {
     "name": "stdout",
     "output_type": "stream",
     "text": [
      "Saved Games Final Updated: 386 rows\n"
     ]
    },
    {
     "name": "stderr",
     "output_type": "stream",
     "text": [
      "24/11/30 14:12:31 WARN DAGScheduler: Broadcasting large task binary with size 1785.4 KiB\n",
      "                                                                                \r"
     ]
    },
    {
     "name": "stdout",
     "output_type": "stream",
     "text": [
      "Saved Games Final Updated: 387 rows\n"
     ]
    },
    {
     "name": "stderr",
     "output_type": "stream",
     "text": [
      "24/11/30 14:13:16 WARN DAGScheduler: Broadcasting large task binary with size 1804.2 KiB\n",
      "                                                                                \r"
     ]
    },
    {
     "name": "stdout",
     "output_type": "stream",
     "text": [
      "Saved Games Final Updated: 388 rows\n",
      "Processing Game ID: 16263, total moves: 58\n",
      "Processing Move: 0\n",
      "Processing Move: 15\n",
      "Processing Move: 30\n",
      "Processing Move: 45\n"
     ]
    },
    {
     "name": "stderr",
     "output_type": "stream",
     "text": [
      "24/11/30 14:13:50 WARN DAGScheduler: Broadcasting large task binary with size 1092.1 KiB\n"
     ]
    },
    {
     "name": "stdout",
     "output_type": "stream",
     "text": [
      "Saved Games Final Updated: 389 rows\n"
     ]
    },
    {
     "name": "stderr",
     "output_type": "stream",
     "text": [
      "24/11/30 14:14:07 WARN DAGScheduler: Broadcasting large task binary with size 1110.9 KiB\n"
     ]
    },
    {
     "name": "stdout",
     "output_type": "stream",
     "text": [
      "Saved Games Final Updated: 390 rows\n",
      "Processing Game ID: 16279, total moves: 55\n",
      "Processing Move: 0\n",
      "Processing Move: 15\n",
      "Processing Move: 30\n",
      "Processing Move: 45\n"
     ]
    },
    {
     "name": "stderr",
     "output_type": "stream",
     "text": [
      "24/11/30 14:14:38 WARN DAGScheduler: Broadcasting large task binary with size 1035.9 KiB\n"
     ]
    },
    {
     "name": "stdout",
     "output_type": "stream",
     "text": [
      "Saved Games Final Updated: 391 rows\n"
     ]
    },
    {
     "name": "stderr",
     "output_type": "stream",
     "text": [
      "24/11/30 14:14:53 WARN DAGScheduler: Broadcasting large task binary with size 1054.7 KiB\n"
     ]
    },
    {
     "name": "stdout",
     "output_type": "stream",
     "text": [
      "Saved Games Final Updated: 392 rows\n",
      "Processing Game ID: 16367, total moves: 79\n",
      "Processing Move: 0\n",
      "Processing Move: 15\n",
      "Processing Move: 30\n",
      "Processing Move: 45\n",
      "Processing Move: 60\n",
      "Processing Move: 75\n"
     ]
    },
    {
     "name": "stderr",
     "output_type": "stream",
     "text": [
      "24/11/30 14:15:52 WARN DAGScheduler: Broadcasting large task binary with size 1466.9 KiB\n"
     ]
    },
    {
     "name": "stdout",
     "output_type": "stream",
     "text": [
      "Saved Games Final Updated: 393 rows\n"
     ]
    },
    {
     "name": "stderr",
     "output_type": "stream",
     "text": [
      "24/11/30 14:16:22 WARN DAGScheduler: Broadcasting large task binary with size 1485.6 KiB\n"
     ]
    },
    {
     "name": "stdout",
     "output_type": "stream",
     "text": [
      "Saved Games Final Updated: 394 rows\n"
     ]
    },
    {
     "name": "stderr",
     "output_type": "stream",
     "text": [
      "24/11/30 14:16:52 WARN DAGScheduler: Broadcasting large task binary with size 1504.4 KiB\n",
      "                                                                                \r"
     ]
    },
    {
     "name": "stdout",
     "output_type": "stream",
     "text": [
      "Saved Games Final Updated: 395 rows\n",
      "Processing Game ID: 16465, total moves: 65\n",
      "Processing Move: 0\n",
      "Processing Move: 15\n",
      "Processing Move: 30\n",
      "Processing Move: 45\n",
      "Processing Move: 60\n"
     ]
    },
    {
     "name": "stderr",
     "output_type": "stream",
     "text": [
      "24/11/30 14:17:34 WARN DAGScheduler: Broadcasting large task binary with size 1204.6 KiB\n"
     ]
    },
    {
     "name": "stdout",
     "output_type": "stream",
     "text": [
      "Saved Games Final Updated: 396 rows\n"
     ]
    },
    {
     "name": "stderr",
     "output_type": "stream",
     "text": [
      "24/11/30 14:17:54 WARN DAGScheduler: Broadcasting large task binary with size 1223.3 KiB\n"
     ]
    },
    {
     "name": "stdout",
     "output_type": "stream",
     "text": [
      "Saved Games Final Updated: 397 rows\n"
     ]
    },
    {
     "name": "stderr",
     "output_type": "stream",
     "text": [
      "24/11/30 14:18:16 WARN DAGScheduler: Broadcasting large task binary with size 1242.0 KiB\n",
      "                                                                                \r"
     ]
    },
    {
     "name": "stdout",
     "output_type": "stream",
     "text": [
      "Saved Games Final Updated: 398 rows\n",
      "Processing Game ID: 16480, total moves: 59\n",
      "Processing Move: 0\n",
      "Processing Move: 15\n",
      "Processing Move: 30\n",
      "Processing Move: 45\n"
     ]
    },
    {
     "name": "stderr",
     "output_type": "stream",
     "text": [
      "24/11/30 14:18:51 WARN DAGScheduler: Broadcasting large task binary with size 1110.9 KiB\n"
     ]
    },
    {
     "name": "stdout",
     "output_type": "stream",
     "text": [
      "Saved Games Final Updated: 399 rows\n"
     ]
    },
    {
     "name": "stderr",
     "output_type": "stream",
     "text": [
      "24/11/30 14:19:08 WARN DAGScheduler: Broadcasting large task binary with size 1129.6 KiB\n"
     ]
    },
    {
     "name": "stdout",
     "output_type": "stream",
     "text": [
      "Saved Games Final Updated: 400 rows\n",
      "Processing Game ID: 16527, total moves: 60\n",
      "Processing Move: 0\n",
      "Processing Move: 15\n",
      "Processing Move: 30\n",
      "Processing Move: 45\n"
     ]
    },
    {
     "name": "stderr",
     "output_type": "stream",
     "text": [
      "24/11/30 14:19:44 WARN DAGScheduler: Broadcasting large task binary with size 1110.9 KiB\n"
     ]
    },
    {
     "name": "stdout",
     "output_type": "stream",
     "text": [
      "Saved Games Final Updated: 401 rows\n"
     ]
    },
    {
     "name": "stderr",
     "output_type": "stream",
     "text": [
      "24/11/30 14:20:01 WARN DAGScheduler: Broadcasting large task binary with size 1129.6 KiB\n"
     ]
    },
    {
     "name": "stdout",
     "output_type": "stream",
     "text": [
      "Saved Games Final Updated: 402 rows\n"
     ]
    },
    {
     "name": "stderr",
     "output_type": "stream",
     "text": [
      "24/11/30 14:20:19 WARN DAGScheduler: Broadcasting large task binary with size 1148.3 KiB\n"
     ]
    },
    {
     "name": "stdout",
     "output_type": "stream",
     "text": [
      "Saved Games Final Updated: 403 rows\n",
      "Processing Game ID: 16991, total moves: 81\n",
      "Processing Move: 0\n",
      "Processing Move: 15\n",
      "Processing Move: 30\n",
      "Processing Move: 45\n",
      "Processing Move: 60\n",
      "Processing Move: 75\n"
     ]
    },
    {
     "name": "stderr",
     "output_type": "stream",
     "text": [
      "24/11/30 14:21:19 WARN DAGScheduler: Broadcasting large task binary with size 1485.6 KiB\n"
     ]
    },
    {
     "name": "stdout",
     "output_type": "stream",
     "text": [
      "Saved Games Final Updated: 404 rows\n"
     ]
    },
    {
     "name": "stderr",
     "output_type": "stream",
     "text": [
      "24/11/30 14:21:50 WARN DAGScheduler: Broadcasting large task binary with size 1504.4 KiB\n",
      "                                                                                \r"
     ]
    },
    {
     "name": "stdout",
     "output_type": "stream",
     "text": [
      "Saved Games Final Updated: 405 rows\n"
     ]
    },
    {
     "name": "stderr",
     "output_type": "stream",
     "text": [
      "24/11/30 14:22:21 WARN DAGScheduler: Broadcasting large task binary with size 1523.1 KiB\n",
      "                                                                                \r"
     ]
    },
    {
     "name": "stdout",
     "output_type": "stream",
     "text": [
      "Saved Games Final Updated: 406 rows\n"
     ]
    },
    {
     "name": "stderr",
     "output_type": "stream",
     "text": [
      "24/11/30 14:22:54 WARN DAGScheduler: Broadcasting large task binary with size 1541.8 KiB\n",
      "                                                                                \r"
     ]
    },
    {
     "name": "stdout",
     "output_type": "stream",
     "text": [
      "Saved Games Final Updated: 407 rows\n",
      "Processing Game ID: 17057, total moves: 76\n",
      "Processing Move: 0\n",
      "Processing Move: 15\n",
      "Processing Move: 30\n",
      "Processing Move: 45\n",
      "Processing Move: 60\n"
     ]
    },
    {
     "name": "stderr",
     "output_type": "stream",
     "text": [
      "24/11/30 14:23:48 WARN DAGScheduler: Broadcasting large task binary with size 1410.7 KiB\n"
     ]
    },
    {
     "name": "stdout",
     "output_type": "stream",
     "text": [
      "Saved Games Final Updated: 408 rows\n"
     ]
    },
    {
     "name": "stderr",
     "output_type": "stream",
     "text": [
      "24/11/30 14:24:16 WARN DAGScheduler: Broadcasting large task binary with size 1429.4 KiB\n"
     ]
    },
    {
     "name": "stdout",
     "output_type": "stream",
     "text": [
      "Saved Games Final Updated: 409 rows\n"
     ]
    },
    {
     "name": "stderr",
     "output_type": "stream",
     "text": [
      "24/11/30 14:24:45 WARN DAGScheduler: Broadcasting large task binary with size 1448.2 KiB\n"
     ]
    },
    {
     "name": "stdout",
     "output_type": "stream",
     "text": [
      "Saved Games Final Updated: 410 rows\n",
      "Processing Game ID: 17114, total moves: 101\n",
      "Processing Move: 0\n",
      "Processing Move: 15\n",
      "Processing Move: 30\n",
      "Processing Move: 45\n",
      "Processing Move: 60\n",
      "Processing Move: 75\n",
      "Processing Move: 90\n"
     ]
    },
    {
     "name": "stderr",
     "output_type": "stream",
     "text": [
      "24/11/30 14:26:13 WARN DAGScheduler: Broadcasting large task binary with size 1841.7 KiB\n",
      "                                                                                \r"
     ]
    },
    {
     "name": "stdout",
     "output_type": "stream",
     "text": [
      "Saved Games Final Updated: 411 rows\n"
     ]
    },
    {
     "name": "stderr",
     "output_type": "stream",
     "text": [
      "24/11/30 14:27:02 WARN DAGScheduler: Broadcasting large task binary with size 1860.4 KiB\n",
      "                                                                                \r"
     ]
    },
    {
     "name": "stdout",
     "output_type": "stream",
     "text": [
      "Saved Games Final Updated: 412 rows\n"
     ]
    },
    {
     "name": "stderr",
     "output_type": "stream",
     "text": [
      "24/11/30 14:27:51 WARN DAGScheduler: Broadcasting large task binary with size 1879.1 KiB\n",
      "                                                                                \r"
     ]
    },
    {
     "name": "stdout",
     "output_type": "stream",
     "text": [
      "Saved Games Final Updated: 413 rows\n"
     ]
    },
    {
     "name": "stderr",
     "output_type": "stream",
     "text": [
      "24/11/30 14:28:41 WARN DAGScheduler: Broadcasting large task binary with size 1897.9 KiB\n",
      "                                                                                \r"
     ]
    },
    {
     "name": "stdout",
     "output_type": "stream",
     "text": [
      "Saved Games Final Updated: 414 rows\n"
     ]
    },
    {
     "name": "stderr",
     "output_type": "stream",
     "text": [
      "24/11/30 14:29:33 WARN DAGScheduler: Broadcasting large task binary with size 1916.6 KiB\n",
      "                                                                                \r"
     ]
    },
    {
     "name": "stdout",
     "output_type": "stream",
     "text": [
      "Saved Games Final Updated: 415 rows\n",
      "Processing Game ID: 17195, total moves: 36\n",
      "Processing Move: 0\n",
      "Processing Move: 15\n",
      "Processing Move: 30\n",
      "Saved Games Final Updated: 416 rows\n",
      "Processing Game ID: 11884, total moves: 89\n",
      "Processing Move: 0\n",
      "Processing Move: 15\n",
      "Processing Move: 30\n",
      "Processing Move: 45\n",
      "Processing Move: 60\n",
      "Processing Move: 75\n"
     ]
    },
    {
     "name": "stderr",
     "output_type": "stream",
     "text": [
      "24/11/30 14:31:00 WARN DAGScheduler: Broadcasting large task binary with size 1635.5 KiB\n",
      "                                                                                \r"
     ]
    },
    {
     "name": "stdout",
     "output_type": "stream",
     "text": [
      "Saved Games Final Updated: 417 rows\n"
     ]
    },
    {
     "name": "stderr",
     "output_type": "stream",
     "text": [
      "24/11/30 14:31:37 WARN DAGScheduler: Broadcasting large task binary with size 1654.3 KiB\n",
      "                                                                                \r"
     ]
    },
    {
     "name": "stdout",
     "output_type": "stream",
     "text": [
      "Saved Games Final Updated: 418 rows\n"
     ]
    },
    {
     "name": "stderr",
     "output_type": "stream",
     "text": [
      "24/11/30 14:32:15 WARN DAGScheduler: Broadcasting large task binary with size 1673.0 KiB\n",
      "                                                                                \r"
     ]
    },
    {
     "name": "stdout",
     "output_type": "stream",
     "text": [
      "Saved Games Final Updated: 419 rows\n"
     ]
    },
    {
     "name": "stderr",
     "output_type": "stream",
     "text": [
      "24/11/30 14:32:54 WARN DAGScheduler: Broadcasting large task binary with size 1691.8 KiB\n"
     ]
    },
    {
     "name": "stdout",
     "output_type": "stream",
     "text": [
      "Saved Games Final Updated: 420 rows\n",
      "Processing Game ID: 11903, total moves: 76\n",
      "Processing Move: 0\n",
      "Processing Move: 15\n",
      "Processing Move: 30\n",
      "Processing Move: 45\n",
      "Processing Move: 60\n"
     ]
    },
    {
     "name": "stderr",
     "output_type": "stream",
     "text": [
      "24/11/30 14:33:47 WARN DAGScheduler: Broadcasting large task binary with size 1410.7 KiB\n"
     ]
    },
    {
     "name": "stdout",
     "output_type": "stream",
     "text": [
      "Saved Games Final Updated: 421 rows\n"
     ]
    },
    {
     "name": "stderr",
     "output_type": "stream",
     "text": [
      "24/11/30 14:34:15 WARN DAGScheduler: Broadcasting large task binary with size 1429.4 KiB\n",
      "                                                                                \r"
     ]
    },
    {
     "name": "stdout",
     "output_type": "stream",
     "text": [
      "Saved Games Final Updated: 422 rows\n"
     ]
    },
    {
     "name": "stderr",
     "output_type": "stream",
     "text": [
      "24/11/30 14:34:43 WARN DAGScheduler: Broadcasting large task binary with size 1448.2 KiB\n"
     ]
    },
    {
     "name": "stdout",
     "output_type": "stream",
     "text": [
      "Saved Games Final Updated: 423 rows\n",
      "Processing Game ID: 11951, total moves: 49\n",
      "Processing Move: 0\n",
      "Processing Move: 15\n",
      "Processing Move: 30\n",
      "Processing Move: 45\n"
     ]
    },
    {
     "name": "stderr",
     "output_type": "stream",
     "text": [
      "                                                                                \r"
     ]
    },
    {
     "name": "stdout",
     "output_type": "stream",
     "text": [
      "Saved Games Final Updated: 424 rows\n",
      "Saved Games Final Updated: 425 rows\n",
      "Processing Game ID: 12250, total moves: 114\n",
      "Processing Move: 0\n",
      "Processing Move: 15\n",
      "Processing Move: 30\n",
      "Processing Move: 45\n",
      "Processing Move: 60\n",
      "Processing Move: 75\n",
      "Processing Move: 90\n",
      "Processing Move: 105\n"
     ]
    },
    {
     "name": "stderr",
     "output_type": "stream",
     "text": [
      "24/11/30 14:37:13 WARN DAGScheduler: Broadcasting large task binary with size 2.0 MiB\n",
      "                                                                                \r"
     ]
    },
    {
     "name": "stdout",
     "output_type": "stream",
     "text": [
      "Saved Games Final Updated: 426 rows\n"
     ]
    },
    {
     "name": "stderr",
     "output_type": "stream",
     "text": [
      "24/11/30 14:38:14 WARN DAGScheduler: Broadcasting large task binary with size 2.1 MiB\n",
      "                                                                                \r"
     ]
    },
    {
     "name": "stdout",
     "output_type": "stream",
     "text": [
      "Saved Games Final Updated: 427 rows\n"
     ]
    },
    {
     "name": "stderr",
     "output_type": "stream",
     "text": [
      "24/11/30 14:39:16 WARN DAGScheduler: Broadcasting large task binary with size 2.1 MiB\n",
      "                                                                                \r"
     ]
    },
    {
     "name": "stdout",
     "output_type": "stream",
     "text": [
      "Saved Games Final Updated: 428 rows\n"
     ]
    },
    {
     "name": "stderr",
     "output_type": "stream",
     "text": [
      "24/11/30 14:40:20 WARN DAGScheduler: Broadcasting large task binary with size 2.1 MiB\n",
      "                                                                                \r"
     ]
    },
    {
     "name": "stdout",
     "output_type": "stream",
     "text": [
      "Saved Games Final Updated: 429 rows\n"
     ]
    },
    {
     "name": "stderr",
     "output_type": "stream",
     "text": [
      "24/11/30 14:41:26 WARN DAGScheduler: Broadcasting large task binary with size 2.1 MiB\n",
      "                                                                                \r"
     ]
    },
    {
     "name": "stdout",
     "output_type": "stream",
     "text": [
      "Saved Games Final Updated: 430 rows\n",
      "Processing Game ID: 12303, total moves: 95\n",
      "Processing Move: 0\n",
      "Processing Move: 15\n",
      "Processing Move: 30\n",
      "Processing Move: 45\n",
      "Processing Move: 60\n",
      "Processing Move: 75\n",
      "Processing Move: 90\n"
     ]
    },
    {
     "name": "stderr",
     "output_type": "stream",
     "text": [
      "24/11/30 14:42:47 WARN DAGScheduler: Broadcasting large task binary with size 1748.0 KiB\n",
      "                                                                                \r"
     ]
    },
    {
     "name": "stdout",
     "output_type": "stream",
     "text": [
      "Saved Games Final Updated: 431 rows\n"
     ]
    },
    {
     "name": "stderr",
     "output_type": "stream",
     "text": [
      "24/11/30 14:43:30 WARN DAGScheduler: Broadcasting large task binary with size 1766.7 KiB\n",
      "                                                                                \r"
     ]
    },
    {
     "name": "stdout",
     "output_type": "stream",
     "text": [
      "Saved Games Final Updated: 432 rows\n"
     ]
    },
    {
     "name": "stderr",
     "output_type": "stream",
     "text": [
      "24/11/30 14:44:15 WARN DAGScheduler: Broadcasting large task binary with size 1785.4 KiB\n",
      "                                                                                \r"
     ]
    },
    {
     "name": "stdout",
     "output_type": "stream",
     "text": [
      "Saved Games Final Updated: 433 rows\n"
     ]
    },
    {
     "name": "stderr",
     "output_type": "stream",
     "text": [
      "24/11/30 14:45:00 WARN DAGScheduler: Broadcasting large task binary with size 1804.2 KiB\n",
      "                                                                                \r"
     ]
    },
    {
     "name": "stdout",
     "output_type": "stream",
     "text": [
      "Saved Games Final Updated: 434 rows\n",
      "Processing Game ID: 12313, total moves: 91\n",
      "Processing Move: 0\n",
      "Processing Move: 15\n",
      "Processing Move: 30\n",
      "Processing Move: 45\n",
      "Processing Move: 60\n",
      "Processing Move: 75\n"
     ]
    },
    {
     "name": "stderr",
     "output_type": "stream",
     "text": [
      "24/11/30 14:46:13 WARN DAGScheduler: Broadcasting large task binary with size 1673.0 KiB\n",
      "                                                                                \r"
     ]
    },
    {
     "name": "stdout",
     "output_type": "stream",
     "text": [
      "Saved Games Final Updated: 435 rows\n"
     ]
    },
    {
     "name": "stderr",
     "output_type": "stream",
     "text": [
      "24/11/30 14:46:53 WARN DAGScheduler: Broadcasting large task binary with size 1691.8 KiB\n",
      "                                                                                \r"
     ]
    },
    {
     "name": "stdout",
     "output_type": "stream",
     "text": [
      "Saved Games Final Updated: 436 rows\n"
     ]
    },
    {
     "name": "stderr",
     "output_type": "stream",
     "text": [
      "24/11/30 14:47:33 WARN DAGScheduler: Broadcasting large task binary with size 1710.5 KiB\n",
      "                                                                                \r"
     ]
    },
    {
     "name": "stdout",
     "output_type": "stream",
     "text": [
      "Saved Games Final Updated: 437 rows\n"
     ]
    },
    {
     "name": "stderr",
     "output_type": "stream",
     "text": [
      "24/11/30 14:48:15 WARN DAGScheduler: Broadcasting large task binary with size 1729.2 KiB\n",
      "                                                                                \r"
     ]
    },
    {
     "name": "stdout",
     "output_type": "stream",
     "text": [
      "Saved Games Final Updated: 438 rows\n",
      "Processing Game ID: 12379, total moves: 60\n",
      "Processing Move: 0\n",
      "Processing Move: 15\n",
      "Processing Move: 30\n",
      "Processing Move: 45\n"
     ]
    },
    {
     "name": "stderr",
     "output_type": "stream",
     "text": [
      "24/11/30 14:48:50 WARN DAGScheduler: Broadcasting large task binary with size 1110.9 KiB\n"
     ]
    },
    {
     "name": "stdout",
     "output_type": "stream",
     "text": [
      "Saved Games Final Updated: 439 rows\n"
     ]
    },
    {
     "name": "stderr",
     "output_type": "stream",
     "text": [
      "24/11/30 14:49:08 WARN DAGScheduler: Broadcasting large task binary with size 1129.6 KiB\n"
     ]
    },
    {
     "name": "stdout",
     "output_type": "stream",
     "text": [
      "Saved Games Final Updated: 440 rows\n"
     ]
    },
    {
     "name": "stderr",
     "output_type": "stream",
     "text": [
      "24/11/30 14:49:26 WARN DAGScheduler: Broadcasting large task binary with size 1148.3 KiB\n"
     ]
    },
    {
     "name": "stdout",
     "output_type": "stream",
     "text": [
      "Saved Games Final Updated: 441 rows\n",
      "Processing Game ID: 12406, total moves: 105\n",
      "Processing Move: 0\n",
      "Processing Move: 15\n",
      "Processing Move: 30\n",
      "Processing Move: 45\n",
      "Processing Move: 60\n",
      "Processing Move: 75\n",
      "Processing Move: 90\n"
     ]
    },
    {
     "name": "stderr",
     "output_type": "stream",
     "text": [
      "24/11/30 14:50:59 WARN DAGScheduler: Broadcasting large task binary with size 1916.6 KiB\n",
      "                                                                                \r"
     ]
    },
    {
     "name": "stdout",
     "output_type": "stream",
     "text": [
      "Saved Games Final Updated: 442 rows\n"
     ]
    },
    {
     "name": "stderr",
     "output_type": "stream",
     "text": [
      "24/11/30 14:51:51 WARN DAGScheduler: Broadcasting large task binary with size 1935.4 KiB\n",
      "                                                                                \r"
     ]
    },
    {
     "name": "stdout",
     "output_type": "stream",
     "text": [
      "Saved Games Final Updated: 443 rows\n"
     ]
    },
    {
     "name": "stderr",
     "output_type": "stream",
     "text": [
      "24/11/30 14:52:45 WARN DAGScheduler: Broadcasting large task binary with size 1954.1 KiB\n",
      "                                                                                \r"
     ]
    },
    {
     "name": "stdout",
     "output_type": "stream",
     "text": [
      "Saved Games Final Updated: 444 rows\n"
     ]
    },
    {
     "name": "stderr",
     "output_type": "stream",
     "text": [
      "24/11/30 14:53:40 WARN DAGScheduler: Broadcasting large task binary with size 1972.8 KiB\n",
      "                                                                                \r"
     ]
    },
    {
     "name": "stdout",
     "output_type": "stream",
     "text": [
      "Saved Games Final Updated: 445 rows\n"
     ]
    },
    {
     "name": "stderr",
     "output_type": "stream",
     "text": [
      "24/11/30 14:54:34 WARN DAGScheduler: Broadcasting large task binary with size 1991.6 KiB\n",
      "                                                                                \r"
     ]
    },
    {
     "name": "stdout",
     "output_type": "stream",
     "text": [
      "Saved Games Final Updated: 446 rows\n",
      "Processing Game ID: 12437, total moves: 26\n",
      "Processing Move: 0\n",
      "Processing Move: 15\n",
      "Saved Games Final Updated: 447 rows\n",
      "Processing Game ID: 12518, total moves: 81\n",
      "Processing Move: 0\n",
      "Processing Move: 15\n",
      "Processing Move: 30\n",
      "Processing Move: 45\n",
      "Processing Move: 60\n",
      "Processing Move: 75\n"
     ]
    },
    {
     "name": "stderr",
     "output_type": "stream",
     "text": [
      "24/11/30 14:55:44 WARN DAGScheduler: Broadcasting large task binary with size 1485.6 KiB\n",
      "                                                                                \r"
     ]
    },
    {
     "name": "stdout",
     "output_type": "stream",
     "text": [
      "Saved Games Final Updated: 448 rows\n"
     ]
    },
    {
     "name": "stderr",
     "output_type": "stream",
     "text": [
      "24/11/30 14:56:15 WARN DAGScheduler: Broadcasting large task binary with size 1504.4 KiB\n",
      "                                                                                \r"
     ]
    },
    {
     "name": "stdout",
     "output_type": "stream",
     "text": [
      "Saved Games Final Updated: 449 rows\n"
     ]
    },
    {
     "name": "stderr",
     "output_type": "stream",
     "text": [
      "24/11/30 14:56:47 WARN DAGScheduler: Broadcasting large task binary with size 1523.1 KiB\n",
      "                                                                                \r"
     ]
    },
    {
     "name": "stdout",
     "output_type": "stream",
     "text": [
      "Saved Games Final Updated: 450 rows\n"
     ]
    },
    {
     "name": "stderr",
     "output_type": "stream",
     "text": [
      "24/11/30 14:57:19 WARN DAGScheduler: Broadcasting large task binary with size 1541.8 KiB\n",
      "                                                                                \r"
     ]
    },
    {
     "name": "stdout",
     "output_type": "stream",
     "text": [
      "Saved Games Final Updated: 451 rows\n",
      "Processing Game ID: 12602, total moves: 82\n",
      "Processing Move: 0\n",
      "Processing Move: 15\n",
      "Processing Move: 30\n",
      "Processing Move: 45\n",
      "Processing Move: 60\n",
      "Processing Move: 75\n"
     ]
    },
    {
     "name": "stderr",
     "output_type": "stream",
     "text": [
      "24/11/30 14:58:19 WARN DAGScheduler: Broadcasting large task binary with size 1504.4 KiB\n",
      "                                                                                \r"
     ]
    },
    {
     "name": "stdout",
     "output_type": "stream",
     "text": [
      "Saved Games Final Updated: 452 rows\n"
     ]
    },
    {
     "name": "stderr",
     "output_type": "stream",
     "text": [
      "24/11/30 14:58:50 WARN DAGScheduler: Broadcasting large task binary with size 1523.1 KiB\n",
      "                                                                                \r"
     ]
    },
    {
     "name": "stdout",
     "output_type": "stream",
     "text": [
      "Saved Games Final Updated: 453 rows\n"
     ]
    },
    {
     "name": "stderr",
     "output_type": "stream",
     "text": [
      "24/11/30 14:59:22 WARN DAGScheduler: Broadcasting large task binary with size 1541.8 KiB\n"
     ]
    },
    {
     "name": "stdout",
     "output_type": "stream",
     "text": [
      "Saved Games Final Updated: 454 rows\n"
     ]
    },
    {
     "name": "stderr",
     "output_type": "stream",
     "text": [
      "24/11/30 14:59:55 WARN DAGScheduler: Broadcasting large task binary with size 1560.6 KiB\n"
     ]
    },
    {
     "name": "stdout",
     "output_type": "stream",
     "text": [
      "Saved Games Final Updated: 455 rows\n",
      "Processing Game ID: 12692, total moves: 67\n",
      "Processing Move: 0\n",
      "Processing Move: 15\n",
      "Processing Move: 30\n",
      "Processing Move: 45\n",
      "Processing Move: 60\n"
     ]
    },
    {
     "name": "stderr",
     "output_type": "stream",
     "text": [
      "24/11/30 15:00:38 WARN DAGScheduler: Broadcasting large task binary with size 1242.0 KiB\n"
     ]
    },
    {
     "name": "stdout",
     "output_type": "stream",
     "text": [
      "Saved Games Final Updated: 456 rows\n"
     ]
    },
    {
     "name": "stderr",
     "output_type": "stream",
     "text": [
      "24/11/30 15:00:59 WARN DAGScheduler: Broadcasting large task binary with size 1260.8 KiB\n"
     ]
    },
    {
     "name": "stdout",
     "output_type": "stream",
     "text": [
      "Saved Games Final Updated: 457 rows\n"
     ]
    },
    {
     "name": "stderr",
     "output_type": "stream",
     "text": [
      "24/11/30 15:01:21 WARN DAGScheduler: Broadcasting large task binary with size 1279.5 KiB\n",
      "                                                                                \r"
     ]
    },
    {
     "name": "stdout",
     "output_type": "stream",
     "text": [
      "Saved Games Final Updated: 458 rows\n",
      "Processing Game ID: 12696, total moves: 49\n",
      "Processing Move: 0\n",
      "Processing Move: 15\n",
      "Processing Move: 30\n",
      "Processing Move: 45\n",
      "Saved Games Final Updated: 459 rows\n",
      "Saved Games Final Updated: 460 rows\n",
      "Processing Game ID: 12776, total moves: 55\n",
      "Processing Move: 0\n",
      "Processing Move: 15\n",
      "Processing Move: 30\n",
      "Processing Move: 45\n"
     ]
    },
    {
     "name": "stderr",
     "output_type": "stream",
     "text": [
      "24/11/30 15:02:31 WARN DAGScheduler: Broadcasting large task binary with size 1035.9 KiB\n"
     ]
    },
    {
     "name": "stdout",
     "output_type": "stream",
     "text": [
      "Saved Games Final Updated: 461 rows\n"
     ]
    },
    {
     "name": "stderr",
     "output_type": "stream",
     "text": [
      "24/11/30 15:02:46 WARN DAGScheduler: Broadcasting large task binary with size 1054.7 KiB\n"
     ]
    },
    {
     "name": "stdout",
     "output_type": "stream",
     "text": [
      "Saved Games Final Updated: 462 rows\n",
      "Processing Game ID: 12793, total moves: 84\n",
      "Processing Move: 0\n",
      "Processing Move: 15\n",
      "Processing Move: 30\n",
      "Processing Move: 45\n",
      "Processing Move: 60\n",
      "Processing Move: 75\n"
     ]
    },
    {
     "name": "stderr",
     "output_type": "stream",
     "text": [
      "24/11/30 15:03:49 WARN DAGScheduler: Broadcasting large task binary with size 1541.8 KiB\n",
      "                                                                                \r"
     ]
    },
    {
     "name": "stdout",
     "output_type": "stream",
     "text": [
      "Saved Games Final Updated: 463 rows\n"
     ]
    },
    {
     "name": "stderr",
     "output_type": "stream",
     "text": [
      "24/11/30 15:04:22 WARN DAGScheduler: Broadcasting large task binary with size 1560.6 KiB\n",
      "                                                                                \r"
     ]
    },
    {
     "name": "stdout",
     "output_type": "stream",
     "text": [
      "Saved Games Final Updated: 464 rows\n"
     ]
    },
    {
     "name": "stderr",
     "output_type": "stream",
     "text": [
      "24/11/30 15:04:56 WARN DAGScheduler: Broadcasting large task binary with size 1579.3 KiB\n"
     ]
    },
    {
     "name": "stdout",
     "output_type": "stream",
     "text": [
      "Saved Games Final Updated: 465 rows\n"
     ]
    },
    {
     "name": "stderr",
     "output_type": "stream",
     "text": [
      "24/11/30 15:05:31 WARN DAGScheduler: Broadcasting large task binary with size 1598.1 KiB\n",
      "                                                                                \r"
     ]
    },
    {
     "name": "stdout",
     "output_type": "stream",
     "text": [
      "Saved Games Final Updated: 466 rows\n",
      "Processing Game ID: 12912, total moves: 108\n",
      "Processing Move: 0\n",
      "Processing Move: 15\n",
      "Processing Move: 30\n",
      "Processing Move: 45\n",
      "Processing Move: 60\n",
      "Processing Move: 75\n",
      "Processing Move: 90\n"
     ]
    },
    {
     "name": "stderr",
     "output_type": "stream",
     "text": [
      "24/11/30 15:07:12 WARN DAGScheduler: Broadcasting large task binary with size 1972.8 KiB\n",
      "                                                                                \r"
     ]
    },
    {
     "name": "stdout",
     "output_type": "stream",
     "text": [
      "Saved Games Final Updated: 467 rows\n"
     ]
    },
    {
     "name": "stderr",
     "output_type": "stream",
     "text": [
      "24/11/30 15:08:06 WARN DAGScheduler: Broadcasting large task binary with size 1991.6 KiB\n",
      "                                                                                \r"
     ]
    },
    {
     "name": "stdout",
     "output_type": "stream",
     "text": [
      "Saved Games Final Updated: 468 rows\n"
     ]
    },
    {
     "name": "stderr",
     "output_type": "stream",
     "text": [
      "24/11/30 15:09:02 WARN DAGScheduler: Broadcasting large task binary with size 2010.3 KiB\n",
      "                                                                                \r"
     ]
    },
    {
     "name": "stdout",
     "output_type": "stream",
     "text": [
      "Saved Games Final Updated: 469 rows\n",
      "Processing Move: 105\n"
     ]
    },
    {
     "name": "stderr",
     "output_type": "stream",
     "text": [
      "24/11/30 15:10:00 WARN DAGScheduler: Broadcasting large task binary with size 2029.0 KiB\n",
      "                                                                                \r"
     ]
    },
    {
     "name": "stdout",
     "output_type": "stream",
     "text": [
      "Saved Games Final Updated: 470 rows\n"
     ]
    },
    {
     "name": "stderr",
     "output_type": "stream",
     "text": [
      "24/11/30 15:10:58 WARN DAGScheduler: Broadcasting large task binary with size 2047.8 KiB\n",
      "                                                                                \r"
     ]
    },
    {
     "name": "stdout",
     "output_type": "stream",
     "text": [
      "Saved Games Final Updated: 471 rows\n",
      "Processing Game ID: 12933, total moves: 73\n",
      "Processing Move: 0\n",
      "Processing Move: 15\n",
      "Processing Move: 30\n",
      "Processing Move: 45\n",
      "Processing Move: 60\n"
     ]
    },
    {
     "name": "stderr",
     "output_type": "stream",
     "text": [
      "24/11/30 15:11:48 WARN DAGScheduler: Broadcasting large task binary with size 1354.5 KiB\n"
     ]
    },
    {
     "name": "stdout",
     "output_type": "stream",
     "text": [
      "Saved Games Final Updated: 472 rows\n"
     ]
    },
    {
     "name": "stderr",
     "output_type": "stream",
     "text": [
      "24/11/30 15:12:13 WARN DAGScheduler: Broadcasting large task binary with size 1373.2 KiB\n",
      "                                                                                \r"
     ]
    },
    {
     "name": "stdout",
     "output_type": "stream",
     "text": [
      "Saved Games Final Updated: 473 rows\n"
     ]
    },
    {
     "name": "stderr",
     "output_type": "stream",
     "text": [
      "24/11/30 15:12:39 WARN DAGScheduler: Broadcasting large task binary with size 1391.9 KiB\n"
     ]
    },
    {
     "name": "stdout",
     "output_type": "stream",
     "text": [
      "Saved Games Final Updated: 474 rows\n",
      "Processing Game ID: 13012, total moves: 71\n",
      "Processing Move: 0\n",
      "Processing Move: 15\n",
      "Processing Move: 30\n",
      "Processing Move: 45\n",
      "Processing Move: 60\n"
     ]
    },
    {
     "name": "stderr",
     "output_type": "stream",
     "text": [
      "24/11/30 15:13:27 WARN DAGScheduler: Broadcasting large task binary with size 1317.0 KiB\n"
     ]
    },
    {
     "name": "stdout",
     "output_type": "stream",
     "text": [
      "Saved Games Final Updated: 475 rows\n"
     ]
    },
    {
     "name": "stderr",
     "output_type": "stream",
     "text": [
      "24/11/30 15:13:51 WARN DAGScheduler: Broadcasting large task binary with size 1335.7 KiB\n"
     ]
    },
    {
     "name": "stdout",
     "output_type": "stream",
     "text": [
      "Saved Games Final Updated: 476 rows\n"
     ]
    },
    {
     "name": "stderr",
     "output_type": "stream",
     "text": [
      "24/11/30 15:14:16 WARN DAGScheduler: Broadcasting large task binary with size 1354.5 KiB\n"
     ]
    },
    {
     "name": "stdout",
     "output_type": "stream",
     "text": [
      "Saved Games Final Updated: 477 rows\n",
      "Processing Game ID: 13092, total moves: 56\n",
      "Processing Move: 0\n",
      "Processing Move: 15\n",
      "Processing Move: 30\n",
      "Processing Move: 45\n"
     ]
    },
    {
     "name": "stderr",
     "output_type": "stream",
     "text": [
      "24/11/30 15:14:49 WARN DAGScheduler: Broadcasting large task binary with size 1054.7 KiB\n"
     ]
    },
    {
     "name": "stdout",
     "output_type": "stream",
     "text": [
      "Saved Games Final Updated: 478 rows\n"
     ]
    },
    {
     "name": "stderr",
     "output_type": "stream",
     "text": [
      "24/11/30 15:15:05 WARN DAGScheduler: Broadcasting large task binary with size 1073.4 KiB\n"
     ]
    },
    {
     "name": "stdout",
     "output_type": "stream",
     "text": [
      "Saved Games Final Updated: 479 rows\n",
      "Processing Game ID: 13161, total moves: 57\n",
      "Processing Move: 0\n",
      "Processing Move: 15\n",
      "Processing Move: 30\n",
      "Processing Move: 45\n"
     ]
    },
    {
     "name": "stderr",
     "output_type": "stream",
     "text": [
      "24/11/30 15:15:39 WARN DAGScheduler: Broadcasting large task binary with size 1073.4 KiB\n"
     ]
    },
    {
     "name": "stdout",
     "output_type": "stream",
     "text": [
      "Saved Games Final Updated: 480 rows\n"
     ]
    },
    {
     "name": "stderr",
     "output_type": "stream",
     "text": [
      "24/11/30 15:15:55 WARN DAGScheduler: Broadcasting large task binary with size 1092.1 KiB\n"
     ]
    },
    {
     "name": "stdout",
     "output_type": "stream",
     "text": [
      "Saved Games Final Updated: 481 rows\n",
      "Processing Game ID: 13322, total moves: 91\n",
      "Processing Move: 0\n",
      "Processing Move: 15\n",
      "Processing Move: 30\n",
      "Processing Move: 45\n",
      "Processing Move: 60\n",
      "Processing Move: 75\n"
     ]
    },
    {
     "name": "stderr",
     "output_type": "stream",
     "text": [
      "24/11/30 15:17:09 WARN DAGScheduler: Broadcasting large task binary with size 1673.0 KiB\n",
      "                                                                                \r"
     ]
    },
    {
     "name": "stdout",
     "output_type": "stream",
     "text": [
      "Saved Games Final Updated: 482 rows\n"
     ]
    },
    {
     "name": "stderr",
     "output_type": "stream",
     "text": [
      "24/11/30 15:17:48 WARN DAGScheduler: Broadcasting large task binary with size 1691.8 KiB\n",
      "                                                                                \r"
     ]
    },
    {
     "name": "stdout",
     "output_type": "stream",
     "text": [
      "Saved Games Final Updated: 483 rows\n"
     ]
    },
    {
     "name": "stderr",
     "output_type": "stream",
     "text": [
      "24/11/30 15:18:28 WARN DAGScheduler: Broadcasting large task binary with size 1710.5 KiB\n",
      "                                                                                \r"
     ]
    },
    {
     "name": "stdout",
     "output_type": "stream",
     "text": [
      "Saved Games Final Updated: 484 rows\n"
     ]
    },
    {
     "name": "stderr",
     "output_type": "stream",
     "text": [
      "24/11/30 15:19:11 WARN DAGScheduler: Broadcasting large task binary with size 1729.2 KiB\n"
     ]
    },
    {
     "name": "stdout",
     "output_type": "stream",
     "text": [
      "Saved Games Final Updated: 485 rows\n",
      "Processing Game ID: 13551, total moves: 120\n",
      "Processing Move: 0\n",
      "Processing Move: 15\n",
      "Processing Move: 30\n",
      "Processing Move: 45\n",
      "Processing Move: 60\n",
      "Processing Move: 75\n",
      "Processing Move: 90\n",
      "Processing Move: 105\n"
     ]
    },
    {
     "name": "stderr",
     "output_type": "stream",
     "text": [
      "24/11/30 15:21:10 WARN DAGScheduler: Broadcasting large task binary with size 2.1 MiB\n",
      "                                                                                \r"
     ]
    },
    {
     "name": "stdout",
     "output_type": "stream",
     "text": [
      "Saved Games Final Updated: 486 rows\n"
     ]
    },
    {
     "name": "stderr",
     "output_type": "stream",
     "text": [
      "24/11/30 15:22:21 WARN DAGScheduler: Broadcasting large task binary with size 2.1 MiB\n",
      "                                                                                \r"
     ]
    },
    {
     "name": "stdout",
     "output_type": "stream",
     "text": [
      "Saved Games Final Updated: 487 rows\n"
     ]
    },
    {
     "name": "stderr",
     "output_type": "stream",
     "text": [
      "24/11/30 15:23:30 WARN DAGScheduler: Broadcasting large task binary with size 2.2 MiB\n",
      "                                                                                \r"
     ]
    },
    {
     "name": "stdout",
     "output_type": "stream",
     "text": [
      "Saved Games Final Updated: 488 rows\n"
     ]
    },
    {
     "name": "stderr",
     "output_type": "stream",
     "text": [
      "24/11/30 15:24:39 WARN DAGScheduler: Broadcasting large task binary with size 2.2 MiB\n",
      "                                                                                \r"
     ]
    },
    {
     "name": "stdout",
     "output_type": "stream",
     "text": [
      "Saved Games Final Updated: 489 rows\n"
     ]
    },
    {
     "name": "stderr",
     "output_type": "stream",
     "text": [
      "24/11/30 15:25:51 WARN DAGScheduler: Broadcasting large task binary with size 2.2 MiB\n",
      "                                                                                \r"
     ]
    },
    {
     "name": "stdout",
     "output_type": "stream",
     "text": [
      "Saved Games Final Updated: 490 rows\n"
     ]
    },
    {
     "name": "stderr",
     "output_type": "stream",
     "text": [
      "24/11/30 15:27:05 WARN DAGScheduler: Broadcasting large task binary with size 2.2 MiB\n",
      "                                                                                \r"
     ]
    },
    {
     "name": "stdout",
     "output_type": "stream",
     "text": [
      "Saved Games Final Updated: 491 rows\n",
      "Processing Game ID: 13564, total moves: 96\n",
      "Processing Move: 0\n",
      "Processing Move: 15\n",
      "Processing Move: 30\n",
      "Processing Move: 45\n",
      "Processing Move: 60\n",
      "Processing Move: 75\n",
      "Processing Move: 90\n"
     ]
    },
    {
     "name": "stderr",
     "output_type": "stream",
     "text": [
      "24/11/30 15:28:26 WARN DAGScheduler: Broadcasting large task binary with size 1766.7 KiB\n",
      "                                                                                \r"
     ]
    },
    {
     "name": "stdout",
     "output_type": "stream",
     "text": [
      "Saved Games Final Updated: 492 rows\n"
     ]
    },
    {
     "name": "stderr",
     "output_type": "stream",
     "text": [
      "24/11/30 15:29:10 WARN DAGScheduler: Broadcasting large task binary with size 1785.4 KiB\n",
      "                                                                                \r"
     ]
    },
    {
     "name": "stdout",
     "output_type": "stream",
     "text": [
      "Saved Games Final Updated: 493 rows\n"
     ]
    },
    {
     "name": "stderr",
     "output_type": "stream",
     "text": [
      "24/11/30 15:29:56 WARN DAGScheduler: Broadcasting large task binary with size 1804.2 KiB\n",
      "                                                                                \r"
     ]
    },
    {
     "name": "stdout",
     "output_type": "stream",
     "text": [
      "Saved Games Final Updated: 494 rows\n"
     ]
    },
    {
     "name": "stderr",
     "output_type": "stream",
     "text": [
      "24/11/30 15:30:41 WARN DAGScheduler: Broadcasting large task binary with size 1822.9 KiB\n",
      "                                                                                \r"
     ]
    },
    {
     "name": "stdout",
     "output_type": "stream",
     "text": [
      "Saved Games Final Updated: 495 rows\n",
      "Processing Game ID: 13628, total moves: 77\n",
      "Processing Move: 0\n",
      "Processing Move: 15\n",
      "Processing Move: 30\n",
      "Processing Move: 45\n",
      "Processing Move: 60\n"
     ]
    },
    {
     "name": "stderr",
     "output_type": "stream",
     "text": [
      "24/11/30 15:31:36 WARN DAGScheduler: Broadcasting large task binary with size 1429.4 KiB\n",
      "                                                                                \r"
     ]
    },
    {
     "name": "stdout",
     "output_type": "stream",
     "text": [
      "Saved Games Final Updated: 496 rows\n"
     ]
    },
    {
     "name": "stderr",
     "output_type": "stream",
     "text": [
      "24/11/30 15:32:05 WARN DAGScheduler: Broadcasting large task binary with size 1448.2 KiB\n"
     ]
    },
    {
     "name": "stdout",
     "output_type": "stream",
     "text": [
      "Saved Games Final Updated: 497 rows\n",
      "Processing Move: 75\n"
     ]
    },
    {
     "name": "stderr",
     "output_type": "stream",
     "text": [
      "24/11/30 15:32:34 WARN DAGScheduler: Broadcasting large task binary with size 1466.9 KiB\n",
      "                                                                                \r"
     ]
    },
    {
     "name": "stdout",
     "output_type": "stream",
     "text": [
      "Saved Games Final Updated: 498 rows\n",
      "Processing Game ID: 13667, total moves: 47\n",
      "Processing Move: 0\n",
      "Processing Move: 15\n",
      "Processing Move: 30\n",
      "Saved Games Final Updated: 499 rows\n",
      "Processing Move: 45\n",
      "Saved Games Final Updated: 500 rows\n",
      "Processing Game ID: 13753, total moves: 66\n",
      "Processing Move: 0\n",
      "Processing Move: 15\n",
      "Processing Move: 30\n",
      "Processing Move: 45\n",
      "Processing Move: 60\n"
     ]
    },
    {
     "name": "stderr",
     "output_type": "stream",
     "text": [
      "24/11/30 15:33:52 WARN DAGScheduler: Broadcasting large task binary with size 1223.3 KiB\n"
     ]
    },
    {
     "name": "stdout",
     "output_type": "stream",
     "text": [
      "Saved Games Final Updated: 501 rows\n"
     ]
    },
    {
     "name": "stderr",
     "output_type": "stream",
     "text": [
      "24/11/30 15:34:13 WARN DAGScheduler: Broadcasting large task binary with size 1242.0 KiB\n"
     ]
    },
    {
     "name": "stdout",
     "output_type": "stream",
     "text": [
      "Saved Games Final Updated: 502 rows\n"
     ]
    },
    {
     "name": "stderr",
     "output_type": "stream",
     "text": [
      "24/11/30 15:34:36 WARN DAGScheduler: Broadcasting large task binary with size 1260.8 KiB\n"
     ]
    },
    {
     "name": "stdout",
     "output_type": "stream",
     "text": [
      "Saved Games Final Updated: 503 rows\n",
      "Processing Game ID: 13798, total moves: 99\n",
      "Processing Move: 0\n",
      "Processing Move: 15\n",
      "Processing Move: 30\n",
      "Processing Move: 45\n",
      "Processing Move: 60\n",
      "Processing Move: 75\n",
      "Processing Move: 90\n"
     ]
    },
    {
     "name": "stderr",
     "output_type": "stream",
     "text": [
      "24/11/30 15:36:03 WARN DAGScheduler: Broadcasting large task binary with size 1822.9 KiB\n",
      "                                                                                \r"
     ]
    },
    {
     "name": "stdout",
     "output_type": "stream",
     "text": [
      "Saved Games Final Updated: 504 rows\n"
     ]
    },
    {
     "name": "stderr",
     "output_type": "stream",
     "text": [
      "24/11/30 15:36:50 WARN DAGScheduler: Broadcasting large task binary with size 1841.7 KiB\n",
      "                                                                                \r"
     ]
    },
    {
     "name": "stdout",
     "output_type": "stream",
     "text": [
      "Saved Games Final Updated: 505 rows\n"
     ]
    },
    {
     "name": "stderr",
     "output_type": "stream",
     "text": [
      "24/11/30 15:37:38 WARN DAGScheduler: Broadcasting large task binary with size 1860.4 KiB\n",
      "                                                                                \r"
     ]
    },
    {
     "name": "stdout",
     "output_type": "stream",
     "text": [
      "Saved Games Final Updated: 506 rows\n"
     ]
    },
    {
     "name": "stderr",
     "output_type": "stream",
     "text": [
      "24/11/30 15:38:27 WARN DAGScheduler: Broadcasting large task binary with size 1879.1 KiB\n",
      "                                                                                \r"
     ]
    },
    {
     "name": "stdout",
     "output_type": "stream",
     "text": [
      "Saved Games Final Updated: 507 rows\n",
      "Processing Game ID: 13874, total moves: 88\n",
      "Processing Move: 0\n",
      "Processing Move: 15\n",
      "Processing Move: 30\n",
      "Processing Move: 45\n",
      "Processing Move: 60\n",
      "Processing Move: 75\n"
     ]
    },
    {
     "name": "stderr",
     "output_type": "stream",
     "text": [
      "24/11/30 15:39:37 WARN DAGScheduler: Broadcasting large task binary with size 1616.8 KiB\n"
     ]
    },
    {
     "name": "stdout",
     "output_type": "stream",
     "text": [
      "Saved Games Final Updated: 508 rows\n"
     ]
    },
    {
     "name": "stderr",
     "output_type": "stream",
     "text": [
      "24/11/30 15:40:14 WARN DAGScheduler: Broadcasting large task binary with size 1635.5 KiB\n",
      "                                                                                \r"
     ]
    },
    {
     "name": "stdout",
     "output_type": "stream",
     "text": [
      "Saved Games Final Updated: 509 rows\n"
     ]
    },
    {
     "name": "stderr",
     "output_type": "stream",
     "text": [
      "24/11/30 15:40:51 WARN DAGScheduler: Broadcasting large task binary with size 1654.3 KiB\n",
      "                                                                                \r"
     ]
    },
    {
     "name": "stdout",
     "output_type": "stream",
     "text": [
      "Saved Games Final Updated: 510 rows\n"
     ]
    },
    {
     "name": "stderr",
     "output_type": "stream",
     "text": [
      "24/11/30 15:41:30 WARN DAGScheduler: Broadcasting large task binary with size 1673.0 KiB\n"
     ]
    },
    {
     "name": "stdout",
     "output_type": "stream",
     "text": [
      "Saved Games Final Updated: 511 rows\n",
      "Processing Game ID: 14072, total moves: 111\n",
      "Processing Move: 0\n",
      "Processing Move: 15\n",
      "Processing Move: 30\n",
      "Processing Move: 45\n",
      "Processing Move: 60\n",
      "Processing Move: 75\n",
      "Processing Move: 90\n",
      "Processing Move: 105\n"
     ]
    },
    {
     "name": "stderr",
     "output_type": "stream",
     "text": [
      "24/11/30 15:43:15 WARN DAGScheduler: Broadcasting large task binary with size 2029.0 KiB\n",
      "                                                                                \r"
     ]
    },
    {
     "name": "stdout",
     "output_type": "stream",
     "text": [
      "Saved Games Final Updated: 512 rows\n"
     ]
    },
    {
     "name": "stderr",
     "output_type": "stream",
     "text": [
      "24/11/30 15:44:12 WARN DAGScheduler: Broadcasting large task binary with size 2047.8 KiB\n",
      "                                                                                \r"
     ]
    },
    {
     "name": "stdout",
     "output_type": "stream",
     "text": [
      "Saved Games Final Updated: 513 rows\n"
     ]
    },
    {
     "name": "stderr",
     "output_type": "stream",
     "text": [
      "24/11/30 15:45:11 WARN DAGScheduler: Broadcasting large task binary with size 2.0 MiB\n",
      "                                                                                \r"
     ]
    },
    {
     "name": "stdout",
     "output_type": "stream",
     "text": [
      "Saved Games Final Updated: 514 rows\n"
     ]
    },
    {
     "name": "stderr",
     "output_type": "stream",
     "text": [
      "24/11/30 15:46:10 WARN DAGScheduler: Broadcasting large task binary with size 2.0 MiB\n",
      "                                                                                \r"
     ]
    },
    {
     "name": "stdout",
     "output_type": "stream",
     "text": [
      "Saved Games Final Updated: 515 rows\n"
     ]
    },
    {
     "name": "stderr",
     "output_type": "stream",
     "text": [
      "24/11/30 15:47:12 WARN DAGScheduler: Broadcasting large task binary with size 2.1 MiB\n",
      "                                                                                \r"
     ]
    },
    {
     "name": "stdout",
     "output_type": "stream",
     "text": [
      "Saved Games Final Updated: 516 rows\n",
      "Processing Game ID: 14106, total moves: 69\n",
      "Processing Move: 0\n",
      "Processing Move: 15\n",
      "Processing Move: 30\n",
      "Processing Move: 45\n",
      "Processing Move: 60\n"
     ]
    },
    {
     "name": "stderr",
     "output_type": "stream",
     "text": [
      "24/11/30 15:47:58 WARN DAGScheduler: Broadcasting large task binary with size 1279.5 KiB\n"
     ]
    },
    {
     "name": "stdout",
     "output_type": "stream",
     "text": [
      "Saved Games Final Updated: 517 rows\n"
     ]
    },
    {
     "name": "stderr",
     "output_type": "stream",
     "text": [
      "24/11/30 15:48:21 WARN DAGScheduler: Broadcasting large task binary with size 1298.3 KiB\n"
     ]
    },
    {
     "name": "stdout",
     "output_type": "stream",
     "text": [
      "Saved Games Final Updated: 518 rows\n"
     ]
    },
    {
     "name": "stderr",
     "output_type": "stream",
     "text": [
      "24/11/30 15:48:44 WARN DAGScheduler: Broadcasting large task binary with size 1317.0 KiB\n"
     ]
    },
    {
     "name": "stdout",
     "output_type": "stream",
     "text": [
      "Saved Games Final Updated: 519 rows\n",
      "Processing Game ID: 14129, total moves: 140\n",
      "Processing Move: 0\n",
      "Processing Move: 15\n",
      "Processing Move: 30\n",
      "Processing Move: 45\n",
      "Processing Move: 60\n",
      "Processing Move: 75\n",
      "Processing Move: 90\n",
      "Processing Move: 105\n",
      "Processing Move: 120\n"
     ]
    },
    {
     "name": "stderr",
     "output_type": "stream",
     "text": [
      "24/11/30 15:51:25 WARN DAGScheduler: Broadcasting large task binary with size 2.5 MiB\n",
      "                                                                                \r"
     ]
    },
    {
     "name": "stdout",
     "output_type": "stream",
     "text": [
      "Saved Games Final Updated: 520 rows\n"
     ]
    },
    {
     "name": "stderr",
     "output_type": "stream",
     "text": [
      "24/11/30 15:53:01 WARN DAGScheduler: Broadcasting large task binary with size 2.5 MiB\n",
      "                                                                                \r"
     ]
    },
    {
     "name": "stdout",
     "output_type": "stream",
     "text": [
      "Saved Games Final Updated: 521 rows\n"
     ]
    },
    {
     "name": "stderr",
     "output_type": "stream",
     "text": [
      "24/11/30 15:54:35 WARN DAGScheduler: Broadcasting large task binary with size 2.5 MiB\n",
      "                                                                                \r"
     ]
    },
    {
     "name": "stdout",
     "output_type": "stream",
     "text": [
      "Saved Games Final Updated: 522 rows\n",
      "Processing Move: 135\n"
     ]
    },
    {
     "name": "stderr",
     "output_type": "stream",
     "text": [
      "24/11/30 15:56:12 WARN DAGScheduler: Broadcasting large task binary with size 2.5 MiB\n",
      "                                                                                \r"
     ]
    },
    {
     "name": "stdout",
     "output_type": "stream",
     "text": [
      "Saved Games Final Updated: 523 rows\n"
     ]
    },
    {
     "name": "stderr",
     "output_type": "stream",
     "text": [
      "24/11/30 15:57:52 WARN DAGScheduler: Broadcasting large task binary with size 2.5 MiB\n",
      "                                                                                \r"
     ]
    },
    {
     "name": "stdout",
     "output_type": "stream",
     "text": [
      "Saved Games Final Updated: 524 rows\n"
     ]
    },
    {
     "name": "stderr",
     "output_type": "stream",
     "text": [
      "24/11/30 15:59:29 WARN DAGScheduler: Broadcasting large task binary with size 2.6 MiB\n",
      "                                                                                \r"
     ]
    },
    {
     "name": "stdout",
     "output_type": "stream",
     "text": [
      "Saved Games Final Updated: 525 rows\n"
     ]
    },
    {
     "name": "stderr",
     "output_type": "stream",
     "text": [
      "24/11/30 16:01:08 WARN DAGScheduler: Broadcasting large task binary with size 2.6 MiB\n",
      "                                                                                \r"
     ]
    },
    {
     "name": "stdout",
     "output_type": "stream",
     "text": [
      "Saved Games Final Updated: 526 rows\n",
      "Processing Game ID: 14194, total moves: 120\n",
      "Processing Move: 0\n",
      "Processing Move: 15\n",
      "Processing Move: 30\n",
      "Processing Move: 45\n",
      "Processing Move: 60\n",
      "Processing Move: 75\n",
      "Processing Move: 90\n",
      "Processing Move: 105\n"
     ]
    },
    {
     "name": "stderr",
     "output_type": "stream",
     "text": [
      "24/11/30 16:03:13 WARN DAGScheduler: Broadcasting large task binary with size 2.1 MiB\n",
      "                                                                                \r"
     ]
    },
    {
     "name": "stdout",
     "output_type": "stream",
     "text": [
      "Saved Games Final Updated: 527 rows\n"
     ]
    },
    {
     "name": "stderr",
     "output_type": "stream",
     "text": [
      "24/11/30 16:04:22 WARN DAGScheduler: Broadcasting large task binary with size 2.1 MiB\n",
      "                                                                                \r"
     ]
    },
    {
     "name": "stdout",
     "output_type": "stream",
     "text": [
      "Saved Games Final Updated: 528 rows\n"
     ]
    },
    {
     "name": "stderr",
     "output_type": "stream",
     "text": [
      "24/11/30 16:05:31 WARN DAGScheduler: Broadcasting large task binary with size 2.2 MiB\n",
      "                                                                                \r"
     ]
    },
    {
     "name": "stdout",
     "output_type": "stream",
     "text": [
      "Saved Games Final Updated: 529 rows\n"
     ]
    },
    {
     "name": "stderr",
     "output_type": "stream",
     "text": [
      "24/11/30 16:06:41 WARN DAGScheduler: Broadcasting large task binary with size 2.2 MiB\n",
      "                                                                                \r"
     ]
    },
    {
     "name": "stdout",
     "output_type": "stream",
     "text": [
      "Saved Games Final Updated: 530 rows\n"
     ]
    },
    {
     "name": "stderr",
     "output_type": "stream",
     "text": [
      "24/11/30 16:07:51 WARN DAGScheduler: Broadcasting large task binary with size 2.2 MiB\n",
      "                                                                                \r"
     ]
    },
    {
     "name": "stdout",
     "output_type": "stream",
     "text": [
      "Saved Games Final Updated: 531 rows\n"
     ]
    },
    {
     "name": "stderr",
     "output_type": "stream",
     "text": [
      "24/11/30 16:09:02 WARN DAGScheduler: Broadcasting large task binary with size 2.2 MiB\n",
      "                                                                                \r"
     ]
    },
    {
     "name": "stdout",
     "output_type": "stream",
     "text": [
      "Saved Games Final Updated: 532 rows\n",
      "Processing Game ID: 14271, total moves: 86\n",
      "Processing Move: 0\n",
      "Processing Move: 15\n",
      "Processing Move: 30\n",
      "Processing Move: 45\n",
      "Processing Move: 60\n",
      "Processing Move: 75\n"
     ]
    },
    {
     "name": "stderr",
     "output_type": "stream",
     "text": [
      "24/11/30 16:10:08 WARN DAGScheduler: Broadcasting large task binary with size 1579.3 KiB\n",
      "                                                                                \r"
     ]
    },
    {
     "name": "stdout",
     "output_type": "stream",
     "text": [
      "Saved Games Final Updated: 533 rows\n"
     ]
    },
    {
     "name": "stderr",
     "output_type": "stream",
     "text": [
      "24/11/30 16:10:43 WARN DAGScheduler: Broadcasting large task binary with size 1598.1 KiB\n",
      "                                                                                \r"
     ]
    },
    {
     "name": "stdout",
     "output_type": "stream",
     "text": [
      "Saved Games Final Updated: 534 rows\n"
     ]
    },
    {
     "name": "stderr",
     "output_type": "stream",
     "text": [
      "24/11/30 16:11:18 WARN DAGScheduler: Broadcasting large task binary with size 1616.8 KiB\n",
      "                                                                                \r"
     ]
    },
    {
     "name": "stdout",
     "output_type": "stream",
     "text": [
      "Saved Games Final Updated: 535 rows\n"
     ]
    },
    {
     "name": "stderr",
     "output_type": "stream",
     "text": [
      "24/11/30 16:11:54 WARN DAGScheduler: Broadcasting large task binary with size 1635.5 KiB\n",
      "                                                                                \r"
     ]
    },
    {
     "name": "stdout",
     "output_type": "stream",
     "text": [
      "Saved Games Final Updated: 536 rows\n",
      "Processing Game ID: 14447, total moves: 23\n",
      "Processing Move: 0\n",
      "Processing Move: 15\n",
      "Saved Games Final Updated: 537 rows\n",
      "Processing Game ID: 14512, total moves: 77\n",
      "Processing Move: 0\n",
      "Processing Move: 15\n",
      "Processing Move: 30\n",
      "Processing Move: 45\n",
      "Processing Move: 60\n"
     ]
    },
    {
     "name": "stderr",
     "output_type": "stream",
     "text": [
      "24/11/30 16:12:58 WARN DAGScheduler: Broadcasting large task binary with size 1429.4 KiB\n"
     ]
    },
    {
     "name": "stdout",
     "output_type": "stream",
     "text": [
      "Saved Games Final Updated: 538 rows\n"
     ]
    },
    {
     "name": "stderr",
     "output_type": "stream",
     "text": [
      "24/11/30 16:13:27 WARN DAGScheduler: Broadcasting large task binary with size 1448.2 KiB\n",
      "                                                                                \r"
     ]
    },
    {
     "name": "stdout",
     "output_type": "stream",
     "text": [
      "Saved Games Final Updated: 539 rows\n",
      "Processing Move: 75\n"
     ]
    },
    {
     "name": "stderr",
     "output_type": "stream",
     "text": [
      "24/11/30 16:13:56 WARN DAGScheduler: Broadcasting large task binary with size 1466.9 KiB\n"
     ]
    },
    {
     "name": "stdout",
     "output_type": "stream",
     "text": [
      "Saved Games Final Updated: 540 rows\n",
      "Processing Game ID: 14528, total moves: 48\n",
      "Processing Move: 0\n",
      "Processing Move: 15\n",
      "Processing Move: 30\n",
      "Processing Move: 45\n",
      "Saved Games Final Updated: 541 rows\n",
      "Saved Games Final Updated: 542 rows\n",
      "Processing Game ID: 14597, total moves: 68\n",
      "Processing Move: 0\n",
      "Processing Move: 15\n",
      "Processing Move: 30\n",
      "Processing Move: 45\n",
      "Processing Move: 60\n"
     ]
    },
    {
     "name": "stderr",
     "output_type": "stream",
     "text": [
      "24/11/30 16:15:17 WARN DAGScheduler: Broadcasting large task binary with size 1260.8 KiB\n"
     ]
    },
    {
     "name": "stdout",
     "output_type": "stream",
     "text": [
      "Saved Games Final Updated: 543 rows\n"
     ]
    },
    {
     "name": "stderr",
     "output_type": "stream",
     "text": [
      "24/11/30 16:15:39 WARN DAGScheduler: Broadcasting large task binary with size 1279.5 KiB\n"
     ]
    },
    {
     "name": "stdout",
     "output_type": "stream",
     "text": [
      "Saved Games Final Updated: 544 rows\n"
     ]
    },
    {
     "name": "stderr",
     "output_type": "stream",
     "text": [
      "24/11/30 16:16:02 WARN DAGScheduler: Broadcasting large task binary with size 1298.3 KiB\n"
     ]
    },
    {
     "name": "stdout",
     "output_type": "stream",
     "text": [
      "Saved Games Final Updated: 545 rows\n",
      "Processing Game ID: 14611, total moves: 83\n",
      "Processing Move: 0\n",
      "Processing Move: 15\n",
      "Processing Move: 30\n",
      "Processing Move: 45\n",
      "Processing Move: 60\n",
      "Processing Move: 75\n"
     ]
    },
    {
     "name": "stderr",
     "output_type": "stream",
     "text": [
      "24/11/30 16:17:04 WARN DAGScheduler: Broadcasting large task binary with size 1523.1 KiB\n",
      "                                                                                \r"
     ]
    },
    {
     "name": "stdout",
     "output_type": "stream",
     "text": [
      "Saved Games Final Updated: 546 rows\n"
     ]
    },
    {
     "name": "stderr",
     "output_type": "stream",
     "text": [
      "24/11/30 16:17:36 WARN DAGScheduler: Broadcasting large task binary with size 1541.8 KiB\n"
     ]
    },
    {
     "name": "stdout",
     "output_type": "stream",
     "text": [
      "Saved Games Final Updated: 547 rows\n"
     ]
    },
    {
     "name": "stderr",
     "output_type": "stream",
     "text": [
      "24/11/30 16:18:09 WARN DAGScheduler: Broadcasting large task binary with size 1560.6 KiB\n"
     ]
    },
    {
     "name": "stdout",
     "output_type": "stream",
     "text": [
      "Saved Games Final Updated: 548 rows\n"
     ]
    },
    {
     "name": "stderr",
     "output_type": "stream",
     "text": [
      "24/11/30 16:18:43 WARN DAGScheduler: Broadcasting large task binary with size 1579.3 KiB\n"
     ]
    },
    {
     "name": "stdout",
     "output_type": "stream",
     "text": [
      "Saved Games Final Updated: 549 rows\n",
      "Processing Game ID: 14719, total moves: 85\n",
      "Processing Move: 0\n",
      "Processing Move: 15\n",
      "Processing Move: 30\n",
      "Processing Move: 45\n",
      "Processing Move: 60\n",
      "Processing Move: 75\n"
     ]
    },
    {
     "name": "stderr",
     "output_type": "stream",
     "text": [
      "24/11/30 16:19:49 WARN DAGScheduler: Broadcasting large task binary with size 1560.6 KiB\n"
     ]
    },
    {
     "name": "stdout",
     "output_type": "stream",
     "text": [
      "Saved Games Final Updated: 550 rows\n"
     ]
    },
    {
     "name": "stderr",
     "output_type": "stream",
     "text": [
      "24/11/30 16:20:23 WARN DAGScheduler: Broadcasting large task binary with size 1579.3 KiB\n",
      "                                                                                \r"
     ]
    },
    {
     "name": "stdout",
     "output_type": "stream",
     "text": [
      "Saved Games Final Updated: 551 rows\n"
     ]
    },
    {
     "name": "stderr",
     "output_type": "stream",
     "text": [
      "24/11/30 16:20:57 WARN DAGScheduler: Broadcasting large task binary with size 1598.1 KiB\n",
      "                                                                                \r"
     ]
    },
    {
     "name": "stdout",
     "output_type": "stream",
     "text": [
      "Saved Games Final Updated: 552 rows\n"
     ]
    },
    {
     "name": "stderr",
     "output_type": "stream",
     "text": [
      "24/11/30 16:21:33 WARN DAGScheduler: Broadcasting large task binary with size 1616.8 KiB\n",
      "                                                                                \r"
     ]
    },
    {
     "name": "stdout",
     "output_type": "stream",
     "text": [
      "Saved Games Final Updated: 553 rows\n",
      "Processing Game ID: 14736, total moves: 76\n",
      "Processing Move: 0\n",
      "Processing Move: 15\n",
      "Processing Move: 30\n",
      "Processing Move: 45\n",
      "Processing Move: 60\n"
     ]
    },
    {
     "name": "stderr",
     "output_type": "stream",
     "text": [
      "24/11/30 16:22:26 WARN DAGScheduler: Broadcasting large task binary with size 1410.7 KiB\n"
     ]
    },
    {
     "name": "stdout",
     "output_type": "stream",
     "text": [
      "Saved Games Final Updated: 554 rows\n"
     ]
    },
    {
     "name": "stderr",
     "output_type": "stream",
     "text": [
      "24/11/30 16:22:54 WARN DAGScheduler: Broadcasting large task binary with size 1429.4 KiB\n"
     ]
    },
    {
     "name": "stdout",
     "output_type": "stream",
     "text": [
      "Saved Games Final Updated: 555 rows\n"
     ]
    },
    {
     "name": "stderr",
     "output_type": "stream",
     "text": [
      "24/11/30 16:23:22 WARN DAGScheduler: Broadcasting large task binary with size 1448.2 KiB\n"
     ]
    },
    {
     "name": "stdout",
     "output_type": "stream",
     "text": [
      "Saved Games Final Updated: 556 rows\n",
      "Processing Game ID: 14836, total moves: 69\n",
      "Processing Move: 0\n",
      "Processing Move: 15\n",
      "Processing Move: 30\n",
      "Processing Move: 45\n",
      "Processing Move: 60\n"
     ]
    },
    {
     "name": "stderr",
     "output_type": "stream",
     "text": [
      "24/11/30 16:24:07 WARN DAGScheduler: Broadcasting large task binary with size 1279.5 KiB\n"
     ]
    },
    {
     "name": "stdout",
     "output_type": "stream",
     "text": [
      "Saved Games Final Updated: 557 rows\n"
     ]
    },
    {
     "name": "stderr",
     "output_type": "stream",
     "text": [
      "24/11/30 16:24:29 WARN DAGScheduler: Broadcasting large task binary with size 1298.3 KiB\n"
     ]
    },
    {
     "name": "stdout",
     "output_type": "stream",
     "text": [
      "Saved Games Final Updated: 558 rows\n"
     ]
    },
    {
     "name": "stderr",
     "output_type": "stream",
     "text": [
      "24/11/30 16:24:52 WARN DAGScheduler: Broadcasting large task binary with size 1317.0 KiB\n"
     ]
    },
    {
     "name": "stdout",
     "output_type": "stream",
     "text": [
      "Saved Games Final Updated: 559 rows\n",
      "Processing Game ID: 14848, total moves: 68\n",
      "Processing Move: 0\n",
      "Processing Move: 15\n",
      "Processing Move: 30\n",
      "Processing Move: 45\n",
      "Processing Move: 60\n"
     ]
    },
    {
     "name": "stderr",
     "output_type": "stream",
     "text": [
      "24/11/30 16:25:37 WARN DAGScheduler: Broadcasting large task binary with size 1260.8 KiB\n"
     ]
    },
    {
     "name": "stdout",
     "output_type": "stream",
     "text": [
      "Saved Games Final Updated: 560 rows\n"
     ]
    },
    {
     "name": "stderr",
     "output_type": "stream",
     "text": [
      "24/11/30 16:25:59 WARN DAGScheduler: Broadcasting large task binary with size 1279.5 KiB\n"
     ]
    },
    {
     "name": "stdout",
     "output_type": "stream",
     "text": [
      "Saved Games Final Updated: 561 rows\n"
     ]
    },
    {
     "name": "stderr",
     "output_type": "stream",
     "text": [
      "24/11/30 16:26:22 WARN DAGScheduler: Broadcasting large task binary with size 1298.3 KiB\n"
     ]
    },
    {
     "name": "stdout",
     "output_type": "stream",
     "text": [
      "Saved Games Final Updated: 562 rows\n",
      "Processing Game ID: 14928, total moves: 148\n",
      "Processing Move: 0\n",
      "Processing Move: 15\n",
      "Processing Move: 30\n",
      "Processing Move: 45\n",
      "Processing Move: 60\n",
      "Processing Move: 75\n",
      "Processing Move: 90\n",
      "Processing Move: 105\n",
      "Processing Move: 120\n",
      "Processing Move: 135\n"
     ]
    }
   ],
   "source": [
    "output_file = '/home/zrc3hc/Chess/1. Preprocessing/saved_games_final19.csv'\n",
    "\n",
    "# Blank canvas for each game\n",
    "df = pd.DataFrame([initial_positions])\n",
    "\n",
    "df = spark.createDataFrame(df, schema=schema)\n",
    "\n",
    "saved_games = spark.createDataFrame([], schema = schema3)\n",
    "\n",
    "#game_ids = [row[\"game_id\"] for row in combined_games_df.select(\"game_id\").distinct().collect()]\n",
    "\n",
    "saved_games_final = pd.DataFrame()\n",
    "\n",
    "\n",
    "# initializing the board\n",
    "\n",
    "piece_to_value = {\n",
    "    \"White_Rook_1\": 5, \"White_Rook_2\": 5,\n",
    "    \"White_Knight_1\": 3, \"White_Knight_2\": 3,\n",
    "    \"White_Bishop_1\": 3, \"White_Bishop_2\": 3,\n",
    "    \"White_Queen_1\": 9,\n",
    "    \"White_King_1\": 10, \n",
    "    \"White_Pawn_1\": 1, \"White_Pawn_2\": 1, \"White_Pawn_3\": 1, \"White_Pawn_4\": 1,\n",
    "    \"White_Pawn_5\": 1, \"White_Pawn_6\": 1, \"White_Pawn_7\": 1, \"White_Pawn_8\": 1,\n",
    "    \"Black_Rook_1\": -5, \"Black_Rook_2\": -5,\n",
    "    \"Black_Knight_1\": -3, \"Black_Knight_2\": -3,\n",
    "    \"Black_Bishop_1\": -3, \"Black_Bishop_2\": -3,\n",
    "    \"Black_Queen_1\": -9,\n",
    "    \"Black_King_1\": -10, \n",
    "    \"Black_Pawn_1\": -1, \"Black_Pawn_2\": -1, \"Black_Pawn_3\": -1, \"Black_Pawn_4\": -1,\n",
    "    \"Black_Pawn_5\": -1, \"Black_Pawn_6\": -1, \"Black_Pawn_7\": -1, \"Black_Pawn_8\": -1\n",
    "}\n",
    "\n",
    "chess_squares = [\n",
    "    \"a1\", \"b1\", \"c1\", \"d1\", \"e1\", \"f1\", \"g1\", \"h1\",\n",
    "    \"a2\", \"b2\", \"c2\", \"d2\", \"e2\", \"f2\", \"g2\", \"h2\",\n",
    "    \"a3\", \"b3\", \"c3\", \"d3\", \"e3\", \"f3\", \"g3\", \"h3\",\n",
    "    \"a4\", \"b4\", \"c4\", \"d4\", \"e4\", \"f4\", \"g4\", \"h4\",\n",
    "    \"a5\", \"b5\", \"c5\", \"d5\", \"e5\", \"f5\", \"g5\", \"h5\",\n",
    "    \"a6\", \"b6\", \"c6\", \"d6\", \"e6\", \"f6\", \"g6\", \"h6\",\n",
    "    \"a7\", \"b7\", \"c7\", \"d7\", \"e7\", \"f7\", \"g7\", \"h7\",\n",
    "    \"a8\", \"b8\", \"c8\", \"d8\", \"e8\", \"f8\", \"g8\", \"h8\"\n",
    "]\n",
    "\n",
    "\n",
    " \n",
    "saved_games = df_combined = spark.createDataFrame([], schema1)\n",
    "\n",
    "for game_id in game_ids:\n",
    "    \n",
    "    current_game_info = combined_games_df.filter(combined_games_df.game_id == game_id)\n",
    "    \n",
    "    # Step 1. First, calculate which rows we will be saving (only the last 10 percent of each game...)\n",
    "\n",
    "    next_moves = [row[\"next_move\"] for row in current_game_info.select(\"next_move\").collect()]\n",
    "\n",
    "    total_moves = current_game_info.count()\n",
    "\n",
    "    number_of_moves = int(total_moves * .05)\n",
    "\n",
    "    moves_captured_range = range(total_moves - number_of_moves, total_moves)\n",
    "    \n",
    "    print(f\"Processing Game ID: {game_id}, total moves: {total_moves}\")\n",
    "\n",
    "    # Step 2. Denote the previous row\n",
    "\n",
    "    current_game = df.join(current_game_info, on=\"Move\", how=\"left\")\n",
    "\n",
    "    # removing duplicate columns\n",
    "\n",
    "    current_game = current_game.select(*(col for col in current_game.columns if current_game.columns.count(col) == 1))\n",
    "          \n",
    "    # Reset move count for each game \n",
    "    move_count = 0\n",
    "\n",
    "    previous_row = current_game.filter(col(\"Move\") == move_count)\n",
    "\n",
    "    next_moves = [row[\"next_move\"] for row in current_game_info.select(\"next_move\").collect()]\n",
    "\n",
    "    row_list = []\n",
    "    \n",
    "    for move in range(0, total_moves - 1): \n",
    "        \n",
    "        if move % 15 == 0:\n",
    "\n",
    "            print(f\"Processing Move: {move}\")\n",
    "\n",
    "        # Step 2: Duplicate the previous row\n",
    "\n",
    "        new_row = previous_row.withColumn(\"Move\", col(\"Move\") + 1)\n",
    "\n",
    "        # Step 3: Split 'next_move' into 'from_square' and 'to_square'\n",
    "\n",
    "        new_row = new_row.withColumn(\"from_square\", substring(col(\"next_move\"), 1, 2)) \\\n",
    "                         .withColumn(\"to_square\", substring(col(\"next_move\"), 3, 2))\n",
    "\n",
    "        # Step 4a: Update the piece positions based on 'to_square'\n",
    "        columns_to_check = [c for c in current_game.columns if c not in [\"Move\", \"next_move\", \"from_square\", \"to_square\", \"game_id\", \"result\"]]\n",
    "        new_row = new_row.select(\n",
    "            *[\n",
    "                when(col(\"to_square\") == col(column), \"0\").otherwise(col(column)).alias(column)\n",
    "                if column in columns_to_check else col(column)\n",
    "                for column in new_row.columns\n",
    "            ]\n",
    "        )\n",
    "\n",
    "        # Step 4b: Update the piece positions based on 'from_square'\n",
    "        new_row = new_row.select(\n",
    "            *[\n",
    "                when(col(column) == col(\"from_square\"), col(\"to_square\")).otherwise(col(column)).alias(column)\n",
    "                if column in columns_to_check else col(column)\n",
    "                for column in new_row.columns\n",
    "            ]\n",
    "        )\n",
    "\n",
    "        # Step 5: Update the 'Next Move'\n",
    "        move_count += 1\n",
    "        new_row = new_row.withColumn(\"Move\", lit(move_count)).drop(\"from_square\", \"to_square\")\n",
    "        if move + 1 < len(next_moves):\n",
    "            new_row = new_row.withColumn(\"next_move\", lit(next_moves[move + 1]))\n",
    "        else:\n",
    "            new_row = new_row.withColumn(\"next_move\", lit(None))\n",
    "            print(\"Ran out of moves\")\n",
    "            print(move)\n",
    "\n",
    "        previous_row = new_row\n",
    "\n",
    "        if move_count in moves_captured_range:\n",
    "            pandas_df = new_row.toPandas()\n",
    "\n",
    "            for square in chess_squares:\n",
    "                pandas_df[square] = 0\n",
    "\n",
    "            # Update chess squares based on piece positions\n",
    "            for piece, value in piece_to_value.items():\n",
    "                pandas_df = pandas_df.apply(\n",
    "                    lambda row: update_squares(row, piece, value, chess_squares),\n",
    "                    axis=1\n",
    "            )\n",
    "\n",
    "            pandas_df = pandas_df.drop(columns=list(piece_to_value.keys()))\n",
    "\n",
    "            saved_games_final = pd.concat([saved_games_final, pandas_df], ignore_index=True)\n",
    "            print(f\"Saved Games Final Updated: {saved_games_final.shape[0]} rows\")\n",
    "            \n",
    "            # Save intermediate results\n",
    "            \n",
    "            saved_games_final.to_csv(output_file, index = False)\n",
    "\n",
    "print(\"Final DataFrame:\")\n",
    "print(saved_games_final)\n",
    "\n",
    "\n",
    "\n"
   ]
  },
  {
   "cell_type": "code",
   "execution_count": 54,
   "id": "101a993d-bee3-421e-814c-e411fa7c9de7",
   "metadata": {
    "tags": []
   },
   "outputs": [],
   "source": [
    "output_path = '/home/zrc3hc/Chess/1. Preprocessing/saved_games_final1.csv'\n",
    "\n",
    "saved_games_final.to_csv(output_path, index=False)\n"
   ]
  }
 ],
 "metadata": {
  "kernelspec": {
   "display_name": "Python 3 (ipykernel)",
   "language": "python",
   "name": "python3"
  },
  "language_info": {
   "codemirror_mode": {
    "name": "ipython",
    "version": 3
   },
   "file_extension": ".py",
   "mimetype": "text/x-python",
   "name": "python",
   "nbconvert_exporter": "python",
   "pygments_lexer": "ipython3",
   "version": "3.11.5"
  }
 },
 "nbformat": 4,
 "nbformat_minor": 5
}
