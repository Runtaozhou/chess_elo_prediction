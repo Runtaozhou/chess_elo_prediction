{
 "cells": [
  {
   "cell_type": "markdown",
   "id": "cf4b93f3-41cc-4e81-b706-80e01531b9aa",
   "metadata": {
    "tags": []
   },
   "source": [
    "# Combining all the dataframes together\n",
    "\n",
    "from pyspark.sql import SparkSession\n",
    "from pyspark.sql.functions import when\n",
    "\n",
    "\n",
    "spark = SparkSession.builder \\\n",
    "    .appName(\"CombineSavedGames\") \\\n",
    "    .config(\"spark.executor.memory\", \"16g\") \\\n",
    "    .config(\"spark.driver.memory\", \"16g\") \\\n",
    "    .getOrCreate()"
   ]
  },
  {
   "cell_type": "code",
   "execution_count": 2,
   "id": "c8dbb06a-db65-4e0d-9743-78323b38c7f0",
   "metadata": {
    "tags": []
   },
   "outputs": [],
   "source": [
    "input_path = '/home/zrc3hc/Chess/1. Preprocessing/saved_games_final*.csv'\n",
    "combined_df = spark.read.csv(input_path, header=True, inferSchema=True)\n"
   ]
  },
  {
   "cell_type": "code",
   "execution_count": 3,
   "id": "046f52b4-0052-4f47-b804-95c32911a2ba",
   "metadata": {
    "tags": []
   },
   "outputs": [
    {
     "data": {
      "text/plain": [
       "10018"
      ]
     },
     "execution_count": 3,
     "metadata": {},
     "output_type": "execute_result"
    }
   ],
   "source": [
    "combined_df = combined_df.withColumn(\"result\", when(combined_df[\"result\"] == \"1-0\", 1).otherwise(0))\n",
    "combined_df.count()\n"
   ]
  },
  {
   "cell_type": "code",
   "execution_count": 4,
   "id": "ccee9a1b-30b8-4ebc-b0a7-a55d7934bc17",
   "metadata": {},
   "outputs": [
    {
     "name": "stderr",
     "output_type": "stream",
     "text": [
      "24/12/01 08:49:18 WARN package: Truncated the string representation of a plan since it was too large. This behavior can be adjusted by setting 'spark.sql.debug.maxToStringFields'.\n"
     ]
    },
    {
     "name": "stdout",
     "output_type": "stream",
     "text": [
      "Combined saved games written to: /home/zrc3hc/Chess/2. Models/combined_saved_games.csv\n"
     ]
    }
   ],
   "source": [
    "output_file = '/home/zrc3hc/Chess/2. Models/combined_saved_games.csv'\n",
    "combined_df.coalesce(1).write.csv(output_file, header=True, mode=\"overwrite\")\n",
    "print(f\"Combined saved games written to: {output_file}\")\n"
   ]
  }
 ],
 "metadata": {
  "kernelspec": {
   "display_name": "Python 3 (ipykernel)",
   "language": "python",
   "name": "python3"
  },
  "language_info": {
   "codemirror_mode": {
    "name": "ipython",
    "version": 3
   },
   "file_extension": ".py",
   "mimetype": "text/x-python",
   "name": "python",
   "nbconvert_exporter": "python",
   "pygments_lexer": "ipython3",
   "version": "3.11.5"
  }
 },
 "nbformat": 4,
 "nbformat_minor": 5
}
