{
 "cells": [
  {
   "cell_type": "code",
   "execution_count": 6,
   "id": "b2956873-4387-40f5-a762-532aa3b250a1",
   "metadata": {
    "tags": []
   },
   "outputs": [
    {
     "name": "stderr",
     "output_type": "stream",
     "text": [
      "Setting default log level to \"WARN\".\n",
      "To adjust logging level use sc.setLogLevel(newLevel). For SparkR, use setLogLevel(newLevel).\n",
      "24/12/01 09:32:32 WARN NativeCodeLoader: Unable to load native-hadoop library for your platform... using builtin-java classes where applicable\n",
      "24/12/01 09:32:33 WARN Utils: Service 'SparkUI' could not bind on port 4040. Attempting port 4041.\n"
     ]
    }
   ],
   "source": [
    "file_path = '/home/zrc3hc/Chess/2. Models/combined_saved_games.csv'\n",
    "\n",
    "from pyspark.sql import SparkSession\n",
    "from pyspark.ml.feature import VectorAssembler\n",
    "from pyspark.ml.classification import LogisticRegression\n",
    "from pyspark.ml.evaluation import BinaryClassificationEvaluator\n",
    "\n",
    "spark = SparkSession.builder.appName(\"benchmarkmodel\").getOrCreate()\n",
    "\n",
    "df = spark.read.csv(file_path, header = True, inferSchema = True)\n",
    "\n"
   ]
  },
  {
   "cell_type": "code",
   "execution_count": 11,
   "id": "bf135d27-0e96-4ad2-b3af-64b695bc3ec6",
   "metadata": {
    "tags": []
   },
   "outputs": [
    {
     "name": "stdout",
     "output_type": "stream",
     "text": [
      "+----+-------+---------+------+---+---+---+---+---+---+---+---+---+---+---+---+---+---+---+---+---+---+---+---+---+---+---+---+---+---+---+---+---+---+---+---+---+---+---+---+---+---+---+---+---+---+---+---+---+---+---+---+---+---+---+---+---+---+---+---+---+---+---+---+---+---+---+---+\n",
      "|Move|game_id|next_move|result| a1| b1| c1| d1| e1| f1| g1| h1| a2| b2| c2| d2| e2| f2| g2| h2| a3| b3| c3| d3| e3| f3| g3| h3| a4| b4| c4| d4| e4| f4| g4| h4| a5| b5| c5| d5| e5| f5| g5| h5| a6| b6| c6| d6| e6| f6| g6| h6| a7| b7| c7| d7| e7| f7| g7| h7| a8| b8| c8| d8| e8| f8| g8| h8|\n",
      "+----+-------+---------+------+---+---+---+---+---+---+---+---+---+---+---+---+---+---+---+---+---+---+---+---+---+---+---+---+---+---+---+---+---+---+---+---+---+---+---+---+---+---+---+---+---+---+---+---+---+---+---+---+---+---+---+---+---+---+---+---+---+---+---+---+---+---+---+---+\n",
      "|  83|  15380|     h7g8|     1|  0|  0|  0|  0|  0|  0|  0|  5| -5|  0|  0|  0|  0|  1|  0| 10|  0|  0|  0|  0|  0|  0|  1|  1|  0|  0|  0|  0|  0|  0|  0|  0| -1|  0|  0|  0|  0|  0|  0|  0|  0|  0|  0|  0|  0|  0| -1| -1|  0| -1|  0|  0|  9|  0|  0|-10|  0|  0|  0|  0|  0|  0|  0| -5|\n",
      "|  84|  15380|     e7e6|     1|  0|  0|  0|  0|  0|  0|  0|  5| -5|  0|  0|  0|  0|  1|  0| 10|  0|  0|  0|  0|  0|  0|  1|  1|  0|  0|  0|  0|  0|  0|  0|  0| -1|  0|  0|  0|  0|  0|  0|  0|  0|  0|  0|  0|  0|  0| -1| -1|  0| -1|  0|  0|  9|  0|  0|  0|  0|  0|  0|  0|  0|  0|-10| -5|\n",
      "+----+-------+---------+------+---+---+---+---+---+---+---+---+---+---+---+---+---+---+---+---+---+---+---+---+---+---+---+---+---+---+---+---+---+---+---+---+---+---+---+---+---+---+---+---+---+---+---+---+---+---+---+---+---+---+---+---+---+---+---+---+---+---+---+---+---+---+---+---+\n",
      "only showing top 2 rows\n",
      "\n"
     ]
    }
   ],
   "source": [
    "df.show(2)"
   ]
  },
  {
   "cell_type": "code",
   "execution_count": 10,
   "id": "e30f43b5-a69e-4915-87b5-de3d023c39d7",
   "metadata": {
    "tags": []
   },
   "outputs": [
    {
     "data": {
      "text/plain": [
       "10018"
      ]
     },
     "execution_count": 10,
     "metadata": {},
     "output_type": "execute_result"
    }
   ],
   "source": [
    "df.count()"
   ]
  },
  {
   "cell_type": "markdown",
   "id": "9b0059d0-5601-4645-ac01-428a4bec08d1",
   "metadata": {},
   "source": [
    "\n",
    "\n",
    "# **Chess Piece Values**\n",
    "\n",
    "| **Chess Piece**     | **Value** |\n",
    "|----------------------|-----------|\n",
    "| White Rook 1         | `5`       |\n",
    "| White Rook 2         | `5`       |\n",
    "| White Knight 1       | `3`       |\n",
    "| White Knight 2       | `3`       |\n",
    "| White Bishop 1       | `3`       |\n",
    "| White Bishop 2       | `3`       |\n",
    "| White Queen          | `9`       |\n",
    "| White King           | `10`      |\n",
    "| White Pawn 1–8       | `1`       |\n",
    "\n",
    "**Note:** Black pieces have the same values as white pieces but are negative. \n",
    "\n",
    "**Note:** If the result is labeled 1, that means white won. If black won, result is labeled 0.\n"
   ]
  },
  {
   "cell_type": "code",
   "execution_count": 21,
   "id": "88033fef-937a-4ec1-a687-912c96a30375",
   "metadata": {
    "tags": []
   },
   "outputs": [],
   "source": [
    "## Creating training/validation split\n",
    "\n",
    "training_data, validation_data = df.randomSplit([0.9, 0.1], seed=42)\n",
    "\n",
    "#specifying feature space\n",
    "\n",
    "board_spots = [col for col in df.columns if col not in ['Move', 'game_id', 'next_move', 'result']]\n",
    "\n",
    "vector_assembler = VectorAssembler(inputCols=board_spots, outputCol=\"features\")\n",
    "training_data = vector_assembler.transform(training_data)\n",
    "validation_data = vector_assembler.transform(validation_data)"
   ]
  },
  {
   "cell_type": "code",
   "execution_count": 22,
   "id": "d4777da1-ce99-40c0-9a98-9ec0a4ba1da3",
   "metadata": {
    "tags": []
   },
   "outputs": [],
   "source": [
    "# Basic Logistic Model\n",
    "\n",
    "logistic_regression = LogisticRegression(featuresCol=\"features\", labelCol=\"result\", maxIter=1000)\n",
    "lr_model = logistic_regression.fit(training_data)\n"
   ]
  },
  {
   "cell_type": "code",
   "execution_count": 23,
   "id": "fe1667f1-b0e6-4b72-9938-656637f9349c",
   "metadata": {
    "tags": []
   },
   "outputs": [
    {
     "name": "stdout",
     "output_type": "stream",
     "text": [
      "+--------------------+------+----------+--------------------+\n",
      "|            features|result|prediction|         probability|\n",
      "+--------------------+------+----------+--------------------+\n",
      "|(64,[0,4,5,6,7,9,...|     0|       1.0|[0.40431716519803...|\n",
      "|(64,[0,3,5,6,7,8,...|     1|       1.0|[0.42697934966022...|\n",
      "|(64,[0,2,6,7,8,9,...|     0|       0.0|[0.82664399980251...|\n",
      "|(64,[0,2,5,7,8,9,...|     1|       1.0|[0.47374769140373...|\n",
      "|(64,[0,3,6,7,8,9,...|     0|       1.0|[0.38246962742278...|\n",
      "+--------------------+------+----------+--------------------+\n",
      "only showing top 5 rows\n",
      "\n"
     ]
    }
   ],
   "source": [
    "# Predictions on Validatin Set\n",
    "\n",
    "predictions = lr_model.transform(validation_data)\n",
    "predictions.select(\"features\", \"result\", \"prediction\", \"probability\").show(5)\n"
   ]
  },
  {
   "cell_type": "code",
   "execution_count": 24,
   "id": "ceb53163-b1c3-4fac-a31b-401073525d94",
   "metadata": {
    "tags": []
   },
   "outputs": [
    {
     "name": "stdout",
     "output_type": "stream",
     "text": [
      "Area Under ROC Curve (AUC): 0.7084113980627702\n"
     ]
    }
   ],
   "source": [
    "evaluator = BinaryClassificationEvaluator(labelCol=\"result\", rawPredictionCol=\"prediction\", metricName=\"areaUnderROC\")\n",
    "auc = evaluator.evaluate(predictions)\n",
    "print(f\"Area Under ROC Curve (AUC): {auc}\")"
   ]
  }
 ],
 "metadata": {
  "kernelspec": {
   "display_name": "Python 3 (ipykernel)",
   "language": "python",
   "name": "python3"
  },
  "language_info": {
   "codemirror_mode": {
    "name": "ipython",
    "version": 3
   },
   "file_extension": ".py",
   "mimetype": "text/x-python",
   "name": "python",
   "nbconvert_exporter": "python",
   "pygments_lexer": "ipython3",
   "version": "3.11.5"
  }
 },
 "nbformat": 4,
 "nbformat_minor": 5
}
